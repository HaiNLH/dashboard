{
 "cells": [
  {
   "cell_type": "code",
   "execution_count": 1,
   "metadata": {},
   "outputs": [],
   "source": [
    "import pandas as pd\n",
    "import numpy as np\n",
    "import datetime as dt\n",
    "from datetime import datetime, timedelta\n",
    "import json"
   ]
  },
  {
   "cell_type": "code",
   "execution_count": 2,
   "metadata": {},
   "outputs": [
    {
     "name": "stdout",
     "output_type": "stream",
     "text": [
      "c:\\WORK\\Oraichain\\data\n"
     ]
    }
   ],
   "source": [
    "cd data\n"
   ]
  },
  {
   "cell_type": "markdown",
   "metadata": {},
   "source": [
    "### Using pd to process data in csv format"
   ]
  },
  {
   "cell_type": "code",
   "execution_count": 6,
   "metadata": {},
   "outputs": [],
   "source": [
    "df1 =pd.read_csv('closed.csv')\n",
    "df1=df1.dropna(axis=1)\n",
    "df2 = pd.read_csv('opening.csv')\n"
   ]
  },
  {
   "cell_type": "markdown",
   "metadata": {},
   "source": [
    "- take_profit_pct = (take_profit/entry_price -1) * leverage (BUY)\n",
    "- stop_loss_pct = (stop_loss/entry_price - 1)* leverage (BUY)\n",
    "- take_profit_take = tak_profit_pct * margin_amount\n",
    "- stop_loss_give = stop_loss_pct*margin_amount"
   ]
  },
  {
   "cell_type": "code",
   "execution_count": 11,
   "metadata": {},
   "outputs": [
    {
     "data": {
      "text/html": [
       "<div>\n",
       "<style scoped>\n",
       "    .dataframe tbody tr th:only-of-type {\n",
       "        vertical-align: middle;\n",
       "    }\n",
       "\n",
       "    .dataframe tbody tr th {\n",
       "        vertical-align: top;\n",
       "    }\n",
       "\n",
       "    .dataframe thead th {\n",
       "        text-align: right;\n",
       "    }\n",
       "</style>\n",
       "<table border=\"1\" class=\"dataframe\">\n",
       "  <thead>\n",
       "    <tr style=\"text-align: right;\">\n",
       "      <th></th>\n",
       "      <th>pair</th>\n",
       "      <th>direction</th>\n",
       "      <th>entry_price</th>\n",
       "      <th>take_profit</th>\n",
       "      <th>stop_loss</th>\n",
       "      <th>block_time</th>\n",
       "      <th>order_id</th>\n",
       "      <th>bidder_addr</th>\n",
       "      <th>status</th>\n",
       "      <th>leverage</th>\n",
       "      <th>...</th>\n",
       "      <th>user_type</th>\n",
       "      <th>pnl</th>\n",
       "      <th>funding_payment</th>\n",
       "      <th>hash</th>\n",
       "      <th>ask_amount</th>\n",
       "      <th>offer_amount</th>\n",
       "      <th>stop_loss_pct</th>\n",
       "      <th>take_profit_pct</th>\n",
       "      <th>take_profit_take</th>\n",
       "      <th>stop_loss_give</th>\n",
       "    </tr>\n",
       "  </thead>\n",
       "  <tbody>\n",
       "    <tr>\n",
       "      <th>0</th>\n",
       "      <td>ORAI_USDC</td>\n",
       "      <td>SELL</td>\n",
       "      <td>4.104134</td>\n",
       "      <td>3.570000</td>\n",
       "      <td>NaN</td>\n",
       "      <td>1701280171</td>\n",
       "      <td>397</td>\n",
       "      <td>orai1mvdnt277449t26f6g38epa0ugu5wmallgdaya7</td>\n",
       "      <td>OPENING</td>\n",
       "      <td>1.000000</td>\n",
       "      <td>...</td>\n",
       "      <td>USER</td>\n",
       "      <td>0</td>\n",
       "      <td>0</td>\n",
       "      <td>NaN</td>\n",
       "      <td>0</td>\n",
       "      <td>0</td>\n",
       "      <td>-1.000000</td>\n",
       "      <td>0.130145</td>\n",
       "      <td>2.438894</td>\n",
       "      <td>-18.739767</td>\n",
       "    </tr>\n",
       "    <tr>\n",
       "      <th>1</th>\n",
       "      <td>ORAI_USDC</td>\n",
       "      <td>SELL</td>\n",
       "      <td>4.044163</td>\n",
       "      <td>3.639746</td>\n",
       "      <td>NaN</td>\n",
       "      <td>1701313793</td>\n",
       "      <td>450</td>\n",
       "      <td>orai1ax88yuwrmapcmrrfm3r7c8xugphjgpgsuptsux</td>\n",
       "      <td>OPENING</td>\n",
       "      <td>1.000000</td>\n",
       "      <td>...</td>\n",
       "      <td>USER</td>\n",
       "      <td>0</td>\n",
       "      <td>0</td>\n",
       "      <td>NaN</td>\n",
       "      <td>0</td>\n",
       "      <td>0</td>\n",
       "      <td>-1.000000</td>\n",
       "      <td>0.100000</td>\n",
       "      <td>0.124283</td>\n",
       "      <td>-1.242828</td>\n",
       "    </tr>\n",
       "    <tr>\n",
       "      <th>2</th>\n",
       "      <td>ORAI_USDC</td>\n",
       "      <td>SELL</td>\n",
       "      <td>4.133886</td>\n",
       "      <td>4.017036</td>\n",
       "      <td>NaN</td>\n",
       "      <td>1701411890</td>\n",
       "      <td>528</td>\n",
       "      <td>orai18vyspza5ndpg5wss0u7mqs7g50zekjrjvc2dys</td>\n",
       "      <td>OPENING</td>\n",
       "      <td>1.908257</td>\n",
       "      <td>...</td>\n",
       "      <td>USER</td>\n",
       "      <td>0</td>\n",
       "      <td>0</td>\n",
       "      <td>NaN</td>\n",
       "      <td>0</td>\n",
       "      <td>0</td>\n",
       "      <td>-1.000000</td>\n",
       "      <td>0.053940</td>\n",
       "      <td>29.644085</td>\n",
       "      <td>-549.580000</td>\n",
       "    </tr>\n",
       "    <tr>\n",
       "      <th>3</th>\n",
       "      <td>ORAI_USDC</td>\n",
       "      <td>SELL</td>\n",
       "      <td>4.174882</td>\n",
       "      <td>4.035719</td>\n",
       "      <td>NaN</td>\n",
       "      <td>1701414166</td>\n",
       "      <td>532</td>\n",
       "      <td>orai18vyspza5ndpg5wss0u7mqs7g50zekjrjvc2dys</td>\n",
       "      <td>OPENING</td>\n",
       "      <td>1.908257</td>\n",
       "      <td>...</td>\n",
       "      <td>USER</td>\n",
       "      <td>0</td>\n",
       "      <td>0</td>\n",
       "      <td>NaN</td>\n",
       "      <td>0</td>\n",
       "      <td>0</td>\n",
       "      <td>-1.000000</td>\n",
       "      <td>0.063609</td>\n",
       "      <td>34.958067</td>\n",
       "      <td>-549.580000</td>\n",
       "    </tr>\n",
       "    <tr>\n",
       "      <th>4</th>\n",
       "      <td>ORAI_USDC</td>\n",
       "      <td>SELL</td>\n",
       "      <td>4.476720</td>\n",
       "      <td>4.327496</td>\n",
       "      <td>NaN</td>\n",
       "      <td>1701421454</td>\n",
       "      <td>566</td>\n",
       "      <td>orai18vyspza5ndpg5wss0u7mqs7g50zekjrjvc2dys</td>\n",
       "      <td>OPENING</td>\n",
       "      <td>3.000000</td>\n",
       "      <td>...</td>\n",
       "      <td>USER</td>\n",
       "      <td>0</td>\n",
       "      <td>0</td>\n",
       "      <td>NaN</td>\n",
       "      <td>0</td>\n",
       "      <td>0</td>\n",
       "      <td>-1.000000</td>\n",
       "      <td>0.100000</td>\n",
       "      <td>39.952000</td>\n",
       "      <td>-399.520000</td>\n",
       "    </tr>\n",
       "    <tr>\n",
       "      <th>...</th>\n",
       "      <td>...</td>\n",
       "      <td>...</td>\n",
       "      <td>...</td>\n",
       "      <td>...</td>\n",
       "      <td>...</td>\n",
       "      <td>...</td>\n",
       "      <td>...</td>\n",
       "      <td>...</td>\n",
       "      <td>...</td>\n",
       "      <td>...</td>\n",
       "      <td>...</td>\n",
       "      <td>...</td>\n",
       "      <td>...</td>\n",
       "      <td>...</td>\n",
       "      <td>...</td>\n",
       "      <td>...</td>\n",
       "      <td>...</td>\n",
       "      <td>...</td>\n",
       "      <td>...</td>\n",
       "      <td>...</td>\n",
       "      <td>...</td>\n",
       "    </tr>\n",
       "    <tr>\n",
       "      <th>65</th>\n",
       "      <td>INJ_USDC</td>\n",
       "      <td>SELL</td>\n",
       "      <td>17.709588</td>\n",
       "      <td>15.938629</td>\n",
       "      <td>NaN</td>\n",
       "      <td>1701679805</td>\n",
       "      <td>883</td>\n",
       "      <td>orai12zyu8w93h0q2lcnt50g3fn0w3yqnhy4fvawaqz</td>\n",
       "      <td>OPENING</td>\n",
       "      <td>1.000000</td>\n",
       "      <td>...</td>\n",
       "      <td>USER</td>\n",
       "      <td>0</td>\n",
       "      <td>0</td>\n",
       "      <td>NaN</td>\n",
       "      <td>0</td>\n",
       "      <td>0</td>\n",
       "      <td>-1.000000</td>\n",
       "      <td>0.100000</td>\n",
       "      <td>0.099960</td>\n",
       "      <td>-0.999600</td>\n",
       "    </tr>\n",
       "    <tr>\n",
       "      <th>66</th>\n",
       "      <td>INJ_USDC</td>\n",
       "      <td>BUY</td>\n",
       "      <td>16.593808</td>\n",
       "      <td>16.870436</td>\n",
       "      <td>11.615710</td>\n",
       "      <td>1701688926</td>\n",
       "      <td>905</td>\n",
       "      <td>orai1nza67tu4pv6uueqmynytqzelejpykr5d3tkqnd</td>\n",
       "      <td>OPENING</td>\n",
       "      <td>3.000000</td>\n",
       "      <td>...</td>\n",
       "      <td>BOT</td>\n",
       "      <td>0</td>\n",
       "      <td>0</td>\n",
       "      <td>NaN</td>\n",
       "      <td>0</td>\n",
       "      <td>0</td>\n",
       "      <td>-0.899992</td>\n",
       "      <td>0.050012</td>\n",
       "      <td>163.001481</td>\n",
       "      <td>-2933.316037</td>\n",
       "    </tr>\n",
       "    <tr>\n",
       "      <th>67</th>\n",
       "      <td>INJ_USDC</td>\n",
       "      <td>BUY</td>\n",
       "      <td>16.692873</td>\n",
       "      <td>16.971142</td>\n",
       "      <td>11.685048</td>\n",
       "      <td>1701689000</td>\n",
       "      <td>906</td>\n",
       "      <td>orai1nza67tu4pv6uueqmynytqzelejpykr5d3tkqnd</td>\n",
       "      <td>OPENING</td>\n",
       "      <td>3.000000</td>\n",
       "      <td>...</td>\n",
       "      <td>BOT</td>\n",
       "      <td>0</td>\n",
       "      <td>0</td>\n",
       "      <td>NaN</td>\n",
       "      <td>0</td>\n",
       "      <td>0</td>\n",
       "      <td>-0.899993</td>\n",
       "      <td>0.050010</td>\n",
       "      <td>135.552854</td>\n",
       "      <td>-2439.455970</td>\n",
       "    </tr>\n",
       "    <tr>\n",
       "      <th>68</th>\n",
       "      <td>INJ_USDC</td>\n",
       "      <td>BUY</td>\n",
       "      <td>16.786510</td>\n",
       "      <td>17.066344</td>\n",
       "      <td>11.750597</td>\n",
       "      <td>1701689150</td>\n",
       "      <td>907</td>\n",
       "      <td>orai1nza67tu4pv6uueqmynytqzelejpykr5d3tkqnd</td>\n",
       "      <td>OPENING</td>\n",
       "      <td>3.000000</td>\n",
       "      <td>...</td>\n",
       "      <td>BOT</td>\n",
       "      <td>0</td>\n",
       "      <td>0</td>\n",
       "      <td>NaN</td>\n",
       "      <td>0</td>\n",
       "      <td>0</td>\n",
       "      <td>-0.899993</td>\n",
       "      <td>0.050011</td>\n",
       "      <td>145.875488</td>\n",
       "      <td>-2625.185890</td>\n",
       "    </tr>\n",
       "    <tr>\n",
       "      <th>69</th>\n",
       "      <td>INJ_USDC</td>\n",
       "      <td>BUY</td>\n",
       "      <td>16.884681</td>\n",
       "      <td>17.166152</td>\n",
       "      <td>11.819318</td>\n",
       "      <td>1701689505</td>\n",
       "      <td>908</td>\n",
       "      <td>orai1nza67tu4pv6uueqmynytqzelejpykr5d3tkqnd</td>\n",
       "      <td>OPENING</td>\n",
       "      <td>3.000000</td>\n",
       "      <td>...</td>\n",
       "      <td>BOT</td>\n",
       "      <td>0</td>\n",
       "      <td>0</td>\n",
       "      <td>NaN</td>\n",
       "      <td>0</td>\n",
       "      <td>0</td>\n",
       "      <td>-0.899993</td>\n",
       "      <td>0.050011</td>\n",
       "      <td>148.331309</td>\n",
       "      <td>-2669.375977</td>\n",
       "    </tr>\n",
       "  </tbody>\n",
       "</table>\n",
       "<p>70 rows × 23 columns</p>\n",
       "</div>"
      ],
      "text/plain": [
       "         pair direction  entry_price  take_profit  stop_loss  block_time   \n",
       "0   ORAI_USDC      SELL     4.104134     3.570000        NaN  1701280171  \\\n",
       "1   ORAI_USDC      SELL     4.044163     3.639746        NaN  1701313793   \n",
       "2   ORAI_USDC      SELL     4.133886     4.017036        NaN  1701411890   \n",
       "3   ORAI_USDC      SELL     4.174882     4.035719        NaN  1701414166   \n",
       "4   ORAI_USDC      SELL     4.476720     4.327496        NaN  1701421454   \n",
       "..        ...       ...          ...          ...        ...         ...   \n",
       "65   INJ_USDC      SELL    17.709588    15.938629        NaN  1701679805   \n",
       "66   INJ_USDC       BUY    16.593808    16.870436  11.615710  1701688926   \n",
       "67   INJ_USDC       BUY    16.692873    16.971142  11.685048  1701689000   \n",
       "68   INJ_USDC       BUY    16.786510    17.066344  11.750597  1701689150   \n",
       "69   INJ_USDC       BUY    16.884681    17.166152  11.819318  1701689505   \n",
       "\n",
       "    order_id                                  bidder_addr   status  leverage   \n",
       "0        397  orai1mvdnt277449t26f6g38epa0ugu5wmallgdaya7  OPENING  1.000000  \\\n",
       "1        450  orai1ax88yuwrmapcmrrfm3r7c8xugphjgpgsuptsux  OPENING  1.000000   \n",
       "2        528  orai18vyspza5ndpg5wss0u7mqs7g50zekjrjvc2dys  OPENING  1.908257   \n",
       "3        532  orai18vyspza5ndpg5wss0u7mqs7g50zekjrjvc2dys  OPENING  1.908257   \n",
       "4        566  orai18vyspza5ndpg5wss0u7mqs7g50zekjrjvc2dys  OPENING  3.000000   \n",
       "..       ...                                          ...      ...       ...   \n",
       "65       883  orai12zyu8w93h0q2lcnt50g3fn0w3yqnhy4fvawaqz  OPENING  1.000000   \n",
       "66       905  orai1nza67tu4pv6uueqmynytqzelejpykr5d3tkqnd  OPENING  3.000000   \n",
       "67       906  orai1nza67tu4pv6uueqmynytqzelejpykr5d3tkqnd  OPENING  3.000000   \n",
       "68       907  orai1nza67tu4pv6uueqmynytqzelejpykr5d3tkqnd  OPENING  3.000000   \n",
       "69       908  orai1nza67tu4pv6uueqmynytqzelejpykr5d3tkqnd  OPENING  3.000000   \n",
       "\n",
       "    ...  user_type  pnl funding_payment hash  ask_amount  offer_amount   \n",
       "0   ...       USER    0               0  NaN           0             0  \\\n",
       "1   ...       USER    0               0  NaN           0             0   \n",
       "2   ...       USER    0               0  NaN           0             0   \n",
       "3   ...       USER    0               0  NaN           0             0   \n",
       "4   ...       USER    0               0  NaN           0             0   \n",
       "..  ...        ...  ...             ...  ...         ...           ...   \n",
       "65  ...       USER    0               0  NaN           0             0   \n",
       "66  ...        BOT    0               0  NaN           0             0   \n",
       "67  ...        BOT    0               0  NaN           0             0   \n",
       "68  ...        BOT    0               0  NaN           0             0   \n",
       "69  ...        BOT    0               0  NaN           0             0   \n",
       "\n",
       "    stop_loss_pct  take_profit_pct  take_profit_take  stop_loss_give  \n",
       "0       -1.000000         0.130145          2.438894      -18.739767  \n",
       "1       -1.000000         0.100000          0.124283       -1.242828  \n",
       "2       -1.000000         0.053940         29.644085     -549.580000  \n",
       "3       -1.000000         0.063609         34.958067     -549.580000  \n",
       "4       -1.000000         0.100000         39.952000     -399.520000  \n",
       "..            ...              ...               ...             ...  \n",
       "65      -1.000000         0.100000          0.099960       -0.999600  \n",
       "66      -0.899992         0.050012        163.001481    -2933.316037  \n",
       "67      -0.899993         0.050010        135.552854    -2439.455970  \n",
       "68      -0.899993         0.050011        145.875488    -2625.185890  \n",
       "69      -0.899993         0.050011        148.331309    -2669.375977  \n",
       "\n",
       "[70 rows x 23 columns]"
      ]
     },
     "execution_count": 11,
     "metadata": {},
     "output_type": "execute_result"
    }
   ],
   "source": [
    "df2"
   ]
  },
  {
   "cell_type": "code",
   "execution_count": null,
   "metadata": {},
   "outputs": [],
   "source": [
    "def pre_process_open(df2):\n",
    "    df2['stop_loss_pct'] = df2.apply(lambda x: (x['stop_loss'] / x['entry_price'] - 1)*x['leverage'] if x['direction'] == \"BUY\" \n",
    "    else (1 - x['stop_loss'] / x['entry_price'])*x['leverage']\n",
    "    if not np.isnan(x['stop_loss']) else -1, axis=1)\n",
    "    df2['take_profit_pct'] = df2.apply(lambda x: (x['take_profit']/x['entry_price']-1)*x['leverage'] if x['direction'] == \"BUY\" \n",
    "        else (1 - x['take_profit'] / x['entry_price'])*x['leverage'], axis=1)\n",
    "    df2['take_profit_take'] = df2['margin_amount'] * df2['take_profit_pct']\n",
    "    df2['stop_loss_give'] = df2['margin_amount'] * df2['stop_loss_pct']\n",
    "\n"
   ]
  },
  {
   "cell_type": "code",
   "execution_count": 16,
   "metadata": {},
   "outputs": [],
   "source": [
    "df = df2[['direction','margin_amount','stop_loss_give','take_profit_take']]"
   ]
  },
  {
   "cell_type": "code",
   "execution_count": 18,
   "metadata": {},
   "outputs": [
    {
     "data": {
      "text/html": [
       "<div>\n",
       "<style scoped>\n",
       "    .dataframe tbody tr th:only-of-type {\n",
       "        vertical-align: middle;\n",
       "    }\n",
       "\n",
       "    .dataframe tbody tr th {\n",
       "        vertical-align: top;\n",
       "    }\n",
       "\n",
       "    .dataframe thead th {\n",
       "        text-align: right;\n",
       "    }\n",
       "</style>\n",
       "<table border=\"1\" class=\"dataframe\">\n",
       "  <thead>\n",
       "    <tr style=\"text-align: right;\">\n",
       "      <th></th>\n",
       "      <th>margin_amount</th>\n",
       "      <th>stop_loss_give</th>\n",
       "      <th>take_profit_take</th>\n",
       "    </tr>\n",
       "    <tr>\n",
       "      <th>direction</th>\n",
       "      <th></th>\n",
       "      <th></th>\n",
       "      <th></th>\n",
       "    </tr>\n",
       "  </thead>\n",
       "  <tbody>\n",
       "    <tr>\n",
       "      <th>BUY</th>\n",
       "      <td>97289.967831</td>\n",
       "      <td>-83175.941525</td>\n",
       "      <td>5846.123137</td>\n",
       "    </tr>\n",
       "    <tr>\n",
       "      <th>SELL</th>\n",
       "      <td>17664.161166</td>\n",
       "      <td>-5668.327405</td>\n",
       "      <td>6186.944724</td>\n",
       "    </tr>\n",
       "  </tbody>\n",
       "</table>\n",
       "</div>"
      ],
      "text/plain": [
       "           margin_amount  stop_loss_give  take_profit_take\n",
       "direction                                                 \n",
       "BUY         97289.967831   -83175.941525       5846.123137\n",
       "SELL        17664.161166    -5668.327405       6186.944724"
      ]
     },
     "execution_count": 18,
     "metadata": {},
     "output_type": "execute_result"
    }
   ],
   "source": [
    "df.groupby('direction').sum()"
   ]
  },
  {
   "cell_type": "code",
   "execution_count": 4,
   "metadata": {},
   "outputs": [
    {
     "data": {
      "text/html": [
       "<div>\n",
       "<style scoped>\n",
       "    .dataframe tbody tr th:only-of-type {\n",
       "        vertical-align: middle;\n",
       "    }\n",
       "\n",
       "    .dataframe tbody tr th {\n",
       "        vertical-align: top;\n",
       "    }\n",
       "\n",
       "    .dataframe thead th {\n",
       "        text-align: right;\n",
       "    }\n",
       "</style>\n",
       "<table border=\"1\" class=\"dataframe\">\n",
       "  <thead>\n",
       "    <tr style=\"text-align: right;\">\n",
       "      <th></th>\n",
       "      <th>pair</th>\n",
       "      <th>direction</th>\n",
       "      <th>entry_price</th>\n",
       "      <th>take_profit</th>\n",
       "      <th>block_time</th>\n",
       "      <th>order_id</th>\n",
       "      <th>bidder_addr</th>\n",
       "      <th>status</th>\n",
       "      <th>leverage</th>\n",
       "      <th>margin_amount</th>\n",
       "      <th>fee</th>\n",
       "      <th>time</th>\n",
       "      <th>user_type</th>\n",
       "      <th>pnl</th>\n",
       "      <th>funding_payment</th>\n",
       "      <th>ask_amount</th>\n",
       "      <th>offer_amount</th>\n",
       "    </tr>\n",
       "  </thead>\n",
       "  <tbody>\n",
       "    <tr>\n",
       "      <th>0</th>\n",
       "      <td>ORAI_USDC</td>\n",
       "      <td>SELL</td>\n",
       "      <td>4.104134</td>\n",
       "      <td>3.570000</td>\n",
       "      <td>1701280171</td>\n",
       "      <td>397</td>\n",
       "      <td>orai1mvdnt277449t26f6g38epa0ugu5wmallgdaya7</td>\n",
       "      <td>OPENING</td>\n",
       "      <td>1.000000</td>\n",
       "      <td>18.739767</td>\n",
       "      <td>0.007498</td>\n",
       "      <td>2023-12-04 18:30:53</td>\n",
       "      <td>USER</td>\n",
       "      <td>0</td>\n",
       "      <td>0</td>\n",
       "      <td>0</td>\n",
       "      <td>0</td>\n",
       "    </tr>\n",
       "    <tr>\n",
       "      <th>1</th>\n",
       "      <td>ORAI_USDC</td>\n",
       "      <td>SELL</td>\n",
       "      <td>4.044163</td>\n",
       "      <td>3.639746</td>\n",
       "      <td>1701313793</td>\n",
       "      <td>450</td>\n",
       "      <td>orai1ax88yuwrmapcmrrfm3r7c8xugphjgpgsuptsux</td>\n",
       "      <td>OPENING</td>\n",
       "      <td>1.000000</td>\n",
       "      <td>1.242828</td>\n",
       "      <td>0.000496</td>\n",
       "      <td>2023-12-04 18:30:53</td>\n",
       "      <td>USER</td>\n",
       "      <td>0</td>\n",
       "      <td>0</td>\n",
       "      <td>0</td>\n",
       "      <td>0</td>\n",
       "    </tr>\n",
       "    <tr>\n",
       "      <th>2</th>\n",
       "      <td>ORAI_USDC</td>\n",
       "      <td>SELL</td>\n",
       "      <td>4.133886</td>\n",
       "      <td>4.017036</td>\n",
       "      <td>1701411890</td>\n",
       "      <td>528</td>\n",
       "      <td>orai18vyspza5ndpg5wss0u7mqs7g50zekjrjvc2dys</td>\n",
       "      <td>OPENING</td>\n",
       "      <td>1.908257</td>\n",
       "      <td>549.580000</td>\n",
       "      <td>0.420000</td>\n",
       "      <td>2023-12-04 18:30:53</td>\n",
       "      <td>USER</td>\n",
       "      <td>0</td>\n",
       "      <td>0</td>\n",
       "      <td>0</td>\n",
       "      <td>0</td>\n",
       "    </tr>\n",
       "    <tr>\n",
       "      <th>3</th>\n",
       "      <td>ORAI_USDC</td>\n",
       "      <td>SELL</td>\n",
       "      <td>4.174882</td>\n",
       "      <td>4.035719</td>\n",
       "      <td>1701414166</td>\n",
       "      <td>532</td>\n",
       "      <td>orai18vyspza5ndpg5wss0u7mqs7g50zekjrjvc2dys</td>\n",
       "      <td>OPENING</td>\n",
       "      <td>1.908257</td>\n",
       "      <td>549.580000</td>\n",
       "      <td>0.420000</td>\n",
       "      <td>2023-12-04 18:30:53</td>\n",
       "      <td>USER</td>\n",
       "      <td>0</td>\n",
       "      <td>0</td>\n",
       "      <td>0</td>\n",
       "      <td>0</td>\n",
       "    </tr>\n",
       "    <tr>\n",
       "      <th>4</th>\n",
       "      <td>ORAI_USDC</td>\n",
       "      <td>SELL</td>\n",
       "      <td>4.476720</td>\n",
       "      <td>4.327496</td>\n",
       "      <td>1701421454</td>\n",
       "      <td>566</td>\n",
       "      <td>orai18vyspza5ndpg5wss0u7mqs7g50zekjrjvc2dys</td>\n",
       "      <td>OPENING</td>\n",
       "      <td>3.000000</td>\n",
       "      <td>399.520000</td>\n",
       "      <td>0.480000</td>\n",
       "      <td>2023-12-04 18:30:53</td>\n",
       "      <td>USER</td>\n",
       "      <td>0</td>\n",
       "      <td>0</td>\n",
       "      <td>0</td>\n",
       "      <td>0</td>\n",
       "    </tr>\n",
       "    <tr>\n",
       "      <th>...</th>\n",
       "      <td>...</td>\n",
       "      <td>...</td>\n",
       "      <td>...</td>\n",
       "      <td>...</td>\n",
       "      <td>...</td>\n",
       "      <td>...</td>\n",
       "      <td>...</td>\n",
       "      <td>...</td>\n",
       "      <td>...</td>\n",
       "      <td>...</td>\n",
       "      <td>...</td>\n",
       "      <td>...</td>\n",
       "      <td>...</td>\n",
       "      <td>...</td>\n",
       "      <td>...</td>\n",
       "      <td>...</td>\n",
       "      <td>...</td>\n",
       "    </tr>\n",
       "    <tr>\n",
       "      <th>65</th>\n",
       "      <td>INJ_USDC</td>\n",
       "      <td>SELL</td>\n",
       "      <td>17.709588</td>\n",
       "      <td>15.938629</td>\n",
       "      <td>1701679805</td>\n",
       "      <td>883</td>\n",
       "      <td>orai12zyu8w93h0q2lcnt50g3fn0w3yqnhy4fvawaqz</td>\n",
       "      <td>OPENING</td>\n",
       "      <td>1.000000</td>\n",
       "      <td>0.999600</td>\n",
       "      <td>0.000400</td>\n",
       "      <td>2023-12-04 18:30:53</td>\n",
       "      <td>USER</td>\n",
       "      <td>0</td>\n",
       "      <td>0</td>\n",
       "      <td>0</td>\n",
       "      <td>0</td>\n",
       "    </tr>\n",
       "    <tr>\n",
       "      <th>66</th>\n",
       "      <td>INJ_USDC</td>\n",
       "      <td>BUY</td>\n",
       "      <td>16.593808</td>\n",
       "      <td>16.870436</td>\n",
       "      <td>1701688926</td>\n",
       "      <td>905</td>\n",
       "      <td>orai1nza67tu4pv6uueqmynytqzelejpykr5d3tkqnd</td>\n",
       "      <td>OPENING</td>\n",
       "      <td>3.000000</td>\n",
       "      <td>3259.269110</td>\n",
       "      <td>3.915820</td>\n",
       "      <td>2023-12-04 18:30:53</td>\n",
       "      <td>BOT</td>\n",
       "      <td>0</td>\n",
       "      <td>0</td>\n",
       "      <td>0</td>\n",
       "      <td>0</td>\n",
       "    </tr>\n",
       "    <tr>\n",
       "      <th>67</th>\n",
       "      <td>INJ_USDC</td>\n",
       "      <td>BUY</td>\n",
       "      <td>16.692873</td>\n",
       "      <td>16.971142</td>\n",
       "      <td>1701689000</td>\n",
       "      <td>906</td>\n",
       "      <td>orai1nza67tu4pv6uueqmynytqzelejpykr5d3tkqnd</td>\n",
       "      <td>OPENING</td>\n",
       "      <td>3.000000</td>\n",
       "      <td>2710.526606</td>\n",
       "      <td>3.256538</td>\n",
       "      <td>2023-12-04 18:30:53</td>\n",
       "      <td>BOT</td>\n",
       "      <td>0</td>\n",
       "      <td>0</td>\n",
       "      <td>0</td>\n",
       "      <td>0</td>\n",
       "    </tr>\n",
       "    <tr>\n",
       "      <th>68</th>\n",
       "      <td>INJ_USDC</td>\n",
       "      <td>BUY</td>\n",
       "      <td>16.786510</td>\n",
       "      <td>17.066344</td>\n",
       "      <td>1701689150</td>\n",
       "      <td>907</td>\n",
       "      <td>orai1nza67tu4pv6uueqmynytqzelejpykr5d3tkqnd</td>\n",
       "      <td>OPENING</td>\n",
       "      <td>3.000000</td>\n",
       "      <td>2916.896380</td>\n",
       "      <td>3.504480</td>\n",
       "      <td>2023-12-04 18:30:53</td>\n",
       "      <td>BOT</td>\n",
       "      <td>0</td>\n",
       "      <td>0</td>\n",
       "      <td>0</td>\n",
       "      <td>0</td>\n",
       "    </tr>\n",
       "    <tr>\n",
       "      <th>69</th>\n",
       "      <td>INJ_USDC</td>\n",
       "      <td>BUY</td>\n",
       "      <td>16.884681</td>\n",
       "      <td>17.166152</td>\n",
       "      <td>1701689505</td>\n",
       "      <td>908</td>\n",
       "      <td>orai1nza67tu4pv6uueqmynytqzelejpykr5d3tkqnd</td>\n",
       "      <td>OPENING</td>\n",
       "      <td>3.000000</td>\n",
       "      <td>2965.997491</td>\n",
       "      <td>3.563472</td>\n",
       "      <td>2023-12-04 18:30:53</td>\n",
       "      <td>BOT</td>\n",
       "      <td>0</td>\n",
       "      <td>0</td>\n",
       "      <td>0</td>\n",
       "      <td>0</td>\n",
       "    </tr>\n",
       "  </tbody>\n",
       "</table>\n",
       "<p>70 rows × 17 columns</p>\n",
       "</div>"
      ],
      "text/plain": [
       "         pair direction  entry_price  take_profit  block_time  order_id   \n",
       "0   ORAI_USDC      SELL     4.104134     3.570000  1701280171       397  \\\n",
       "1   ORAI_USDC      SELL     4.044163     3.639746  1701313793       450   \n",
       "2   ORAI_USDC      SELL     4.133886     4.017036  1701411890       528   \n",
       "3   ORAI_USDC      SELL     4.174882     4.035719  1701414166       532   \n",
       "4   ORAI_USDC      SELL     4.476720     4.327496  1701421454       566   \n",
       "..        ...       ...          ...          ...         ...       ...   \n",
       "65   INJ_USDC      SELL    17.709588    15.938629  1701679805       883   \n",
       "66   INJ_USDC       BUY    16.593808    16.870436  1701688926       905   \n",
       "67   INJ_USDC       BUY    16.692873    16.971142  1701689000       906   \n",
       "68   INJ_USDC       BUY    16.786510    17.066344  1701689150       907   \n",
       "69   INJ_USDC       BUY    16.884681    17.166152  1701689505       908   \n",
       "\n",
       "                                    bidder_addr   status  leverage   \n",
       "0   orai1mvdnt277449t26f6g38epa0ugu5wmallgdaya7  OPENING  1.000000  \\\n",
       "1   orai1ax88yuwrmapcmrrfm3r7c8xugphjgpgsuptsux  OPENING  1.000000   \n",
       "2   orai18vyspza5ndpg5wss0u7mqs7g50zekjrjvc2dys  OPENING  1.908257   \n",
       "3   orai18vyspza5ndpg5wss0u7mqs7g50zekjrjvc2dys  OPENING  1.908257   \n",
       "4   orai18vyspza5ndpg5wss0u7mqs7g50zekjrjvc2dys  OPENING  3.000000   \n",
       "..                                          ...      ...       ...   \n",
       "65  orai12zyu8w93h0q2lcnt50g3fn0w3yqnhy4fvawaqz  OPENING  1.000000   \n",
       "66  orai1nza67tu4pv6uueqmynytqzelejpykr5d3tkqnd  OPENING  3.000000   \n",
       "67  orai1nza67tu4pv6uueqmynytqzelejpykr5d3tkqnd  OPENING  3.000000   \n",
       "68  orai1nza67tu4pv6uueqmynytqzelejpykr5d3tkqnd  OPENING  3.000000   \n",
       "69  orai1nza67tu4pv6uueqmynytqzelejpykr5d3tkqnd  OPENING  3.000000   \n",
       "\n",
       "    margin_amount       fee                 time user_type  pnl   \n",
       "0       18.739767  0.007498  2023-12-04 18:30:53      USER    0  \\\n",
       "1        1.242828  0.000496  2023-12-04 18:30:53      USER    0   \n",
       "2      549.580000  0.420000  2023-12-04 18:30:53      USER    0   \n",
       "3      549.580000  0.420000  2023-12-04 18:30:53      USER    0   \n",
       "4      399.520000  0.480000  2023-12-04 18:30:53      USER    0   \n",
       "..            ...       ...                  ...       ...  ...   \n",
       "65       0.999600  0.000400  2023-12-04 18:30:53      USER    0   \n",
       "66    3259.269110  3.915820  2023-12-04 18:30:53       BOT    0   \n",
       "67    2710.526606  3.256538  2023-12-04 18:30:53       BOT    0   \n",
       "68    2916.896380  3.504480  2023-12-04 18:30:53       BOT    0   \n",
       "69    2965.997491  3.563472  2023-12-04 18:30:53       BOT    0   \n",
       "\n",
       "    funding_payment  ask_amount  offer_amount  \n",
       "0                 0           0             0  \n",
       "1                 0           0             0  \n",
       "2                 0           0             0  \n",
       "3                 0           0             0  \n",
       "4                 0           0             0  \n",
       "..              ...         ...           ...  \n",
       "65                0           0             0  \n",
       "66                0           0             0  \n",
       "67                0           0             0  \n",
       "68                0           0             0  \n",
       "69                0           0             0  \n",
       "\n",
       "[70 rows x 17 columns]"
      ]
     },
     "execution_count": 4,
     "metadata": {},
     "output_type": "execute_result"
    }
   ],
   "source": [
    "df2"
   ]
  },
  {
   "cell_type": "code",
   "execution_count": 55,
   "metadata": {},
   "outputs": [
    {
     "name": "stdout",
     "output_type": "stream",
     "text": [
      "1h time range starts from: 2023-12-05 14:54:05.742709\n"
     ]
    }
   ],
   "source": [
    "type(df1.time)\n",
    "current_time = datetime.now()\n",
    "\n",
    "time_ranges = {\n",
    "    '1h': current_time - timedelta(hours=1),\n",
    "    '4h': current_time - timedelta(hours=4),\n",
    "    '24h': current_time - timedelta(hours=24),\n",
    "    '7d': current_time - timedelta(days=7),\n",
    "    '30d': current_time - timedelta(days=30),\n",
    "    '90d': current_time - timedelta(days=90)\n",
    "}\n",
    "# time_24_hours_ago = current_time - timedelta(hours=24)\n",
    "label = '1h'\n",
    "if label in time_ranges:\n",
    "    selected_range = time_ranges[label]\n",
    "    print(f\"{label} time range starts from: {selected_range}\")\n",
    "else:\n",
    "    print(f\"{label} is not a valid time range label.\")\n",
    "df1.time = pd.to_datetime(df1.time)\n",
    "filtered_data = df1[\n",
    "        (df1['time'] >= selected_range) & (df1['time'] <= current_time)\n",
    "]"
   ]
  },
  {
   "cell_type": "code",
   "execution_count": 56,
   "metadata": {},
   "outputs": [
    {
     "data": {
      "text/html": [
       "<div>\n",
       "<style scoped>\n",
       "    .dataframe tbody tr th:only-of-type {\n",
       "        vertical-align: middle;\n",
       "    }\n",
       "\n",
       "    .dataframe tbody tr th {\n",
       "        vertical-align: top;\n",
       "    }\n",
       "\n",
       "    .dataframe thead th {\n",
       "        text-align: right;\n",
       "    }\n",
       "</style>\n",
       "<table border=\"1\" class=\"dataframe\">\n",
       "  <thead>\n",
       "    <tr style=\"text-align: right;\">\n",
       "      <th></th>\n",
       "      <th>user_type</th>\n",
       "      <th>pair</th>\n",
       "      <th>hash</th>\n",
       "      <th>height</th>\n",
       "      <th>time</th>\n",
       "      <th>order_id</th>\n",
       "      <th>status</th>\n",
       "      <th>direction</th>\n",
       "      <th>bidder_addr</th>\n",
       "      <th>offer_amount</th>\n",
       "      <th>...</th>\n",
       "      <th>stop_loss</th>\n",
       "      <th>pnl</th>\n",
       "      <th>fee</th>\n",
       "      <th>funding_payment</th>\n",
       "      <th>volume</th>\n",
       "      <th>close_price</th>\n",
       "      <th>clost_pct</th>\n",
       "      <th>close_pct</th>\n",
       "      <th>lose_amount</th>\n",
       "      <th>win_amount</th>\n",
       "    </tr>\n",
       "  </thead>\n",
       "  <tbody>\n",
       "  </tbody>\n",
       "</table>\n",
       "<p>0 rows × 25 columns</p>\n",
       "</div>"
      ],
      "text/plain": [
       "Empty DataFrame\n",
       "Columns: [user_type, pair, hash, height, time, order_id, status, direction, bidder_addr, offer_amount, ask_amount, leverage, margin_amount, entry_price, take_profit, stop_loss, pnl, fee, funding_payment, volume, close_price, clost_pct, close_pct, lose_amount, win_amount]\n",
       "Index: []\n",
       "\n",
       "[0 rows x 25 columns]"
      ]
     },
     "execution_count": 56,
     "metadata": {},
     "output_type": "execute_result"
    }
   ],
   "source": [
    "filtered_data"
   ]
  },
  {
   "cell_type": "code",
   "execution_count": 53,
   "metadata": {},
   "outputs": [
    {
     "data": {
      "text/html": [
       "<div>\n",
       "<style scoped>\n",
       "    .dataframe tbody tr th:only-of-type {\n",
       "        vertical-align: middle;\n",
       "    }\n",
       "\n",
       "    .dataframe tbody tr th {\n",
       "        vertical-align: top;\n",
       "    }\n",
       "\n",
       "    .dataframe thead th {\n",
       "        text-align: right;\n",
       "    }\n",
       "</style>\n",
       "<table border=\"1\" class=\"dataframe\">\n",
       "  <thead>\n",
       "    <tr style=\"text-align: right;\">\n",
       "      <th></th>\n",
       "      <th>user_type</th>\n",
       "      <th>pair</th>\n",
       "      <th>hash</th>\n",
       "      <th>height</th>\n",
       "      <th>time</th>\n",
       "      <th>order_id</th>\n",
       "      <th>status</th>\n",
       "      <th>direction</th>\n",
       "      <th>bidder_addr</th>\n",
       "      <th>offer_amount</th>\n",
       "      <th>...</th>\n",
       "      <th>stop_loss</th>\n",
       "      <th>pnl</th>\n",
       "      <th>fee</th>\n",
       "      <th>funding_payment</th>\n",
       "      <th>volume</th>\n",
       "      <th>close_price</th>\n",
       "      <th>clost_pct</th>\n",
       "      <th>close_pct</th>\n",
       "      <th>lose_amount</th>\n",
       "      <th>win_amount</th>\n",
       "    </tr>\n",
       "  </thead>\n",
       "  <tbody>\n",
       "    <tr>\n",
       "      <th>787</th>\n",
       "      <td>USER</td>\n",
       "      <td>ORAI_USDC</td>\n",
       "      <td>636C5677AACFDEB48C18C13F2367D01EBFC444550023F6...</td>\n",
       "      <td>14685433</td>\n",
       "      <td>2023-12-04 16:02:21</td>\n",
       "      <td>881</td>\n",
       "      <td>Close</td>\n",
       "      <td>SELL</td>\n",
       "      <td>orai1hvhkk0jrdu6dz2qwum2v2arc8rtucha79jkfdn</td>\n",
       "      <td>1037.995110</td>\n",
       "      <td>...</td>\n",
       "      <td>0.000000</td>\n",
       "      <td>-0.000006</td>\n",
       "      <td>0.415696</td>\n",
       "      <td>0.933525</td>\n",
       "      <td>1037.995104</td>\n",
       "      <td>5.141465</td>\n",
       "      <td>-4.081164e-07</td>\n",
       "      <td>-4.081164e-07</td>\n",
       "      <td>-0.000141</td>\n",
       "      <td>0.000000</td>\n",
       "    </tr>\n",
       "    <tr>\n",
       "      <th>788</th>\n",
       "      <td>BOT</td>\n",
       "      <td>INJ_USDC</td>\n",
       "      <td>1FDAFFA47545B50D6BFE17CF78817DCE18C5E01A50DF80...</td>\n",
       "      <td>14685522</td>\n",
       "      <td>2023-12-04 16:10:54</td>\n",
       "      <td>865</td>\n",
       "      <td>Close</td>\n",
       "      <td>BUY</td>\n",
       "      <td>orai1nza67tu4pv6uueqmynytqzelejpykr5d3tkqnd</td>\n",
       "      <td>10584.651350</td>\n",
       "      <td>...</td>\n",
       "      <td>12.266853</td>\n",
       "      <td>75.216553</td>\n",
       "      <td>4.208824</td>\n",
       "      <td>30.496780</td>\n",
       "      <td>10509.434796</td>\n",
       "      <td>17.649427</td>\n",
       "      <td>2.147122e-02</td>\n",
       "      <td>2.147122e-02</td>\n",
       "      <td>0.000000</td>\n",
       "      <td>75.216789</td>\n",
       "    </tr>\n",
       "    <tr>\n",
       "      <th>789</th>\n",
       "      <td>USER</td>\n",
       "      <td>ORAI_USDC</td>\n",
       "      <td>B441FEB8C971766B499C836482FC1FDA62817CC06911BC...</td>\n",
       "      <td>14685878</td>\n",
       "      <td>2023-12-04 16:44:51</td>\n",
       "      <td>798</td>\n",
       "      <td>Close</td>\n",
       "      <td>SELL</td>\n",
       "      <td>orai1xsx9ezzynw4thhgh7ghpffvc28e0d4wswedjuc</td>\n",
       "      <td>205.318452</td>\n",
       "      <td>...</td>\n",
       "      <td>0.000000</td>\n",
       "      <td>6.460185</td>\n",
       "      <td>0.084812</td>\n",
       "      <td>1.819666</td>\n",
       "      <td>211.778637</td>\n",
       "      <td>5.157259</td>\n",
       "      <td>9.151282e-02</td>\n",
       "      <td>9.151282e-02</td>\n",
       "      <td>0.000000</td>\n",
       "      <td>6.460153</td>\n",
       "    </tr>\n",
       "    <tr>\n",
       "      <th>790</th>\n",
       "      <td>USER</td>\n",
       "      <td>ORAI_USDC</td>\n",
       "      <td>AA3247D4EBB0976C01EE080BAD83A736D1DF232502069B...</td>\n",
       "      <td>14685869</td>\n",
       "      <td>2023-12-04 16:43:59</td>\n",
       "      <td>858</td>\n",
       "      <td>Close</td>\n",
       "      <td>SELL</td>\n",
       "      <td>orai1uesy4qnqathqlxalakh9r5slvjlvq6appzdhjr</td>\n",
       "      <td>1988.300855</td>\n",
       "      <td>...</td>\n",
       "      <td>0.000000</td>\n",
       "      <td>61.236745</td>\n",
       "      <td>0.820800</td>\n",
       "      <td>5.074771</td>\n",
       "      <td>2049.537600</td>\n",
       "      <td>5.150617</td>\n",
       "      <td>8.963478e-02</td>\n",
       "      <td>8.963478e-02</td>\n",
       "      <td>0.000000</td>\n",
       "      <td>61.236617</td>\n",
       "    </tr>\n",
       "    <tr>\n",
       "      <th>791</th>\n",
       "      <td>USER</td>\n",
       "      <td>ORAI_USDC</td>\n",
       "      <td>E6EBCD21DB6B4585979339D404714715F421FD1D9401CE...</td>\n",
       "      <td>14685913</td>\n",
       "      <td>2023-12-04 16:48:10</td>\n",
       "      <td>869</td>\n",
       "      <td>Close</td>\n",
       "      <td>SELL</td>\n",
       "      <td>orai1gm7ptpux85zu2e9p4vpnwchpueh4mv8qyerxtu</td>\n",
       "      <td>2884.348008</td>\n",
       "      <td>...</td>\n",
       "      <td>0.000000</td>\n",
       "      <td>61.068657</td>\n",
       "      <td>1.179582</td>\n",
       "      <td>5.677570</td>\n",
       "      <td>2945.416665</td>\n",
       "      <td>5.166615</td>\n",
       "      <td>6.220015e-02</td>\n",
       "      <td>6.220015e-02</td>\n",
       "      <td>0.000000</td>\n",
       "      <td>61.068457</td>\n",
       "    </tr>\n",
       "    <tr>\n",
       "      <th>792</th>\n",
       "      <td>BOT</td>\n",
       "      <td>INJ_USDC</td>\n",
       "      <td>37F1FBAA943E637EF61C62EE9EBA1EFA89146B92E42D74...</td>\n",
       "      <td>14686005</td>\n",
       "      <td>2023-12-04 16:56:58</td>\n",
       "      <td>866</td>\n",
       "      <td>Close</td>\n",
       "      <td>BUY</td>\n",
       "      <td>orai1nza67tu4pv6uueqmynytqzelejpykr5d3tkqnd</td>\n",
       "      <td>7792.328959</td>\n",
       "      <td>...</td>\n",
       "      <td>12.339656</td>\n",
       "      <td>3.845671</td>\n",
       "      <td>3.119136</td>\n",
       "      <td>22.467627</td>\n",
       "      <td>7788.483288</td>\n",
       "      <td>17.636731</td>\n",
       "      <td>1.481313e-03</td>\n",
       "      <td>1.481313e-03</td>\n",
       "      <td>0.000000</td>\n",
       "      <td>3.845726</td>\n",
       "    </tr>\n",
       "    <tr>\n",
       "      <th>793</th>\n",
       "      <td>BOT</td>\n",
       "      <td>INJ_USDC</td>\n",
       "      <td>37F1FBAA943E637EF61C62EE9EBA1EFA89146B92E42D74...</td>\n",
       "      <td>14686005</td>\n",
       "      <td>2023-12-04 16:56:58</td>\n",
       "      <td>867</td>\n",
       "      <td>Close</td>\n",
       "      <td>BUY</td>\n",
       "      <td>orai1nza67tu4pv6uueqmynytqzelejpykr5d3tkqnd</td>\n",
       "      <td>10980.845890</td>\n",
       "      <td>...</td>\n",
       "      <td>12.415064</td>\n",
       "      <td>-128.881648</td>\n",
       "      <td>4.449230</td>\n",
       "      <td>31.853881</td>\n",
       "      <td>11109.727542</td>\n",
       "      <td>17.529982</td>\n",
       "      <td>-3.480222e-02</td>\n",
       "      <td>-3.480222e-02</td>\n",
       "      <td>-128.881064</td>\n",
       "      <td>0.000000</td>\n",
       "    </tr>\n",
       "    <tr>\n",
       "      <th>794</th>\n",
       "      <td>BOT</td>\n",
       "      <td>INJ_USDC</td>\n",
       "      <td>8752889D167C0F71BF239F7AE7E3321939C39FCB7ECBB5...</td>\n",
       "      <td>14686019</td>\n",
       "      <td>2023-12-04 16:58:17</td>\n",
       "      <td>868</td>\n",
       "      <td>Close</td>\n",
       "      <td>BUY</td>\n",
       "      <td>orai1nza67tu4pv6uueqmynytqzelejpykr5d3tkqnd</td>\n",
       "      <td>8968.113602</td>\n",
       "      <td>...</td>\n",
       "      <td>12.421717</td>\n",
       "      <td>-103.813474</td>\n",
       "      <td>3.633130</td>\n",
       "      <td>25.997134</td>\n",
       "      <td>9071.927076</td>\n",
       "      <td>17.542184</td>\n",
       "      <td>-3.433006e-02</td>\n",
       "      <td>-3.433006e-02</td>\n",
       "      <td>-103.813258</td>\n",
       "      <td>0.000000</td>\n",
       "    </tr>\n",
       "    <tr>\n",
       "      <th>795</th>\n",
       "      <td>USER</td>\n",
       "      <td>ORAI_USDC</td>\n",
       "      <td>236DC646488D963760676C86F7B0FA8AE84745BDBB56DA...</td>\n",
       "      <td>14686209</td>\n",
       "      <td>2023-12-04 17:16:24</td>\n",
       "      <td>589</td>\n",
       "      <td>Close</td>\n",
       "      <td>BUY</td>\n",
       "      <td>orai1ax88yuwrmapcmrrfm3r7c8xugphjgpgsuptsux</td>\n",
       "      <td>6.330486</td>\n",
       "      <td>...</td>\n",
       "      <td>0.000000</td>\n",
       "      <td>0.976809</td>\n",
       "      <td>0.002144</td>\n",
       "      <td>0.026317</td>\n",
       "      <td>5.353677</td>\n",
       "      <td>5.191412</td>\n",
       "      <td>5.473672e-01</td>\n",
       "      <td>5.473672e-01</td>\n",
       "      <td>0.000000</td>\n",
       "      <td>0.976809</td>\n",
       "    </tr>\n",
       "    <tr>\n",
       "      <th>796</th>\n",
       "      <td>BOT</td>\n",
       "      <td>ORAI_USDC</td>\n",
       "      <td>E48D0D63C0F0AE9561136A9DBAD91B0D47B0A6C0C238C3...</td>\n",
       "      <td>14686099</td>\n",
       "      <td>2023-12-04 17:05:55</td>\n",
       "      <td>705</td>\n",
       "      <td>TP</td>\n",
       "      <td>BUY</td>\n",
       "      <td>orai15vc7z4zyyam999zp6rwealm06lvuy9ykumwlpl</td>\n",
       "      <td>4846.882216</td>\n",
       "      <td>...</td>\n",
       "      <td>3.500777</td>\n",
       "      <td>154.173844</td>\n",
       "      <td>1.879338</td>\n",
       "      <td>-10.770222</td>\n",
       "      <td>4698.346386</td>\n",
       "      <td>5.165400</td>\n",
       "      <td>9.856230e-02</td>\n",
       "      <td>9.856230e-02</td>\n",
       "      <td>0.000000</td>\n",
       "      <td>154.359935</td>\n",
       "    </tr>\n",
       "    <tr>\n",
       "      <th>797</th>\n",
       "      <td>USER</td>\n",
       "      <td>ORAI_USDC</td>\n",
       "      <td>31FA84F48639710F5BE0157DBEC7324322FBE54771D874...</td>\n",
       "      <td>14686197</td>\n",
       "      <td>2023-12-04 17:15:15</td>\n",
       "      <td>888</td>\n",
       "      <td>Close</td>\n",
       "      <td>SELL</td>\n",
       "      <td>orai1uesy4qnqathqlxalakh9r5slvjlvq6appzdhjr</td>\n",
       "      <td>2213.434041</td>\n",
       "      <td>...</td>\n",
       "      <td>0.000000</td>\n",
       "      <td>0.905559</td>\n",
       "      <td>0.886800</td>\n",
       "      <td>0.000000</td>\n",
       "      <td>2214.339600</td>\n",
       "      <td>5.184708</td>\n",
       "      <td>1.226425e-03</td>\n",
       "      <td>1.226425e-03</td>\n",
       "      <td>0.000000</td>\n",
       "      <td>0.905241</td>\n",
       "    </tr>\n",
       "    <tr>\n",
       "      <th>798</th>\n",
       "      <td>USER</td>\n",
       "      <td>ORAI_USDC</td>\n",
       "      <td>9F50951DF9F28E5CFD5A230F0465E0BD3B9186EDB702C7...</td>\n",
       "      <td>14686599</td>\n",
       "      <td>2023-12-04 17:53:38</td>\n",
       "      <td>481</td>\n",
       "      <td>Close</td>\n",
       "      <td>BUY</td>\n",
       "      <td>orai1ax88yuwrmapcmrrfm3r7c8xugphjgpgsuptsux</td>\n",
       "      <td>0.826386</td>\n",
       "      <td>...</td>\n",
       "      <td>3.600000</td>\n",
       "      <td>0.204972</td>\n",
       "      <td>0.000248</td>\n",
       "      <td>0.003384</td>\n",
       "      <td>0.621414</td>\n",
       "      <td>5.191389</td>\n",
       "      <td>3.298479e-01</td>\n",
       "      <td>3.298479e-01</td>\n",
       "      <td>0.000000</td>\n",
       "      <td>0.204972</td>\n",
       "    </tr>\n",
       "    <tr>\n",
       "      <th>799</th>\n",
       "      <td>BOT</td>\n",
       "      <td>INJ_USDC</td>\n",
       "      <td>328241971841EE574F714125C9ACBC00D531C0A50982EF...</td>\n",
       "      <td>14686531</td>\n",
       "      <td>2023-12-04 17:47:10</td>\n",
       "      <td>870</td>\n",
       "      <td>Close</td>\n",
       "      <td>BUY</td>\n",
       "      <td>orai1nza67tu4pv6uueqmynytqzelejpykr5d3tkqnd</td>\n",
       "      <td>8014.229121</td>\n",
       "      <td>...</td>\n",
       "      <td>12.490102</td>\n",
       "      <td>3.440106</td>\n",
       "      <td>3.208164</td>\n",
       "      <td>25.925703</td>\n",
       "      <td>8010.789015</td>\n",
       "      <td>17.850612</td>\n",
       "      <td>1.288371e-03</td>\n",
       "      <td>1.288371e-03</td>\n",
       "      <td>0.000000</td>\n",
       "      <td>3.440288</td>\n",
       "    </tr>\n",
       "    <tr>\n",
       "      <th>800</th>\n",
       "      <td>BOT</td>\n",
       "      <td>INJ_USDC</td>\n",
       "      <td>328241971841EE574F714125C9ACBC00D531C0A50982EF...</td>\n",
       "      <td>14686531</td>\n",
       "      <td>2023-12-04 17:47:10</td>\n",
       "      <td>871</td>\n",
       "      <td>Close</td>\n",
       "      <td>BUY</td>\n",
       "      <td>orai1nza67tu4pv6uueqmynytqzelejpykr5d3tkqnd</td>\n",
       "      <td>8487.726730</td>\n",
       "      <td>...</td>\n",
       "      <td>12.413596</td>\n",
       "      <td>10.784626</td>\n",
       "      <td>3.394850</td>\n",
       "      <td>27.603423</td>\n",
       "      <td>8476.942104</td>\n",
       "      <td>17.756213</td>\n",
       "      <td>3.816824e-03</td>\n",
       "      <td>3.816824e-03</td>\n",
       "      <td>0.000000</td>\n",
       "      <td>10.785000</td>\n",
       "    </tr>\n",
       "    <tr>\n",
       "      <th>801</th>\n",
       "      <td>BOT</td>\n",
       "      <td>INJ_USDC</td>\n",
       "      <td>38E540A93F2B4C24291C80FF1B73CC7A815DA93CF99B28...</td>\n",
       "      <td>14686674</td>\n",
       "      <td>2023-12-04 18:00:47</td>\n",
       "      <td>872</td>\n",
       "      <td>Close</td>\n",
       "      <td>BUY</td>\n",
       "      <td>orai1nza67tu4pv6uueqmynytqzelejpykr5d3tkqnd</td>\n",
       "      <td>9921.066601</td>\n",
       "      <td>...</td>\n",
       "      <td>12.487221</td>\n",
       "      <td>1.719994</td>\n",
       "      <td>3.972504</td>\n",
       "      <td>38.725822</td>\n",
       "      <td>9919.346607</td>\n",
       "      <td>17.841913</td>\n",
       "      <td>5.203503e-04</td>\n",
       "      <td>5.203503e-04</td>\n",
       "      <td>0.000000</td>\n",
       "      <td>1.720512</td>\n",
       "    </tr>\n",
       "    <tr>\n",
       "      <th>802</th>\n",
       "      <td>BOT</td>\n",
       "      <td>INJ_USDC</td>\n",
       "      <td>38E540A93F2B4C24291C80FF1B73CC7A815DA93CF99B28...</td>\n",
       "      <td>14686674</td>\n",
       "      <td>2023-12-04 18:00:47</td>\n",
       "      <td>874</td>\n",
       "      <td>Close</td>\n",
       "      <td>BUY</td>\n",
       "      <td>orai1nza67tu4pv6uueqmynytqzelejpykr5d3tkqnd</td>\n",
       "      <td>8254.789890</td>\n",
       "      <td>...</td>\n",
       "      <td>12.489733</td>\n",
       "      <td>-48.596130</td>\n",
       "      <td>3.325344</td>\n",
       "      <td>19.679240</td>\n",
       "      <td>8303.386020</td>\n",
       "      <td>17.737996</td>\n",
       "      <td>-1.755768e-02</td>\n",
       "      <td>-1.755768e-02</td>\n",
       "      <td>-48.596075</td>\n",
       "      <td>0.000000</td>\n",
       "    </tr>\n",
       "    <tr>\n",
       "      <th>803</th>\n",
       "      <td>BOT</td>\n",
       "      <td>INJ_USDC</td>\n",
       "      <td>CB7A90361CFCA24E8219F9524CEC475CC24E9C15FED9D8...</td>\n",
       "      <td>14686737</td>\n",
       "      <td>2023-12-04 18:06:48</td>\n",
       "      <td>878</td>\n",
       "      <td>Close</td>\n",
       "      <td>BUY</td>\n",
       "      <td>orai1nza67tu4pv6uueqmynytqzelejpykr5d3tkqnd</td>\n",
       "      <td>8570.260993</td>\n",
       "      <td>...</td>\n",
       "      <td>12.429760</td>\n",
       "      <td>-55.711943</td>\n",
       "      <td>3.454534</td>\n",
       "      <td>20.542424</td>\n",
       "      <td>8625.972936</td>\n",
       "      <td>17.642057</td>\n",
       "      <td>-1.937579e-02</td>\n",
       "      <td>-1.937579e-02</td>\n",
       "      <td>-55.711676</td>\n",
       "      <td>0.000000</td>\n",
       "    </tr>\n",
       "    <tr>\n",
       "      <th>804</th>\n",
       "      <td>BOT</td>\n",
       "      <td>INJ_USDC</td>\n",
       "      <td>CB7A90361CFCA24E8219F9524CEC475CC24E9C15FED9D8...</td>\n",
       "      <td>14686737</td>\n",
       "      <td>2023-12-04 18:06:48</td>\n",
       "      <td>879</td>\n",
       "      <td>Close</td>\n",
       "      <td>BUY</td>\n",
       "      <td>orai1nza67tu4pv6uueqmynytqzelejpykr5d3tkqnd</td>\n",
       "      <td>7814.201018</td>\n",
       "      <td>...</td>\n",
       "      <td>12.356766</td>\n",
       "      <td>-46.123258</td>\n",
       "      <td>3.147906</td>\n",
       "      <td>18.829631</td>\n",
       "      <td>7860.324276</td>\n",
       "      <td>17.548889</td>\n",
       "      <td>-1.760354e-02</td>\n",
       "      <td>-1.760354e-02</td>\n",
       "      <td>-46.123185</td>\n",
       "      <td>0.000000</td>\n",
       "    </tr>\n",
       "    <tr>\n",
       "      <th>805</th>\n",
       "      <td>BOT</td>\n",
       "      <td>INJ_USDC</td>\n",
       "      <td>80624041392603C3FE12C38E66B4E89042D6700BA1FB96...</td>\n",
       "      <td>14686783</td>\n",
       "      <td>2023-12-04 18:11:11</td>\n",
       "      <td>880</td>\n",
       "      <td>Close</td>\n",
       "      <td>BUY</td>\n",
       "      <td>orai1nza67tu4pv6uueqmynytqzelejpykr5d3tkqnd</td>\n",
       "      <td>8932.024541</td>\n",
       "      <td>...</td>\n",
       "      <td>12.359472</td>\n",
       "      <td>-103.590301</td>\n",
       "      <td>3.618588</td>\n",
       "      <td>14.780857</td>\n",
       "      <td>9035.614842</td>\n",
       "      <td>17.453904</td>\n",
       "      <td>-3.439385e-02</td>\n",
       "      <td>-3.439385e-02</td>\n",
       "      <td>-103.589859</td>\n",
       "      <td>0.000000</td>\n",
       "    </tr>\n",
       "    <tr>\n",
       "      <th>806</th>\n",
       "      <td>BOT</td>\n",
       "      <td>INJ_USDC</td>\n",
       "      <td>80624041392603C3FE12C38E66B4E89042D6700BA1FB96...</td>\n",
       "      <td>14686783</td>\n",
       "      <td>2023-12-04 18:11:11</td>\n",
       "      <td>882</td>\n",
       "      <td>Close</td>\n",
       "      <td>BUY</td>\n",
       "      <td>orai1nza67tu4pv6uueqmynytqzelejpykr5d3tkqnd</td>\n",
       "      <td>9070.131493</td>\n",
       "      <td>...</td>\n",
       "      <td>12.432630</td>\n",
       "      <td>-213.656534</td>\n",
       "      <td>3.717976</td>\n",
       "      <td>15.097466</td>\n",
       "      <td>9283.788027</td>\n",
       "      <td>17.352091</td>\n",
       "      <td>-6.904171e-02</td>\n",
       "      <td>-6.904171e-02</td>\n",
       "      <td>-213.656190</td>\n",
       "      <td>0.000000</td>\n",
       "    </tr>\n",
       "    <tr>\n",
       "      <th>807</th>\n",
       "      <td>BOT</td>\n",
       "      <td>INJ_USDC</td>\n",
       "      <td>C1184739340D4B9DBD2AB7E3C77E2D39ADBB6E90B68913...</td>\n",
       "      <td>14686800</td>\n",
       "      <td>2023-12-04 18:12:48</td>\n",
       "      <td>884</td>\n",
       "      <td>Close</td>\n",
       "      <td>BUY</td>\n",
       "      <td>orai1nza67tu4pv6uueqmynytqzelejpykr5d3tkqnd</td>\n",
       "      <td>7898.352949</td>\n",
       "      <td>...</td>\n",
       "      <td>12.344635</td>\n",
       "      <td>-173.347760</td>\n",
       "      <td>3.232558</td>\n",
       "      <td>8.601202</td>\n",
       "      <td>8071.700709</td>\n",
       "      <td>17.256407</td>\n",
       "      <td>-6.442786e-02</td>\n",
       "      <td>-6.442786e-02</td>\n",
       "      <td>-173.347472</td>\n",
       "      <td>0.000000</td>\n",
       "    </tr>\n",
       "    <tr>\n",
       "      <th>808</th>\n",
       "      <td>BOT</td>\n",
       "      <td>INJ_USDC</td>\n",
       "      <td>C1184739340D4B9DBD2AB7E3C77E2D39ADBB6E90B68913...</td>\n",
       "      <td>14686800</td>\n",
       "      <td>2023-12-04 18:12:48</td>\n",
       "      <td>886</td>\n",
       "      <td>Close</td>\n",
       "      <td>BUY</td>\n",
       "      <td>orai1nza67tu4pv6uueqmynytqzelejpykr5d3tkqnd</td>\n",
       "      <td>10808.519980</td>\n",
       "      <td>...</td>\n",
       "      <td>12.271304</td>\n",
       "      <td>-238.948535</td>\n",
       "      <td>4.424296</td>\n",
       "      <td>11.842542</td>\n",
       "      <td>11047.468515</td>\n",
       "      <td>17.151191</td>\n",
       "      <td>-6.488762e-02</td>\n",
       "      <td>-6.488762e-02</td>\n",
       "      <td>-238.947980</td>\n",
       "      <td>0.000000</td>\n",
       "    </tr>\n",
       "    <tr>\n",
       "      <th>809</th>\n",
       "      <td>BOT</td>\n",
       "      <td>INJ_USDC</td>\n",
       "      <td>C1184739340D4B9DBD2AB7E3C77E2D39ADBB6E90B68913...</td>\n",
       "      <td>14686800</td>\n",
       "      <td>2023-12-04 18:12:48</td>\n",
       "      <td>887</td>\n",
       "      <td>Close</td>\n",
       "      <td>BUY</td>\n",
       "      <td>orai1nza67tu4pv6uueqmynytqzelejpykr5d3tkqnd</td>\n",
       "      <td>8316.051703</td>\n",
       "      <td>...</td>\n",
       "      <td>12.277941</td>\n",
       "      <td>-241.934381</td>\n",
       "      <td>3.427306</td>\n",
       "      <td>5.805230</td>\n",
       "      <td>8557.986084</td>\n",
       "      <td>17.044006</td>\n",
       "      <td>-8.480995e-02</td>\n",
       "      <td>-8.480995e-02</td>\n",
       "      <td>-241.934132</td>\n",
       "      <td>0.000000</td>\n",
       "    </tr>\n",
       "    <tr>\n",
       "      <th>810</th>\n",
       "      <td>BOT</td>\n",
       "      <td>INJ_USDC</td>\n",
       "      <td>C1184739340D4B9DBD2AB7E3C77E2D39ADBB6E90B68913...</td>\n",
       "      <td>14686800</td>\n",
       "      <td>2023-12-04 18:12:48</td>\n",
       "      <td>890</td>\n",
       "      <td>Close</td>\n",
       "      <td>BUY</td>\n",
       "      <td>orai1nza67tu4pv6uueqmynytqzelejpykr5d3tkqnd</td>\n",
       "      <td>8826.116891</td>\n",
       "      <td>...</td>\n",
       "      <td>12.348567</td>\n",
       "      <td>-360.661618</td>\n",
       "      <td>3.679126</td>\n",
       "      <td>6.196125</td>\n",
       "      <td>9186.778509</td>\n",
       "      <td>16.948194</td>\n",
       "      <td>-1.177763e-01</td>\n",
       "      <td>-1.177763e-01</td>\n",
       "      <td>-360.661467</td>\n",
       "      <td>0.000000</td>\n",
       "    </tr>\n",
       "    <tr>\n",
       "      <th>811</th>\n",
       "      <td>BOT</td>\n",
       "      <td>INJ_USDC</td>\n",
       "      <td>C1184739340D4B9DBD2AB7E3C77E2D39ADBB6E90B68913...</td>\n",
       "      <td>14686800</td>\n",
       "      <td>2023-12-04 18:12:48</td>\n",
       "      <td>891</td>\n",
       "      <td>Close</td>\n",
       "      <td>BUY</td>\n",
       "      <td>orai1nza67tu4pv6uueqmynytqzelejpykr5d3tkqnd</td>\n",
       "      <td>9021.786313</td>\n",
       "      <td>...</td>\n",
       "      <td>12.423173</td>\n",
       "      <td>-481.162289</td>\n",
       "      <td>3.805746</td>\n",
       "      <td>6.370879</td>\n",
       "      <td>9502.948602</td>\n",
       "      <td>16.848727</td>\n",
       "      <td>-1.518988e-01</td>\n",
       "      <td>-1.518988e-01</td>\n",
       "      <td>-481.162093</td>\n",
       "      <td>0.000000</td>\n",
       "    </tr>\n",
       "    <tr>\n",
       "      <th>812</th>\n",
       "      <td>BOT</td>\n",
       "      <td>INJ_USDC</td>\n",
       "      <td>C1184739340D4B9DBD2AB7E3C77E2D39ADBB6E90B68913...</td>\n",
       "      <td>14686800</td>\n",
       "      <td>2023-12-04 18:12:48</td>\n",
       "      <td>892</td>\n",
       "      <td>Close</td>\n",
       "      <td>BUY</td>\n",
       "      <td>orai1nza67tu4pv6uueqmynytqzelejpykr5d3tkqnd</td>\n",
       "      <td>7776.213022</td>\n",
       "      <td>...</td>\n",
       "      <td>12.494385</td>\n",
       "      <td>-507.577643</td>\n",
       "      <td>3.317496</td>\n",
       "      <td>5.521887</td>\n",
       "      <td>8283.790665</td>\n",
       "      <td>16.755389</td>\n",
       "      <td>-1.838207e-01</td>\n",
       "      <td>-1.838207e-01</td>\n",
       "      <td>-507.577282</td>\n",
       "      <td>0.000000</td>\n",
       "    </tr>\n",
       "    <tr>\n",
       "      <th>813</th>\n",
       "      <td>BOT</td>\n",
       "      <td>INJ_USDC</td>\n",
       "      <td>C1184739340D4B9DBD2AB7E3C77E2D39ADBB6E90B68913...</td>\n",
       "      <td>14686800</td>\n",
       "      <td>2023-12-04 18:12:48</td>\n",
       "      <td>893</td>\n",
       "      <td>Close</td>\n",
       "      <td>BUY</td>\n",
       "      <td>orai1nza67tu4pv6uueqmynytqzelejpykr5d3tkqnd</td>\n",
       "      <td>7637.988055</td>\n",
       "      <td>...</td>\n",
       "      <td>12.427978</td>\n",
       "      <td>-496.785806</td>\n",
       "      <td>3.257818</td>\n",
       "      <td>5.451529</td>\n",
       "      <td>8134.773861</td>\n",
       "      <td>16.669961</td>\n",
       "      <td>-1.832081e-01</td>\n",
       "      <td>-1.832081e-01</td>\n",
       "      <td>-496.785568</td>\n",
       "      <td>0.000000</td>\n",
       "    </tr>\n",
       "    <tr>\n",
       "      <th>814</th>\n",
       "      <td>BOT</td>\n",
       "      <td>INJ_USDC</td>\n",
       "      <td>C1184739340D4B9DBD2AB7E3C77E2D39ADBB6E90B68913...</td>\n",
       "      <td>14686800</td>\n",
       "      <td>2023-12-04 18:12:48</td>\n",
       "      <td>895</td>\n",
       "      <td>Close</td>\n",
       "      <td>BUY</td>\n",
       "      <td>orai1nza67tu4pv6uueqmynytqzelejpykr5d3tkqnd</td>\n",
       "      <td>7955.271150</td>\n",
       "      <td>...</td>\n",
       "      <td>12.494834</td>\n",
       "      <td>-607.277289</td>\n",
       "      <td>3.429134</td>\n",
       "      <td>5.707500</td>\n",
       "      <td>8562.548439</td>\n",
       "      <td>16.583759</td>\n",
       "      <td>-2.127675e-01</td>\n",
       "      <td>-2.127675e-01</td>\n",
       "      <td>-607.277284</td>\n",
       "      <td>0.000000</td>\n",
       "    </tr>\n",
       "    <tr>\n",
       "      <th>815</th>\n",
       "      <td>BOT</td>\n",
       "      <td>INJ_USDC</td>\n",
       "      <td>F80FF85FA35D4F0AD189EABCD87CBB932F03105724B809...</td>\n",
       "      <td>14686814</td>\n",
       "      <td>2023-12-04 18:14:09</td>\n",
       "      <td>896</td>\n",
       "      <td>Close</td>\n",
       "      <td>SELL</td>\n",
       "      <td>orai1nza67tu4pv6uueqmynytqzelejpykr5d3tkqnd</td>\n",
       "      <td>79193.265760</td>\n",
       "      <td>...</td>\n",
       "      <td>20.929331</td>\n",
       "      <td>589.400305</td>\n",
       "      <td>31.951408</td>\n",
       "      <td>0.000000</td>\n",
       "      <td>79782.666060</td>\n",
       "      <td>15.981075</td>\n",
       "      <td>2.216260e-02</td>\n",
       "      <td>2.216260e-02</td>\n",
       "      <td>0.000000</td>\n",
       "      <td>589.397123</td>\n",
       "    </tr>\n",
       "    <tr>\n",
       "      <th>816</th>\n",
       "      <td>BOT</td>\n",
       "      <td>INJ_USDC</td>\n",
       "      <td>EA34F1520DEA66AD7C3CA84AD997BBE210979B74907870...</td>\n",
       "      <td>14686828</td>\n",
       "      <td>2023-12-04 18:15:31</td>\n",
       "      <td>898</td>\n",
       "      <td>Close</td>\n",
       "      <td>SELL</td>\n",
       "      <td>orai1nza67tu4pv6uueqmynytqzelejpykr5d3tkqnd</td>\n",
       "      <td>11139.928280</td>\n",
       "      <td>...</td>\n",
       "      <td>20.298907</td>\n",
       "      <td>-478.812979</td>\n",
       "      <td>4.269568</td>\n",
       "      <td>0.000000</td>\n",
       "      <td>10661.115303</td>\n",
       "      <td>16.315898</td>\n",
       "      <td>-1.347363e-01</td>\n",
       "      <td>-1.347363e-01</td>\n",
       "      <td>-478.813155</td>\n",
       "      <td>0.000000</td>\n",
       "    </tr>\n",
       "    <tr>\n",
       "      <th>817</th>\n",
       "      <td>BOT</td>\n",
       "      <td>INJ_USDC</td>\n",
       "      <td>EA34F1520DEA66AD7C3CA84AD997BBE210979B74907870...</td>\n",
       "      <td>14686828</td>\n",
       "      <td>2023-12-04 18:15:31</td>\n",
       "      <td>899</td>\n",
       "      <td>Close</td>\n",
       "      <td>SELL</td>\n",
       "      <td>orai1nza67tu4pv6uueqmynytqzelejpykr5d3tkqnd</td>\n",
       "      <td>14807.755120</td>\n",
       "      <td>...</td>\n",
       "      <td>21.235817</td>\n",
       "      <td>-110.587334</td>\n",
       "      <td>5.885930</td>\n",
       "      <td>0.000000</td>\n",
       "      <td>14697.167781</td>\n",
       "      <td>16.458255</td>\n",
       "      <td>-2.257328e-02</td>\n",
       "      <td>-2.257328e-02</td>\n",
       "      <td>-110.587738</td>\n",
       "      <td>0.000000</td>\n",
       "    </tr>\n",
       "    <tr>\n",
       "      <th>818</th>\n",
       "      <td>BOT</td>\n",
       "      <td>INJ_USDC</td>\n",
       "      <td>BA5177B956D55875636B84B33821C63A2173CF635E747C...</td>\n",
       "      <td>14686857</td>\n",
       "      <td>2023-12-04 18:18:17</td>\n",
       "      <td>900</td>\n",
       "      <td>Close</td>\n",
       "      <td>BUY</td>\n",
       "      <td>orai1nza67tu4pv6uueqmynytqzelejpykr5d3tkqnd</td>\n",
       "      <td>20896.120900</td>\n",
       "      <td>...</td>\n",
       "      <td>11.658232</td>\n",
       "      <td>113.930674</td>\n",
       "      <td>8.322862</td>\n",
       "      <td>0.000000</td>\n",
       "      <td>20782.190223</td>\n",
       "      <td>16.745783</td>\n",
       "      <td>1.644655e-02</td>\n",
       "      <td>1.644655e-02</td>\n",
       "      <td>0.000000</td>\n",
       "      <td>113.931779</td>\n",
       "    </tr>\n",
       "    <tr>\n",
       "      <th>819</th>\n",
       "      <td>BOT</td>\n",
       "      <td>INJ_USDC</td>\n",
       "      <td>341363E381E737B0B38FC8BCF1B83120676E389D2E54E2...</td>\n",
       "      <td>14686865</td>\n",
       "      <td>2023-12-04 18:19:02</td>\n",
       "      <td>901</td>\n",
       "      <td>Close</td>\n",
       "      <td>BUY</td>\n",
       "      <td>orai1nza67tu4pv6uueqmynytqzelejpykr5d3tkqnd</td>\n",
       "      <td>8270.454010</td>\n",
       "      <td>...</td>\n",
       "      <td>11.771183</td>\n",
       "      <td>-26.682809</td>\n",
       "      <td>3.322842</td>\n",
       "      <td>0.000000</td>\n",
       "      <td>8297.136819</td>\n",
       "      <td>16.761843</td>\n",
       "      <td>-9.647711e-03</td>\n",
       "      <td>-9.647711e-03</td>\n",
       "      <td>-26.682794</td>\n",
       "      <td>0.000000</td>\n",
       "    </tr>\n",
       "    <tr>\n",
       "      <th>820</th>\n",
       "      <td>BOT</td>\n",
       "      <td>INJ_USDC</td>\n",
       "      <td>341363E381E737B0B38FC8BCF1B83120676E389D2E54E2...</td>\n",
       "      <td>14686865</td>\n",
       "      <td>2023-12-04 18:19:02</td>\n",
       "      <td>903</td>\n",
       "      <td>Close</td>\n",
       "      <td>BUY</td>\n",
       "      <td>orai1nza67tu4pv6uueqmynytqzelejpykr5d3tkqnd</td>\n",
       "      <td>15927.854440</td>\n",
       "      <td>...</td>\n",
       "      <td>11.703232</td>\n",
       "      <td>-87.247894</td>\n",
       "      <td>6.413736</td>\n",
       "      <td>0.000000</td>\n",
       "      <td>16015.102335</td>\n",
       "      <td>16.627716</td>\n",
       "      <td>-1.634339e-02</td>\n",
       "      <td>-1.634339e-02</td>\n",
       "      <td>-87.247011</td>\n",
       "      <td>0.000000</td>\n",
       "    </tr>\n",
       "    <tr>\n",
       "      <th>821</th>\n",
       "      <td>BOT</td>\n",
       "      <td>INJ_USDC</td>\n",
       "      <td>7ECCFC8DCFB3696BF151BC39D9DE86B463B5CA7038E52A...</td>\n",
       "      <td>14686882</td>\n",
       "      <td>2023-12-04 18:20:40</td>\n",
       "      <td>904</td>\n",
       "      <td>Close</td>\n",
       "      <td>BUY</td>\n",
       "      <td>orai1nza67tu4pv6uueqmynytqzelejpykr5d3tkqnd</td>\n",
       "      <td>13699.235160</td>\n",
       "      <td>...</td>\n",
       "      <td>11.630863</td>\n",
       "      <td>-0.000009</td>\n",
       "      <td>5.486276</td>\n",
       "      <td>0.000000</td>\n",
       "      <td>13699.235169</td>\n",
       "      <td>16.615429</td>\n",
       "      <td>1.570719e-07</td>\n",
       "      <td>1.570719e-07</td>\n",
       "      <td>0.000000</td>\n",
       "      <td>0.000717</td>\n",
       "    </tr>\n",
       "  </tbody>\n",
       "</table>\n",
       "<p>35 rows × 25 columns</p>\n",
       "</div>"
      ],
      "text/plain": [
       "    user_type       pair                                               hash   \n",
       "787      USER  ORAI_USDC  636C5677AACFDEB48C18C13F2367D01EBFC444550023F6...  \\\n",
       "788       BOT   INJ_USDC  1FDAFFA47545B50D6BFE17CF78817DCE18C5E01A50DF80...   \n",
       "789      USER  ORAI_USDC  B441FEB8C971766B499C836482FC1FDA62817CC06911BC...   \n",
       "790      USER  ORAI_USDC  AA3247D4EBB0976C01EE080BAD83A736D1DF232502069B...   \n",
       "791      USER  ORAI_USDC  E6EBCD21DB6B4585979339D404714715F421FD1D9401CE...   \n",
       "792       BOT   INJ_USDC  37F1FBAA943E637EF61C62EE9EBA1EFA89146B92E42D74...   \n",
       "793       BOT   INJ_USDC  37F1FBAA943E637EF61C62EE9EBA1EFA89146B92E42D74...   \n",
       "794       BOT   INJ_USDC  8752889D167C0F71BF239F7AE7E3321939C39FCB7ECBB5...   \n",
       "795      USER  ORAI_USDC  236DC646488D963760676C86F7B0FA8AE84745BDBB56DA...   \n",
       "796       BOT  ORAI_USDC  E48D0D63C0F0AE9561136A9DBAD91B0D47B0A6C0C238C3...   \n",
       "797      USER  ORAI_USDC  31FA84F48639710F5BE0157DBEC7324322FBE54771D874...   \n",
       "798      USER  ORAI_USDC  9F50951DF9F28E5CFD5A230F0465E0BD3B9186EDB702C7...   \n",
       "799       BOT   INJ_USDC  328241971841EE574F714125C9ACBC00D531C0A50982EF...   \n",
       "800       BOT   INJ_USDC  328241971841EE574F714125C9ACBC00D531C0A50982EF...   \n",
       "801       BOT   INJ_USDC  38E540A93F2B4C24291C80FF1B73CC7A815DA93CF99B28...   \n",
       "802       BOT   INJ_USDC  38E540A93F2B4C24291C80FF1B73CC7A815DA93CF99B28...   \n",
       "803       BOT   INJ_USDC  CB7A90361CFCA24E8219F9524CEC475CC24E9C15FED9D8...   \n",
       "804       BOT   INJ_USDC  CB7A90361CFCA24E8219F9524CEC475CC24E9C15FED9D8...   \n",
       "805       BOT   INJ_USDC  80624041392603C3FE12C38E66B4E89042D6700BA1FB96...   \n",
       "806       BOT   INJ_USDC  80624041392603C3FE12C38E66B4E89042D6700BA1FB96...   \n",
       "807       BOT   INJ_USDC  C1184739340D4B9DBD2AB7E3C77E2D39ADBB6E90B68913...   \n",
       "808       BOT   INJ_USDC  C1184739340D4B9DBD2AB7E3C77E2D39ADBB6E90B68913...   \n",
       "809       BOT   INJ_USDC  C1184739340D4B9DBD2AB7E3C77E2D39ADBB6E90B68913...   \n",
       "810       BOT   INJ_USDC  C1184739340D4B9DBD2AB7E3C77E2D39ADBB6E90B68913...   \n",
       "811       BOT   INJ_USDC  C1184739340D4B9DBD2AB7E3C77E2D39ADBB6E90B68913...   \n",
       "812       BOT   INJ_USDC  C1184739340D4B9DBD2AB7E3C77E2D39ADBB6E90B68913...   \n",
       "813       BOT   INJ_USDC  C1184739340D4B9DBD2AB7E3C77E2D39ADBB6E90B68913...   \n",
       "814       BOT   INJ_USDC  C1184739340D4B9DBD2AB7E3C77E2D39ADBB6E90B68913...   \n",
       "815       BOT   INJ_USDC  F80FF85FA35D4F0AD189EABCD87CBB932F03105724B809...   \n",
       "816       BOT   INJ_USDC  EA34F1520DEA66AD7C3CA84AD997BBE210979B74907870...   \n",
       "817       BOT   INJ_USDC  EA34F1520DEA66AD7C3CA84AD997BBE210979B74907870...   \n",
       "818       BOT   INJ_USDC  BA5177B956D55875636B84B33821C63A2173CF635E747C...   \n",
       "819       BOT   INJ_USDC  341363E381E737B0B38FC8BCF1B83120676E389D2E54E2...   \n",
       "820       BOT   INJ_USDC  341363E381E737B0B38FC8BCF1B83120676E389D2E54E2...   \n",
       "821       BOT   INJ_USDC  7ECCFC8DCFB3696BF151BC39D9DE86B463B5CA7038E52A...   \n",
       "\n",
       "       height                time  order_id status direction   \n",
       "787  14685433 2023-12-04 16:02:21       881  Close      SELL  \\\n",
       "788  14685522 2023-12-04 16:10:54       865  Close       BUY   \n",
       "789  14685878 2023-12-04 16:44:51       798  Close      SELL   \n",
       "790  14685869 2023-12-04 16:43:59       858  Close      SELL   \n",
       "791  14685913 2023-12-04 16:48:10       869  Close      SELL   \n",
       "792  14686005 2023-12-04 16:56:58       866  Close       BUY   \n",
       "793  14686005 2023-12-04 16:56:58       867  Close       BUY   \n",
       "794  14686019 2023-12-04 16:58:17       868  Close       BUY   \n",
       "795  14686209 2023-12-04 17:16:24       589  Close       BUY   \n",
       "796  14686099 2023-12-04 17:05:55       705     TP       BUY   \n",
       "797  14686197 2023-12-04 17:15:15       888  Close      SELL   \n",
       "798  14686599 2023-12-04 17:53:38       481  Close       BUY   \n",
       "799  14686531 2023-12-04 17:47:10       870  Close       BUY   \n",
       "800  14686531 2023-12-04 17:47:10       871  Close       BUY   \n",
       "801  14686674 2023-12-04 18:00:47       872  Close       BUY   \n",
       "802  14686674 2023-12-04 18:00:47       874  Close       BUY   \n",
       "803  14686737 2023-12-04 18:06:48       878  Close       BUY   \n",
       "804  14686737 2023-12-04 18:06:48       879  Close       BUY   \n",
       "805  14686783 2023-12-04 18:11:11       880  Close       BUY   \n",
       "806  14686783 2023-12-04 18:11:11       882  Close       BUY   \n",
       "807  14686800 2023-12-04 18:12:48       884  Close       BUY   \n",
       "808  14686800 2023-12-04 18:12:48       886  Close       BUY   \n",
       "809  14686800 2023-12-04 18:12:48       887  Close       BUY   \n",
       "810  14686800 2023-12-04 18:12:48       890  Close       BUY   \n",
       "811  14686800 2023-12-04 18:12:48       891  Close       BUY   \n",
       "812  14686800 2023-12-04 18:12:48       892  Close       BUY   \n",
       "813  14686800 2023-12-04 18:12:48       893  Close       BUY   \n",
       "814  14686800 2023-12-04 18:12:48       895  Close       BUY   \n",
       "815  14686814 2023-12-04 18:14:09       896  Close      SELL   \n",
       "816  14686828 2023-12-04 18:15:31       898  Close      SELL   \n",
       "817  14686828 2023-12-04 18:15:31       899  Close      SELL   \n",
       "818  14686857 2023-12-04 18:18:17       900  Close       BUY   \n",
       "819  14686865 2023-12-04 18:19:02       901  Close       BUY   \n",
       "820  14686865 2023-12-04 18:19:02       903  Close       BUY   \n",
       "821  14686882 2023-12-04 18:20:40       904  Close       BUY   \n",
       "\n",
       "                                     bidder_addr  offer_amount  ...   \n",
       "787  orai1hvhkk0jrdu6dz2qwum2v2arc8rtucha79jkfdn   1037.995110  ...  \\\n",
       "788  orai1nza67tu4pv6uueqmynytqzelejpykr5d3tkqnd  10584.651350  ...   \n",
       "789  orai1xsx9ezzynw4thhgh7ghpffvc28e0d4wswedjuc    205.318452  ...   \n",
       "790  orai1uesy4qnqathqlxalakh9r5slvjlvq6appzdhjr   1988.300855  ...   \n",
       "791  orai1gm7ptpux85zu2e9p4vpnwchpueh4mv8qyerxtu   2884.348008  ...   \n",
       "792  orai1nza67tu4pv6uueqmynytqzelejpykr5d3tkqnd   7792.328959  ...   \n",
       "793  orai1nza67tu4pv6uueqmynytqzelejpykr5d3tkqnd  10980.845890  ...   \n",
       "794  orai1nza67tu4pv6uueqmynytqzelejpykr5d3tkqnd   8968.113602  ...   \n",
       "795  orai1ax88yuwrmapcmrrfm3r7c8xugphjgpgsuptsux      6.330486  ...   \n",
       "796  orai15vc7z4zyyam999zp6rwealm06lvuy9ykumwlpl   4846.882216  ...   \n",
       "797  orai1uesy4qnqathqlxalakh9r5slvjlvq6appzdhjr   2213.434041  ...   \n",
       "798  orai1ax88yuwrmapcmrrfm3r7c8xugphjgpgsuptsux      0.826386  ...   \n",
       "799  orai1nza67tu4pv6uueqmynytqzelejpykr5d3tkqnd   8014.229121  ...   \n",
       "800  orai1nza67tu4pv6uueqmynytqzelejpykr5d3tkqnd   8487.726730  ...   \n",
       "801  orai1nza67tu4pv6uueqmynytqzelejpykr5d3tkqnd   9921.066601  ...   \n",
       "802  orai1nza67tu4pv6uueqmynytqzelejpykr5d3tkqnd   8254.789890  ...   \n",
       "803  orai1nza67tu4pv6uueqmynytqzelejpykr5d3tkqnd   8570.260993  ...   \n",
       "804  orai1nza67tu4pv6uueqmynytqzelejpykr5d3tkqnd   7814.201018  ...   \n",
       "805  orai1nza67tu4pv6uueqmynytqzelejpykr5d3tkqnd   8932.024541  ...   \n",
       "806  orai1nza67tu4pv6uueqmynytqzelejpykr5d3tkqnd   9070.131493  ...   \n",
       "807  orai1nza67tu4pv6uueqmynytqzelejpykr5d3tkqnd   7898.352949  ...   \n",
       "808  orai1nza67tu4pv6uueqmynytqzelejpykr5d3tkqnd  10808.519980  ...   \n",
       "809  orai1nza67tu4pv6uueqmynytqzelejpykr5d3tkqnd   8316.051703  ...   \n",
       "810  orai1nza67tu4pv6uueqmynytqzelejpykr5d3tkqnd   8826.116891  ...   \n",
       "811  orai1nza67tu4pv6uueqmynytqzelejpykr5d3tkqnd   9021.786313  ...   \n",
       "812  orai1nza67tu4pv6uueqmynytqzelejpykr5d3tkqnd   7776.213022  ...   \n",
       "813  orai1nza67tu4pv6uueqmynytqzelejpykr5d3tkqnd   7637.988055  ...   \n",
       "814  orai1nza67tu4pv6uueqmynytqzelejpykr5d3tkqnd   7955.271150  ...   \n",
       "815  orai1nza67tu4pv6uueqmynytqzelejpykr5d3tkqnd  79193.265760  ...   \n",
       "816  orai1nza67tu4pv6uueqmynytqzelejpykr5d3tkqnd  11139.928280  ...   \n",
       "817  orai1nza67tu4pv6uueqmynytqzelejpykr5d3tkqnd  14807.755120  ...   \n",
       "818  orai1nza67tu4pv6uueqmynytqzelejpykr5d3tkqnd  20896.120900  ...   \n",
       "819  orai1nza67tu4pv6uueqmynytqzelejpykr5d3tkqnd   8270.454010  ...   \n",
       "820  orai1nza67tu4pv6uueqmynytqzelejpykr5d3tkqnd  15927.854440  ...   \n",
       "821  orai1nza67tu4pv6uueqmynytqzelejpykr5d3tkqnd  13699.235160  ...   \n",
       "\n",
       "     stop_loss         pnl        fee  funding_payment        volume   \n",
       "787   0.000000   -0.000006   0.415696         0.933525   1037.995104  \\\n",
       "788  12.266853   75.216553   4.208824        30.496780  10509.434796   \n",
       "789   0.000000    6.460185   0.084812         1.819666    211.778637   \n",
       "790   0.000000   61.236745   0.820800         5.074771   2049.537600   \n",
       "791   0.000000   61.068657   1.179582         5.677570   2945.416665   \n",
       "792  12.339656    3.845671   3.119136        22.467627   7788.483288   \n",
       "793  12.415064 -128.881648   4.449230        31.853881  11109.727542   \n",
       "794  12.421717 -103.813474   3.633130        25.997134   9071.927076   \n",
       "795   0.000000    0.976809   0.002144         0.026317      5.353677   \n",
       "796   3.500777  154.173844   1.879338       -10.770222   4698.346386   \n",
       "797   0.000000    0.905559   0.886800         0.000000   2214.339600   \n",
       "798   3.600000    0.204972   0.000248         0.003384      0.621414   \n",
       "799  12.490102    3.440106   3.208164        25.925703   8010.789015   \n",
       "800  12.413596   10.784626   3.394850        27.603423   8476.942104   \n",
       "801  12.487221    1.719994   3.972504        38.725822   9919.346607   \n",
       "802  12.489733  -48.596130   3.325344        19.679240   8303.386020   \n",
       "803  12.429760  -55.711943   3.454534        20.542424   8625.972936   \n",
       "804  12.356766  -46.123258   3.147906        18.829631   7860.324276   \n",
       "805  12.359472 -103.590301   3.618588        14.780857   9035.614842   \n",
       "806  12.432630 -213.656534   3.717976        15.097466   9283.788027   \n",
       "807  12.344635 -173.347760   3.232558         8.601202   8071.700709   \n",
       "808  12.271304 -238.948535   4.424296        11.842542  11047.468515   \n",
       "809  12.277941 -241.934381   3.427306         5.805230   8557.986084   \n",
       "810  12.348567 -360.661618   3.679126         6.196125   9186.778509   \n",
       "811  12.423173 -481.162289   3.805746         6.370879   9502.948602   \n",
       "812  12.494385 -507.577643   3.317496         5.521887   8283.790665   \n",
       "813  12.427978 -496.785806   3.257818         5.451529   8134.773861   \n",
       "814  12.494834 -607.277289   3.429134         5.707500   8562.548439   \n",
       "815  20.929331  589.400305  31.951408         0.000000  79782.666060   \n",
       "816  20.298907 -478.812979   4.269568         0.000000  10661.115303   \n",
       "817  21.235817 -110.587334   5.885930         0.000000  14697.167781   \n",
       "818  11.658232  113.930674   8.322862         0.000000  20782.190223   \n",
       "819  11.771183  -26.682809   3.322842         0.000000   8297.136819   \n",
       "820  11.703232  -87.247894   6.413736         0.000000  16015.102335   \n",
       "821  11.630863   -0.000009   5.486276         0.000000  13699.235169   \n",
       "\n",
       "     close_price     clost_pct     close_pct  lose_amount  win_amount  \n",
       "787     5.141465 -4.081164e-07 -4.081164e-07    -0.000141    0.000000  \n",
       "788    17.649427  2.147122e-02  2.147122e-02     0.000000   75.216789  \n",
       "789     5.157259  9.151282e-02  9.151282e-02     0.000000    6.460153  \n",
       "790     5.150617  8.963478e-02  8.963478e-02     0.000000   61.236617  \n",
       "791     5.166615  6.220015e-02  6.220015e-02     0.000000   61.068457  \n",
       "792    17.636731  1.481313e-03  1.481313e-03     0.000000    3.845726  \n",
       "793    17.529982 -3.480222e-02 -3.480222e-02  -128.881064    0.000000  \n",
       "794    17.542184 -3.433006e-02 -3.433006e-02  -103.813258    0.000000  \n",
       "795     5.191412  5.473672e-01  5.473672e-01     0.000000    0.976809  \n",
       "796     5.165400  9.856230e-02  9.856230e-02     0.000000  154.359935  \n",
       "797     5.184708  1.226425e-03  1.226425e-03     0.000000    0.905241  \n",
       "798     5.191389  3.298479e-01  3.298479e-01     0.000000    0.204972  \n",
       "799    17.850612  1.288371e-03  1.288371e-03     0.000000    3.440288  \n",
       "800    17.756213  3.816824e-03  3.816824e-03     0.000000   10.785000  \n",
       "801    17.841913  5.203503e-04  5.203503e-04     0.000000    1.720512  \n",
       "802    17.737996 -1.755768e-02 -1.755768e-02   -48.596075    0.000000  \n",
       "803    17.642057 -1.937579e-02 -1.937579e-02   -55.711676    0.000000  \n",
       "804    17.548889 -1.760354e-02 -1.760354e-02   -46.123185    0.000000  \n",
       "805    17.453904 -3.439385e-02 -3.439385e-02  -103.589859    0.000000  \n",
       "806    17.352091 -6.904171e-02 -6.904171e-02  -213.656190    0.000000  \n",
       "807    17.256407 -6.442786e-02 -6.442786e-02  -173.347472    0.000000  \n",
       "808    17.151191 -6.488762e-02 -6.488762e-02  -238.947980    0.000000  \n",
       "809    17.044006 -8.480995e-02 -8.480995e-02  -241.934132    0.000000  \n",
       "810    16.948194 -1.177763e-01 -1.177763e-01  -360.661467    0.000000  \n",
       "811    16.848727 -1.518988e-01 -1.518988e-01  -481.162093    0.000000  \n",
       "812    16.755389 -1.838207e-01 -1.838207e-01  -507.577282    0.000000  \n",
       "813    16.669961 -1.832081e-01 -1.832081e-01  -496.785568    0.000000  \n",
       "814    16.583759 -2.127675e-01 -2.127675e-01  -607.277284    0.000000  \n",
       "815    15.981075  2.216260e-02  2.216260e-02     0.000000  589.397123  \n",
       "816    16.315898 -1.347363e-01 -1.347363e-01  -478.813155    0.000000  \n",
       "817    16.458255 -2.257328e-02 -2.257328e-02  -110.587738    0.000000  \n",
       "818    16.745783  1.644655e-02  1.644655e-02     0.000000  113.931779  \n",
       "819    16.761843 -9.647711e-03 -9.647711e-03   -26.682794    0.000000  \n",
       "820    16.627716 -1.634339e-02 -1.634339e-02   -87.247011    0.000000  \n",
       "821    16.615429  1.570719e-07  1.570719e-07     0.000000    0.000717  \n",
       "\n",
       "[35 rows x 25 columns]"
      ]
     },
     "execution_count": 53,
     "metadata": {},
     "output_type": "execute_result"
    }
   ],
   "source": [
    "filtered_time"
   ]
  },
  {
   "cell_type": "code",
   "execution_count": 49,
   "metadata": {},
   "outputs": [
    {
     "data": {
      "text/plain": [
       "0     2023-11-08 10:20:57\n",
       "1     2023-11-08 10:19:09\n",
       "2     2023-11-21 15:23:54\n",
       "3     2023-11-21 17:40:32\n",
       "4     2023-11-21 18:08:23\n",
       "              ...        \n",
       "817   2023-12-04 18:15:31\n",
       "818   2023-12-04 18:18:17\n",
       "819   2023-12-04 18:19:02\n",
       "820   2023-12-04 18:19:02\n",
       "821   2023-12-04 18:20:40\n",
       "Name: time, Length: 822, dtype: datetime64[ns]"
      ]
     },
     "execution_count": 49,
     "metadata": {},
     "output_type": "execute_result"
    }
   ],
   "source": [
    "df1.time"
   ]
  },
  {
   "cell_type": "code",
   "execution_count": 39,
   "metadata": {},
   "outputs": [
    {
     "name": "stdout",
     "output_type": "stream",
     "text": [
      "Index(['user_type', 'pair', 'hash', 'height', 'time', 'order_id', 'status',\n",
      "       'direction', 'bidder_addr', 'offer_amount', 'ask_amount', 'leverage',\n",
      "       'margin_amount', 'entry_price', 'take_profit', 'stop_loss', 'pnl',\n",
      "       'fee', 'funding_payment', 'volume', 'close_price', 'clost_pct',\n",
      "       'close_pct'],\n",
      "      dtype='object')\n"
     ]
    }
   ],
   "source": [
    "#add new colume to df\n",
    "df1=df1.dropna(axis=1)\n",
    "df1['volume'] = df1['leverage'] * df1['margin_amount']\n",
    "df1['close_price'] =df1['offer_amount']/df1['ask_amount']\n",
    "df1['close_pct'] = df1.apply(lambda x: (x['close_price'] / x['entry_price'] - 1)*x['leverage'] if x['direction'] == \"BUY\" else (1 - x['close_price'] / x['entry_price'])*x['leverage'], axis=1)\n",
    "df1['lose_amount'] =df1.apply(lambda x:(x['close_pct']*x['margin_amount']) if x['close_pct'] <0 else 0, axis = 1)\n",
    "df1['win_amount'] = df1.apply(lambda x: (x['close_pct']*x['margin_amount']) if x['close_pct'] >=0 else 0, axis = 1)\n"
   ]
  },
  {
   "cell_type": "code",
   "execution_count": 31,
   "metadata": {},
   "outputs": [
    {
     "name": "stdout",
     "output_type": "stream",
     "text": [
      "    user_type       pair                                               hash   \n",
      "735      USER  ORAI_USDC  130B795E1939A5C47F55EC225AEB876D62868F85ED2752...  \\\n",
      "757      USER  ORAI_USDC  ACE27955E29F9A1C088002FCDA89B231D744A02D0540A6...   \n",
      "543      USER  ORAI_USDC  988420BD7BC7B7C79ED7995E86C75CAB84C4A414065E5C...   \n",
      "558      USER  ORAI_USDC  630A3A8E1C6250B6E65F36F4BF9388BCD97152FC16B47C...   \n",
      "795      USER  ORAI_USDC  236DC646488D963760676C86F7B0FA8AE84745BDBB56DA...   \n",
      "..        ...        ...                                                ...   \n",
      "677      USER  ORAI_USDC  3B09D4664F6DB9A02779E25A2AE7AEE3C36A065069564C...   \n",
      "714      USER  ORAI_USDC  412DB9DB9CF34BCC70C4F0E74ED65425BD048010CE10A7...   \n",
      "712      USER  ORAI_USDC  CBEFFE12FA5FF834E2051C0CA7A429EC86BF61275F1856...   \n",
      "711      USER  ORAI_USDC  EF6E419D583E7EF16BA0BE911917A12711411B6B1C964F...   \n",
      "700      USER  ORAI_USDC  27B91AA4500F6A7DCC281ABFAB42CF95498AF558919E67...   \n",
      "\n",
      "       height                 time  order_id     status direction   \n",
      "735  14674916  2023-12-03 23:17:44       469      Close       BUY  \\\n",
      "757  14680071  2023-12-04 07:29:51       454      Close       BUY   \n",
      "543  14645400  2023-12-02 00:17:17       508      Close       BUY   \n",
      "558  14646418  2023-12-02 01:54:49       483      Close       BUY   \n",
      "795  14686209  2023-12-04 17:16:24       589      Close       BUY   \n",
      "..        ...                  ...       ...        ...       ...   \n",
      "677  14661645  2023-12-03 02:09:37       619      Close      SELL   \n",
      "714  14666551  2023-12-03 09:58:40       572      Close      SELL   \n",
      "712  14666527  2023-12-03 09:56:22       581      Close      SELL   \n",
      "711  14666539  2023-12-03 09:57:31       580      Close      SELL   \n",
      "700  14663176  2023-12-03 04:36:08       383  Liquidate      SELL   \n",
      "\n",
      "                                     bidder_addr  offer_amount  ...   \n",
      "735  orai1rvs4kypz8vygvfds0mzzssg36d9nevwv65qe5a     84.348525  ...  \\\n",
      "757  orai1ccn82upz3zpfem4xxervf9djfuwfy6wg5duwau    939.826202  ...   \n",
      "543  orai1wtzpkfhu9h4t7nde3l4wltvm7lxyp6hfp9f5vy   1035.620502  ...   \n",
      "558  orai16kn05tue27qkvxtzlv4d796mdhen63fyxf7mee  17901.309170  ...   \n",
      "795  orai1ax88yuwrmapcmrrfm3r7c8xugphjgpgsuptsux      6.330486  ...   \n",
      "..                                           ...           ...  ...   \n",
      "677  orai1xsx9ezzynw4thhgh7ghpffvc28e0d4wswedjuc    332.508219  ...   \n",
      "714  orai18vyspza5ndpg5wss0u7mqs7g50zekjrjvc2dys   1770.946589  ...   \n",
      "712  orai18vyspza5ndpg5wss0u7mqs7g50zekjrjvc2dys   1808.140201  ...   \n",
      "711  orai18vyspza5ndpg5wss0u7mqs7g50zekjrjvc2dys   1810.429782  ...   \n",
      "700  orai152ppjq0sr2zyk5ng0wqvm0lv22xfgpa4mw80ua      8.217904  ...   \n",
      "\n",
      "     margin_amount  entry_price  take_profit  stop_loss          pnl   \n",
      "735      21.433696     3.953744     4.085535   0.000000    20.047437  \\\n",
      "757     240.985641     4.046100     5.394800   3.371750   216.869279   \n",
      "543     276.086853     3.899222     7.798444   0.000000   207.359943   \n",
      "558    5026.284119     4.017220     8.034440   3.682451 -1472.510486   \n",
      "795       1.784559     4.390365     4.536710   0.000000     0.976809   \n",
      "..             ...          ...          ...        ...          ...   \n",
      "677      99.372557     4.732134     3.154756   0.000000   -34.390548   \n",
      "714     485.792865     4.462414     4.300000   5.578017  -313.567994   \n",
      "712     490.892863     4.395259     4.300000   0.000000  -335.461612   \n",
      "711     491.073251     4.403497     4.300000   0.000000  -337.210029   \n",
      "700       2.067815     4.107920     3.970989   0.000000    -2.021899   \n",
      "\n",
      "          fee  funding_payment        volume  close_price  clost_pct  \n",
      "735  0.025750         0.625130     64.301088     5.186421   0.935324  \n",
      "757  0.289530         3.823571    722.956923     5.259832   0.899927  \n",
      "543  0.331702         0.122139    828.260559     4.875416   0.751068  \n",
      "558  6.038786        55.897924  15078.852357     4.769163   0.561540  \n",
      "795  0.002144         0.026317      5.353677     5.191412   0.547367  \n",
      "..        ...              ...           ...          ...        ...  \n",
      "677  0.119390        -3.096505    298.117671     5.278028  -0.346077  \n",
      "714  0.583650       -46.224525   1457.378595     5.422543  -0.645477  \n",
      "712  0.589778       -47.423483   1472.678589     5.396456  -0.683371  \n",
      "711  0.589994       -47.352152   1473.219753     5.411429  -0.686680  \n",
      "700  0.002480        -0.069638      6.203445     5.448429  -0.978969  \n",
      "\n",
      "[822 rows x 22 columns]\n",
      "    user_type       pair                                               hash   \n",
      "735      USER  ORAI_USDC  130B795E1939A5C47F55EC225AEB876D62868F85ED2752...  \\\n",
      "\n",
      "       height                 time  order_id status direction   \n",
      "735  14674916  2023-12-03 23:17:44       469  Close       BUY  \\\n",
      "\n",
      "                                     bidder_addr  offer_amount  ...   \n",
      "735  orai1rvs4kypz8vygvfds0mzzssg36d9nevwv65qe5a     84.348525  ...  \\\n",
      "\n",
      "     margin_amount  entry_price  take_profit  stop_loss        pnl      fee   \n",
      "735      21.433696     3.953744     4.085535        0.0  20.047437  0.02575  \\\n",
      "\n",
      "     funding_payment     volume  close_price  clost_pct  \n",
      "735          0.62513  64.301088     5.186421   0.935324  \n",
      "\n",
      "[1 rows x 22 columns]\n"
     ]
    }
   ],
   "source": [
    "print(df1.sort_values(by='clost_pct',ascending=False))\n",
    "print(df1[df1['hash']=='130B795E1939A5C47F55EC225AEB876D62868F85ED2752E54F5FF432E0856725'])"
   ]
  },
  {
   "cell_type": "code",
   "execution_count": 6,
   "metadata": {},
   "outputs": [
    {
     "data": {
      "text/html": [
       "<div>\n",
       "<style scoped>\n",
       "    .dataframe tbody tr th:only-of-type {\n",
       "        vertical-align: middle;\n",
       "    }\n",
       "\n",
       "    .dataframe tbody tr th {\n",
       "        vertical-align: top;\n",
       "    }\n",
       "\n",
       "    .dataframe thead th {\n",
       "        text-align: right;\n",
       "    }\n",
       "</style>\n",
       "<table border=\"1\" class=\"dataframe\">\n",
       "  <thead>\n",
       "    <tr style=\"text-align: right;\">\n",
       "      <th></th>\n",
       "      <th>close_price</th>\n",
       "      <th>close_pct</th>\n",
       "      <th>lose_amount</th>\n",
       "      <th>win_amount</th>\n",
       "      <th>volume</th>\n",
       "      <th>user_type</th>\n",
       "      <th>pair</th>\n",
       "      <th>hash</th>\n",
       "      <th>height</th>\n",
       "      <th>time</th>\n",
       "      <th>...</th>\n",
       "      <th>offer_amount</th>\n",
       "      <th>ask_amount</th>\n",
       "      <th>leverage</th>\n",
       "      <th>margin_amount</th>\n",
       "      <th>entry_price</th>\n",
       "      <th>take_profit</th>\n",
       "      <th>stop_loss</th>\n",
       "      <th>pnl</th>\n",
       "      <th>fee</th>\n",
       "      <th>funding_payment</th>\n",
       "    </tr>\n",
       "  </thead>\n",
       "  <tbody>\n",
       "    <tr>\n",
       "      <th>0</th>\n",
       "      <td>3.910011222</td>\n",
       "      <td>-0.00007%</td>\n",
       "      <td>-$0.000001</td>\n",
       "      <td>$0.000000</td>\n",
       "      <td>$3.00</td>\n",
       "      <td>USER</td>\n",
       "      <td>ORAI_USDC</td>\n",
       "      <td>AA677938E124AE43C10D99B1B205D3717B11AAC2B6555B...</td>\n",
       "      <td>14291688.0</td>\n",
       "      <td>2023-11-08 10:20:57</td>\n",
       "      <td>...</td>\n",
       "      <td>2.996398</td>\n",
       "      <td>0.76634</td>\n",
       "      <td>1.499099</td>\n",
       "      <td>1.9988</td>\n",
       "      <td>3.910013</td>\n",
       "      <td>4.040346</td>\n",
       "      <td>0.0</td>\n",
       "      <td>-0.000002</td>\n",
       "      <td>0.0012</td>\n",
       "      <td>0.0</td>\n",
       "    </tr>\n",
       "  </tbody>\n",
       "</table>\n",
       "<p>1 rows × 24 columns</p>\n",
       "</div>"
      ],
      "text/plain": [
       "   close_price  close_pct lose_amount win_amount volume user_type       pair   \n",
       "0  3.910011222  -0.00007%  -$0.000001  $0.000000  $3.00      USER  ORAI_USDC  \\\n",
       "\n",
       "                                                hash      height   \n",
       "0  AA677938E124AE43C10D99B1B205D3717B11AAC2B6555B...  14291688.0  \\\n",
       "\n",
       "                  time  ...  offer_amount ask_amount  leverage margin_amount   \n",
       "0  2023-11-08 10:20:57  ...      2.996398    0.76634  1.499099        1.9988  \\\n",
       "\n",
       "   entry_price  take_profit  stop_loss       pnl     fee  funding_payment  \n",
       "0     3.910013     4.040346        0.0 -0.000002  0.0012              0.0  \n",
       "\n",
       "[1 rows x 24 columns]"
      ]
     },
     "execution_count": 6,
     "metadata": {},
     "output_type": "execute_result"
    }
   ],
   "source": [
    "df2.head(1)"
   ]
  },
  {
   "cell_type": "code",
   "execution_count": 41,
   "metadata": {},
   "outputs": [],
   "source": [
    "df = df1[['user_type','lose_amount','win_amount']]\n",
    "#remove NAN\n",
    "df = df.dropna()\n",
    "#remove dolar sign if have\n",
    "# df['lose_amount'] = df['lose_amount'].str.replace('$','')\n",
    "# df['win_amount'] = df['win_amount'].str.replace('$','')\n",
    "# #make type to numeric\n",
    "# df['lose_amount'] = pd.to_numeric(df['lose_amount'], errors='coerce')\n",
    "# df['win_amount'] = pd.to_numeric(df['win_amount'], errors='coerce')\n",
    "# df['lose_amount'] = df['lose_amount'].astype(float)\n",
    "# df['win_amount'] = df['win_amount'].astype(float)\n",
    "#group by user type\n",
    "df = df.groupby('user_type').sum()\n"
   ]
  },
  {
   "cell_type": "code",
   "execution_count": 43,
   "metadata": {},
   "outputs": [
    {
     "data": {
      "text/html": [
       "<div>\n",
       "<style scoped>\n",
       "    .dataframe tbody tr th:only-of-type {\n",
       "        vertical-align: middle;\n",
       "    }\n",
       "\n",
       "    .dataframe tbody tr th {\n",
       "        vertical-align: top;\n",
       "    }\n",
       "\n",
       "    .dataframe thead th {\n",
       "        text-align: right;\n",
       "    }\n",
       "</style>\n",
       "<table border=\"1\" class=\"dataframe\">\n",
       "  <thead>\n",
       "    <tr style=\"text-align: right;\">\n",
       "      <th></th>\n",
       "      <th>lose_amount</th>\n",
       "      <th>win_amount</th>\n",
       "    </tr>\n",
       "    <tr>\n",
       "      <th>user_type</th>\n",
       "      <th></th>\n",
       "      <th></th>\n",
       "    </tr>\n",
       "  </thead>\n",
       "  <tbody>\n",
       "    <tr>\n",
       "      <th>BOT</th>\n",
       "      <td>-17674.090548</td>\n",
       "      <td>34682.101329</td>\n",
       "    </tr>\n",
       "    <tr>\n",
       "      <th>USER</th>\n",
       "      <td>-4312.135463</td>\n",
       "      <td>10220.191347</td>\n",
       "    </tr>\n",
       "  </tbody>\n",
       "</table>\n",
       "</div>"
      ],
      "text/plain": [
       "            lose_amount    win_amount\n",
       "user_type                            \n",
       "BOT       -17674.090548  34682.101329\n",
       "USER       -4312.135463  10220.191347"
      ]
     },
     "execution_count": 43,
     "metadata": {},
     "output_type": "execute_result"
    }
   ],
   "source": [
    "df"
   ]
  },
  {
   "cell_type": "code",
   "execution_count": 11,
   "metadata": {},
   "outputs": [],
   "source": [
    "#get win amount of user and bot\n",
    "\n",
    "\n",
    "win_amount_user =  df.loc['USER']['win_amount']\n",
    "    # loss_amount_user = get_win_loss(closed)['lose_amount'][['user_type'== \"USER\"]]\n",
    "    # win_amount_bot = get_win_loss(closed)['win_amount'][['user_type'== \"BOT\"]]\n",
    "    # loss_amount_bot =  get_win_loss(closed)['lose_amount'][['user_type'== \"BOT\"]]"
   ]
  },
  {
   "cell_type": "code",
   "execution_count": 12,
   "metadata": {},
   "outputs": [
    {
     "data": {
      "text/plain": [
       "numpy.float64"
      ]
     },
     "execution_count": 12,
     "metadata": {},
     "output_type": "execute_result"
    }
   ],
   "source": [
    "type(win_amount_user)"
   ]
  },
  {
   "cell_type": "code",
   "execution_count": 17,
   "metadata": {},
   "outputs": [
    {
     "data": {
      "application/vnd.plotly.v1+json": {
       "config": {
        "plotlyServerURL": "https://plot.ly"
       },
       "data": [
        {
         "marker": {
          "color": "blue"
         },
         "name": "Win",
         "type": "bar",
         "x": [
          "BOT",
          "USER"
         ],
         "y": [
          34682.10130262902,
          10155.857835013156
         ]
        },
        {
         "marker": {
          "color": "red"
         },
         "name": "Loss",
         "type": "bar",
         "x": [
          "BOT",
          "USER"
         ],
         "y": [
          -17656.480053297964,
          -4312.135466809577
         ]
        }
       ],
       "layout": {
        "barmode": "group",
        "legend": {
         "title": {
          "text": "Category"
         }
        },
        "template": {
         "data": {
          "bar": [
           {
            "error_x": {
             "color": "#2a3f5f"
            },
            "error_y": {
             "color": "#2a3f5f"
            },
            "marker": {
             "line": {
              "color": "#E5ECF6",
              "width": 0.5
             },
             "pattern": {
              "fillmode": "overlay",
              "size": 10,
              "solidity": 0.2
             }
            },
            "type": "bar"
           }
          ],
          "barpolar": [
           {
            "marker": {
             "line": {
              "color": "#E5ECF6",
              "width": 0.5
             },
             "pattern": {
              "fillmode": "overlay",
              "size": 10,
              "solidity": 0.2
             }
            },
            "type": "barpolar"
           }
          ],
          "carpet": [
           {
            "aaxis": {
             "endlinecolor": "#2a3f5f",
             "gridcolor": "white",
             "linecolor": "white",
             "minorgridcolor": "white",
             "startlinecolor": "#2a3f5f"
            },
            "baxis": {
             "endlinecolor": "#2a3f5f",
             "gridcolor": "white",
             "linecolor": "white",
             "minorgridcolor": "white",
             "startlinecolor": "#2a3f5f"
            },
            "type": "carpet"
           }
          ],
          "choropleth": [
           {
            "colorbar": {
             "outlinewidth": 0,
             "ticks": ""
            },
            "type": "choropleth"
           }
          ],
          "contour": [
           {
            "colorbar": {
             "outlinewidth": 0,
             "ticks": ""
            },
            "colorscale": [
             [
              0,
              "#0d0887"
             ],
             [
              0.1111111111111111,
              "#46039f"
             ],
             [
              0.2222222222222222,
              "#7201a8"
             ],
             [
              0.3333333333333333,
              "#9c179e"
             ],
             [
              0.4444444444444444,
              "#bd3786"
             ],
             [
              0.5555555555555556,
              "#d8576b"
             ],
             [
              0.6666666666666666,
              "#ed7953"
             ],
             [
              0.7777777777777778,
              "#fb9f3a"
             ],
             [
              0.8888888888888888,
              "#fdca26"
             ],
             [
              1,
              "#f0f921"
             ]
            ],
            "type": "contour"
           }
          ],
          "contourcarpet": [
           {
            "colorbar": {
             "outlinewidth": 0,
             "ticks": ""
            },
            "type": "contourcarpet"
           }
          ],
          "heatmap": [
           {
            "colorbar": {
             "outlinewidth": 0,
             "ticks": ""
            },
            "colorscale": [
             [
              0,
              "#0d0887"
             ],
             [
              0.1111111111111111,
              "#46039f"
             ],
             [
              0.2222222222222222,
              "#7201a8"
             ],
             [
              0.3333333333333333,
              "#9c179e"
             ],
             [
              0.4444444444444444,
              "#bd3786"
             ],
             [
              0.5555555555555556,
              "#d8576b"
             ],
             [
              0.6666666666666666,
              "#ed7953"
             ],
             [
              0.7777777777777778,
              "#fb9f3a"
             ],
             [
              0.8888888888888888,
              "#fdca26"
             ],
             [
              1,
              "#f0f921"
             ]
            ],
            "type": "heatmap"
           }
          ],
          "heatmapgl": [
           {
            "colorbar": {
             "outlinewidth": 0,
             "ticks": ""
            },
            "colorscale": [
             [
              0,
              "#0d0887"
             ],
             [
              0.1111111111111111,
              "#46039f"
             ],
             [
              0.2222222222222222,
              "#7201a8"
             ],
             [
              0.3333333333333333,
              "#9c179e"
             ],
             [
              0.4444444444444444,
              "#bd3786"
             ],
             [
              0.5555555555555556,
              "#d8576b"
             ],
             [
              0.6666666666666666,
              "#ed7953"
             ],
             [
              0.7777777777777778,
              "#fb9f3a"
             ],
             [
              0.8888888888888888,
              "#fdca26"
             ],
             [
              1,
              "#f0f921"
             ]
            ],
            "type": "heatmapgl"
           }
          ],
          "histogram": [
           {
            "marker": {
             "pattern": {
              "fillmode": "overlay",
              "size": 10,
              "solidity": 0.2
             }
            },
            "type": "histogram"
           }
          ],
          "histogram2d": [
           {
            "colorbar": {
             "outlinewidth": 0,
             "ticks": ""
            },
            "colorscale": [
             [
              0,
              "#0d0887"
             ],
             [
              0.1111111111111111,
              "#46039f"
             ],
             [
              0.2222222222222222,
              "#7201a8"
             ],
             [
              0.3333333333333333,
              "#9c179e"
             ],
             [
              0.4444444444444444,
              "#bd3786"
             ],
             [
              0.5555555555555556,
              "#d8576b"
             ],
             [
              0.6666666666666666,
              "#ed7953"
             ],
             [
              0.7777777777777778,
              "#fb9f3a"
             ],
             [
              0.8888888888888888,
              "#fdca26"
             ],
             [
              1,
              "#f0f921"
             ]
            ],
            "type": "histogram2d"
           }
          ],
          "histogram2dcontour": [
           {
            "colorbar": {
             "outlinewidth": 0,
             "ticks": ""
            },
            "colorscale": [
             [
              0,
              "#0d0887"
             ],
             [
              0.1111111111111111,
              "#46039f"
             ],
             [
              0.2222222222222222,
              "#7201a8"
             ],
             [
              0.3333333333333333,
              "#9c179e"
             ],
             [
              0.4444444444444444,
              "#bd3786"
             ],
             [
              0.5555555555555556,
              "#d8576b"
             ],
             [
              0.6666666666666666,
              "#ed7953"
             ],
             [
              0.7777777777777778,
              "#fb9f3a"
             ],
             [
              0.8888888888888888,
              "#fdca26"
             ],
             [
              1,
              "#f0f921"
             ]
            ],
            "type": "histogram2dcontour"
           }
          ],
          "mesh3d": [
           {
            "colorbar": {
             "outlinewidth": 0,
             "ticks": ""
            },
            "type": "mesh3d"
           }
          ],
          "parcoords": [
           {
            "line": {
             "colorbar": {
              "outlinewidth": 0,
              "ticks": ""
             }
            },
            "type": "parcoords"
           }
          ],
          "pie": [
           {
            "automargin": true,
            "type": "pie"
           }
          ],
          "scatter": [
           {
            "fillpattern": {
             "fillmode": "overlay",
             "size": 10,
             "solidity": 0.2
            },
            "type": "scatter"
           }
          ],
          "scatter3d": [
           {
            "line": {
             "colorbar": {
              "outlinewidth": 0,
              "ticks": ""
             }
            },
            "marker": {
             "colorbar": {
              "outlinewidth": 0,
              "ticks": ""
             }
            },
            "type": "scatter3d"
           }
          ],
          "scattercarpet": [
           {
            "marker": {
             "colorbar": {
              "outlinewidth": 0,
              "ticks": ""
             }
            },
            "type": "scattercarpet"
           }
          ],
          "scattergeo": [
           {
            "marker": {
             "colorbar": {
              "outlinewidth": 0,
              "ticks": ""
             }
            },
            "type": "scattergeo"
           }
          ],
          "scattergl": [
           {
            "marker": {
             "colorbar": {
              "outlinewidth": 0,
              "ticks": ""
             }
            },
            "type": "scattergl"
           }
          ],
          "scattermapbox": [
           {
            "marker": {
             "colorbar": {
              "outlinewidth": 0,
              "ticks": ""
             }
            },
            "type": "scattermapbox"
           }
          ],
          "scatterpolar": [
           {
            "marker": {
             "colorbar": {
              "outlinewidth": 0,
              "ticks": ""
             }
            },
            "type": "scatterpolar"
           }
          ],
          "scatterpolargl": [
           {
            "marker": {
             "colorbar": {
              "outlinewidth": 0,
              "ticks": ""
             }
            },
            "type": "scatterpolargl"
           }
          ],
          "scatterternary": [
           {
            "marker": {
             "colorbar": {
              "outlinewidth": 0,
              "ticks": ""
             }
            },
            "type": "scatterternary"
           }
          ],
          "surface": [
           {
            "colorbar": {
             "outlinewidth": 0,
             "ticks": ""
            },
            "colorscale": [
             [
              0,
              "#0d0887"
             ],
             [
              0.1111111111111111,
              "#46039f"
             ],
             [
              0.2222222222222222,
              "#7201a8"
             ],
             [
              0.3333333333333333,
              "#9c179e"
             ],
             [
              0.4444444444444444,
              "#bd3786"
             ],
             [
              0.5555555555555556,
              "#d8576b"
             ],
             [
              0.6666666666666666,
              "#ed7953"
             ],
             [
              0.7777777777777778,
              "#fb9f3a"
             ],
             [
              0.8888888888888888,
              "#fdca26"
             ],
             [
              1,
              "#f0f921"
             ]
            ],
            "type": "surface"
           }
          ],
          "table": [
           {
            "cells": {
             "fill": {
              "color": "#EBF0F8"
             },
             "line": {
              "color": "white"
             }
            },
            "header": {
             "fill": {
              "color": "#C8D4E3"
             },
             "line": {
              "color": "white"
             }
            },
            "type": "table"
           }
          ]
         },
         "layout": {
          "annotationdefaults": {
           "arrowcolor": "#2a3f5f",
           "arrowhead": 0,
           "arrowwidth": 1
          },
          "autotypenumbers": "strict",
          "coloraxis": {
           "colorbar": {
            "outlinewidth": 0,
            "ticks": ""
           }
          },
          "colorscale": {
           "diverging": [
            [
             0,
             "#8e0152"
            ],
            [
             0.1,
             "#c51b7d"
            ],
            [
             0.2,
             "#de77ae"
            ],
            [
             0.3,
             "#f1b6da"
            ],
            [
             0.4,
             "#fde0ef"
            ],
            [
             0.5,
             "#f7f7f7"
            ],
            [
             0.6,
             "#e6f5d0"
            ],
            [
             0.7,
             "#b8e186"
            ],
            [
             0.8,
             "#7fbc41"
            ],
            [
             0.9,
             "#4d9221"
            ],
            [
             1,
             "#276419"
            ]
           ],
           "sequential": [
            [
             0,
             "#0d0887"
            ],
            [
             0.1111111111111111,
             "#46039f"
            ],
            [
             0.2222222222222222,
             "#7201a8"
            ],
            [
             0.3333333333333333,
             "#9c179e"
            ],
            [
             0.4444444444444444,
             "#bd3786"
            ],
            [
             0.5555555555555556,
             "#d8576b"
            ],
            [
             0.6666666666666666,
             "#ed7953"
            ],
            [
             0.7777777777777778,
             "#fb9f3a"
            ],
            [
             0.8888888888888888,
             "#fdca26"
            ],
            [
             1,
             "#f0f921"
            ]
           ],
           "sequentialminus": [
            [
             0,
             "#0d0887"
            ],
            [
             0.1111111111111111,
             "#46039f"
            ],
            [
             0.2222222222222222,
             "#7201a8"
            ],
            [
             0.3333333333333333,
             "#9c179e"
            ],
            [
             0.4444444444444444,
             "#bd3786"
            ],
            [
             0.5555555555555556,
             "#d8576b"
            ],
            [
             0.6666666666666666,
             "#ed7953"
            ],
            [
             0.7777777777777778,
             "#fb9f3a"
            ],
            [
             0.8888888888888888,
             "#fdca26"
            ],
            [
             1,
             "#f0f921"
            ]
           ]
          },
          "colorway": [
           "#636efa",
           "#EF553B",
           "#00cc96",
           "#ab63fa",
           "#FFA15A",
           "#19d3f3",
           "#FF6692",
           "#B6E880",
           "#FF97FF",
           "#FECB52"
          ],
          "font": {
           "color": "#2a3f5f"
          },
          "geo": {
           "bgcolor": "white",
           "lakecolor": "white",
           "landcolor": "#E5ECF6",
           "showlakes": true,
           "showland": true,
           "subunitcolor": "white"
          },
          "hoverlabel": {
           "align": "left"
          },
          "hovermode": "closest",
          "mapbox": {
           "style": "light"
          },
          "paper_bgcolor": "white",
          "plot_bgcolor": "#E5ECF6",
          "polar": {
           "angularaxis": {
            "gridcolor": "white",
            "linecolor": "white",
            "ticks": ""
           },
           "bgcolor": "#E5ECF6",
           "radialaxis": {
            "gridcolor": "white",
            "linecolor": "white",
            "ticks": ""
           }
          },
          "scene": {
           "xaxis": {
            "backgroundcolor": "#E5ECF6",
            "gridcolor": "white",
            "gridwidth": 2,
            "linecolor": "white",
            "showbackground": true,
            "ticks": "",
            "zerolinecolor": "white"
           },
           "yaxis": {
            "backgroundcolor": "#E5ECF6",
            "gridcolor": "white",
            "gridwidth": 2,
            "linecolor": "white",
            "showbackground": true,
            "ticks": "",
            "zerolinecolor": "white"
           },
           "zaxis": {
            "backgroundcolor": "#E5ECF6",
            "gridcolor": "white",
            "gridwidth": 2,
            "linecolor": "white",
            "showbackground": true,
            "ticks": "",
            "zerolinecolor": "white"
           }
          },
          "shapedefaults": {
           "line": {
            "color": "#2a3f5f"
           }
          },
          "ternary": {
           "aaxis": {
            "gridcolor": "white",
            "linecolor": "white",
            "ticks": ""
           },
           "baxis": {
            "gridcolor": "white",
            "linecolor": "white",
            "ticks": ""
           },
           "bgcolor": "#E5ECF6",
           "caxis": {
            "gridcolor": "white",
            "linecolor": "white",
            "ticks": ""
           }
          },
          "title": {
           "x": 0.05
          },
          "xaxis": {
           "automargin": true,
           "gridcolor": "white",
           "linecolor": "white",
           "ticks": "",
           "title": {
            "standoff": 15
           },
           "zerolinecolor": "white",
           "zerolinewidth": 2
          },
          "yaxis": {
           "automargin": true,
           "gridcolor": "white",
           "linecolor": "white",
           "ticks": "",
           "title": {
            "standoff": 15
           },
           "zerolinecolor": "white",
           "zerolinewidth": 2
          }
         }
        },
        "title": {
         "text": "Loss and Earn Amounts Over Timeframe"
        },
        "xaxis": {
         "title": {
          "text": "Timeframe"
         }
        },
        "yaxis": {
         "title": {
          "text": "Amount ($)"
         }
        }
       }
      }
     },
     "metadata": {},
     "output_type": "display_data"
    }
   ],
   "source": [
    "import plotly.graph_objects as go\n",
    "\n",
    "\n",
    "# Create figure and add traces\n",
    "fig = go.Figure()\n",
    "fig.add_trace(go.Bar(\n",
    "    x=df.index,\n",
    "    y=df['win_amount'],\n",
    "    name='Win',\n",
    "    marker=dict(color='blue')\n",
    "))\n",
    "fig.add_trace(go.Bar(\n",
    "    x=df.index,\n",
    "    y=df['lose_amount'],\n",
    "    name='Loss',\n",
    "    marker=dict(color='red')\n",
    "))\n",
    "# Update layout\n",
    "fig.update_layout(\n",
    "    barmode='group',  # To stack bars on top of each other\n",
    "    xaxis=dict(title='Timeframe'),\n",
    "    yaxis=dict(title='Amount ($)'),\n",
    "    title='Loss and Earn Amounts Over Timeframe',\n",
    "    legend=dict(title='Category')\n",
    ")\n",
    "\n",
    "# Show figure\n",
    "fig.show()\n"
   ]
  },
  {
   "cell_type": "markdown",
   "metadata": {},
   "source": [
    "### Apply json type\n"
   ]
  },
  {
   "cell_type": "code",
   "execution_count": 6,
   "metadata": {},
   "outputs": [
    {
     "name": "stdout",
     "output_type": "stream",
     "text": [
      "[{'user_type': 'USER', 'pair': 'ORAI_USDC', 'hash': 'AA677938E124AE43C10D99B1B205D3717B11AAC2B6555BBF4800EB622DC796B3', 'height': 14291688, 'time': '2023-11-08 10:20:57', 'order_id': 6, 'status': 'Close', 'direction': 'BUY', 'bidder_addr': 'orai12zyu8w93h0q2lcnt50g3fn0w3yqnhy4fvawaqz', 'offer_amount': 2.996398, 'ask_amount': 0.76634, 'leverage': 1.499099, 'margin_amount': 1.9988, 'entry_price': 3.910013, 'take_profit': 4.040346, 'stop_loss': 0, 'pnl': -2e-06, 'fee': 0.0012, 'funding_payment': 0, '': '', '__1': ''}, {'user_type': 'USER', 'pair': 'ORAI_USDC', 'hash': 'DBF51D9CC4C6DDC2AFE1C1BBE5157361919B5B7752216ED4DDD6D708F5179ED9', 'height': 14291669, 'time': '2023-11-08 10:19:09', 'order_id': 7, 'status': 'Close', 'direction': 'BUY', 'bidder_addr': 'orai12zyu8w93h0q2lcnt50g3fn0w3yqnhy4fvawaqz', 'offer_amount': 0.999598, 'ask_amount': 0.25565, 'leverage': 1, 'margin_amount': 0.9996, 'entry_price': 3.910033, 'take_profit': 5.865049, 'stop_loss': 0, 'pnl': -2e-06, 'fee': 0.0004, 'funding_payment': 0, '': '', '__1': ''}, {'user_type': 'USER', 'pair': 'ORAI_USDC', 'hash': '2A731A6B1894697825CA9581971F1C7E0DE16B4C394B7B0F3990765834224510', 'height': 14489467, 'time': '2023-11-21 15:23:54', 'order_id': 8, 'status': 'Close', 'direction': 'BUY', 'bidder_addr': 'orai12zyu8w93h0q2lcnt50g3fn0w3yqnhy4fvawaqz', 'offer_amount': 0.999596, 'ask_amount': 0.255651, 'leverage': 1, 'margin_amount': 0.9996, 'entry_price': 3.910017, 'take_profit': 4.301018, 'stop_loss': 0, 'pnl': -4e-06, 'fee': 0.0004, 'funding_payment': 0, '': '', '__1': ''}, {'user_type': 'USER', 'pair': 'ORAI_USDC', 'hash': '1C60DA76760E0E710018883674FD19B16C47FEFEB9A48AE72ACBC2742C3626A6', 'height': 14490898, 'time': '2023-11-21 17:40:32', 'order_id': 9, 'status': 'Close', 'direction': 'BUY', 'bidder_addr': 'orai12zyu8w93h0q2lcnt50g3fn0w3yqnhy4fvawaqz', 'offer_amount': 0.369924, 'ask_amount': 0.092481, 'leverage': 3, 'margin_amount': 0.123309, 'entry_price': 4.000032, 'take_profit': 4.4, 'stop_loss': 1.8, 'pnl': -3e-06, 'fee': 0.000148, 'funding_payment': 0, '': '', '__1': ''}, {'user_type': 'USER', 'pair': 'ORAI_USDC', 'hash': 'E3C9CF36751ADE616EEA14D629E9DE2D5FC9557147F9E3FB8A99DF4F93C612B3', 'height': 14491189, 'time': '2023-11-21 18:08:23', 'order_id': 12, 'status': 'Close', 'direction': 'BUY', 'bidder_addr': 'orai12zyu8w93h0q2lcnt50g3fn0w3yqnhy4fvawaqz', 'offer_amount': 0.999596, 'ask_amount': 0.249899, 'leverage': 1, 'margin_amount': 0.9996, 'entry_price': 4.000016, 'take_profit': 4.400017, 'stop_loss': 0, 'pnl': -4e-06, 'fee': 0.0004, 'funding_payment': 0, '': '', '__1': ''}, {'user_type': 'USER', 'pair': 'ORAI_USDC', 'hash': '6C2BB15105C9410DAC8C1B763123E3B3880268C80CB3101968A36FA7CD4AD13C', 'height': 14491222, 'time': '2023-11-21 18:11:31', 'order_id': 13, 'status': 'Close', 'direction': 'BUY', 'bidder_addr': 'orai12zyu8w93h0q2lcnt50g3fn0w3yqnhy4fvawaqz', 'offer_amount': 1.998398, 'ask_amount': 0.499599, 'leverage': 2, 'margin_amount': 0.9992, 'entry_price': 4.000008, 'take_profit': 4.200008, 'stop_loss': 0, 'pnl': -2e-06, 'fee': 0.0008, 'funding_payment': 0, '': '', '__1': ''}, {'user_type': 'USER', 'pair': 'ORAI_USDC', 'hash': '7818FAE8BFA63431D99B4638E1317276930EF5D8B0628AAFC5A0FA24BF3C2AAA', 'height': 14504419, 'time': '2023-11-22 15:11:40', 'order_id': 14, 'status': 'Close', 'direction': 'BUY', 'bidder_addr': 'orai12zyu8w93h0q2lcnt50g3fn0w3yqnhy4fvawaqz', 'offer_amount': 0.999198, 'ask_amount': 0.249899, 'leverage': 1, 'margin_amount': 0.9996, 'entry_price': 4.000016, 'take_profit': 4.400017, 'stop_loss': 0, 'pnl': -0.000402, 'fee': 0.0004, 'funding_payment': 0.000206, '': '', '__1': ''}, {'user_type': 'USER', 'pair': 'ORAI_USDC', 'hash': 'F87BEFB01C292234ECC182B24BF09BF7E4898E49C28CBD7325009437887E28BA', 'height': 14504194, 'time': '2023-11-22 14:50:09', 'order_id': 15, 'status': 'Close', 'direction': 'SELL', 'bidder_addr': 'orai1x9dvpscythaz0mw8zj5re6f3qdpk347epc272q', 'offer_amount': 300.732496, 'ask_amount': 75.1981, 'leverage': 3, 'margin_amount': 100.244165, 'entry_price': 3.999203, 'take_profit': 3.998502, 'stop_loss': 4.079186, 'pnl': -1e-06, 'fee': 0.120436, 'funding_payment': -0.030831, '': '', '__1': ''}, {'user_type': 'USER', 'pair': 'ORAI_USDC', 'hash': '5E528B7976638F1DED7F80B1D3B7835753CA079C29A168C90C808D5CBB411751', 'height': 14504294, 'time': '2023-11-22 14:59:43', 'order_id': 16, 'status': 'Close', 'direction': 'SELL', 'bidder_addr': 'orai1x9dvpscythaz0mw8zj5re6f3qdpk347epc272q', 'offer_amount': 300.103127, 'ask_amount': 75.040695, 'leverage': 3, 'margin_amount': 100.034375, 'entry_price': 3.999205, 'take_profit': 3.999087, 'stop_loss': 4.079188, 'pnl': -2e-06, 'fee': 0.120184, 'funding_payment': 0, '': '', '__1': ''}, {'user_type': 'USER', 'pair': 'ORAI_USDC', 'hash': '947E795D5AE35D45F88A27E3D4F673B5BB1045E34150C35BF6194F136D78EC51', 'height': 14504342, 'time': '2023-11-22 15:04:17', 'order_id': 17, 'status': 'Close', 'direction': 'SELL', 'bidder_addr': 'orai1x9dvpscythaz0mw8zj5re6f3qdpk347epc272q', 'offer_amount': 299.382882, 'ask_amount': 74.860562, 'leverage': 3, 'margin_amount': 99.794293, 'entry_price': 3.999206, 'take_profit': 3.99895, 'stop_loss': 4.079189, 'pnl': -3e-06, 'fee': 0.119896, 'funding_payment': 0, '': '', '__1': ''}, {'user_type': 'USER', 'pair': 'ORAI_USDC', 'hash': 'CC47E6221CB445FF07F4FEFA05E57C21316D275FA8671C41A9F24E0C41177F23', 'height': 14553311, 'time': '2023-11-25 21:00:39', 'order_id': 18, 'status': 'TP', 'direction': 'SELL', 'bidder_addr': 'orai1x9dvpscythaz0mw8zj5re6f3qdpk347epc272q', 'offer_amount': 289.730371, 'ask_amount': 74.68086, 'leverage': 3, 'margin_amount': 99.674394, 'entry_price': 3.999208, 'take_profit': 3.959215, 'stop_loss': 4.039199, 'pnl': 8.933987, 'fee': 0.119608, 'funding_payment': -4.825653, '': '', '__1': ''}, {'user_type': 'USER', 'pair': 'ORAI_USDC', 'hash': '27E565A3BCFE559DA6D53BB23FEE487224C8B3C7B79FB93922A816C48FF7F02D', 'height': 14536072, 'time': '2023-11-24 17:35:33', 'order_id': 23, 'status': 'Close', 'direction': 'SELL', 'bidder_addr': 'orai1vp3duqtcadsypgz3tdrtplmsx8zywdju5jf456', 'offer_amount': 598.102839, 'ask_amount': 149.644952, 'leverage': 3, 'margin_amount': 199.367612, 'entry_price': 3.996812, 'take_profit': 3.330676, 'stop_loss': 4.329879, 'pnl': -3e-06, 'fee': 0.239528, 'funding_payment': -0.137972, '': '', '__1': ''}, {'user_type': 'USER', 'pair': 'ORAI_USDC', 'hash': 'F9D301BD784E2ADF7A8BC6099DDE2186D06B207AF7279D7752E366ED64F97EFE', 'height': 14538067, 'time': '2023-11-24 20:46:05', 'order_id': 25, 'status': 'Close', 'direction': 'SELL', 'bidder_addr': 'orai1uesy4qnqathqlxalakh9r5slvjlvq6appzdhjr', 'offer_amount': 2996.400002, 'ask_amount': 750.898689, 'leverage': 3, 'margin_amount': 998.8, 'entry_price': 3.990418, 'take_profit': 2.660278, 'stop_loss': 0, 'pnl': -2e-06, 'fee': 1.2, 'funding_payment': 0, '': '', '__1': ''}, {'user_type': 'BOT', 'pair': 'ORAI_USDC', 'hash': 'D9A57CD68D9D6FB7977A42D6BCF5446B2769373C5176B79133B5CBB3CC84C8CC', 'height': 14553307, 'time': '2023-11-25 21:00:16', 'order_id': 26, 'status': 'Close', 'direction': 'SELL', 'bidder_addr': 'orai15vc7z4zyyam999zp6rwealm06lvuy9ykumwlpl', 'offer_amount': 26987.92131, 'ask_amount': 6873.35762, 'leverage': 3, 'margin_amount': 8995.973769, 'entry_price': 3.926453, 'take_profit': 3.860927, 'stop_loss': 5.104277, 'pnl': -1e-06, 'fee': 10.808138, 'funding_payment': 0, '': '', '__1': ''}, {'user_type': 'BOT', 'pair': 'ORAI_USDC', 'hash': '4D366482FBF5408EC9170951F81136D8FD23F6B016775C03A714097F5832F6CC', 'height': 14553687, 'time': '2023-11-25 21:36:26', 'order_id': 27, 'status': 'Close', 'direction': 'SELL', 'bidder_addr': 'orai15vc7z4zyyam999zp6rwealm06lvuy9ykumwlpl', 'offer_amount': 22595.96161, 'ask_amount': 5738.083261, 'leverage': 3, 'margin_amount': 7532.495357, 'entry_price': 3.938159, 'take_profit': 3.872451, 'stop_loss': 5.119511, 'pnl': 1.524464, 'fee': 9.049854, 'funding_payment': 0, '': '', '__1': ''}, {'user_type': 'USER', 'pair': 'ORAI_USDC', 'hash': '457EBD81A6A6D06861E9FD3327ABA3E6C656BEC50800D3EAF922D9B28C4C7AC6', 'height': 14553688, 'time': '2023-11-25 21:36:32', 'order_id': 28, 'status': 'SL', 'direction': 'SELL', 'bidder_addr': 'orai1x9dvpscythaz0mw8zj5re6f3qdpk347epc272q', 'offer_amount': 349.635017, 'ask_amount': 87.429133, 'leverage': 3, 'margin_amount': 113.194818, 'entry_price': 3.87945, 'take_profit': 3.840655, 'stop_loss': 3.918243, 'pnl': -10.458059, 'fee': 0.135832, 'funding_payment': 0, '': '', '__1': ''}, {'user_type': 'USER', 'pair': 'ORAI_USDC', 'hash': 'FD19888B8C18E352B74FB66316FB97B93CDDA0AB0A8FF7724282320FFA20C8BB', 'height': 14553691, 'time': '2023-11-25 21:36:49', 'order_id': 29, 'status': 'TP', 'direction': 'SELL', 'bidder_addr': 'orai1x9dvpscythaz0mw8zj5re6f3qdpk347epc272q', 'offer_amount': 299.337144, 'ask_amount': 76.772317, 'leverage': 3, 'margin_amount': 102.465095, 'entry_price': 3.999181, 'take_profit': 3.959188, 'stop_loss': 4.039172, 'pnl': 7.689267, 'fee': 0.122958, 'funding_payment': 0, '': '', '__1': ''}, {'user_type': 'BOT', 'pair': 'ORAI_USDC', 'hash': 'A9666C8DB7A4B76FDFAE2A0705A060A2D72A7EA292A4D5B6285D66EFC0488CF4', 'height': 14554177, 'time': '2023-11-25 22:23:08', 'order_id': 30, 'status': 'TP', 'direction': 'SELL', 'bidder_addr': 'orai15vc7z4zyyam999zp6rwealm06lvuy9ykumwlpl', 'offer_amount': 18527.02719, 'ask_amount': 4786.384919, 'leverage': 3, 'margin_amount': 6306.421819, 'entry_price': 3.947982, 'take_profit': 3.883722, 'stop_loss': 5.134412, 'pnl': 369.535148, 'fee': 7.567706, 'funding_payment': 0, '': '', '__1': ''}, {'user_type': 'USER', 'pair': 'ORAI_USDC', 'hash': '3607BF4C32D1D63A6E315B0A5040DDD96860306329AC1993DD6A64B9B57F7891', 'height': 14553869, 'time': '2023-11-25 21:53:46', 'order_id': 31, 'status': 'TP', 'direction': 'SELL', 'bidder_addr': 'orai1x9dvpscythaz0mw8zj5re6f3qdpk347epc272q', 'offer_amount': 324.677194, 'ask_amount': 84.466343, 'leverage': 3, 'margin_amount': 109.908446, 'entry_price': 3.898945, 'take_profit': 3.859955, 'stop_loss': 3.937933, 'pnl': 4.652474, 'fee': 0.13189, 'funding_payment': 0, '': '', '__1': ''}, {'user_type': 'BOT', 'pair': 'ORAI_USDC', 'hash': '43CE5AB88A66AC821F31A188479FDE99BF7671AFB6ABDC9D9DA720ED28696CAE', 'height': 14554212, 'time': '2023-11-25 22:26:28', 'order_id': 32, 'status': 'Close', 'direction': 'SELL', 'bidder_addr': 'orai15vc7z4zyyam999zp6rwealm06lvuy9ykumwlpl', 'offer_amount': 3758.618249, 'ask_amount': 981.246015, 'leverage': 3, 'margin_amount': 1271.706399, 'entry_price': 3.888035, 'take_profit': 3.823222, 'stop_loss': 5.054429, 'pnl': 56.500948, 'fee': 1.52788, 'funding_payment': -3.951477, '': '', '__1': ''}, {'user_type': 'BOT', 'pair': 'ORAI_USDC', 'hash': '43CE5AB88A66AC821F31A188479FDE99BF7671AFB6ABDC9D9DA720ED28696CAE', 'height': 14554212, 'time': '2023-11-25 22:26:28', 'order_id': 33, 'status': 'Close', 'direction': 'SELL', 'bidder_addr': 'orai15vc7z4zyyam999zp6rwealm06lvuy9ykumwlpl', 'offer_amount': 6675.62151, 'ask_amount': 1730.458666, 'leverage': 3, 'margin_amount': 2226.798839, 'entry_price': 3.860477, 'take_profit': 3.796115, 'stop_loss': 5.018592, 'pnl': 4.775007, 'fee': 2.675368, 'funding_payment': -6.968557, '': '', '__1': ''}, {'user_type': 'USER', 'pair': 'ORAI_USDC', 'hash': '3B99FFD18B2CFC2E7E8BFC3E783911DE1374B9B546BCDB8228A0483819128884', 'height': 14554180, 'time': '2023-11-25 22:23:26', 'order_id': 34, 'status': 'TP', 'direction': 'BUY', 'bidder_addr': 'orai1x9dvpscythaz0mw8zj5re6f3qdpk347epc272q', 'offer_amount': 348.994802, 'ask_amount': 89.057405, 'leverage': 3, 'margin_amount': 114.29714, 'entry_price': 3.845608, 'take_profit': 3.884066, 'stop_loss': 3.807154, 'pnl': 6.51485, 'fee': 0.137156, 'funding_payment': 0.358634, '': '', '__1': ''}, {'user_type': 'BOT', 'pair': 'ORAI_USDC', 'hash': '39484E255BA49B5D72C436D1232C95379818A9E303F05023212CA002868E34E7', 'height': 14554302, 'time': '2023-11-25 22:35:02', 'order_id': 35, 'status': 'Close', 'direction': 'SELL', 'bidder_addr': 'orai15vc7z4zyyam999zp6rwealm06lvuy9ykumwlpl', 'offer_amount': 4629.803047, 'ask_amount': 1199.846601, 'leverage': 3, 'margin_amount': 1533.59331, 'entry_price': 3.834473, 'take_profit': 3.77055, 'stop_loss': 4.984795, 'pnl': -29.023117, 'fee': 1.842522, 'funding_payment': -4.831782, '': '', '__1': ''}, {'user_type': 'BOT', 'pair': 'ORAI_USDC', 'hash': '2C511824FBD59E8B91359843347FB5711D5F6D9FF1E1EA00C55EE88628A1A859', 'height': 14554517, 'time': '2023-11-25 22:55:31', 'order_id': 36, 'status': 'Close', 'direction': 'SELL', 'bidder_addr': 'orai15vc7z4zyyam999zp6rwealm06lvuy9ykumwlpl', 'offer_amount': 18772.12741, 'ask_amount': 4788.745024, 'leverage': 3, 'margin_amount': 6175.796913, 'entry_price': 3.868944, 'take_profit': 3.806204, 'stop_loss': 5.03193, 'pnl': -244.736666, 'fee': 7.41986, 'funding_payment': 0, '': '', '__1': ''}, {'user_type': 'USER', 'pair': 'ORAI_USDC', 'hash': '384D8B00E539655FE33B055736B3B917950A1C50329A9E7D26E0CB23A27FB02C', 'height': 14554187, 'time': '2023-11-25 22:24:05', 'order_id': 37, 'status': 'Close', 'direction': 'SELL', 'bidder_addr': 'orai18vyspza5ndpg5wss0u7mqs7g50zekjrjvc2dys', 'offer_amount': 599.280004, 'ask_amount': 156.916676, 'leverage': 3, 'margin_amount': 199.76, 'entry_price': 3.819096, 'take_profit': 3.787497, 'stop_loss': 0, 'pnl': -4e-06, 'fee': 0.24, 'funding_payment': 0, '': '', '__1': ''}, {'user_type': 'BOT', 'pair': 'ORAI_USDC', 'hash': 'C1304E9E938B1E3E381370973EA623688800FBF2AAC876239C5134053D19A669', 'height': 14555240, 'time': '2023-11-26 00:04:31', 'order_id': 38, 'status': 'Close', 'direction': 'SELL', 'bidder_addr': 'orai15vc7z4zyyam999zp6rwealm06lvuy9ykumwlpl', 'offer_amount': 5127.093698, 'ask_amount': 1324.313159, 'leverage': 3, 'margin_amount': 1704.751328, 'entry_price': 3.861816, 'take_profit': 3.797436, 'stop_loss': 5.02034, 'pnl': -12.839714, 'fee': 2.048158, 'funding_payment': -4.741041, '': '', '__1': ''}, {'user_type': 'USER', 'pair': 'ORAI_USDC', 'hash': 'C33C6F79F28BE5DA4188A55B1DB82581DAA0E96F345D5E90F7EE1716CF4BE0E5', 'height': 14554518, 'time': '2023-11-25 22:55:36', 'order_id': 39, 'status': 'SL', 'direction': 'SELL', 'bidder_addr': 'orai1x9dvpscythaz0mw8zj5re6f3qdpk347epc272q', 'offer_amount': 371.655196, 'ask_amount': 93.59448, 'leverage': 3, 'margin_amount': 120.179044, 'entry_price': 3.847497, 'take_profit': 3.83555, 'stop_loss': 3.913036, 'pnl': -11.550706, 'fee': 0.144214, 'funding_payment': 0, '': '', '__1': ''}, {'user_type': 'USER', 'pair': 'ORAI_USDC', 'hash': '47A9BA67F9CD6B3F412FB2F8E477AD1C41D4A55CB1824FDC0E3737F5895D0DAD', 'height': 14554521, 'time': '2023-11-25 22:55:54', 'order_id': 40, 'status': 'TP', 'direction': 'SELL', 'bidder_addr': 'orai1x9dvpscythaz0mw8zj5re6f3qdpk347epc272q', 'offer_amount': 317.468046, 'ask_amount': 81.749411, 'leverage': 3, 'margin_amount': 108.33991, 'entry_price': 3.971034, 'take_profit': 3.931323, 'stop_loss': 4.010743, 'pnl': 7.161666, 'fee': 0.130006, 'funding_payment': 0, '': '', '__1': ''}, {'user_type': 'BOT', 'pair': 'ORAI_USDC', 'hash': 'C1304E9E938B1E3E381370973EA623688800FBF2AAC876239C5134053D19A669', 'height': 14555240, 'time': '2023-11-26 00:04:31', 'order_id': 41, 'status': 'Close', 'direction': 'SELL', 'bidder_addr': 'orai15vc7z4zyyam999zp6rwealm06lvuy9ykumwlpl', 'offer_amount': 16124.78576, 'ask_amount': 4105.754335, 'leverage': 3, 'margin_amount': 5374.88868, 'entry_price': 3.927333, 'take_profit': 3.861826, 'stop_loss': 5.105465, 'pnl': -0.119715, 'fee': 6.457614, 'funding_payment': -14.6986, '': '', '__1': ''}, {'user_type': 'USER', 'pair': 'ORAI_USDC', 'hash': '6877922555FAA9474B3E46B71B88692FCF8B4021FF3B2340CAE4A566A323EF62', 'height': 14554526, 'time': '2023-11-25 22:56:23', 'order_id': 42, 'status': 'Close', 'direction': 'SELL', 'bidder_addr': 'orai18vyspza5ndpg5wss0u7mqs7g50zekjrjvc2dys', 'offer_amount': 449.653158, 'ask_amount': 115.727583, 'leverage': 3, 'margin_amount': 149.82, 'entry_price': 3.883775, 'take_profit': 3.838345, 'stop_loss': 0, 'pnl': -0.193158, 'fee': 0.18, 'funding_payment': 0, '': '', '__1': ''}, {'user_type': 'USER', 'pair': 'ORAI_USDC', 'hash': 'E824A323D34211CB6AA67FF5C1C6321C9F6EF4FC7899D3E1521FFC6E549118A5', 'height': 14556016, 'time': '2023-11-26 01:18:26', 'order_id': 43, 'status': 'TP', 'direction': 'SELL', 'bidder_addr': 'orai1x9dvpscythaz0mw8zj5re6f3qdpk347epc272q', 'offer_amount': 340.309815, 'ask_amount': 88.866386, 'leverage': 3, 'margin_amount': 115.241564, 'entry_price': 3.885719, 'take_profit': 3.846861, 'stop_loss': 3.924575, 'pnl': 5.000013, 'fee': 0.138288, 'funding_payment': -0.245271, '': '', '__1': ''}, {'user_type': 'USER', 'pair': 'ORAI_USDC', 'hash': '2B3FA2073E72EFBBA9959FFD38F5B76A23CE9B42530F3724B99057103C72C71C', 'height': 14554847, 'time': '2023-11-25 23:27:02', 'order_id': 44, 'status': 'Close', 'direction': 'BUY', 'bidder_addr': 'orai18vyspza5ndpg5wss0u7mqs7g50zekjrjvc2dys', 'offer_amount': 2.994355, 'ask_amount': 0.771309, 'leverage': 3, 'margin_amount': 0.9988, 'entry_price': 3.884824, 'take_profit': 3.949569, 'stop_loss': 2.719375, 'pnl': -0.002045, 'fee': 0.0012, 'funding_payment': 0, '': '', '__1': ''}, {'user_type': 'USER', 'pair': 'ORAI_USDC', 'hash': 'A19818CC2F0BB363E7475B6981344B73B67921BD8DAC44C92201BAD32EF43042', 'height': 14554849, 'time': '2023-11-25 23:27:13', 'order_id': 45, 'status': 'Close', 'direction': 'BUY', 'bidder_addr': 'orai18vyspza5ndpg5wss0u7mqs7g50zekjrjvc2dys', 'offer_amount': 2.994332, 'ask_amount': 0.771306, 'leverage': 3, 'margin_amount': 0.9988, 'entry_price': 3.884839, 'take_profit': 3.949584, 'stop_loss': 2.719385, 'pnl': -0.002068, 'fee': 0.0012, 'funding_payment': 0, '': '', '__1': ''}, {'user_type': 'USER', 'pair': 'ORAI_USDC', 'hash': '4177E7928CF369AD91141340E7EA7BEBF47CC3E82DC7BD4E4F1F51E30F575128', 'height': 14554852, 'time': '2023-11-25 23:27:30', 'order_id': 46, 'status': 'Close', 'direction': 'BUY', 'bidder_addr': 'orai18vyspza5ndpg5wss0u7mqs7g50zekjrjvc2dys', 'offer_amount': 2.994308, 'ask_amount': 0.771303, 'leverage': 3, 'margin_amount': 0.9988, 'entry_price': 3.884854, 'take_profit': 4.014349, 'stop_loss': 0, 'pnl': -0.002092, 'fee': 0.0012, 'funding_payment': 0, '': '', '__1': ''}, {'user_type': 'USER', 'pair': 'ORAI_USDC', 'hash': '7E5B4918A84AE4C66739545EDFBD1555644309682F582ED4F6A1BEBE49E5B468', 'height': 14555304, 'time': '2023-11-26 00:10:39', 'order_id': 47, 'status': 'Close', 'direction': 'SELL', 'bidder_addr': 'orai18vyspza5ndpg5wss0u7mqs7g50zekjrjvc2dys', 'offer_amount': 507.517254, 'ask_amount': 131.166558, 'leverage': 3, 'margin_amount': 169.796, 'entry_price': 3.88352, 'take_profit': 3.755287, 'stop_loss': 0, 'pnl': 1.870746, 'fee': 0.204, 'funding_payment': 0.007738, '': '', '__1': ''}, {'user_type': 'BOT', 'pair': 'ORAI_USDC', 'hash': 'D0E2292955204439504664F510796A9AE6C40576F63CBECBC1D9FC729ED40EC6', 'height': 14556711, 'time': '2023-11-26 02:24:48', 'order_id': 48, 'status': 'TP', 'direction': 'SELL', 'bidder_addr': 'orai15vc7z4zyyam999zp6rwealm06lvuy9ykumwlpl', 'offer_amount': 4483.68248, 'ask_amount': 1184.624779, 'leverage': 3, 'margin_amount': 1530.037869, 'entry_price': 3.87009, 'take_profit': 3.805574, 'stop_loss': 5.031098, 'pnl': 100.922995, 'fee': 1.836044, 'funding_payment': 3.831076, '': '', '__1': ''}, {'user_type': 'BOT', 'pair': 'ORAI_USDC', 'hash': 'E6BE9B9A53B95985C87F010EEFC5E415E20E813D7655E697C20908FEFD94F666', 'height': 14556394, 'time': '2023-11-26 01:54:27', 'order_id': 49, 'status': 'TP', 'direction': 'SELL', 'bidder_addr': 'orai15vc7z4zyyam999zp6rwealm06lvuy9ykumwlpl', 'offer_amount': 19045.18614, 'ask_amount': 4943.91097, 'leverage': 3, 'margin_amount': 6465.71072, 'entry_price': 3.91873, 'take_profit': 3.853356, 'stop_loss': 5.094268, 'pnl': 328.669469, 'fee': 7.758852, 'funding_payment': 4.054006, '': '', '__1': ''}, {'user_type': 'USER', 'pair': 'ORAI_USDC', 'hash': '0CD9D30B6D0607BBFC1799D514CCC5BBA6EBAF5F448FB853DAC6E6E735114E06', 'height': 14560328, 'time': '2023-11-26 08:10:15', 'order_id': 50, 'status': 'TP', 'direction': 'BUY', 'bidder_addr': 'orai18vyspza5ndpg5wss0u7mqs7g50zekjrjvc2dys', 'offer_amount': 458.205332, 'ask_amount': 116.086491, 'leverage': 3, 'margin_amount': 150, 'entry_price': 3.871768, 'take_profit': 3.936298, 'stop_loss': 2.710238, 'pnl': 8.745332, 'fee': 0.18, 'funding_payment': -3.013257, '': '', '__1': ''}, {'user_type': 'BOT', 'pair': 'ORAI_USDC', 'hash': '075708DD7726D9F9EAB1EA764DFD163A515FD78F74124A43133EF53C199385B5', 'height': 14556720, 'time': '2023-11-26 02:25:40', 'order_id': 51, 'status': 'TP', 'direction': 'SELL', 'bidder_addr': 'orai15vc7z4zyyam999zp6rwealm06lvuy9ykumwlpl', 'offer_amount': 4182.717741, 'ask_amount': 1105.337475, 'leverage': 3, 'margin_amount': 1424.554083, 'entry_price': 3.861747, 'take_profit': 3.79737, 'stop_loss': 5.020252, 'pnl': 85.816116, 'fee': 1.709464, 'funding_payment': 3.509446, '': '', '__1': ''}, {'user_type': 'BOT', 'pair': 'ORAI_USDC', 'hash': 'FB8200F4E94F8DF5F77E10767E922DDC1E1926AE3BF321C256EB03393899426D', 'height': 14557228, 'time': '2023-11-26 03:14:09', 'order_id': 52, 'status': 'Close', 'direction': 'SELL', 'bidder_addr': 'orai15vc7z4zyyam999zp6rwealm06lvuy9ykumwlpl', 'offer_amount': 4152.193304, 'ask_amount': 1097.156583, 'leverage': 3, 'margin_amount': 1404.198507, 'entry_price': 3.839557, 'take_profit': 3.775551, 'stop_loss': 4.991407, 'pnl': 60.402217, 'fee': 1.687062, 'funding_payment': 7.248913, '': '', '__1': ''}, {'user_type': 'USER', 'pair': 'ORAI_USDC', 'hash': '512C38090569083313068F685B633A6ED3C83D9AFEC7F444FD54C177F405D57E', 'height': 14556395, 'time': '2023-11-26 01:54:32', 'order_id': 53, 'status': 'SL', 'direction': 'SELL', 'bidder_addr': 'orai1x9dvpscythaz0mw8zj5re6f3qdpk347epc272q', 'offer_amount': 367.156609, 'ask_amount': 94.061154, 'leverage': 3, 'margin_amount': 120.210272, 'entry_price': 3.829402, 'take_profit': 3.791107, 'stop_loss': 3.867695, 'pnl': -6.958549, 'fee': 0.144252, 'funding_payment': 0, '': '', '__1': ''}, {'user_type': 'BOT', 'pair': 'ORAI_USDC', 'hash': 'FB8200F4E94F8DF5F77E10767E922DDC1E1926AE3BF321C256EB03393899426D', 'height': 14557228, 'time': '2023-11-26 03:14:09', 'order_id': 54, 'status': 'Close', 'direction': 'SELL', 'bidder_addr': 'orai15vc7z4zyyam999zp6rwealm06lvuy9ykumwlpl', 'offer_amount': 4930.134277, 'ask_amount': 1294.645653, 'leverage': 3, 'margin_amount': 1646.606275, 'entry_price': 3.815575, 'take_profit': 3.751967, 'stop_loss': 4.960228, 'pnl': 9.684548, 'fee': 1.9783, 'funding_payment': 8.553723, '': '', '__1': ''}, {'user_type': 'BOT', 'pair': 'ORAI_USDC', 'hash': '9F689E1129034F4273D8C522FA41F99899727752C5316A356D4025E72B84D21A', 'height': 14557943, 'time': '2023-11-26 04:22:26', 'order_id': 55, 'status': 'TP', 'direction': 'SELL', 'bidder_addr': 'orai15vc7z4zyyam999zp6rwealm06lvuy9ykumwlpl', 'offer_amount': 17746.45478, 'ask_amount': 4698.842774, 'leverage': 3, 'margin_amount': 6047.786194, 'entry_price': 3.856606, 'take_profit': 3.792272, 'stop_loss': 5.013512, 'pnl': 375.131772, 'fee': 7.257342, 'funding_payment': 55.164414, '': '', '__1': ''}, {'user_type': 'BOT', 'pair': 'ORAI_USDC', 'hash': '699CBC2B83FBF0F1EEEBE03C4CCCC3CD7BF87F480BC40BB6E1E25C1D6397B399', 'height': 14558037, 'time': '2023-11-26 04:31:21', 'order_id': 57, 'status': 'Close', 'direction': 'SELL', 'bidder_addr': 'orai15vc7z4zyyam999zp6rwealm06lvuy9ykumwlpl', 'offer_amount': 6548.888645, 'ask_amount': 1748.127048, 'leverage': 3, 'margin_amount': 2208.726946, 'entry_price': 3.790445, 'take_profit': 3.727251, 'stop_loss': 4.927552, 'pnl': 77.292193, 'fee': 2.653656, 'funding_payment': 16.406172, '': '', '__1': ''}, {'user_type': 'BOT', 'pair': 'ORAI_USDC', 'hash': '908300C2C1EC6B386B06D2EECE3A2E8E46E1D63200B60A12B81749E6C00CB14F', 'height': 14558091, 'time': '2023-11-26 04:36:30', 'order_id': 58, 'status': 'Close', 'direction': 'SELL', 'bidder_addr': 'orai15vc7z4zyyam999zp6rwealm06lvuy9ykumwlpl', 'offer_amount': 4445.189863, 'ask_amount': 1185.034898, 'leverage': 3, 'margin_amount': 1495.076657, 'entry_price': 3.784892, 'take_profit': 3.721796, 'stop_loss': 4.920341, 'pnl': 40.040108, 'fee': 1.796246, 'funding_payment': 11.121552, '': '', '__1': ''}, {'user_type': 'BOT', 'pair': 'ORAI_USDC', 'hash': '908300C2C1EC6B386B06D2EECE3A2E8E46E1D63200B60A12B81749E6C00CB14F', 'height': 14558091, 'time': '2023-11-26 04:36:30', 'order_id': 59, 'status': 'Close', 'direction': 'SELL', 'bidder_addr': 'orai15vc7z4zyyam999zp6rwealm06lvuy9ykumwlpl', 'offer_amount': 4079.305031, 'ask_amount': 1081.139946, 'leverage': 3, 'margin_amount': 1363.802687, 'entry_price': 3.784346, 'take_profit': 3.72126, 'stop_loss': 4.919632, 'pnl': 12.10303, 'fee': 1.638528, 'funding_payment': 10.146498, '': '', '__1': ''}, {'user_type': 'BOT', 'pair': 'ORAI_USDC', 'hash': 'F8A79A0C84B39219FD6BC21F55D7673742047BD1316455ED89E1BF94B36430E7', 'height': 14557946, 'time': '2023-11-26 04:22:43', 'order_id': 60, 'status': 'TP', 'direction': 'SELL', 'bidder_addr': 'orai15vc7z4zyyam999zp6rwealm06lvuy9ykumwlpl', 'offer_amount': 4227.125679, 'ask_amount': 1129.627094, 'leverage': 3, 'margin_amount': 1436.247674, 'entry_price': 3.809728, 'take_profit': 3.746219, 'stop_loss': 4.952629, 'pnl': 76.446855, 'fee': 1.723496, 'funding_payment': 5.798375, '': '', '__1': ''}, {'user_type': 'BOT', 'pair': 'ORAI_USDC', 'hash': '1AD7DBBA03ACD36974CC3264291369B1123345D53466021B34200B5EF83E292E', 'height': 14558154, 'time': '2023-11-26 04:42:31', 'order_id': 61, 'status': 'Close', 'direction': 'SELL', 'bidder_addr': 'orai15vc7z4zyyam999zp6rwealm06lvuy9ykumwlpl', 'offer_amount': 4697.570427, 'ask_amount': 1252.91652, 'leverage': 3, 'margin_amount': 1581.271497, 'entry_price': 3.786217, 'take_profit': 3.723098, 'stop_loss': 4.922062, 'pnl': 46.244064, 'fee': 1.899804, 'funding_payment': 6.43122, '': '', '__1': ''}, {'user_type': 'BOT', 'pair': 'ORAI_USDC', 'hash': '8A012E875C2C492F5512634633F4EE093807273B49A3EDC859A24B8E9C586330', 'height': 14558207, 'time': '2023-11-26 04:47:36', 'order_id': 62, 'status': 'Close', 'direction': 'SELL', 'bidder_addr': 'orai15vc7z4zyyam999zp6rwealm06lvuy9ykumwlpl', 'offer_amount': 4595.659213, 'ask_amount': 1217.928724, 'leverage': 3, 'margin_amount': 1527.307739, 'entry_price': 3.762061, 'take_profit': 3.699346, 'stop_loss': 4.890661, 'pnl': -13.735996, 'fee': 1.83497, 'funding_payment': 6.251628, '': '', '__1': ''}, {'user_type': 'BOT', 'pair': 'ORAI_USDC', 'hash': '58C9EBCAB69ECF642AB51DC5D8E834D468664A1758D9926BE085E4071B7A7DAC', 'height': 14558614, 'time': '2023-11-26 05:26:28', 'order_id': 63, 'status': 'Close', 'direction': 'SELL', 'bidder_addr': 'orai15vc7z4zyyam999zp6rwealm06lvuy9ykumwlpl', 'offer_amount': 3769.972414, 'ask_amount': 993.3943, 'leverage': 3, 'margin_amount': 1238.642245, 'entry_price': 3.740636, 'take_profit': 3.67828, 'stop_loss': 4.862811, 'pnl': -54.045679, 'fee': 1.488156, 'funding_payment': 5.542146, '': '', '__1': ''}, {'user_type': 'BOT', 'pair': 'ORAI_USDC', 'hash': '58C9EBCAB69ECF642AB51DC5D8E834D468664A1758D9926BE085E4071B7A7DAC', 'height': 14558614, 'time': '2023-11-26 05:26:28', 'order_id': 64, 'status': 'Close', 'direction': 'SELL', 'bidder_addr': 'orai15vc7z4zyyam999zp6rwealm06lvuy9ykumwlpl', 'offer_amount': 18079.05075, 'ask_amount': 4693.582106, 'leverage': 3, 'margin_amount': 5908.942205, 'entry_price': 3.776822, 'take_profit': 3.71382, 'stop_loss': 4.909797, 'pnl': -352.224131, 'fee': 7.099248, 'funding_payment': 26.185494, '': '', '__1': ''}, {'user_type': 'BOT', 'pair': 'ORAI_USDC', 'hash': 'A9A9162CE866307D3265A99D9ED3D0D4A48B6A49C7EEE4C190196480FA2D16DA', 'height': 14558842, 'time': '2023-11-26 05:48:12', 'order_id': 65, 'status': 'Close', 'direction': 'SELL', 'bidder_addr': 'orai15vc7z4zyyam999zp6rwealm06lvuy9ykumwlpl', 'offer_amount': 4650.044102, 'ask_amount': 1218.5063, 'leverage': 3, 'margin_amount': 1520.254465, 'entry_price': 3.742913, 'take_profit': 3.680517, 'stop_loss': 4.865768, 'pnl': -89.280707, 'fee': 1.826496, 'funding_payment': 6.798046, '': '', '__1': ''}, {'user_type': 'USER', 'pair': 'ORAI_USDC', 'hash': '658D769468EAD50AF1D763370B413C76F1DB6D86807019BEABB99A5C5F0E920A', 'height': 14558616, 'time': '2023-11-26 05:26:39', 'order_id': 66, 'status': 'SL', 'direction': 'SELL', 'bidder_addr': 'orai1x9dvpscythaz0mw8zj5re6f3qdpk347epc272q', 'offer_amount': 365.044954, 'ask_amount': 93.590986, 'leverage': 3, 'margin_amount': 116.512963, 'entry_price': 3.730267, 'take_profit': 3.716255, 'stop_loss': 3.791331, 'pnl': -15.925507, 'fee': 0.139814, 'funding_payment': 0.522144, '': '', '__1': ''}, {'user_type': 'BOT', 'pair': 'ORAI_USDC', 'hash': '7504911A91C74702C66AA4F90E5502E2E9E0A453CD8B656960BDFF4FA9208E9C', 'height': 14559032, 'time': '2023-11-26 06:06:21', 'order_id': 67, 'status': 'Close', 'direction': 'SELL', 'bidder_addr': 'orai15vc7z4zyyam999zp6rwealm06lvuy9ykumwlpl', 'offer_amount': 4663.377527, 'ask_amount': 1214.269183, 'leverage': 3, 'margin_amount': 1518.398379, 'entry_price': 3.751388, 'take_profit': 3.688851, 'stop_loss': 4.876786, 'pnl': -108.18239, 'fee': 1.824266, 'funding_payment': 11.258703, '': '', '__1': ''}, {'user_type': 'BOT', 'pair': 'ORAI_USDC', 'hash': '1434CF742A026829420886739FDC52FBD7F0C8EE0369A2135B68EE5D7B2DC3CE', 'height': 14560192, 'time': '2023-11-26 07:57:13', 'order_id': 68, 'status': 'Close', 'direction': 'SELL', 'bidder_addr': 'orai15vc7z4zyyam999zp6rwealm06lvuy9ykumwlpl', 'offer_amount': 3970.815175, 'ask_amount': 1034.354809, 'leverage': 3, 'margin_amount': 1301.083303, 'entry_price': 3.773608, 'take_profit': 3.710702, 'stop_loss': 4.905674, 'pnl': -67.565266, 'fee': 1.563174, 'funding_payment': 11.307566, '': '', '__1': ''}, {'user_type': 'BOT', 'pair': 'ORAI_USDC', 'hash': '1434CF742A026829420886739FDC52FBD7F0C8EE0369A2135B68EE5D7B2DC3CE', 'height': 14560192, 'time': '2023-11-26 07:57:13', 'order_id': 69, 'status': 'Close', 'direction': 'SELL', 'bidder_addr': 'orai15vc7z4zyyam999zp6rwealm06lvuy9ykumwlpl', 'offer_amount': 5248.18887, 'ask_amount': 1358.562354, 'leverage': 3, 'margin_amount': 1698.353723, 'entry_price': 3.750332, 'take_profit': 3.687811, 'stop_loss': 4.875412, 'pnl': -153.127701, 'fee': 2.040472, 'funding_payment': 14.851803, '': '', '__1': ''}, {'user_type': 'USER', 'pair': 'ORAI_USDC', 'hash': '5BAE077F3EE3E26A704F2CCDBC21A9D2E7C300A315D8D9978EA8D4D0B2B76828', 'height': 14558618, 'time': '2023-11-26 05:26:50', 'order_id': 70, 'status': 'TP', 'direction': 'SELL', 'bidder_addr': 'orai1x9dvpscythaz0mw8zj5re6f3qdpk347epc272q', 'offer_amount': 291.669364, 'ask_amount': 76.654268, 'leverage': 3, 'margin_amount': 99.785684, 'entry_price': 3.900602, 'take_profit': 3.861595, 'stop_loss': 3.939607, 'pnl': 7.328462, 'fee': 0.119742, 'funding_payment': 0, '': '', '__1': ''}, {'user_type': 'BOT', 'pair': 'ORAI_USDC', 'hash': '825ECF3D94D4AE2E2AEE52C1E9F4E70AD9F2356DF19A325A1B0915D67EC01652', 'height': 14560327, 'time': '2023-11-26 08:10:08', 'order_id': 71, 'status': 'Close', 'direction': 'SELL', 'bidder_addr': 'orai15vc7z4zyyam999zp6rwealm06lvuy9ykumwlpl', 'offer_amount': 18487.39505, 'ask_amount': 4741.164027, 'leverage': 3, 'margin_amount': 6087.229621, 'entry_price': 3.851731, 'take_profit': 3.789017, 'stop_loss': 5.009209, 'pnl': -225.70619, 'fee': 7.31345, 'funding_payment': 37.06642, '': '', '__1': ''}, {'user_type': 'USER', 'pair': 'ORAI_USDC', 'hash': '2371FC4E63999CC6A2AAAF7441B8908653947815C4B3C697A17D5C9F154A9902', 'height': 14560193, 'time': '2023-11-26 07:57:19', 'order_id': 72, 'status': 'SL', 'direction': 'SELL', 'bidder_addr': 'orai1x9dvpscythaz0mw8zj5re6f3qdpk347epc272q', 'offer_amount': 326.362775, 'ask_amount': 84.164425, 'leverage': 3, 'margin_amount': 106.874662, 'entry_price': 3.804924, 'take_profit': 3.766873, 'stop_loss': 3.842971, 'pnl': -6.123533, 'fee': 0.128248, 'funding_payment': 0.450532, '': '', '__1': ''}, {'user_type': 'BOT', 'pair': 'ORAI_USDC', 'hash': 'F7A0765AFBFA522DF774F979656852B19472234BD1125B96DB23A9F53A006A78', 'height': 14560342, 'time': '2023-11-26 08:11:34', 'order_id': 73, 'status': 'Close', 'direction': 'SELL', 'bidder_addr': 'orai15vc7z4zyyam999zp6rwealm06lvuy9ykumwlpl', 'offer_amount': 4657.543729, 'ask_amount': 1201.500258, 'leverage': 3, 'margin_amount': 1538.164143, 'entry_price': 3.840608, 'take_profit': 3.776584, 'stop_loss': 4.992772, 'pnl': -43.0513, 'fee': 1.848014, 'funding_payment': 2.961698, '': '', '__1': ''}, {'user_type': 'BOT', 'pair': 'ORAI_USDC', 'hash': 'F7A0765AFBFA522DF774F979656852B19472234BD1125B96DB23A9F53A006A78', 'height': 14560342, 'time': '2023-11-26 08:11:34', 'order_id': 74, 'status': 'Close', 'direction': 'SELL', 'bidder_addr': 'orai15vc7z4zyyam999zp6rwealm06lvuy9ykumwlpl', 'offer_amount': 5006.601885, 'ask_amount': 1283.135407, 'leverage': 3, 'margin_amount': 1653.325764, 'entry_price': 3.865513, 'take_profit': 3.801072, 'stop_loss': 5.025146, 'pnl': -46.624593, 'fee': 1.986374, 'funding_payment': 3.162928, '': '', '__1': ''}, {'user_type': 'USER', 'pair': 'ORAI_USDC', 'hash': '0CD9D30B6D0607BBFC1799D514CCC5BBA6EBAF5F448FB853DAC6E6E735114E06', 'height': 14560328, 'time': '2023-11-26 08:10:15', 'order_id': 75, 'status': 'SL', 'direction': 'SELL', 'bidder_addr': 'orai1x9dvpscythaz0mw8zj5re6f3qdpk347epc272q', 'offer_amount': 307.162219, 'ask_amount': 77.82755, 'leverage': 3, 'margin_amount': 100.044101, 'entry_price': 3.851748, 'take_profit': 3.838972, 'stop_loss': 3.916526, 'pnl': -7.390072, 'fee': 0.120052, 'funding_payment': 0.191844, '': '', '__1': ''}, {'user_type': 'BOT', 'pair': 'ORAI_USDC', 'hash': 'CE1B5EE0F94533B60E87BA07D29927F671D0418D1BD9C55CC9D05C4B21397003', 'height': 14561402, 'time': '2023-11-26 09:52:41', 'order_id': 76, 'status': 'Close', 'direction': 'SELL', 'bidder_addr': 'orai15vc7z4zyyam999zp6rwealm06lvuy9ykumwlpl', 'offer_amount': 16196.95724, 'ask_amount': 4117.717969, 'leverage': 3, 'margin_amount': 5359.787176, 'entry_price': 3.90492, 'take_profit': 3.839787, 'stop_loss': 5.076329, 'pnl': -117.595707, 'fee': 6.43947, 'funding_payment': 1.000605, '': '', '__1': ''}, {'user_type': 'USER', 'pair': 'ORAI_USDC', 'hash': '5DD85D755170D44F9F62E7D4A83B1ABBF6F8C99F730055DA66470ACB8BDAE654', 'height': 14560343, 'time': '2023-11-26 08:11:40', 'order_id': 77, 'status': 'TP', 'direction': 'BUY', 'bidder_addr': 'orai1x9dvpscythaz0mw8zj5re6f3qdpk347epc272q', 'offer_amount': 279.968498, 'ask_amount': 71.524176, 'leverage': 3, 'margin_amount': 92.222081, 'entry_price': 3.863508, 'take_profit': 3.902144, 'stop_loss': 3.824874, 'pnl': 3.634253, 'fee': 0.110666, 'funding_payment': 0, '': '', '__1': ''}, {'user_type': 'USER', 'pair': 'ORAI_USDC', 'hash': '71526116416028CF8252E541E41710646B98EB834C03DFE81E999143AF492069', 'height': 14560884, 'time': '2023-11-26 09:03:15', 'order_id': 78, 'status': 'Close', 'direction': 'SELL', 'bidder_addr': 'orai1x9dvpscythaz0mw8zj5re6f3qdpk347epc272q', 'offer_amount': 285.010543, 'ask_amount': 73.236265, 'leverage': 3, 'margin_amount': 95.52024, 'entry_price': 3.912825, 'take_profit': 3.873696, 'stop_loss': 3.951952, 'pnl': 1.550177, 'fee': 0.114762, 'funding_payment': 0.017796, '': '', '__1': ''}, {'user_type': 'BOT', 'pair': 'ORAI_USDC', 'hash': 'F7BF27A043D682C6AEC3C18F6B6A5CBA1FA1CCAAD395F482343379789B3B7F5E', 'height': 14562254, 'time': '2023-11-26 11:14:02', 'order_id': 79, 'status': 'Close', 'direction': 'SELL', 'bidder_addr': 'orai15vc7z4zyyam999zp6rwealm06lvuy9ykumwlpl', 'offer_amount': 4021.615153, 'ask_amount': 1029.717576, 'leverage': 3, 'margin_amount': 1339.139141, 'entry_price': 3.901475, 'take_profit': 3.836437, 'stop_loss': 5.0719, 'pnl': -4.19773, 'fee': 1.608896, 'funding_payment': -0.921597, '': '', '__1': ''}, {'user_type': 'USER', 'pair': 'ORAI_USDC', 'hash': 'B859E0B912248587E052804C082D81CE97D3D2123C3F580331AA0A059F34F982', 'height': 14561403, 'time': '2023-11-26 09:52:46', 'order_id': 80, 'status': 'SL', 'direction': 'SELL', 'bidder_addr': 'orai1x9dvpscythaz0mw8zj5re6f3qdpk347epc272q', 'offer_amount': 296.860273, 'ask_amount': 74.638016, 'leverage': 3, 'margin_amount': 96.937859, 'entry_price': 3.891644, 'take_profit': 3.852727, 'stop_loss': 3.930559, 'pnl': -6.395668, 'fee': 0.116324, 'funding_payment': 0, '': '', '__1': ''}, {'user_type': 'BOT', 'pair': 'ORAI_USDC', 'hash': 'F7BF27A043D682C6AEC3C18F6B6A5CBA1FA1CCAAD395F482343379789B3B7F5E', 'height': 14562254, 'time': '2023-11-26 11:14:02', 'order_id': 81, 'status': 'Close', 'direction': 'SELL', 'bidder_addr': 'orai15vc7z4zyyam999zp6rwealm06lvuy9ykumwlpl', 'offer_amount': 8495.607445, 'ask_amount': 2157.02337, 'leverage': 3, 'margin_amount': 2843.987317, 'entry_price': 3.955433, 'take_profit': 3.889481, 'stop_loss': 5.142026, 'pnl': 36.354506, 'fee': 3.416884, 'funding_payment': -2.454692, '': '', '__1': ''}, {'user_type': 'USER', 'pair': 'ORAI_USDC', 'hash': '7687460ED1B2785C9F77487934160D223E89284D0345D9B778F77FF36B281425', 'height': 14562935, 'time': '2023-11-26 12:18:58', 'order_id': 82, 'status': 'SL', 'direction': 'SELL', 'bidder_addr': 'orai1x9dvpscythaz0mw8zj5re6f3qdpk347epc272q', 'offer_amount': 273.813116, 'ask_amount': 68.818077, 'leverage': 3, 'margin_amount': 90.309543, 'entry_price': 3.932157, 'take_profit': 3.892834, 'stop_loss': 3.971478, 'pnl': -3.209597, 'fee': 0.10837, 'funding_payment': -0.112861, '': '', '__1': ''}, {'user_type': 'USER', 'pair': 'ORAI_USDC', 'hash': 'A0B3A34B17CAC01E8677D9C8F0BF4D976F2C5E61F63E3D17A1DE573073D7F294', 'height': 14561796, 'time': '2023-11-26 10:30:17', 'order_id': 83, 'status': 'Close', 'direction': 'SELL', 'bidder_addr': 'orai12zyu8w93h0q2lcnt50g3fn0w3yqnhy4fvawaqz', 'offer_amount': 2.996402, 'ask_amount': 0.762165, 'leverage': 3, 'margin_amount': 0.9988, 'entry_price': 3.931432, 'take_profit': 3.800384, 'stop_loss': 0, 'pnl': -2e-06, 'fee': 0.0012, 'funding_payment': 0, '': '', '__1': ''}, {'user_type': 'BOT', 'pair': 'ORAI_USDC', 'hash': '3E8412102F89803D2EF47828F75EBF73C5B6D9FB7332630FA8E53FDC15ED065E', 'height': 14562724, 'time': '2023-11-26 11:58:51', 'order_id': 84, 'status': 'Close', 'direction': 'SELL', 'bidder_addr': 'orai15vc7z4zyyam999zp6rwealm06lvuy9ykumwlpl', 'offer_amount': 6966.300661, 'ask_amount': 1766.894684, 'leverage': 3, 'margin_amount': 2304.715693, 'entry_price': 3.913163, 'take_profit': 3.847921, 'stop_loss': 5.087083, 'pnl': -52.153582, 'fee': 2.76898, 'funding_payment': 0, '': '', '__1': ''}, {'user_type': 'USER', 'pair': 'ORAI_USDC', 'hash': 'F7D3466A9B6604A515EB7904DC8072FFB4C2464F69574EB1C9DE085076EBF883', 'height': 14562207, 'time': '2023-11-26 11:09:32', 'order_id': 85, 'status': 'Close', 'direction': 'SELL', 'bidder_addr': 'orai18vyspza5ndpg5wss0u7mqs7g50zekjrjvc2dys', 'offer_amount': 299.880003, 'ask_amount': 77.007228, 'leverage': 1, 'margin_amount': 299.88, 'entry_price': 3.894179, 'take_profit': 3.537584, 'stop_loss': 0, 'pnl': -3e-06, 'fee': 0.12, 'funding_payment': 0, '': '', '__1': ''}, {'user_type': 'BOT', 'pair': 'ORAI_USDC', 'hash': 'E3C15E23C7F584DD764DEEDB9AA67053E5EA6AA890D739997766F65FBEF3B026', 'height': 14562933, 'time': '2023-11-26 12:18:46', 'order_id': 86, 'status': 'Close', 'direction': 'SELL', 'bidder_addr': 'orai15vc7z4zyyam999zp6rwealm06lvuy9ykumwlpl', 'offer_amount': 6987.93764, 'ask_amount': 1764.860293, 'leverage': 3, 'margin_amount': 2319.414046, 'entry_price': 3.942658, 'take_profit': 3.876925, 'stop_loss': 5.125426, 'pnl': -29.695502, 'fee': 2.78664, 'funding_payment': -0.885959, '': '', '__1': ''}, {'user_type': 'USER', 'pair': 'ORAI_USDC', 'hash': '76602D012D88AAEDB90257961615799467CAFE062C13921A5E5936C8862EF9E6', 'height': 14562729, 'time': '2023-11-26 11:59:20', 'order_id': 87, 'status': 'Close', 'direction': 'BUY', 'bidder_addr': 'orai18vyspza5ndpg5wss0u7mqs7g50zekjrjvc2dys', 'offer_amount': 449.459998, 'ask_amount': 113.432418, 'leverage': 3, 'margin_amount': 149.82, 'entry_price': 3.962359, 'take_profit': 4.056314, 'stop_loss': 0, 'pnl': -2e-06, 'fee': 0.18, 'funding_payment': 0, '': '', '__1': ''}, {'user_type': 'BOT', 'pair': 'ORAI_USDC', 'hash': '3C4521968BCD15A0469B8351FBA42A6CB62F8312C612B6782A2023F2D9A4454E', 'height': 14563172, 'time': '2023-11-26 12:41:38', 'order_id': 88, 'status': 'Close', 'direction': 'SELL', 'bidder_addr': 'orai15vc7z4zyyam999zp6rwealm06lvuy9ykumwlpl', 'offer_amount': 4702.436075, 'ask_amount': 1191.713942, 'leverage': 3, 'margin_amount': 1568.565324, 'entry_price': 3.948679, 'take_profit': 3.882852, 'stop_loss': 5.133263, 'pnl': 3.259897, 'fee': 1.884538, 'funding_payment': 0, '': '', '__1': ''}, {'user_type': 'USER', 'pair': 'ORAI_USDC', 'hash': 'CBF629A9072D164BEE0598F71897226099F0BB2A75DB636883017638393D52A1', 'height': 14562784, 'time': '2023-11-26 12:04:33', 'order_id': 89, 'status': 'Close', 'direction': 'SELL', 'bidder_addr': 'orai18vyspza5ndpg5wss0u7mqs7g50zekjrjvc2dys', 'offer_amount': 449.460002, 'ask_amount': 114.219872, 'leverage': 3, 'margin_amount': 149.82, 'entry_price': 3.935042, 'take_profit': 3.869456, 'stop_loss': 5.115552, 'pnl': -2e-06, 'fee': 0.18, 'funding_payment': 0, '': '', '__1': ''}, {'user_type': 'USER', 'pair': 'ORAI_USDC', 'hash': '3873D83F7E678A50C7C9ED81D1AF45533CC54E4CC64F28E9A8F5C971472061D2', 'height': 14562939, 'time': '2023-11-26 12:19:21', 'order_id': 90, 'status': 'Close', 'direction': 'BUY', 'bidder_addr': 'orai18vyspza5ndpg5wss0u7mqs7g50zekjrjvc2dys', 'offer_amount': 454.1284, 'ask_amount': 114.15089, 'leverage': 3, 'margin_amount': 149.82, 'entry_price': 3.93742, 'take_profit': 4.003044, 'stop_loss': 2.756194, 'pnl': 4.6684, 'fee': 0.18, 'funding_payment': 0, '': '', '__1': ''}, {'user_type': 'USER', 'pair': 'ORAI_USDC', 'hash': '2ABC8EBBACCC036ECA11E1BCB428F33B8DE1A6FA7E6573D0D73793F000EA1FF0', 'height': 14562943, 'time': '2023-11-26 12:19:43', 'order_id': 91, 'status': 'Close', 'direction': 'BUY', 'bidder_addr': 'orai18vyspza5ndpg5wss0u7mqs7g50zekjrjvc2dys', 'offer_amount': 453.420804, 'ask_amount': 114.081971, 'leverage': 3, 'margin_amount': 149.82, 'entry_price': 3.939798, 'take_profit': 4.005463, 'stop_loss': 2.75786, 'pnl': 3.960804, 'fee': 0.18, 'funding_payment': 0, '': '', '__1': ''}, {'user_type': 'USER', 'pair': 'ORAI_USDC', 'hash': 'D8D7B78FB0F1BF4EF0464BDE7A11B5134BA825294644D3D093F12868C605BC50', 'height': 14563043, 'time': '2023-11-26 12:29:16', 'order_id': 92, 'status': 'TP', 'direction': 'SELL', 'bidder_addr': 'orai1x9dvpscythaz0mw8zj5re6f3qdpk347epc272q', 'offer_amount': 257.81751, 'ask_amount': 65.555268, 'leverage': 3, 'margin_amount': 86.996067, 'entry_price': 3.976416, 'take_profit': 3.936651, 'stop_loss': 4.016179, 'pnl': 2.857509, 'fee': 0.104394, 'funding_payment': 0, '': '', '__1': ''}, {'user_type': 'BOT', 'pair': 'ORAI_USDC', 'hash': '26E7CCDD972994ABBA45EF3F2A5C9180C22F99E469CCFF99D000F8E1D70977C1', 'height': 14564754, 'time': '2023-11-26 15:12:43', 'order_id': 93, 'status': 'TP', 'direction': 'SELL', 'bidder_addr': 'orai15vc7z4zyyam999zp6rwealm06lvuy9ykumwlpl', 'offer_amount': 7612.088952, 'ask_amount': 1964.479275, 'leverage': 3, 'margin_amount': 2591.425885, 'entry_price': 3.952675, 'take_profit': 3.886772, 'stop_loss': 5.138445, 'pnl': 152.859573, 'fee': 3.10971, 'funding_payment': -0.774004, '': '', '__1': ''}, {'user_type': 'USER', 'pair': 'ORAI_USDC', 'hash': '58594A963A42A51E1BFB85A136C2705EAED306CFAD5904DDFDB198E995229FB5', 'height': 14564016, 'time': '2023-11-26 14:02:15', 'order_id': 94, 'status': 'SL', 'direction': 'BUY', 'bidder_addr': 'orai1x9dvpscythaz0mw8zj5re6f3qdpk347epc272q', 'offer_amount': 262.910142, 'ask_amount': 67.846117, 'leverage': 3, 'margin_amount': 89.644788, 'entry_price': 3.95913, 'take_profit': 3.973561, 'stop_loss': 3.894877, 'pnl': -5.701506, 'fee': 0.107572, 'funding_payment': 0.078023, '': '', '__1': ''}, {'user_type': 'BOT', 'pair': 'ORAI_USDC', 'hash': '96DC643897BA6966A46D2C30C004B11FA8EE994FC38F7FFBFD07B6864761705D', 'height': 14564018, 'time': '2023-11-26 14:02:26', 'order_id': 95, 'status': 'TP', 'direction': 'SELL', 'bidder_addr': 'orai15vc7z4zyyam999zp6rwealm06lvuy9ykumwlpl', 'offer_amount': 3808.238038, 'ask_amount': 981.188415, 'leverage': 3, 'margin_amount': 1293.306584, 'entry_price': 3.949561, 'take_profit': 3.883723, 'stop_loss': 5.134413, 'pnl': 67.025816, 'fee': 1.551966, 'funding_payment': -1.128366, '': '', '__1': ''}, {'user_type': 'BOT', 'pair': 'ORAI_USDC', 'hash': '983C7A7BDE738BA75E44B24BD41F1179D88F93FB2EEAEE9540C2FEE7567F90F0', 'height': 14564954, 'time': '2023-11-26 15:31:57', 'order_id': 96, 'status': 'Close', 'direction': 'SELL', 'bidder_addr': 'orai15vc7z4zyyam999zp6rwealm06lvuy9ykumwlpl', 'offer_amount': 4861.516207, 'ask_amount': 1255.944054, 'leverage': 3, 'margin_amount': 1643.719467, 'entry_price': 3.926256, 'take_profit': 3.860802, 'stop_loss': 5.104112, 'pnl': 69.642194, 'fee': 1.974832, 'funding_payment': -0.494841, '': '', '__1': ''}, {'user_type': 'BOT', 'pair': 'ORAI_USDC', 'hash': '0C5A9F3D71D6A50AA958CF32EA38EA7EC746CFDFB38914B5A3F34ECC25505D5E', 'height': 14565137, 'time': '2023-11-26 15:49:27', 'order_id': 98, 'status': 'Close', 'direction': 'SELL', 'bidder_addr': 'orai15vc7z4zyyam999zp6rwealm06lvuy9ykumwlpl', 'offer_amount': 3775.012102, 'ask_amount': 977.176004, 'leverage': 3, 'margin_amount': 1272.650377, 'entry_price': 3.907127, 'take_profit': 3.841996, 'stop_loss': 5.079249, 'pnl': 42.939029, 'fee': 1.529014, 'funding_payment': 0.920499, '': '', '__1': ''}, {'user_type': 'BOT', 'pair': 'ORAI_USDC', 'hash': 'C7C7EF638053D7057BFAE73DDE53E74A6E2E69ECD7406E5D47CFB9BA28160E92', 'height': 14565218, 'time': '2023-11-26 15:57:10', 'order_id': 100, 'status': 'Close', 'direction': 'SELL', 'bidder_addr': 'orai15vc7z4zyyam999zp6rwealm06lvuy9ykumwlpl', 'offer_amount': 4620.63363, 'ask_amount': 1195.896372, 'leverage': 3, 'margin_amount': 1549.877719, 'entry_price': 3.88799, 'take_profit': 3.823175, 'stop_loss': 5.054367, 'pnl': 28.999527, 'fee': 1.862086, 'funding_payment': 0.904097, '': '', '__1': ''}, {'user_type': 'USER', 'pair': 'ORAI_USDC', 'hash': 'E9CE016F775203CF604DAAF61A62D80EC5E780123C6CEF4B58F4E68EFDEFFBED', 'height': 14564020, 'time': '2023-11-26 14:02:38', 'order_id': 101, 'status': 'Close', 'direction': 'SELL', 'bidder_addr': 'orai18vyspza5ndpg5wss0u7mqs7g50zekjrjvc2dys', 'offer_amount': 602.173611, 'ask_amount': 154.739473, 'leverage': 3, 'margin_amount': 199.76, 'entry_price': 3.872832, 'take_profit': 3.809639, 'stop_loss': 5.036473, 'pnl': -2.893611, 'fee': 0.24, 'funding_payment': 0, '': '', '__1': ''}, {'user_type': 'USER', 'pair': 'ORAI_USDC', 'hash': '8E6B9A4886658C0C7913CB3D2558E8DB7E3C49CC30899B34CCF69BB4EF0D6C45', 'height': 14565182, 'time': '2023-11-26 15:53:45', 'order_id': 102, 'status': 'TP', 'direction': 'SELL', 'bidder_addr': 'orai1x9dvpscythaz0mw8zj5re6f3qdpk347epc272q', 'offer_amount': 248.010664, 'ask_amount': 64.424181, 'leverage': 3, 'margin_amount': 83.650115, 'entry_price': 3.890607, 'take_profit': 3.8517, 'stop_loss': 3.929512, 'pnl': 2.638541, 'fee': 0.10038, 'funding_payment': 0.048704, '': '', '__1': ''}, {'user_type': 'USER', 'pair': 'ORAI_USDC', 'hash': '6C1E00FE73DA987562069422BACF87D91DD11421E91FAB68FDC12AE3813230A2', 'height': 14575013, 'time': '2023-11-27 07:46:51', 'order_id': 103, 'status': 'TP', 'direction': 'BUY', 'bidder_addr': 'orai18vyspza5ndpg5wss0u7mqs7g50zekjrjvc2dys', 'offer_amount': 609.394164, 'ask_amount': 153.87093, 'leverage': 3, 'margin_amount': 200, 'entry_price': 3.894692, 'take_profit': 3.959605, 'stop_loss': 2.726285, 'pnl': 10.114164, 'fee': 0.24, 'funding_payment': -12.685734, '': '', '__1': ''}, {'user_type': 'BOT', 'pair': 'ORAI_USDC', 'hash': '178F466B279C0174B473995CD06A556BA42FFB23761C9F1EAB0786A3065C1704', 'height': 14565915, 'time': '2023-11-26 17:03:27', 'order_id': 104, 'status': 'TP', 'direction': 'SELL', 'bidder_addr': 'orai15vc7z4zyyam999zp6rwealm06lvuy9ykumwlpl', 'offer_amount': 3738.054327, 'ask_amount': 982.149546, 'leverage': 3, 'margin_amount': 1273.813137, 'entry_price': 3.886224, 'take_profit': 3.821441, 'stop_loss': 5.052075, 'pnl': 78.799362, 'fee': 1.528574, 'funding_payment': 5.189678, '': '', '__1': ''}, {'user_type': 'BOT', 'pair': 'ORAI_USDC', 'hash': 'FC6B669B79D46BDEAEA19D4A4B5ED0822EB5DA91ED9FFA49977F97863B42ED95', 'height': 14566442, 'time': '2023-11-26 17:53:40', 'order_id': 105, 'status': 'Close', 'direction': 'SELL', 'bidder_addr': 'orai15vc7z4zyyam999zp6rwealm06lvuy9ykumwlpl', 'offer_amount': 3992.394093, 'ask_amount': 1049.445659, 'leverage': 3, 'margin_amount': 1352.230286, 'entry_price': 3.865555, 'take_profit': 3.801117, 'stop_loss': 5.025205, 'pnl': 64.296765, 'fee': 1.624624, 'funding_payment': 4.751889, '': '', '__1': ''}, {'user_type': 'BOT', 'pair': 'ORAI_USDC', 'hash': 'FC6B669B79D46BDEAEA19D4A4B5ED0822EB5DA91ED9FFA49977F97863B42ED95', 'height': 14566442, 'time': '2023-11-26 17:53:40', 'order_id': 106, 'status': 'Close', 'direction': 'SELL', 'bidder_addr': 'orai15vc7z4zyyam999zp6rwealm06lvuy9ykumwlpl', 'offer_amount': 7532.399709, 'ask_amount': 1964.477947, 'leverage': 3, 'margin_amount': 2537.361277, 'entry_price': 3.874863, 'take_profit': 3.810258, 'stop_loss': 5.03729, 'pnl': 79.684122, 'fee': 3.04849, 'funding_payment': 8.895156, '': '', '__1': ''}, {'user_type': 'USER', 'pair': 'ORAI_USDC', 'hash': '587B910AC2295A4D2F9CF2AAC7263D8BE4B34222ABB255408CC66DE374D526FD', 'height': 14574945, 'time': '2023-11-27 07:40:19', 'order_id': 107, 'status': 'TP', 'direction': 'BUY', 'bidder_addr': 'orai18vyspza5ndpg5wss0u7mqs7g50zekjrjvc2dys', 'offer_amount': 611.373898, 'ask_amount': 155.39459, 'leverage': 3, 'margin_amount': 200, 'entry_price': 3.856504, 'take_profit': 3.920781, 'stop_loss': 2.699554, 'pnl': 12.093898, 'fee': 0.24, 'funding_payment': -12.693873, '': '', '__1': ''}, {'user_type': 'USER', 'pair': 'ORAI_USDC', 'hash': 'FA64DBBC66365A83A09A1A73152383DCBB4DD7FDFC0F08D1DC724E9671A22282', 'height': 14564939, 'time': '2023-11-26 15:30:31', 'order_id': 108, 'status': 'Close', 'direction': 'SELL', 'bidder_addr': 'orai18vyspza5ndpg5wss0u7mqs7g50zekjrjvc2dys', 'offer_amount': 449.460001, 'ask_amount': 116.534087, 'leverage': 3, 'margin_amount': 149.82, 'entry_price': 3.856897, 'take_profit': 3.792613, 'stop_loss': 5.013963, 'pnl': -1e-06, 'fee': 0.18, 'funding_payment': 0, '': '', '__1': ''}, {'user_type': 'BOT', 'pair': 'ORAI_USDC', 'hash': '681FBC04884C29B12662918EFE2B25693B4B2AB6E38B18F74C943483D5F1EFC4', 'height': 14567301, 'time': '2023-11-26 19:15:40', 'order_id': 110, 'status': 'TP', 'direction': 'SELL', 'bidder_addr': 'orai15vc7z4zyyam999zp6rwealm06lvuy9ykumwlpl', 'offer_amount': 6089.162098, 'ask_amount': 1607.871993, 'leverage': 3, 'margin_amount': 2076.426542, 'entry_price': 3.869589, 'take_profit': 3.805076, 'stop_loss': 5.030439, 'pnl': 132.642398, 'fee': 2.49171, 'funding_payment': 22.392833, '': -101.5172708, '__1': ''}, {'user_type': 'BOT', 'pair': 'ORAI_USDC', 'hash': '1D3F89067E927D4C63D80CE2C61A5F7EDB9BD361E52DAE38A3A8AB1656FA349C', 'height': 14567307, 'time': '2023-11-26 19:16:14', 'order_id': 111, 'status': 'TP', 'direction': 'SELL', 'bidder_addr': 'orai15vc7z4zyyam999zp6rwealm06lvuy9ykumwlpl', 'offer_amount': 4506.507378, 'ask_amount': 1190.63608, 'leverage': 3, 'margin_amount': 1534.200909, 'entry_price': 3.861028, 'take_profit': 3.796662, 'stop_loss': 5.019316, 'pnl': 90.572229, 'fee': 1.84104, 'funding_payment': 16.581988, '': '', '__1': ''}, {'user_type': 'USER', 'pair': 'ORAI_USDC', 'hash': 'BF623ECBAC11E9C4152E3233772C549E1B6C2347B532F73FE3A22C87A1F4AFEC', 'height': 14573824, 'time': '2023-11-27 05:53:05', 'order_id': 112, 'status': 'TP', 'direction': 'BUY', 'bidder_addr': 'orai1x9dvpscythaz0mw8zj5re6f3qdpk347epc272q', 'offer_amount': 260.476929, 'ask_amount': 66.946118, 'leverage': 3, 'margin_amount': 86.039192, 'entry_price': 3.850975, 'take_profit': 3.889485, 'stop_loss': 3.812465, 'pnl': 2.669091, 'fee': 0.103246, 'funding_payment': -5.173863, '': '', '__1': ''}, {'user_type': 'BOT', 'pair': 'ORAI_USDC', 'hash': '735848F49F03ED47A35005C1E3A49C08CEBBDC58C431A3E667DDD06A250D8CBA', 'height': 14567304, 'time': '2023-11-26 19:15:57', 'order_id': 113, 'status': 'TP', 'direction': 'SELL', 'bidder_addr': 'orai15vc7z4zyyam999zp6rwealm06lvuy9ykumwlpl', 'offer_amount': 3776.7177, 'ask_amount': 998.493774, 'leverage': 3, 'margin_amount': 1288.184154, 'entry_price': 3.865737, 'take_profit': 3.801296, 'stop_loss': 5.025442, 'pnl': 83.197302, 'fee': 1.54582, 'funding_payment': 11.900048, '': '', '__1': ''}, {'user_type': 'BOT', 'pair': 'ORAI_USDC', 'hash': 'E5EB3D4B26EEC85F52F51D2C40A75CBAD454D48AE77B397C60C4A14996314FBF', 'height': 14567540, 'time': '2023-11-26 19:38:28', 'order_id': 114, 'status': 'Close', 'direction': 'SELL', 'bidder_addr': 'orai15vc7z4zyyam999zp6rwealm06lvuy9ykumwlpl', 'offer_amount': 6194.086272, 'ask_amount': 1634.945593, 'leverage': 3, 'margin_amount': 2092.293564, 'entry_price': 3.839198, 'take_profit': 3.775191, 'stop_loss': 4.990931, 'pnl': 82.79442, 'fee': 2.513768, 'funding_payment': 19.485281, '': '', '__1': ''}, {'user_type': 'BOT', 'pair': 'ORAI_USDC', 'hash': 'E5EB3D4B26EEC85F52F51D2C40A75CBAD454D48AE77B397C60C4A14996314FBF', 'height': 14567540, 'time': '2023-11-26 19:38:28', 'order_id': 115, 'status': 'Close', 'direction': 'SELL', 'bidder_addr': 'orai15vc7z4zyyam999zp6rwealm06lvuy9ykumwlpl', 'offer_amount': 5112.910932, 'ask_amount': 1339.171903, 'leverage': 3, 'margin_amount': 1700.540926, 'entry_price': 3.809535, 'take_profit': 3.746027, 'stop_loss': 4.952374, 'pnl': -11.288154, 'fee': 2.0431, 'funding_payment': 12.586876, '': '', '__1': ''}, {'user_type': 'BOT', 'pair': 'ORAI_USDC', 'hash': '5DFF5B752344DD5427548DE4DD7C0C01A9245B9186D41E61DA88A9725AC1D982', 'height': 14568670, 'time': '2023-11-26 21:28:42', 'order_id': 116, 'status': 'TP', 'direction': 'SELL', 'bidder_addr': 'orai15vc7z4zyyam999zp6rwealm06lvuy9ykumwlpl', 'offer_amount': 4121.537135, 'ask_amount': 1101.955231, 'leverage': 3, 'margin_amount': 1399.255433, 'entry_price': 3.804808, 'take_profit': 3.741381, 'stop_loss': 4.946233, 'pnl': 71.191846, 'fee': 1.679106, 'funding_payment': 22.667219, '': '', '__1': ''}, {'user_type': 'BOT', 'pair': 'ORAI_USDC', 'hash': '3E2F2288F39C0A7FF910C5FC36BDA21E6ACAC1852361627641A5405198D00EB4', 'height': 14568435, 'time': '2023-11-26 21:05:36', 'order_id': 117, 'status': 'TP', 'direction': 'SELL', 'bidder_addr': 'orai15vc7z4zyyam999zp6rwealm06lvuy9ykumwlpl', 'offer_amount': 7364.213104, 'ask_amount': 1957.04543, 'leverage': 3, 'margin_amount': 2504.354039, 'entry_price': 3.834375, 'take_profit': 3.770445, 'stop_loss': 4.984656, 'pnl': 139.833341, 'fee': 3.005224, 'funding_payment': 40.256424, '': '', '__1': ''}, {'user_type': 'BOT', 'pair': 'ORAI_USDC', 'hash': '0ECC984F113A77005DFEF98AC678EA01681784288CDAA7EB49B55AA8154A5B71', 'height': 14568685, 'time': '2023-11-26 21:30:13', 'order_id': 118, 'status': 'TP', 'direction': 'SELL', 'bidder_addr': 'orai15vc7z4zyyam999zp6rwealm06lvuy9ykumwlpl', 'offer_amount': 3953.930818, 'ask_amount': 1057.436445, 'leverage': 3, 'margin_amount': 1342.566204, 'entry_price': 3.804356, 'take_profit': 3.740938, 'stop_loss': 4.945647, 'pnl': 68.93456, 'fee': 1.611078, 'funding_payment': 21.751467, '': '', '__1': ''}, {'user_type': 'BOT', 'pair': 'ORAI_USDC', 'hash': '25B5AD3AB70E03248B61AE26FE04BB929AA22D142EC3266662B1748F7D904F8E', 'height': 14569258, 'time': '2023-11-26 22:26:36', 'order_id': 119, 'status': 'Close', 'direction': 'SELL', 'bidder_addr': 'orai15vc7z4zyyam999zp6rwealm06lvuy9ykumwlpl', 'offer_amount': 4306.774455, 'ask_amount': 1151.084777, 'leverage': 3, 'margin_amount': 1451.364878, 'entry_price': 3.782601, 'take_profit': 3.719543, 'stop_loss': 4.917363, 'pnl': 47.320179, 'fee': 1.74373, 'funding_payment': 20.849598, '': '', '__1': ''}, {'user_type': 'BOT', 'pair': 'ORAI_USDC', 'hash': '153701BEC475C919A669E3F5B1793AFF98F3ADF68EEFE35D913FB30CA64D9DBC', 'height': 14569632, 'time': '2023-11-26 23:03:14', 'order_id': 120, 'status': 'Close', 'direction': 'SELL', 'bidder_addr': 'orai15vc7z4zyyam999zp6rwealm06lvuy9ykumwlpl', 'offer_amount': 5766.82548, 'ask_amount': 1540.967333, 'leverage': 3, 'margin_amount': 1945.599675, 'entry_price': 3.78775, 'take_profit': 3.724602, 'stop_loss': 4.92405, 'pnl': 69.973545, 'fee': 2.337524, 'funding_payment': 38.910966, '': '', '__1': ''}, {'user_type': 'BOT', 'pair': 'ORAI_USDC', 'hash': '496059109B8FA0DC6FD8AD6E43C42B9A1181CB79C62083CC86963B864AFD00A1', 'height': 14570191, 'time': '2023-11-26 23:58:05', 'order_id': 121, 'status': 'Close', 'direction': 'SELL', 'bidder_addr': 'orai15vc7z4zyyam999zp6rwealm06lvuy9ykumwlpl', 'offer_amount': 3597.278355, 'ask_amount': 965.132341, 'leverage': 3, 'margin_amount': 1216.948782, 'entry_price': 3.782741, 'take_profit': 3.719684, 'stop_loss': 4.917549, 'pnl': 53.567991, 'fee': 1.462092, 'funding_payment': 24.370556, '': '', '__1': ''}, {'user_type': 'BOT', 'pair': 'ORAI_USDC', 'hash': '496059109B8FA0DC6FD8AD6E43C42B9A1181CB79C62083CC86963B864AFD00A1', 'height': 14570191, 'time': '2023-11-26 23:58:05', 'order_id': 122, 'status': 'Close', 'direction': 'SELL', 'bidder_addr': 'orai15vc7z4zyyam999zp6rwealm06lvuy9ykumwlpl', 'offer_amount': 4610.469165, 'ask_amount': 1229.985667, 'leverage': 3, 'margin_amount': 1551.656497, 'entry_price': 3.784572, 'take_profit': 3.721481, 'stop_loss': 4.919924, 'pnl': 44.500326, 'fee': 1.864224, 'funding_payment': 31.058368, '': '', '__1': ''}, {'user_type': 'BOT', 'pair': 'ORAI_USDC', 'hash': '13D815B5FCD16C4C2410CA0D104397DF78D0FDFE60C044B5E6A7B2BCC4773F0F', 'height': 14568666, 'time': '2023-11-26 21:28:20', 'order_id': 123, 'status': 'TP', 'direction': 'SELL', 'bidder_addr': 'orai15vc7z4zyyam999zp6rwealm06lvuy9ykumwlpl', 'offer_amount': 3660.878113, 'ask_amount': 979.101856, 'leverage': 3, 'margin_amount': 1248.725179, 'entry_price': 3.821543, 'take_profit': 3.757838, 'stop_loss': 4.96799, 'pnl': 80.802014, 'fee': 1.49847, 'funding_payment': 10.937546, '': '', '__1': ''}, {'user_type': 'BOT', 'pair': 'ORAI_USDC', 'hash': '94A5956C21E7C3A4CC99655E0B30600B2D44C9925D87EF56B31315119058ACED', 'height': 14569499, 'time': '2023-11-26 22:50:12', 'order_id': 124, 'status': 'TP', 'direction': 'SELL', 'bidder_addr': 'orai15vc7z4zyyam999zp6rwealm06lvuy9ykumwlpl', 'offer_amount': 3684.343002, 'ask_amount': 985.863481, 'leverage': 3, 'margin_amount': 1250.933736, 'entry_price': 3.802045, 'take_profit': 3.738665, 'stop_loss': 4.942642, 'pnl': 63.954846, 'fee': 1.50112, 'funding_payment': 17.856945, '': '', '__1': ''}, {'user_type': 'BOT', 'pair': 'ORAI_USDC', 'hash': 'CF791699E95BECBACF4326C12FBB1D0635C52933056DB9483793775F5C98E189', 'height': 14570305, 'time': '2023-11-27 00:09:23', 'order_id': 125, 'status': 'Close', 'direction': 'SELL', 'bidder_addr': 'orai15vc7z4zyyam999zp6rwealm06lvuy9ykumwlpl', 'offer_amount': 4840.779626, 'ask_amount': 1300.531594, 'leverage': 3, 'margin_amount': 1638.474752, 'entry_price': 3.77955, 'take_profit': 3.716541, 'stop_loss': 4.913394, 'pnl': 74.64463, 'fee': 1.96853, 'funding_payment': 42.611917, '': '', '__1': ''}, {'user_type': 'BOT', 'pair': 'ORAI_USDC', 'hash': 'C9596069846F154FBE11A532E1BC1B018353CB283704F0EF25F305252670D61A', 'height': 14571017, 'time': '2023-11-27 01:19:15', 'order_id': 126, 'status': 'Close', 'direction': 'SELL', 'bidder_addr': 'orai15vc7z4zyyam999zp6rwealm06lvuy9ykumwlpl', 'offer_amount': 4398.203749, 'ask_amount': 1180.276479, 'leverage': 3, 'margin_amount': 1477.454387, 'entry_price': 3.75536, 'take_profit': 3.692756, 'stop_loss': 4.881949, 'pnl': 34.159412, 'fee': 1.775074, 'funding_payment': 34.276409, '': '', '__1': ''}, {'user_type': 'BOT', 'pair': 'ORAI_USDC', 'hash': '7B2995972FCBBFE7A61DA8480D00F63C05B8378C7A5C19BEC4F6ED3314D077A9', 'height': 14571692, 'time': '2023-11-27 02:25:35', 'order_id': 127, 'status': 'Close', 'direction': 'SELL', 'bidder_addr': 'orai15vc7z4zyyam999zp6rwealm06lvuy9ykumwlpl', 'offer_amount': 5760.222995, 'ask_amount': 1543.531659, 'leverage': 3, 'margin_amount': 1938.13172, 'entry_price': 3.766942, 'take_profit': 3.704141, 'stop_loss': 4.897001, 'pnl': 54.172165, 'fee': 2.328552, 'funding_payment': 56.940882, '': '', '__1': ''}, {'user_type': 'BOT', 'pair': 'ORAI_USDC', 'hash': '9A55750C4EEE611D702CFA2EEC4516CBF03CE233DD4122378083785A3EBB61C2', 'height': 14571908, 'time': '2023-11-27 02:46:52', 'order_id': 128, 'status': 'Close', 'direction': 'SELL', 'bidder_addr': 'orai15vc7z4zyyam999zp6rwealm06lvuy9ykumwlpl', 'offer_amount': 4350.606764, 'ask_amount': 1157.710249, 'leverage': 3, 'margin_amount': 1443.564873, 'entry_price': 3.740741, 'take_profit': 3.678381, 'stop_loss': 4.862945, 'pnl': -19.912145, 'fee': 1.734358, 'funding_payment': 42.707931, '': '', '__1': ''}, {'user_type': 'BOT', 'pair': 'ORAI_USDC', 'hash': '9A55750C4EEE611D702CFA2EEC4516CBF03CE233DD4122378083785A3EBB61C2', 'height': 14571908, 'time': '2023-11-27 02:46:52', 'order_id': 129, 'status': 'Close', 'direction': 'SELL', 'bidder_addr': 'orai15vc7z4zyyam999zp6rwealm06lvuy9ykumwlpl', 'offer_amount': 3699.614451, 'ask_amount': 979.050051, 'leverage': 3, 'margin_amount': 1220.2283, 'entry_price': 3.739017, 'take_profit': 3.676688, 'stop_loss': 4.860706, 'pnl': -38.929551, 'fee': 1.466032, 'funding_payment': 36.117156, '': '', '__1': ''}, {'user_type': 'BOT', 'pair': 'ORAI_USDC', 'hash': '763780141E75B72170F3B09C97796CEDA561BB0CB4DC55B53A0D3534FC8EC006', 'height': 14571984, 'time': '2023-11-27 02:54:22', 'order_id': 130, 'status': 'Close', 'direction': 'SELL', 'bidder_addr': 'orai15vc7z4zyyam999zp6rwealm06lvuy9ykumwlpl', 'offer_amount': 4269.859501, 'ask_amount': 1133.4577, 'leverage': 3, 'margin_amount': 1413.006309, 'entry_price': 3.7399, 'take_profit': 3.677555, 'stop_loss': 4.861853, 'pnl': -30.840574, 'fee': 1.697644, 'funding_payment': 41.813254, '': '', '__1': ''}, {'user_type': 'BOT', 'pair': 'ORAI_USDC', 'hash': '0D9591F249B91B78DE99ADA31A7946BA9B4457C98DCFFDC655118986B95FBFF4', 'height': 14572137, 'time': '2023-11-27 03:09:25', 'order_id': 131, 'status': 'Close', 'direction': 'SELL', 'bidder_addr': 'orai15vc7z4zyyam999zp6rwealm06lvuy9ykumwlpl', 'offer_amount': 3726.352215, 'ask_amount': 983.768811, 'leverage': 3, 'margin_amount': 1226.391041, 'entry_price': 3.739875, 'take_profit': 3.677532, 'stop_loss': 4.861823, 'pnl': -47.179092, 'fee': 1.473436, 'funding_payment': 43.317308, '': '', '__1': ''}, {'user_type': 'BOT', 'pair': 'ORAI_USDC', 'hash': '124FFF834134B76647948E9C932511DF6A95269378A40BB3156A063CFD54D496', 'height': 14572292, 'time': '2023-11-27 03:24:36', 'order_id': 132, 'status': 'Close', 'direction': 'SELL', 'bidder_addr': 'orai15vc7z4zyyam999zp6rwealm06lvuy9ykumwlpl', 'offer_amount': 4898.420657, 'ask_amount': 1292.313549, 'leverage': 3, 'margin_amount': 1611.140956, 'entry_price': 3.740131, 'take_profit': 3.67778, 'stop_loss': 4.86215, 'pnl': -64.997789, 'fee': 1.93569, 'funding_payment': 47.931909, '': '', '__1': ''}, {'user_type': 'BOT', 'pair': 'ORAI_USDC', 'hash': '124FFF834134B76647948E9C932511DF6A95269378A40BB3156A063CFD54D496', 'height': 14572292, 'time': '2023-11-27 03:24:36', 'order_id': 133, 'status': 'Close', 'direction': 'SELL', 'bidder_addr': 'orai15vc7z4zyyam999zp6rwealm06lvuy9ykumwlpl', 'offer_amount': 3797.482988, 'ask_amount': 995.920389, 'leverage': 3, 'margin_amount': 1240.610351, 'entry_price': 3.737076, 'take_profit': 3.67478, 'stop_loss': 4.858184, 'pnl': -75.651935, 'fee': 1.49052, 'funding_payment': 36.938687, '': '', '__1': ''}, {'user_type': 'BOT', 'pair': 'ORAI_USDC', 'hash': 'EBD8B24E8A1B3CFFFD26DA99BC66D0DA0765AF32A9A9F73C7F8D2E8CD3F4C48E', 'height': 14572343, 'time': '2023-11-27 03:29:38', 'order_id': 134, 'status': 'Close', 'direction': 'SELL', 'bidder_addr': 'orai15vc7z4zyyam999zp6rwealm06lvuy9ykumwlpl', 'offer_amount': 4010.495004, 'ask_amount': 1055.657248, 'leverage': 3, 'margin_amount': 1318.523755, 'entry_price': 3.747022, 'take_profit': 3.684559, 'stop_loss': 4.871113, 'pnl': -54.923739, 'fee': 1.584128, 'funding_payment': 31.619045, '': '', '__1': ''}, {'user_type': 'BOT', 'pair': 'ORAI_USDC', 'hash': 'EBD8B24E8A1B3CFFFD26DA99BC66D0DA0765AF32A9A9F73C7F8D2E8CD3F4C48E', 'height': 14572343, 'time': '2023-11-27 03:29:38', 'order_id': 135, 'status': 'Close', 'direction': 'SELL', 'bidder_addr': 'orai15vc7z4zyyam999zp6rwealm06lvuy9ykumwlpl', 'offer_amount': 3748.967203, 'ask_amount': 981.599433, 'leverage': 3, 'margin_amount': 1219.603472, 'entry_price': 3.727396, 'take_profit': 3.665261, 'stop_loss': 4.8456, 'pnl': -90.156787, 'fee': 1.465282, 'funding_payment': 29.400866, '': '', '__1': ''}, {'user_type': 'BOT', 'pair': 'ORAI_USDC', 'hash': 'B77B945636D62078CD0FF465C43CF46578F21750054A66E01B5964EF23EBDE31', 'height': 14572391, 'time': '2023-11-27 03:34:23', 'order_id': 136, 'status': 'Close', 'direction': 'SELL', 'bidder_addr': 'orai15vc7z4zyyam999zp6rwealm06lvuy9ykumwlpl', 'offer_amount': 4272.101733, 'ask_amount': 1122.339353, 'leverage': 3, 'margin_amount': 1402.712009, 'entry_price': 3.749432, 'take_profit': 3.686928, 'stop_loss': 4.874244, 'pnl': -63.965706, 'fee': 1.685276, 'funding_payment': 33.616308, '': '', '__1': ''}, {'user_type': 'BOT', 'pair': 'ORAI_USDC', 'hash': 'EFF72697DCDBC61CC9FEA409BF2E6C8128E33174D109EFA04FAEAEEB5B4D8478', 'height': 14572410, 'time': '2023-11-27 03:36:15', 'order_id': 137, 'status': 'Close', 'direction': 'SELL', 'bidder_addr': 'orai15vc7z4zyyam999zp6rwealm06lvuy9ykumwlpl', 'offer_amount': 5733.700022, 'ask_amount': 1505.93143, 'leverage': 3, 'margin_amount': 1869.425919, 'entry_price': 3.724125, 'take_profit': 3.662039, 'stop_loss': 4.84134, 'pnl': -125.422265, 'fee': 2.246006, 'funding_payment': 33.790089, '': '', '__1': ''}, {'user_type': 'BOT', 'pair': 'ORAI_USDC', 'hash': 'EFF72697DCDBC61CC9FEA409BF2E6C8128E33174D109EFA04FAEAEEB5B4D8478', 'height': 14572410, 'time': '2023-11-27 03:36:15', 'order_id': 138, 'status': 'Close', 'direction': 'SELL', 'bidder_addr': 'orai15vc7z4zyyam999zp6rwealm06lvuy9ykumwlpl', 'offer_amount': 3900.944085, 'ask_amount': 1017.851827, 'leverage': 3, 'margin_amount': 1263.784718, 'entry_price': 3.724858, 'take_profit': 3.662765, 'stop_loss': 4.842299, 'pnl': -109.589931, 'fee': 1.518362, 'funding_payment': 15.258616, '': '', '__1': ''}, {'user_type': 'BOT', 'pair': 'ORAI_USDC', 'hash': 'FB17A93AD549D370A05D9F29D925B7552143CE2A66F7C2B2D16A9F97E76132D7', 'height': 14572508, 'time': '2023-11-27 03:46:01', 'order_id': 139, 'status': 'Close', 'direction': 'SELL', 'bidder_addr': 'orai15vc7z4zyyam999zp6rwealm06lvuy9ykumwlpl', 'offer_amount': 4121.509499, 'ask_amount': 1079.557878, 'leverage': 3, 'margin_amount': 1341.30856, 'entry_price': 3.727382, 'take_profit': 3.665247, 'stop_loss': 4.845581, 'pnl': -97.583819, 'fee': 1.611504, 'funding_payment': 16.183652, '': '', '__1': ''}, {'user_type': 'BOT', 'pair': 'ORAI_USDC', 'hash': '52C60044EC41FC30F965164F6E527BB9CBB6B028487A1CAE9066759AC4A96D0F', 'height': 14572654, 'time': '2023-11-27 04:00:18', 'order_id': 140, 'status': 'Close', 'direction': 'SELL', 'bidder_addr': 'orai15vc7z4zyyam999zp6rwealm06lvuy9ykumwlpl', 'offer_amount': 6357.9226, 'ask_amount': 1653.506486, 'leverage': 3, 'margin_amount': 2079.115665, 'entry_price': 3.772193, 'take_profit': 3.709304, 'stop_loss': 4.903826, 'pnl': -120.575605, 'fee': 2.497936, 'funding_payment': 19.288153, '': '', '__1': ''}, {'user_type': 'BOT', 'pair': 'ORAI_USDC', 'hash': 'FF3D53A408B8FDD4DA26E82365DB98FBC4A4FB559C781D6AB6834FB9979A9ED0', 'height': 14572798, 'time': '2023-11-27 04:14:30', 'order_id': 141, 'status': 'Close', 'direction': 'SELL', 'bidder_addr': 'orai15vc7z4zyyam999zp6rwealm06lvuy9ykumwlpl', 'offer_amount': 3848.190394, 'ask_amount': 1006.378798, 'leverage': 3, 'margin_amount': 1270.590571, 'entry_price': 3.787611, 'take_profit': 3.724472, 'stop_loss': 4.923878, 'pnl': -36.418681, 'fee': 1.52654, 'funding_payment': 4.551851, '': '', '__1': ''}, {'user_type': 'BOT', 'pair': 'ORAI_USDC', 'hash': 'FF3D53A408B8FDD4DA26E82365DB98FBC4A4FB559C781D6AB6834FB9979A9ED0', 'height': 14572798, 'time': '2023-11-27 04:14:30', 'order_id': 142, 'status': 'Close', 'direction': 'SELL', 'bidder_addr': 'orai15vc7z4zyyam999zp6rwealm06lvuy9ykumwlpl', 'offer_amount': 6671.50514, 'ask_amount': 1732.290259, 'leverage': 3, 'margin_amount': 2197.555543, 'entry_price': 3.805751, 'take_profit': 3.742302, 'stop_loss': 4.94745, 'pnl': -78.838511, 'fee': 2.640234, 'funding_payment': 7.835148, '': '', '__1': ''}, {'user_type': 'BOT', 'pair': 'ORAI_USDC', 'hash': 'AC9E4405305B57D54F185146021CF3BF8228DC675BA9042C037CE4E2C0714559', 'height': 14573269, 'time': '2023-11-27 05:00:01', 'order_id': 143, 'status': 'Close', 'direction': 'SELL', 'bidder_addr': 'orai15vc7z4zyyam999zp6rwealm06lvuy9ykumwlpl', 'offer_amount': 6515.771384, 'ask_amount': 1697.66055, 'leverage': 3, 'margin_amount': 2157.239694, 'entry_price': 3.812139, 'take_profit': 3.748583, 'stop_loss': 4.955754, 'pnl': -44.052302, 'fee': 2.591796, 'funding_payment': 7.678518, '': '', '__1': ''}, {'user_type': 'BOT', 'pair': 'ORAI_USDC', 'hash': '1D76517D76939EE65E0602434B99DF0566F0B088E11D754A60949BC716865661', 'height': 14573788, 'time': '2023-11-27 05:49:40', 'order_id': 144, 'status': 'Close', 'direction': 'SELL', 'bidder_addr': 'orai15vc7z4zyyam999zp6rwealm06lvuy9ykumwlpl', 'offer_amount': 4891.924104, 'ask_amount': 1264.732012, 'leverage': 3, 'margin_amount': 1604.109637, 'entry_price': 3.805018, 'take_profit': 3.741586, 'stop_loss': 4.946503, 'pnl': -79.595193, 'fee': 1.927244, 'funding_payment': 10.312624, '': '', '__1': ''}, {'user_type': 'BOT', 'pair': 'ORAI_USDC', 'hash': 'B6C18CD48F5CC751421307DF2EF9393477CD4FD8631FA65EF6205E59F535E081', 'height': 14573823, 'time': '2023-11-27 05:52:59', 'order_id': 145, 'status': 'Close', 'direction': 'SELL', 'bidder_addr': 'orai15vc7z4zyyam999zp6rwealm06lvuy9ykumwlpl', 'offer_amount': 6926.076787, 'ask_amount': 1788.153529, 'leverage': 3, 'margin_amount': 2279.804056, 'entry_price': 3.824846, 'take_profit': 3.761076, 'stop_loss': 4.972271, 'pnl': -86.664619, 'fee': 2.73905, 'funding_payment': 14.580603, '': '', '__1': ''}, {'user_type': 'BOT', 'pair': 'ORAI_USDC', 'hash': '235E2C1E765BDFF0C5C912FF4DEF4FB2DB062E6F757B2899AAC842BA72E5C50F', 'height': 14574352, 'time': '2023-11-27 06:43:25', 'order_id': 146, 'status': 'Close', 'direction': 'SELL', 'bidder_addr': 'orai15vc7z4zyyam999zp6rwealm06lvuy9ykumwlpl', 'offer_amount': 5504.047226, 'ask_amount': 1426.584024, 'leverage': 3, 'margin_amount': 1829.542993, 'entry_price': 3.847392, 'take_profit': 3.783252, 'stop_loss': 5.001587, 'pnl': -15.418247, 'fee': 2.198088, 'funding_payment': 8.33981, '': '', '__1': ''}, {'user_type': 'BOT', 'pair': 'ORAI_USDC', 'hash': 'CA6D85F457BC9607F32ABC68F57AC4F4D0A60E4B3E43DE56580D1E142BA0DDBC', 'height': 14574665, 'time': '2023-11-27 07:13:34', 'order_id': 147, 'status': 'Close', 'direction': 'SELL', 'bidder_addr': 'orai15vc7z4zyyam999zp6rwealm06lvuy9ykumwlpl', 'offer_amount': 3731.369173, 'ask_amount': 967.379997, 'leverage': 3, 'margin_amount': 1232.896744, 'entry_price': 3.823409, 'take_profit': 3.759674, 'stop_loss': 4.970417, 'pnl': -32.678941, 'fee': 1.481252, 'funding_payment': 7.772898, '': '', '__1': ''}, {'user_type': 'BOT', 'pair': 'ORAI_USDC', 'hash': '0A820F3A832C0E8FE8EC9246D7504C8CDAE8624BC356773CBF4D26093818EAE5', 'height': 14574846, 'time': '2023-11-27 07:30:54', 'order_id': 148, 'status': 'Close', 'direction': 'SELL', 'bidder_addr': 'orai15vc7z4zyyam999zp6rwealm06lvuy9ykumwlpl', 'offer_amount': 9223.148955, 'ask_amount': 2370.284552, 'leverage': 3, 'margin_amount': 3037.803165, 'entry_price': 3.844858, 'take_profit': 3.780749, 'stop_loss': 4.998279, 'pnl': -109.73946, 'fee': 3.649742, 'funding_payment': 19.045236, '': '', '__1': ''}, {'user_type': 'BOT', 'pair': 'ORAI_USDC', 'hash': '65A3CC00B18581A67DD5FE501E37126CA6681B59BADC3A397602F347C748FFD9', 'height': 14574944, 'time': '2023-11-27 07:40:13', 'order_id': 149, 'status': 'Close', 'direction': 'SELL', 'bidder_addr': 'orai15vc7z4zyyam999zp6rwealm06lvuy9ykumwlpl', 'offer_amount': 4927.370327, 'ask_amount': 1263.063064, 'leverage': 3, 'margin_amount': 1628.496678, 'entry_price': 3.867969, 'take_profit': 3.803488, 'stop_loss': 5.02834, 'pnl': -41.880293, 'fee': 1.956542, 'funding_payment': 5.562529, '': '', '__1': ''}, {'user_type': 'USER', 'pair': 'ORAI_USDC', 'hash': 'F25A565D492FF06398648921F869FD80F6558EB4088744F6BADED5A57BBC1DEF', 'height': 14574235, 'time': '2023-11-27 06:32:16', 'order_id': 150, 'status': 'TP', 'direction': 'SELL', 'bidder_addr': 'orai1x9dvpscythaz0mw8zj5re6f3qdpk347epc272q', 'offer_amount': 277.236609, 'ask_amount': 72.167481, 'leverage': 3, 'margin_amount': 93.675654, 'entry_price': 3.889421, 'take_profit': 3.850526, 'stop_loss': 3.928314, 'pnl': 3.453123, 'fee': 0.11241, 'funding_payment': 0.15985, '': '', '__1': ''}, {'user_type': 'BOT', 'pair': 'ORAI_USDC', 'hash': '65A3CC00B18581A67DD5FE501E37126CA6681B59BADC3A397602F347C748FFD9', 'height': 14574944, 'time': '2023-11-27 07:40:13', 'order_id': 151, 'status': 'Close', 'direction': 'SELL', 'bidder_addr': 'orai15vc7z4zyyam999zp6rwealm06lvuy9ykumwlpl', 'offer_amount': 4130.819625, 'ask_amount': 1052.43217, 'leverage': 3, 'margin_amount': 1360.427261, 'entry_price': 3.877952, 'take_profit': 3.813306, 'stop_loss': 5.04132, 'pnl': -49.537842, 'fee': 1.634474, 'funding_payment': 4.634911, '': '', '__1': ''}, {'user_type': 'BOT', 'pair': 'ORAI_USDC', 'hash': 'D4526E22A41890A4BB89058742A9883963E6F0CF14E085EBC9BA04E55A81959B', 'height': 14574971, 'time': '2023-11-27 07:42:49', 'order_id': 152, 'status': 'Close', 'direction': 'SELL', 'bidder_addr': 'orai15vc7z4zyyam999zp6rwealm06lvuy9ykumwlpl', 'offer_amount': 5118.113095, 'ask_amount': 1308.614335, 'leverage': 3, 'margin_amount': 1681.144959, 'entry_price': 3.854026, 'take_profit': 3.789777, 'stop_loss': 5.010214, 'pnl': -74.678218, 'fee': 2.019796, 'funding_payment': 2.864556, '': '', '__1': ''}, {'user_type': 'USER', 'pair': 'ORAI_USDC', 'hash': '18E76660EEF14E323AD33E403634D1592EFCADE558E9288D83C0EAB0D1B9E208', 'height': 14574847, 'time': '2023-11-27 07:31:00', 'order_id': 153, 'status': 'TP', 'direction': 'BUY', 'bidder_addr': 'orai1x9dvpscythaz0mw8zj5re6f3qdpk347epc272q', 'offer_amount': 295.289172, 'ask_amount': 75.430632, 'leverage': 3, 'margin_amount': 96.744107, 'entry_price': 3.843054, 'take_profit': 3.881486, 'stop_loss': 3.804624, 'pnl': 5.405127, 'fee': 0.116092, 'funding_payment': -0.165117, '': '', '__1': ''}, {'user_type': 'BOT', 'pair': 'ORAI_USDC', 'hash': 'D4526E22A41890A4BB89058742A9883963E6F0CF14E085EBC9BA04E55A81959B', 'height': 14574971, 'time': '2023-11-27 07:42:49', 'order_id': 154, 'status': 'Close', 'direction': 'SELL', 'bidder_addr': 'orai15vc7z4zyyam999zp6rwealm06lvuy9ykumwlpl', 'offer_amount': 4908.578606, 'ask_amount': 1246.598367, 'leverage': 3, 'margin_amount': 1603.963484, 'entry_price': 3.860016, 'take_profit': 3.795667, 'stop_loss': 5.018001, 'pnl': -96.688154, 'fee': 1.927068, 'funding_payment': 2.728803, '': '', '__1': ''}, {'user_type': 'USER', 'pair': 'ORAI_USDC', 'hash': '6C1E00FE73DA987562069422BACF87D91DD11421E91FAB68FDC12AE3813230A2', 'height': 14575013, 'time': '2023-11-27 07:46:51', 'order_id': 155, 'status': 'SL', 'direction': 'SELL', 'bidder_addr': 'orai1x9dvpscythaz0mw8zj5re6f3qdpk347epc272q', 'offer_amount': 309.514017, 'ask_amount': 78.167434, 'leverage': 3, 'margin_amount': 102.082167, 'entry_price': 3.913125, 'take_profit': 3.873993, 'stop_loss': 3.952255, 'pnl': -3.63501, 'fee': 0.122498, 'funding_payment': 0, '': '', '__1': ''}, {'user_type': 'BOT', 'pair': 'ORAI_USDC', 'hash': '2ED110CE02098CD696C23AE0C4BADFFBF3F144EA62130243504349C11EA95B3D', 'height': 14575012, 'time': '2023-11-27 07:46:45', 'order_id': 156, 'status': 'Close', 'direction': 'SELL', 'bidder_addr': 'orai15vc7z4zyyam999zp6rwealm06lvuy9ykumwlpl', 'offer_amount': 4601.594438, 'ask_amount': 1175.55636, 'leverage': 3, 'margin_amount': 1528.312381, 'entry_price': 3.900227, 'take_profit': 3.835208, 'stop_loss': 5.070275, 'pnl': -16.657295, 'fee': 1.836178, 'funding_payment': 0, '': '', '__1': ''}, {'user_type': 'BOT', 'pair': 'ORAI_USDC', 'hash': '2ED110CE02098CD696C23AE0C4BADFFBF3F144EA62130243504349C11EA95B3D', 'height': 14575012, 'time': '2023-11-27 07:46:45', 'order_id': 157, 'status': 'Close', 'direction': 'SELL', 'bidder_addr': 'orai15vc7z4zyyam999zp6rwealm06lvuy9ykumwlpl', 'offer_amount': 6700.594707, 'ask_amount': 1698.822482, 'leverage': 3, 'margin_amount': 2217.036326, 'entry_price': 3.915128, 'take_profit': 3.849855, 'stop_loss': 5.089639, 'pnl': -49.485729, 'fee': 2.663638, 'funding_payment': 0, '': '', '__1': ''}, {'user_type': 'BOT', 'pair': 'ORAI_USDC', 'hash': '82F4126889BAEA54F7BF4D6E5718FD12747E11ED7DFF81BC71A8F570CD2D7277', 'height': 14575677, 'time': '2023-11-27 08:50:18', 'order_id': 158, 'status': 'TP', 'direction': 'SELL', 'bidder_addr': 'orai15vc7z4zyyam999zp6rwealm06lvuy9ykumwlpl', 'offer_amount': 5283.529053, 'ask_amount': 1373.058354, 'leverage': 3, 'margin_amount': 1803.737597, 'entry_price': 3.936263, 'take_profit': 3.870641, 'stop_loss': 5.117119, 'pnl': 121.190286, 'fee': 2.164484, 'funding_payment': 1.337358, '': '', '__1': ''}, {'user_type': 'BOT', 'pair': 'ORAI_USDC', 'hash': 'B5BCA9D33CDD0811326A9ADF41E64B976678F5DAE653C0CBEB9D2B8A565A4DBB', 'height': 14575730, 'time': '2023-11-27 08:55:21', 'order_id': 159, 'status': 'TP', 'direction': 'SELL', 'bidder_addr': 'orai15vc7z4zyyam999zp6rwealm06lvuy9ykumwlpl', 'offer_amount': 3645.240603, 'ask_amount': 955.453116, 'leverage': 3, 'margin_amount': 1247.44669, 'entry_price': 3.912122, 'take_profit': 3.846908, 'stop_loss': 5.085743, 'pnl': 92.608659, 'fee': 1.496936, 'funding_payment': 0.930611, '': '', '__1': ''}, {'user_type': 'USER', 'pair': 'ORAI_USDC', 'hash': '327300484D1F4B1B3CD62FE600231AD626340C9BFD59AB472A23D576D4BB7707', 'height': 14575164, 'time': '2023-11-27 08:01:20', 'order_id': 160, 'status': 'TP', 'direction': 'SELL', 'bidder_addr': 'orai1x9dvpscythaz0mw8zj5re6f3qdpk347epc272q', 'offer_amount': 291.08129, 'ask_amount': 74.31251, 'leverage': 3, 'margin_amount': 98.202161, 'entry_price': 3.959669, 'take_profit': 3.920071, 'stop_loss': 3.999265, 'pnl': 3.171667, 'fee': 0.117842, 'funding_payment': 0.07238, '': '', '__1': ''}, {'user_type': 'BOT', 'pair': 'ORAI_USDC', 'hash': 'D4E9275066B34F8A88F857A332C6216DA00F57164E5C96CDF70022C620350FA4', 'height': 14575655, 'time': '2023-11-27 08:48:12', 'order_id': 161, 'status': 'TP', 'direction': 'SELL', 'bidder_addr': 'orai15vc7z4zyyam999zp6rwealm06lvuy9ykumwlpl', 'offer_amount': 3962.370075, 'ask_amount': 1023.110251, 'leverage': 3, 'margin_amount': 1348.089556, 'entry_price': 3.948172, 'take_profit': 3.882356, 'stop_loss': 5.132606, 'pnl': 77.045475, 'fee': 1.617706, 'funding_payment': 0.996509, '': '', '__1': ''}, {'user_type': 'BOT', 'pair': 'ORAI_USDC', 'hash': 'E3F1DE6B5E021A72B649304FDA6E6DC02B8A8EAA522DB7728FD47AC8A8BF1482', 'height': 14575680, 'time': '2023-11-27 08:50:35', 'order_id': 162, 'status': 'TP', 'direction': 'SELL', 'bidder_addr': 'orai15vc7z4zyyam999zp6rwealm06lvuy9ykumwlpl', 'offer_amount': 3946.308089, 'ask_amount': 1024.734255, 'leverage': 3, 'margin_amount': 1342.933541, 'entry_price': 3.926838, 'take_profit': 3.861377, 'stop_loss': 5.104872, 'pnl': 77.657974, 'fee': 1.61152, 'funding_payment': 0, '': '', '__1': ''}, {'user_type': 'BOT', 'pair': 'ORAI_USDC', 'hash': '73390DDCB4F0724B7B25B0DBC715F625CE97CBFDE5C8BEEAEA5FAF61947F5D78', 'height': 14575737, 'time': '2023-11-27 08:56:00', 'order_id': 165, 'status': 'Close', 'direction': 'SELL', 'bidder_addr': 'orai15vc7z4zyyam999zp6rwealm06lvuy9ykumwlpl', 'offer_amount': 5295.015429, 'ask_amount': 1384.436377, 'leverage': 3, 'margin_amount': 1788.944429, 'entry_price': 3.876547, 'take_profit': 3.811921, 'stop_loss': 5.039489, 'pnl': 71.817858, 'fee': 2.149312, 'funding_payment': 0, '': '', '__1': ''}, {'user_type': 'BOT', 'pair': 'ORAI_USDC', 'hash': '5261638E97441573AE8FAE87FD0E0069E93D9E95E254D3D5B6B21FB2FBE98D52', 'height': 14575966, 'time': '2023-11-27 09:17:55', 'order_id': 166, 'status': 'Close', 'direction': 'SELL', 'bidder_addr': 'orai15vc7z4zyyam999zp6rwealm06lvuy9ykumwlpl', 'offer_amount': 3905.862735, 'ask_amount': 1023.110776, 'leverage': 3, 'margin_amount': 1320.7907, 'entry_price': 3.872867, 'take_profit': 3.808306, 'stop_loss': 5.03471, 'pnl': 56.509365, 'fee': 1.586852, 'funding_payment': 0.603635, '': '', '__1': ''}, {'user_type': 'BOT', 'pair': 'ORAI_USDC', 'hash': 'FCC2776A263665014E8194BF56A3DC3D813910C35FF894D29498B8412E0BA1F9', 'height': 14576662, 'time': '2023-11-27 10:24:22', 'order_id': 167, 'status': 'Close', 'direction': 'SELL', 'bidder_addr': 'orai15vc7z4zyyam999zp6rwealm06lvuy9ykumwlpl', 'offer_amount': 5368.107704, 'ask_amount': 1404.664001, 'leverage': 3, 'margin_amount': 1801.865083, 'entry_price': 3.848319, 'take_profit': 3.784163, 'stop_loss': 5.002792, 'pnl': 37.487545, 'fee': 2.164834, 'funding_payment': 4.413454, '': '', '__1': ''}, {'user_type': 'USER', 'pair': 'ORAI_USDC', 'hash': '8DB09339691BFC725D6CE65C5EB24B84ADD050585D19E8E3B6133154E0B6154C', 'height': 14575964, 'time': '2023-11-27 09:17:43', 'order_id': 168, 'status': 'TP', 'direction': 'SELL', 'bidder_addr': 'orai1x9dvpscythaz0mw8zj5re6f3qdpk347epc272q', 'offer_amount': 309.998351, 'ask_amount': 81.472166, 'leverage': 3, 'margin_amount': 105.023742, 'entry_price': 3.862584, 'take_profit': 3.823957, 'stop_loss': 3.901209, 'pnl': 4.694791, 'fee': 0.126028, 'funding_payment': 0.048068, '': '', '__1': ''}, {'user_type': 'BOT', 'pair': 'ORAI_USDC', 'hash': 'FCC2776A263665014E8194BF56A3DC3D813910C35FF894D29498B8412E0BA1F9', 'height': 14576662, 'time': '2023-11-27 10:24:22', 'order_id': 169, 'status': 'Close', 'direction': 'SELL', 'bidder_addr': 'orai15vc7z4zyyam999zp6rwealm06lvuy9ykumwlpl', 'offer_amount': 4010.72256, 'ask_amount': 1042.796454, 'leverage': 3, 'margin_amount': 1338.685556, 'entry_price': 3.851237, 'take_profit': 3.788656, 'stop_loss': 5.008732, 'pnl': 5.334108, 'fee': 1.608352, 'funding_payment': 3.276466, '': '', '__1': ''}, {'user_type': 'BOT', 'pair': 'ORAI_USDC', 'hash': 'FCC2776A263665014E8194BF56A3DC3D813910C35FF894D29498B8412E0BA1F9', 'height': 14576662, 'time': '2023-11-27 10:24:22', 'order_id': 170, 'status': 'Close', 'direction': 'SELL', 'bidder_addr': 'orai15vc7z4zyyam999zp6rwealm06lvuy9ykumwlpl', 'offer_amount': 3815.526138, 'ask_amount': 986.787258, 'leverage': 3, 'margin_amount': 1266.849654, 'entry_price': 3.851437, 'take_profit': 3.787234, 'stop_loss': 5.006852, 'pnl': -14.977176, 'fee': 1.522046, 'funding_payment': 3.100485, '': '', '__1': ''}, {'user_type': 'BOT', 'pair': 'ORAI_USDC', 'hash': 'B77AA57DBFD279D79AC3B5AAE32EDB2B8E68BE5F7913B70E4AD0D7B7C1185B12', 'height': 14577501, 'time': '2023-11-27 11:44:23', 'order_id': 171, 'status': 'Close', 'direction': 'SELL', 'bidder_addr': 'orai15vc7z4zyyam999zp6rwealm06lvuy9ykumwlpl', 'offer_amount': 6894.657964, 'ask_amount': 1795.14885, 'leverage': 3, 'margin_amount': 2287.957696, 'entry_price': 3.823567, 'take_profit': 3.75982, 'stop_loss': 4.970609, 'pnl': -30.784876, 'fee': 2.748846, 'funding_payment': 4.184491, '': '', '__1': ''}, {'user_type': 'BOT', 'pair': 'ORAI_USDC', 'hash': 'C150C7CE7B9E417FED0235E9367C9D993B5A58D02E9564CF7CF276F2180E3954', 'height': 14577710, 'time': '2023-11-27 12:04:17', 'order_id': 172, 'status': 'Close', 'direction': 'SELL', 'bidder_addr': 'orai15vc7z4zyyam999zp6rwealm06lvuy9ykumwlpl', 'offer_amount': 7399.014676, 'ask_amount': 1934.093598, 'leverage': 3, 'margin_amount': 2469.303625, 'entry_price': 3.830171, 'take_profit': 3.766312, 'stop_loss': 4.979192, 'pnl': 8.896199, 'fee': 2.966724, 'funding_payment': 3.18932, '': '', '__1': ''}, {'user_type': 'BOT', 'pair': 'ORAI_USDC', 'hash': 'FF994BF88BD7E17555BF651ED4AB7C6FA10BE39C55EB8D438A9A103E53B187E7', 'height': 14577964, 'time': '2023-11-27 12:28:30', 'order_id': 173, 'status': 'Close', 'direction': 'SELL', 'bidder_addr': 'orai15vc7z4zyyam999zp6rwealm06lvuy9ykumwlpl', 'offer_amount': 6615.88704, 'ask_amount': 1724.429645, 'leverage': 3, 'margin_amount': 2196.515595, 'entry_price': 3.82129, 'take_profit': 3.757581, 'stop_loss': 4.967649, 'pnl': -26.340255, 'fee': 2.638984, 'funding_payment': 1.82617, '': '', '__1': ''}, {'user_type': 'USER', 'pair': 'ORAI_USDC', 'hash': '131FAD2DBE6720770E090064F08B9B56735DCF3B2A56B6D1731F5D5AF3F81E74', 'height': 14576663, 'time': '2023-11-27 10:24:28', 'order_id': 174, 'status': 'TP', 'direction': 'BUY', 'bidder_addr': 'orai1x9dvpscythaz0mw8zj5re6f3qdpk347epc272q', 'offer_amount': 333.81592, 'ask_amount': 86.129263, 'leverage': 3, 'margin_amount': 109.418409, 'entry_price': 3.806619, 'take_profit': 3.844686, 'stop_loss': 3.768554, 'pnl': 5.954599, 'fee': 0.131302, 'funding_payment': -0.219801, '': '', '__1': ''}, {'user_type': 'BOT', 'pair': 'ORAI_USDC', 'hash': '1D20DA33A16C7F373C6A73285CEE2BED40CEDD7E823385ECD85D62C8843DF464', 'height': 14579523, 'time': '2023-11-27 14:57:20', 'order_id': 175, 'status': 'Close', 'direction': 'SELL', 'bidder_addr': 'orai15vc7z4zyyam999zp6rwealm06lvuy9ykumwlpl', 'offer_amount': 3810.358819, 'ask_amount': 1014.345352, 'leverage': 3, 'margin_amount': 1290.829287, 'entry_price': 3.817721, 'take_profit': 3.75408, 'stop_loss': 4.963021, 'pnl': 62.129042, 'fee': 1.550856, 'funding_payment': 0.217069, '': '', '__1': ''}, {'user_type': 'USER', 'pair': 'ORAI_USDC', 'hash': '761E8AE8B9A82CD1F0F6BA579E8D279F18DD8D5D8E64722D94A709E3DE953A6B', 'height': 14578793, 'time': '2023-11-27 13:47:29', 'order_id': 176, 'status': 'Close', 'direction': 'BUY', 'bidder_addr': 'orai12zyu8w93h0q2lcnt50g3fn0w3yqnhy4fvawaqz', 'offer_amount': 3.572349, 'ask_amount': 0.937097, 'leverage': 3, 'margin_amount': 1.189382, 'entry_price': 3.807659, 'take_profit': 3.934579, 'stop_loss': 0, 'pnl': 0.004203, 'fee': 0.001428, 'funding_payment': 0.00208, '': '', '__1': ''}, {'user_type': 'USER', 'pair': 'ORAI_USDC', 'hash': '84A25DB7C767E024D9C290541D3929FAB396158F588D9106447A8A38B8A8CD73', 'height': 14577046, 'time': '2023-11-27 11:00:58', 'order_id': 177, 'status': 'TP', 'direction': 'SELL', 'bidder_addr': 'orai1x9dvpscythaz0mw8zj5re6f3qdpk347epc272q', 'offer_amount': 341.092944, 'ask_amount': 89.204425, 'leverage': 3, 'margin_amount': 115.330205, 'entry_price': 3.873971, 'take_profit': 3.83523, 'stop_loss': 3.91271, 'pnl': 4.482483, 'fee': 0.138396, 'funding_payment': -0.072344, '': '', '__1': ''}, {'user_type': 'BOT', 'pair': 'ORAI_USDC', 'hash': '668B91A24CA437EF2F35731BE6829D672D67246B9FCB60353427E11A0E17201D', 'height': 14579376, 'time': '2023-11-27 14:43:17', 'order_id': 178, 'status': 'TP', 'direction': 'SELL', 'bidder_addr': 'orai15vc7z4zyyam999zp6rwealm06lvuy9ykumwlpl', 'offer_amount': 5532.047847, 'ask_amount': 1464.86577, 'leverage': 3, 'margin_amount': 1886.195389, 'entry_price': 3.858234, 'take_profit': 3.793912, 'stop_loss': 5.01568, 'pnl': 119.748018, 'fee': 2.263434, 'funding_payment': -3.424856, '': '', '__1': ''}, {'user_type': 'BOT', 'pair': 'ORAI_USDC', 'hash': '8551EC0385D3A2F09B04D912F4C63FA4996262723BDFF545002CEE3E3681F4F6', 'height': 14579384, 'time': '2023-11-27 14:44:02', 'order_id': 179, 'status': 'TP', 'direction': 'SELL', 'bidder_addr': 'orai15vc7z4zyyam999zp6rwealm06lvuy9ykumwlpl', 'offer_amount': 3884.508553, 'ask_amount': 1030.75965, 'leverage': 3, 'margin_amount': 1318.595311, 'entry_price': 3.833133, 'take_profit': 3.769234, 'stop_loss': 4.983056, 'pnl': 66.530438, 'fee': 1.582314, 'funding_payment': -1.573969, '': '', '__1': ''}, {'user_type': 'BOT', 'pair': 'ORAI_USDC', 'hash': '1D20DA33A16C7F373C6A73285CEE2BED40CEDD7E823385ECD85D62C8843DF464', 'height': 14579523, 'time': '2023-11-27 14:57:20', 'order_id': 181, 'status': 'Close', 'direction': 'SELL', 'bidder_addr': 'orai15vc7z4zyyam999zp6rwealm06lvuy9ykumwlpl', 'offer_amount': 9941.008603, 'ask_amount': 2621.536649, 'leverage': 3, 'margin_amount': 3348.978326, 'entry_price': 3.83246, 'take_profit': 3.768554, 'stop_loss': 4.982156, 'pnl': 105.926375, 'fee': 4.023602, 'funding_payment': -4.003086, '': '', '__1': ''}, {'user_type': 'BOT', 'pair': 'ORAI_USDC', 'hash': '96A1B3E9A826F3D8EF3D6E33C34FBF76723D1633C90C6750FF1483D2F5C286F9', 'height': 14579388, 'time': '2023-11-27 14:44:26', 'order_id': 182, 'status': 'TP', 'direction': 'SELL', 'bidder_addr': 'orai15vc7z4zyyam999zp6rwealm06lvuy9ykumwlpl', 'offer_amount': 4820.508422, 'ask_amount': 1279.250694, 'leverage': 3, 'margin_amount': 1636.035423, 'entry_price': 3.832099, 'take_profit': 3.768215, 'stop_loss': 4.981709, 'pnl': 81.708121, 'fee': 1.963242, 'funding_payment': -1.080966, '': '', '__1': ''}, {'user_type': 'BOT', 'pair': 'ORAI_USDC', 'hash': '2E4EE1F8DA265A7F3551E4235E407FDBC0E46F1DB90289A2AA50998AAD5E272B', 'height': 14579379, 'time': '2023-11-27 14:43:34', 'order_id': 183, 'status': 'TP', 'direction': 'SELL', 'bidder_addr': 'orai15vc7z4zyyam999zp6rwealm06lvuy9ykumwlpl', 'offer_amount': 3882.482167, 'ask_amount': 1029.341027, 'leverage': 3, 'margin_amount': 1320.351044, 'entry_price': 3.843526, 'take_profit': 3.779455, 'stop_loss': 4.996568, 'pnl': 73.817705, 'fee': 1.58442, 'funding_payment': -0.869793, '': '', '__1': ''}, {'user_type': 'BOT', 'pair': 'ORAI_USDC', 'hash': '9F63E55C890C0F3A90534BD4FD178E2DFC316E46D4B80C1A7351FC3EC281F138', 'height': 14579391, 'time': '2023-11-27 14:44:43', 'order_id': 184, 'status': 'TP', 'direction': 'SELL', 'bidder_addr': 'orai15vc7z4zyyam999zp6rwealm06lvuy9ykumwlpl', 'offer_amount': 3966.60665, 'ask_amount': 1055.970146, 'leverage': 3, 'margin_amount': 1347.155409, 'entry_price': 3.822661, 'take_profit': 3.758937, 'stop_loss': 4.969442, 'pnl': 70.009819, 'fee': 1.616586, 'funding_payment': -0.124604, '': '', '__1': ''}, {'user_type': 'USER', 'pair': 'INJ_USDC', 'hash': '4CEA9CEBB92EC5BFF0E7A9B7820270C0D46C5BA5C3E635E9F32F49DEA964C017', 'height': 14505073, 'time': '2023-11-22 16:14:14', 'order_id': 20, 'status': 'Close', 'direction': 'BUY', 'bidder_addr': 'orai12zyu8w93h0q2lcnt50g3fn0w3yqnhy4fvawaqz', 'offer_amount': 5.992796, 'ask_amount': 0.380736, 'leverage': 3, 'margin_amount': 1.9976, 'entry_price': 15.74004, 'take_profit': 16.264707, 'stop_loss': 0, 'pnl': -4e-06, 'fee': 0.0024, 'funding_payment': 0, '': '', '__1': ''}, {'user_type': 'USER', 'pair': 'INJ_USDC', 'hash': '72E87708CEC72C65118062F81765C75C74F31AA612ADD43232E02DA3490F72C0', 'height': 14505091, 'time': '2023-11-22 16:15:57', 'order_id': 21, 'status': 'Close', 'direction': 'BUY', 'bidder_addr': 'orai12zyu8w93h0q2lcnt50g3fn0w3yqnhy4fvawaqz', 'offer_amount': 5.995189, 'ask_amount': 0.380888, 'leverage': 2, 'margin_amount': 2.9976, 'entry_price': 15.74006, 'take_profit': 16.527062, 'stop_loss': 0, 'pnl': -1.1e-05, 'fee': 0.0024, 'funding_payment': 0, '': '', '__1': ''}, {'user_type': 'USER', 'pair': 'INJ_USDC', 'hash': '74FD5F44B1142C19F104922E6DD95EBC1E551A845F1C83E4FC173776FD203418', 'height': 14516259, 'time': '2023-11-23 10:01:45', 'order_id': 22, 'status': 'Close', 'direction': 'SELL', 'bidder_addr': 'orai12zyu8w93h0q2lcnt50g3fn0w3yqnhy4fvawaqz', 'offer_amount': 0.999616, 'ask_amount': 0.063508, 'leverage': 1, 'margin_amount': 0.9996, 'entry_price': 15.739749, 'take_profit': 14.165774, 'stop_loss': 0, 'pnl': -1.6e-05, 'fee': 0.0004, 'funding_payment': 0, '': '', '__1': ''}, {'user_type': 'USER', 'pair': 'INJ_USDC', 'hash': 'C16F28B7372D038EAF483A85B17AF360E53F885829980DD2FDCD22995E17B8F1', 'height': 14579149, 'time': '2023-11-27 14:21:31', 'order_id': 188, 'status': 'Close', 'direction': 'BUY', 'bidder_addr': 'orai12zyu8w93h0q2lcnt50g3fn0w3yqnhy4fvawaqz', 'offer_amount': 2.330322, 'ask_amount': 0.148051, 'leverage': 1, 'margin_amount': 2.330328, 'entry_price': 15.740035, 'take_profit': 17.31403, 'stop_loss': 0, 'pnl': -6e-06, 'fee': 0.000932, 'funding_payment': 0, '': '', '__1': ''}, {'user_type': 'BOT', 'pair': 'ORAI_USDC', 'hash': '118AEC41FF9EE427FF4959E84DA1C28F94D15ECBBE3B5E03C2145848F2D98936', 'height': 14581394, 'time': '2023-11-27 17:55:59', 'order_id': 186, 'status': 'TP', 'direction': 'SELL', 'bidder_addr': 'orai15vc7z4zyyam999zp6rwealm06lvuy9ykumwlpl', 'offer_amount': 5803.448574, 'ask_amount': 1559.609549, 'leverage': 3, 'margin_amount': 1976.172103, 'entry_price': 3.79672, 'take_profit': 3.733423, 'stop_loss': 4.935712, 'pnl': 117.953517, 'fee': 2.371406, 'funding_payment': 11.361755, '': '', '__1': ''}, {'user_type': 'BOT', 'pair': 'ORAI_USDC', 'hash': '2F82AFCE6E31CCA52BD97AF5CB489D5B0CCC9B934AC05C2A1E6E485535900BD4', 'height': 14581615, 'time': '2023-11-27 18:17:09', 'order_id': 189, 'status': 'TP', 'direction': 'SELL', 'bidder_addr': 'orai15vc7z4zyyam999zp6rwealm06lvuy9ykumwlpl', 'offer_amount': 3632.182553, 'ask_amount': 982.249666, 'leverage': 3, 'margin_amount': 1236.421135, 'entry_price': 3.771762, 'take_profit': 3.708887, 'stop_loss': 4.903275, 'pnl': 72.62974, 'fee': 1.483704, 'funding_payment': 10.637763, '': '', '__1': ''}, {'user_type': 'BOT', 'pair': 'ORAI_USDC', 'hash': '0346F253C884B14DCB259B419988629464B724A9BFEE9CCFEF408C8B9DAF0992', 'height': 14581611, 'time': '2023-11-27 18:16:46', 'order_id': 190, 'status': 'TP', 'direction': 'SELL', 'bidder_addr': 'orai15vc7z4zyyam999zp6rwealm06lvuy9ykumwlpl', 'offer_amount': 5495.158655, 'ask_amount': 1485.833534, 'leverage': 3, 'margin_amount': 1872.55643, 'entry_price': 3.776283, 'take_profit': 3.713327, 'stop_loss': 4.909144, 'pnl': 115.769437, 'fee': 2.247066, 'funding_payment': 16.091577, '': '', '__1': ''}, {'user_type': 'BOT', 'pair': 'ORAI_USDC', 'hash': 'D9C567215E3BE880ECC0D8C500CFB8D699B05E1D8B5681E6F542C417E2E9B1A3', 'height': 14581618, 'time': '2023-11-27 18:17:26', 'order_id': 192, 'status': 'TP', 'direction': 'SELL', 'bidder_addr': 'orai15vc7z4zyyam999zp6rwealm06lvuy9ykumwlpl', 'offer_amount': 4157.990296, 'ask_amount': 1124.03436, 'leverage': 3, 'margin_amount': 1414.045797, 'entry_price': 3.769499, 'take_profit': 3.709837, 'stop_loss': 4.90453, 'pnl': 79.056533, 'fee': 1.696854, 'funding_payment': 12.173292, '': '', '__1': ''}, {'user_type': 'BOT', 'pair': 'ORAI_USDC', 'hash': 'EE0C3E2785761114993180EA5098A45CBE8FB81DDCFF5364EA5F07BBDC36C3EF', 'height': 14581622, 'time': '2023-11-27 18:17:49', 'order_id': 193, 'status': 'TP', 'direction': 'SELL', 'bidder_addr': 'orai15vc7z4zyyam999zp6rwealm06lvuy9ykumwlpl', 'offer_amount': 4342.060966, 'ask_amount': 1173.644849, 'leverage': 3, 'margin_amount': 1475.554329, 'entry_price': 3.767196, 'take_profit': 3.704395, 'stop_loss': 4.897336, 'pnl': 79.290029, 'fee': 1.770664, 'funding_payment': 12.710573, '': '', '__1': ''}, {'user_type': 'BOT', 'pair': 'ORAI_USDC', 'hash': 'D267B64FCD028594FAE9CC8650555DD2B9F33B19362DC9C963E5532519C2C2A3', 'height': 14581775, 'time': '2023-11-27 18:32:28', 'order_id': 194, 'status': 'TP', 'direction': 'SELL', 'bidder_addr': 'orai15vc7z4zyyam999zp6rwealm06lvuy9ykumwlpl', 'offer_amount': 6550.883898, 'ask_amount': 1777.178606, 'leverage': 3, 'margin_amount': 2232.081529, 'entry_price': 3.763386, 'take_profit': 3.700642, 'stop_loss': 4.892374, 'pnl': 137.325201, 'fee': 2.678496, 'funding_payment': 19.246844, '': '', '__1': ''}, {'user_type': 'BOT', 'pair': 'ORAI_USDC', 'hash': 'EAE7A0FB21543EAAA00A9078A6F65779055FA9B22A4F1FA23C13B1BA64FFB5FE', 'height': 14581778, 'time': '2023-11-27 18:32:44', 'order_id': 195, 'status': 'TP', 'direction': 'SELL', 'bidder_addr': 'orai15vc7z4zyyam999zp6rwealm06lvuy9ykumwlpl', 'offer_amount': 3787.766652, 'ask_amount': 1029.545065, 'leverage': 3, 'margin_amount': 1290.751638, 'entry_price': 3.756618, 'take_profit': 3.693995, 'stop_loss': 4.883587, 'pnl': 79.841562, 'fee': 1.5489, 'funding_payment': 11.149973, '': '', '__1': ''}, {'user_type': 'BOT', 'pair': 'ORAI_USDC', 'hash': '44440EB0315308E302ADF72C132090794DF7E880E841136215DD5C6180E1A4E6', 'height': 14581397, 'time': '2023-11-27 17:56:17', 'order_id': 196, 'status': 'TP', 'direction': 'SELL', 'bidder_addr': 'orai15vc7z4zyyam999zp6rwealm06lvuy9ykumwlpl', 'offer_amount': 9688.234872, 'ask_amount': 2598.941659, 'leverage': 3, 'margin_amount': 3289.248237, 'entry_price': 3.792275, 'take_profit': 3.729039, 'stop_loss': 4.929917, 'pnl': 167.668551, 'fee': 3.947096, 'funding_payment': 18.933289, '': '', '__1': ''}, {'user_type': 'BOT', 'pair': 'ORAI_USDC', 'hash': '8CDE684F57D6BD21F00A6334B7D2A962EBEA8A80D8172A8390B130C52644B959', 'height': 14581781, 'time': '2023-11-27 18:33:02', 'order_id': 197, 'status': 'TP', 'direction': 'SELL', 'bidder_addr': 'orai15vc7z4zyyam999zp6rwealm06lvuy9ykumwlpl', 'offer_amount': 5294.707292, 'ask_amount': 1437.583601, 'leverage': 3, 'margin_amount': 1800.48671, 'entry_price': 3.75281, 'take_profit': 3.690246, 'stop_loss': 4.87863, 'pnl': 100.271086, 'fee': 2.160584, 'funding_payment': 13.58804, '': '', '__1': ''}, {'user_type': 'BOT', 'pair': 'ORAI_USDC', 'hash': 'FA947E52F314A06E771A2612E08C6A2DE0AB80E28D344B0F6B28B0F3888D751A', 'height': 14581871, 'time': '2023-11-27 18:41:38', 'order_id': 199, 'status': 'Close', 'direction': 'SELL', 'bidder_addr': 'orai15vc7z4zyyam999zp6rwealm06lvuy9ykumwlpl', 'offer_amount': 3803.342074, 'ask_amount': 1033.723242, 'leverage': 3, 'margin_amount': 1287.332696, 'entry_price': 3.736007, 'take_profit': 3.673728, 'stop_loss': 4.856793, 'pnl': 58.656014, 'fee': 1.546654, 'funding_payment': 6.827742, '': '', '__1': ''}, {'user_type': 'BOT', 'pair': 'ORAI_USDC', 'hash': 'FA947E52F314A06E771A2612E08C6A2DE0AB80E28D344B0F6B28B0F3888D751A', 'height': 14581871, 'time': '2023-11-27 18:41:38', 'order_id': 200, 'status': 'Close', 'direction': 'SELL', 'bidder_addr': 'orai15vc7z4zyyam999zp6rwealm06lvuy9ykumwlpl', 'offer_amount': 3848.131128, 'ask_amount': 1040.355979, 'leverage': 3, 'margin_amount': 1288.695103, 'entry_price': 3.716117, 'take_profit': 3.654169, 'stop_loss': 4.830936, 'pnl': 17.954181, 'fee': 1.548292, 'funding_payment': 3.688061, '': '', '__1': ''}, {'user_type': 'BOT', 'pair': 'ORAI_USDC', 'hash': '190E553D068890FF45BE1247E0624DA7009435096E33475E4A42998F32AA5C5F', 'height': 14582512, 'time': '2023-11-27 19:43:00', 'order_id': 201, 'status': 'Close', 'direction': 'SELL', 'bidder_addr': 'orai15vc7z4zyyam999zp6rwealm06lvuy9ykumwlpl', 'offer_amount': 6355.751274, 'ask_amount': 1724.619464, 'leverage': 3, 'margin_amount': 2140.06466, 'entry_price': 3.722672, 'take_profit': 3.660607, 'stop_loss': 4.839447, 'pnl': 64.442706, 'fee': 2.571162, 'funding_payment': 14.648917, '': '', '__1': ''}, {'user_type': 'USER', 'pair': 'ORAI_USDC', 'hash': 'FD95DE18AD3E5A92298656F4C564B3A762EA7EDA2FC30FAEA02C3255FE2CE541', 'height': 14583677, 'time': '2023-11-27 21:34:12', 'order_id': 202, 'status': 'TP', 'direction': 'SELL', 'bidder_addr': 'orai1x9dvpscythaz0mw8zj5re6f3qdpk347epc272q', 'offer_amount': 637.282913, 'ask_amount': 172.968239, 'leverage': 3, 'margin_amount': 213.846344, 'entry_price': 3.704548, 'take_profit': 3.700195, 'stop_loss': 3.774947, 'pnl': 3.486277, 'fee': 0.256614, 'funding_payment': 3.252321, '': '', '__1': ''}, {'user_type': 'BOT', 'pair': 'ORAI_USDC', 'hash': 'DF91EA13CDFDFBA7FCC3E8E2A13A75C9828D69B999045C6761AB3DD0466C4033', 'height': 14583673, 'time': '2023-11-27 21:33:49', 'order_id': 203, 'status': 'Close', 'direction': 'SELL', 'bidder_addr': 'orai15vc7z4zyyam999zp6rwealm06lvuy9ykumwlpl', 'offer_amount': 8940.223511, 'ask_amount': 2425.9724, 'leverage': 3, 'margin_amount': 3015.820632, 'entry_price': 3.729416, 'take_profit': 3.667231, 'stop_loss': 4.848204, 'pnl': 107.238385, 'fee': 3.623332, 'funding_payment': 45.615559, '': '', '__1': ''}, {'user_type': 'USER', 'pair': 'INJ_USDC', 'hash': 'ED34599EF8FCC858F10A976B927B01A06F2A700A03A8521048AE98C50BA291E1', 'height': 14581721, 'time': '2023-11-27 18:27:19', 'order_id': 24, 'status': 'Close', 'direction': 'BUY', 'bidder_addr': 'orai12zyu8w93h0q2lcnt50g3fn0w3yqnhy4fvawaqz', 'offer_amount': 0.999583, 'ask_amount': 0.063506, 'leverage': 1, 'margin_amount': 0.9996, 'entry_price': 15.740245, 'take_profit': 17.314269, 'stop_loss': 0, 'pnl': -1.7e-05, 'fee': 0.0004, 'funding_payment': -0.097641, '': '', '__1': ''}, {'user_type': 'USER', 'pair': 'ORAI_USDC', 'hash': '1EA98A45981F2C2628344BE351B9601E4C3FCD0D865AA79AF8E7DA3009CBAF06', 'height': 14584095, 'time': '2023-11-27 22:14:08', 'order_id': 204, 'status': 'Close', 'direction': 'SELL', 'bidder_addr': 'orai1zepr4z9v0lyuwkyu8a06xfc9mc6g6zrf4jlfx5', 'offer_amount': 295.682933, 'ask_amount': 80.56843, 'leverage': 3, 'margin_amount': 99.513472, 'entry_price': 3.705426, 'take_profit': 3.087855, 'stop_loss': 4.014211, 'pnl': 2.857483, 'fee': 0.119558, 'funding_payment': 1.668572, '': '', '__1': ''}, {'user_type': 'BOT', 'pair': 'ORAI_USDC', 'hash': '8A614085FA9223310379EC4F16CAFF017553E10A6D9D32416874882AF2D01046', 'height': 14585276, 'time': '2023-11-28 00:07:15', 'order_id': 205, 'status': 'TP', 'direction': 'SELL', 'bidder_addr': 'orai15vc7z4zyyam999zp6rwealm06lvuy9ykumwlpl', 'offer_amount': 3898.788403, 'ask_amount': 1074.997779, 'leverage': 3, 'margin_amount': 1325.438929, 'entry_price': 3.694468, 'take_profit': 3.632881, 'stop_loss': 4.802792, 'pnl': 72.756806, 'fee': 1.590526, 'funding_payment': 35.449126, '': '', '__1': ''}, {'user_type': 'BOT', 'pair': 'ORAI_USDC', 'hash': 'CC6614F6992092C65E7ACC8267665A0E3889AAC13EC7C42C64164056E4E1D036', 'height': 14585256, 'time': '2023-11-28 00:05:21', 'order_id': 206, 'status': 'TP', 'direction': 'SELL', 'bidder_addr': 'orai15vc7z4zyyam999zp6rwealm06lvuy9ykumwlpl', 'offer_amount': 4581.059652, 'ask_amount': 1262.515527, 'leverage': 3, 'margin_amount': 1559.17658, 'entry_price': 3.700482, 'take_profit': 3.638793, 'stop_loss': 4.810608, 'pnl': 90.857058, 'fee': 1.87101, 'funding_payment': 41.632712, '': '', '__1': ''}, {'user_type': 'BOT', 'pair': 'ORAI_USDC', 'hash': '4E61FE721AD2817EC8F7004D2EF0FE0EBFEB42D87E60E8F2AB507F30CF367984', 'height': 14585269, 'time': '2023-11-28 00:06:35', 'order_id': 207, 'status': 'TP', 'direction': 'SELL', 'bidder_addr': 'orai15vc7z4zyyam999zp6rwealm06lvuy9ykumwlpl', 'offer_amount': 3561.572263, 'ask_amount': 982.250072, 'leverage': 3, 'margin_amount': 1212.182634, 'entry_price': 3.69782, 'take_profit': 3.636177, 'stop_loss': 4.80715, 'pnl': 70.611785, 'fee': 1.454618, 'funding_payment': 32.390678, '': '', '__1': ''}, {'user_type': 'BOT', 'pair': 'ORAI_USDC', 'hash': 'DF42E4A336462C8D602BB043D61C60F986675F8AE27587EDB89DC02B2AED4EAA', 'height': 14585266, 'time': '2023-11-28 00:06:18', 'order_id': 208, 'status': 'TP', 'direction': 'SELL', 'bidder_addr': 'orai15vc7z4zyyam999zp6rwealm06lvuy9ykumwlpl', 'offer_amount': 4077.141254, 'ask_amount': 1124.034154, 'leverage': 3, 'margin_amount': 1387.661705, 'entry_price': 3.699166, 'take_profit': 3.6375, 'stop_loss': 4.808898, 'pnl': 80.848279, 'fee': 1.665194, 'funding_payment': 37.06615, '': '', '__1': ''}, {'user_type': 'BOT', 'pair': 'ORAI_USDC', 'hash': '834A2AA41BBE341325CF608C3C3650204EDE020294D13411C9B3420FFCC3A3BC', 'height': 14585259, 'time': '2023-11-28 00:05:38', 'order_id': 209, 'status': 'TP', 'direction': 'SELL', 'bidder_addr': 'orai15vc7z4zyyam999zp6rwealm06lvuy9ykumwlpl', 'offer_amount': 4257.62803, 'ask_amount': 1173.644779, 'leverage': 3, 'margin_amount': 1449.092478, 'entry_price': 3.699637, 'take_profit': 3.637963, 'stop_loss': 4.809511, 'pnl': 84.432674, 'fee': 1.73891, 'funding_payment': 38.70211, '': '', '__1': ''}, {'user_type': 'BOT', 'pair': 'ORAI_USDC', 'hash': 'C67C820C539E5BDC83DB025B82087746C29A11EC75CFF55FB952FFC8A016BAA6', 'height': 14585464, 'time': '2023-11-28 00:25:13', 'order_id': 210, 'status': 'Close', 'direction': 'SELL', 'bidder_addr': 'orai15vc7z4zyyam999zp6rwealm06lvuy9ykumwlpl', 'offer_amount': 3687.686148, 'ask_amount': 1016.94709, 'leverage': 3, 'margin_amount': 1247.095296, 'entry_price': 3.678938, 'take_profit': 3.617611, 'stop_loss': 4.782605, 'pnl': 53.59974, 'fee': 1.498312, 'funding_payment': 33.534847, '': '', '__1': ''}, {'user_type': 'BOT', 'pair': 'ORAI_USDC', 'hash': 'C67C820C539E5BDC83DB025B82087746C29A11EC75CFF55FB952FFC8A016BAA6', 'height': 14585464, 'time': '2023-11-28 00:25:13', 'order_id': 211, 'status': 'Close', 'direction': 'SELL', 'bidder_addr': 'orai15vc7z4zyyam999zp6rwealm06lvuy9ykumwlpl', 'offer_amount': 6488.291102, 'ask_amount': 1776.590646, 'leverage': 3, 'margin_amount': 2182.908814, 'entry_price': 3.68612, 'take_profit': 3.624664, 'stop_loss': 4.791928, 'pnl': 60.43534, 'fee': 2.622636, 'funding_payment': 58.584853, '': '', '__1': ''}, {'user_type': 'BOT', 'pair': 'ORAI_USDC', 'hash': 'C7C0BEA489CE846E12DD1D524112E4AA70F1AC00DEE90E44B26782ADE67E3886', 'height': 14585262, 'time': '2023-11-28 00:05:55', 'order_id': 214, 'status': 'TP', 'direction': 'SELL', 'bidder_addr': 'orai15vc7z4zyyam999zp6rwealm06lvuy9ykumwlpl', 'offer_amount': 3579.919554, 'ask_amount': 987.297424, 'leverage': 3, 'margin_amount': 1218.91978, 'entry_price': 3.699362, 'take_profit': 3.637695, 'stop_loss': 4.809156, 'pnl': 72.45168, 'fee': 1.462702, 'funding_payment': 32.557119, '': '', '__1': ''}, {'user_type': 'BOT', 'pair': 'ORAI_USDC', 'hash': 'EA2FBBA59CFE7E9B81BC2A1D0FCC0982CF36ABD413A942258F3D15FCD7FF17AE', 'height': 14585279, 'time': '2023-11-28 00:07:32', 'order_id': 216, 'status': 'TP', 'direction': 'SELL', 'bidder_addr': 'orai15vc7z4zyyam999zp6rwealm06lvuy9ykumwlpl', 'offer_amount': 3961.954822, 'ask_amount': 1092.372201, 'leverage': 3, 'margin_amount': 1345.693957, 'entry_price': 3.691266, 'take_profit': 3.629733, 'stop_loss': 4.79863, 'pnl': 70.282553, 'fee': 1.614832, 'funding_payment': 24.91264, '': '', '__1': ''}, {'user_type': 'BOT', 'pair': 'ORAI_USDC', 'hash': '9C6EB5B661E3D41BADFEE9E7E887C8E326988DE4A75BAC0AD48D25E034212A5E', 'height': 14585272, 'time': '2023-11-28 00:06:52', 'order_id': 218, 'status': 'TP', 'direction': 'SELL', 'bidder_addr': 'orai15vc7z4zyyam999zp6rwealm06lvuy9ykumwlpl', 'offer_amount': 4867.011701, 'ask_amount': 1341.054396, 'leverage': 3, 'margin_amount': 1653.914542, 'entry_price': 3.695442, 'take_profit': 3.633836, 'stop_loss': 4.804055, 'pnl': 88.777837, 'fee': 1.984696, 'funding_payment': 23.760801, '': '', '__1': ''}, {'user_type': 'USER', 'pair': 'ORAI_USDC', 'hash': '4F65F65314862395D156114E45B0C5F54178619091D0A6191BC535E92FCF3DD5', 'height': 14586402, 'time': '2023-11-28 01:55:02', 'order_id': 185, 'status': 'SL', 'direction': 'BUY', 'bidder_addr': 'orai12zyu8w93h0q2lcnt50g3fn0w3yqnhy4fvawaqz', 'offer_amount': 0.283919, 'ask_amount': 0.078601, 'leverage': 3, 'margin_amount': 0.1, 'entry_price': 3.812165, 'take_profit': 4.099999, 'stop_loss': 3.748628, 'pnl': -0.015721, 'fee': 0.00012, 'funding_payment': -0.003846, '': '', '__1': ''}, {'user_type': 'USER', 'pair': 'ORAI_USDC', 'hash': '6EC0363EEE51250C2785CFA7D587DEFE782FCBF7393E2F381028EA924639D548', 'height': 14586404, 'time': '2023-11-28 01:55:13', 'order_id': 219, 'status': 'SL', 'direction': 'BUY', 'bidder_addr': 'orai1x9dvpscythaz0mw8zj5re6f3qdpk347epc272q', 'offer_amount': 626.555845, 'ask_amount': 173.533351, 'leverage': 3, 'margin_amount': 213.567072, 'entry_price': 3.687662, 'take_profit': 3.724541, 'stop_loss': 3.650787, 'pnl': -13.376531, 'fee': 0.25628, 'funding_payment': -3.985366, '': '', '__1': ''}, {'user_type': 'BOT', 'pair': 'ORAI_USDC', 'hash': 'ECE8B0D336AE344DA449EB15BE6FBDF23183CD3E9CA5B0C99278559F8367C8ED', 'height': 14587762, 'time': '2023-11-28 04:05:08', 'order_id': 212, 'status': 'Close', 'direction': 'SELL', 'bidder_addr': 'orai15vc7z4zyyam999zp6rwealm06lvuy9ykumwlpl', 'offer_amount': 3700.834594, 'ask_amount': 1021.917239, 'leverage': 3, 'margin_amount': 1253.258869, 'entry_price': 3.67914, 'take_profit': 3.617809, 'stop_loss': 4.782866, 'pnl': 58.942013, 'fee': 1.505716, 'funding_payment': 52.833121, '': '', '__1': ''}, {'user_type': 'BOT', 'pair': 'ORAI_USDC', 'hash': 'ECE8B0D336AE344DA449EB15BE6FBDF23183CD3E9CA5B0C99278559F8367C8ED', 'height': 14587762, 'time': '2023-11-28 04:05:08', 'order_id': 213, 'status': 'Close', 'direction': 'SELL', 'bidder_addr': 'orai15vc7z4zyyam999zp6rwealm06lvuy9ykumwlpl', 'offer_amount': 5236.071747, 'ask_amount': 1436.836136, 'leverage': 3, 'margin_amount': 1763.988145, 'entry_price': 3.683067, 'take_profit': 3.621666, 'stop_loss': 4.787966, 'pnl': 55.892688, 'fee': 2.119328, 'funding_payment': 74.284428, '': '', '__1': ''}, {'user_type': 'BOT', 'pair': 'ORAI_USDC', 'hash': 'ECE8B0D336AE344DA449EB15BE6FBDF23183CD3E9CA5B0C99278559F8367C8ED', 'height': 14587762, 'time': '2023-11-28 04:05:08', 'order_id': 215, 'status': 'Close', 'direction': 'SELL', 'bidder_addr': 'orai15vc7z4zyyam999zp6rwealm06lvuy9ykumwlpl', 'offer_amount': 4079.578052, 'ask_amount': 1112.231378, 'leverage': 3, 'margin_amount': 1364.161476, 'entry_price': 3.679526, 'take_profit': 3.618187, 'stop_loss': 4.783366, 'pnl': 12.906376, 'fee': 1.63896, 'funding_payment': 51.997929, '': '', '__1': ''}, {'user_type': 'BOT', 'pair': 'ORAI_USDC', 'hash': 'ECE8B0D336AE344DA449EB15BE6FBDF23183CD3E9CA5B0C99278559F8367C8ED', 'height': 14587762, 'time': '2023-11-28 04:05:08', 'order_id': 217, 'status': 'Close', 'direction': 'SELL', 'bidder_addr': 'orai15vc7z4zyyam999zp6rwealm06lvuy9ykumwlpl', 'offer_amount': 3646.535349, 'ask_amount': 988.842846, 'leverage': 3, 'margin_amount': 1210.232995, 'entry_price': 3.671664, 'take_profit': 3.610458, 'stop_loss': 4.773148, 'pnl': -15.836364, 'fee': 1.454024, 'funding_payment': 36.03541, '': '', '__1': ''}, {'user_type': 'BOT', 'pair': 'ORAI_USDC', 'hash': '1CBB751571E8FCD476CC75ACF9425785626A586D3F7B3C7AF9CBEDE22AAC9698', 'height': 14588065, 'time': '2023-11-28 04:34:12', 'order_id': 220, 'status': 'Close', 'direction': 'SELL', 'bidder_addr': 'orai15vc7z4zyyam999zp6rwealm06lvuy9ykumwlpl', 'offer_amount': 3916.055629, 'ask_amount': 1067.834415, 'leverage': 3, 'margin_amount': 1309.606121, 'entry_price': 3.679239, 'take_profit': 3.617906, 'stop_loss': 4.782995, 'pnl': 12.762734, 'fee': 1.573414, 'funding_payment': 38.914021, '': '', '__1': ''}, {'user_type': 'BOT', 'pair': 'ORAI_USDC', 'hash': '1CBB751571E8FCD476CC75ACF9425785626A586D3F7B3C7AF9CBEDE22AAC9698', 'height': 14588065, 'time': '2023-11-28 04:34:12', 'order_id': 221, 'status': 'Close', 'direction': 'SELL', 'bidder_addr': 'orai15vc7z4zyyam999zp6rwealm06lvuy9ykumwlpl', 'offer_amount': 5698.791788, 'ask_amount': 1543.605361, 'leverage': 3, 'margin_amount': 1881.29372, 'entry_price': 3.656297, 'take_profit': 3.595342, 'stop_loss': 4.753164, 'pnl': -54.910628, 'fee': 2.260264, 'funding_payment': 38.855634, '': '', '__1': ''}, {'user_type': 'USER', 'pair': 'ORAI_USDC', 'hash': '7D8572283CDE1D23AD9E86802C6C7C58BD2900509A7DB2C07696757231800F91', 'height': 14587774, 'time': '2023-11-28 04:06:16', 'order_id': 233, 'status': 'TP', 'direction': 'BUY', 'bidder_addr': 'orai1x9dvpscythaz0mw8zj5re6f3qdpk347epc272q', 'offer_amount': 624.604894, 'ask_amount': 169.021051, 'leverage': 3, 'margin_amount': 203.663347, 'entry_price': 3.610537, 'take_profit': 3.646644, 'stop_loss': 3.574434, 'pnl': 14.348041, 'fee': 0.244396, 'funding_payment': -2.277727, '': '', '__1': ''}, {'user_type': 'USER', 'pair': 'ORAI_USDC', 'hash': '4288BB302393BD580BC8E1084E77F58323B0F8093BA3FBF39304722D6E38B9CE', 'height': 14588014, 'time': '2023-11-28 04:29:14', 'order_id': 234, 'status': 'TP', 'direction': 'SELL', 'bidder_addr': 'orai1x9dvpscythaz0mw8zj5re6f3qdpk347epc272q', 'offer_amount': 651.482341, 'ask_amount': 178.381641, 'leverage': 3, 'margin_amount': 219.800323, 'entry_price': 3.692138, 'take_profit': 3.655215, 'stop_loss': 3.729057, 'pnl': 7.127348, 'fee': 0.26376, 'funding_payment': 0, '': '', '__1': ''}, {'user_type': 'USER', 'pair': 'ORAI_USDC', 'hash': '8D414802DDB7E08EF68DED953199FD4A3D2FC98301EAF46522BE1F3F04C0B8B0', 'height': 14588066, 'time': '2023-11-28 04:34:18', 'order_id': 237, 'status': 'TP', 'direction': 'BUY', 'bidder_addr': 'orai1x9dvpscythaz0mw8zj5re6f3qdpk347epc272q', 'offer_amount': 687.508809, 'ask_amount': 185.575717, 'leverage': 3, 'margin_amount': 226.400151, 'entry_price': 3.655572, 'take_profit': 3.69213, 'stop_loss': 3.619018, 'pnl': 9.123396, 'fee': 0.27168, 'funding_payment': 0, '': '', '__1': ''}, {'user_type': 'USER', 'pair': 'ORAI_USDC', 'hash': '9633EEDCC2C942F83B1DC99ED881299DADBE305E6C9514AB3BE39B187657C47E', 'height': 14588552, 'time': '2023-11-28 05:20:46', 'order_id': 238, 'status': 'TP', 'direction': 'SELL', 'bidder_addr': 'orai1x9dvpscythaz0mw8zj5re6f3qdpk347epc272q', 'offer_amount': 695.956, 'ask_amount': 190.235987, 'leverage': 3, 'margin_amount': 234.980187, 'entry_price': 3.701164, 'take_profit': 3.66415, 'stop_loss': 3.738174, 'pnl': 8.138633, 'fee': 0.281976, 'funding_payment': 0.561196, '': '', '__1': ''}, {'user_type': 'BOT', 'pair': 'ORAI_USDC', 'hash': '076B3F9844CBD0F58F0EC9BD5B452CAC14B0BD4172DC9BFB88045BA975E588EA', 'height': 14589074, 'time': '2023-11-28 06:10:44', 'order_id': 222, 'status': 'Close', 'direction': 'SELL', 'bidder_addr': 'orai15vc7z4zyyam999zp6rwealm06lvuy9ykumwlpl', 'offer_amount': 4992.178575, 'ask_amount': 1357.825197, 'leverage': 3, 'margin_amount': 1642.695769, 'entry_price': 3.629397, 'take_profit': 3.568892, 'stop_loss': 4.718196, 'pnl': -64.091268, 'fee': 1.973602, 'funding_payment': 33.52063, '': '', '__1': ''}, {'user_type': 'BOT', 'pair': 'ORAI_USDC', 'hash': '16D4BBCF258CBEFD670F72CD1E79A523A631027936C7AC38205F3F869A446895', 'height': 14589377, 'time': '2023-11-28 06:39:38', 'order_id': 223, 'status': 'Close', 'direction': 'SELL', 'bidder_addr': 'orai15vc7z4zyyam999zp6rwealm06lvuy9ykumwlpl', 'offer_amount': 4673.014591, 'ask_amount': 1262.515665, 'leverage': 3, 'margin_amount': 1527.02005, 'entry_price': 3.628517, 'take_profit': 3.568027, 'stop_loss': 4.717053, 'pnl': -91.954441, 'fee': 1.834624, 'funding_payment': 31.167724, '': '', '__1': ''}, {'user_type': 'BOT', 'pair': 'ORAI_USDC', 'hash': '2BCC3E7DC87B0E6591C842F983912230634A36929EFA31BF4C89F77F351F91E1', 'height': 14589510, 'time': '2023-11-28 06:53:15', 'order_id': 224, 'status': 'Close', 'direction': 'SELL', 'bidder_addr': 'orai15vc7z4zyyam999zp6rwealm06lvuy9ykumwlpl', 'offer_amount': 4371.454439, 'ask_amount': 1173.644908, 'leverage': 3, 'margin_amount': 1419.209498, 'entry_price': 3.627697, 'take_profit': 3.567222, 'stop_loss': 4.715989, 'pnl': -113.825945, 'fee': 1.705096, 'funding_payment': 28.973771, '': '', '__1': ''}, {'user_type': 'USER', 'pair': 'ORAI_USDC', 'hash': '8D2DA44AA98E9329FBC3C5C4F2999112771E5B4F46E08950550CD7590ABED19C', 'height': 14589378, 'time': '2023-11-28 06:39:44', 'order_id': 241, 'status': 'TP', 'direction': 'BUY', 'bidder_addr': 'orai1x9dvpscythaz0mw8zj5re6f3qdpk347epc272q', 'offer_amount': 734.903891, 'ask_amount': 198.008839, 'leverage': 3, 'margin_amount': 241.993672, 'entry_price': 3.662007, 'take_profit': 3.698629, 'stop_loss': 3.625389, 'pnl': 9.794051, 'fee': 0.290392, 'funding_payment': -0.5966, '': '', '__1': ''}, {'user_type': 'BOT', 'pair': 'ORAI_USDC', 'hash': 'D9B33B7E519BEFF7806D32D98D382421D3EBE70781AA4B4FFA252E3B8601185B', 'height': 14591375, 'time': '2023-11-28 09:51:35', 'order_id': 225, 'status': 'Close', 'direction': 'SELL', 'bidder_addr': 'orai15vc7z4zyyam999zp6rwealm06lvuy9ykumwlpl', 'offer_amount': 3690.252721, 'ask_amount': 987.297693, 'leverage': 3, 'margin_amount': 1193.306842, 'entry_price': 3.625978, 'take_profit': 3.565534, 'stop_loss': 4.713757, 'pnl': -110.332195, 'fee': 1.433688, 'funding_payment': 26.542511, '': '', '__1': ''}, {'user_type': 'BOT', 'pair': 'ORAI_USDC', 'hash': 'D9B33B7E519BEFF7806D32D98D382421D3EBE70781AA4B4FFA252E3B8601185B', 'height': 14591375, 'time': '2023-11-28 09:51:35', 'order_id': 226, 'status': 'Close', 'direction': 'SELL', 'bidder_addr': 'orai15vc7z4zyyam999zp6rwealm06lvuy9ykumwlpl', 'offer_amount': 4224.297574, 'ask_amount': 1124.033958, 'leverage': 3, 'margin_amount': 1359.046847, 'entry_price': 3.627239, 'take_profit': 3.566773, 'stop_loss': 4.715395, 'pnl': -147.157033, 'fee': 1.632814, 'funding_payment': 30.218528, '': '', '__1': ''}, {'user_type': 'USER', 'pair': 'ORAI_USDC', 'hash': 'AEA282232F0FA9AF58FAE0F45D0DC5E582995FDF0F60D082C49690F0C71E5211', 'height': 14591376, 'time': '2023-11-28 09:51:41', 'order_id': 242, 'status': 'TP', 'direction': 'BUY', 'bidder_addr': 'orai1x9dvpscythaz0mw8zj5re6f3qdpk347epc272q', 'offer_amount': 764.096848, 'ask_amount': 202.833415, 'leverage': 3, 'margin_amount': 251.24132, 'entry_price': 3.711516, 'take_profit': 3.748633, 'stop_loss': 3.674403, 'pnl': 11.277352, 'fee': 0.301488, 'funding_payment': -0.445625, '': '', '__1': ''}, {'user_type': 'USER', 'pair': 'ORAI_USDC', 'hash': '03AAC01239A45BD7EA3946611069EB114964FF1371145961826C6A67A53B5913', 'height': 14591960, 'time': '2023-11-28 10:47:34', 'order_id': 244, 'status': 'TP', 'direction': 'SELL', 'bidder_addr': 'orai1x9dvpscythaz0mw8zj5re6f3qdpk347epc272q', 'offer_amount': 778.751484, 'ask_amount': 209.355073, 'leverage': 3, 'margin_amount': 262.92354, 'entry_price': 3.7631, 'take_profit': 3.725466, 'stop_loss': 3.800728, 'pnl': 9.072612, 'fee': 0.315508, 'funding_payment': -0.015073, '': '', '__1': ''}, {'user_type': 'BOT', 'pair': 'ORAI_USDC', 'hash': '55CEBCF701AA8A237BB10AEA7BCC1715344D216B8BF9F84C11704DA61E4152F4', 'height': 14592049, 'time': '2023-11-28 10:56:05', 'order_id': 245, 'status': 'TP', 'direction': 'SELL', 'bidder_addr': 'orai15vc7z4zyyam999zp6rwealm06lvuy9ykumwlpl', 'offer_amount': 4659.95883, 'ask_amount': 1271.699084, 'leverage': 3, 'margin_amount': 1590.997156, 'entry_price': 3.748735, 'take_profit': 3.686241, 'stop_loss': 4.873336, 'pnl': 107.30505, 'fee': 1.909196, 'funding_payment': 0, '': '', '__1': ''}, {'user_type': 'BOT', 'pair': 'ORAI_USDC', 'hash': 'E4088CFC92E4F10EF6C67A22B83555A87FBF9519D1BE4D2DEA4EFE2AB1459EA4', 'height': 14592053, 'time': '2023-11-28 10:56:28', 'order_id': 246, 'status': 'TP', 'direction': 'SELL', 'bidder_addr': 'orai15vc7z4zyyam999zp6rwealm06lvuy9ykumwlpl', 'offer_amount': 3558.648169, 'ask_amount': 973.901923, 'leverage': 3, 'margin_amount': 1211.394951, 'entry_price': 3.727093, 'take_profit': 3.664963, 'stop_loss': 4.845206, 'pnl': 71.175668, 'fee': 1.453672, 'funding_payment': 0, '': '', '__1': ''}, {'user_type': 'BOT', 'pair': 'ORAI_USDC', 'hash': '69B5776259ED68EA69CC83C1204F64EF4E215B0D0F7A97FBE7C0710A34D461C8', 'height': 14592685, 'time': '2023-11-28 11:56:54', 'order_id': 248, 'status': 'TP', 'direction': 'SELL', 'bidder_addr': 'orai15vc7z4zyyam999zp6rwealm06lvuy9ykumwlpl', 'offer_amount': 3831.52207, 'ask_amount': 1055.060139, 'leverage': 3, 'margin_amount': 1305.455218, 'entry_price': 3.707528, 'take_profit': 3.645724, 'stop_loss': 4.81977, 'pnl': 80.143946, 'fee': 1.566546, 'funding_payment': -0.046422, '': '', '__1': ''}, {'user_type': 'BOT', 'pair': 'ORAI_USDC', 'hash': '968A35F13E3EDD3B7563BE7A9E0A479BAA6D34067B19CE139F1BE766927D4CEC', 'height': 14593088, 'time': '2023-11-28 12:35:55', 'order_id': 235, 'status': 'TP', 'direction': 'SELL', 'bidder_addr': 'orai15vc7z4zyyam999zp6rwealm06lvuy9ykumwlpl', 'offer_amount': 4092.923384, 'ask_amount': 1133.227773, 'leverage': 3, 'margin_amount': 1391.675949, 'entry_price': 3.67977, 'take_profit': 3.618427, 'stop_loss': 4.783684, 'pnl': 77.094433, 'fee': 1.67001, 'funding_payment': 10.085727, '': '', '__1': ''}, {'user_type': 'BOT', 'pair': 'ORAI_USDC', 'hash': '8C58869AD305972AAC6D9EB7E73A55520BF8EB0E65DEFD0B06921A68DCB2FC01', 'height': 14593076, 'time': '2023-11-28 12:34:46', 'order_id': 239, 'status': 'TP', 'direction': 'SELL', 'bidder_addr': 'orai15vc7z4zyyam999zp6rwealm06lvuy9ykumwlpl', 'offer_amount': 3882.746451, 'ask_amount': 1075.669122, 'leverage': 3, 'margin_amount': 1324.368898, 'entry_price': 3.689181, 'take_profit': 3.627682, 'stop_loss': 4.795919, 'pnl': 85.592517, 'fee': 1.589242, 'funding_payment': 9.573455, '': '', '__1': ''}, {'user_type': 'BOT', 'pair': 'ORAI_USDC', 'hash': '4DCDED9085BA681721713D8B743B80684C2FC60B75F265D8086BA503FFDCF0BD', 'height': 14593084, 'time': '2023-11-28 12:35:32', 'order_id': 249, 'status': 'TP', 'direction': 'SELL', 'bidder_addr': 'orai15vc7z4zyyam999zp6rwealm06lvuy9ykumwlpl', 'offer_amount': 4262.299064, 'ask_amount': 1179.983632, 'leverage': 3, 'margin_amount': 1451.685342, 'entry_price': 3.686347, 'take_profit': 3.624895, 'stop_loss': 4.792234, 'pnl': 87.530896, 'fee': 1.742022, 'funding_payment': 0.958146, '': '', '__1': ''}, {'user_type': 'BOT', 'pair': 'ORAI_USDC', 'hash': 'F7FCE57CC1A34EBBB36277832AECE915316676056D201C354FDEF64760FC9ADF', 'height': 14593511, 'time': '2023-11-28 13:17:29', 'order_id': 227, 'status': 'Close', 'direction': 'SELL', 'bidder_addr': 'orai15vc7z4zyyam999zp6rwealm06lvuy9ykumwlpl', 'offer_amount': 3546.273372, 'ask_amount': 982.250277, 'leverage': 3, 'margin_amount': 1187.191, 'entry_price': 3.625932, 'take_profit': 3.565488, 'stop_loss': 4.713697, 'pnl': 15.299628, 'fee': 1.42634, 'funding_payment': 27.752499, '': '', '__1': ''}, {'user_type': 'BOT', 'pair': 'ORAI_USDC', 'hash': 'F7FCE57CC1A34EBBB36277832AECE915316676056D201C354FDEF64760FC9ADF', 'height': 14593511, 'time': '2023-11-28 13:17:29', 'order_id': 228, 'status': 'Close', 'direction': 'SELL', 'bidder_addr': 'orai15vc7z4zyyam999zp6rwealm06lvuy9ykumwlpl', 'offer_amount': 4870.313161, 'ask_amount': 1341.053877, 'leverage': 3, 'margin_amount': 1622.336607, 'entry_price': 3.629242, 'take_profit': 3.568739, 'stop_loss': 4.717995, 'pnl': -3.30334, 'fee': 1.949142, 'funding_payment': 37.890136, '': '', '__1': ''}, {'user_type': 'BOT', 'pair': 'ORAI_USDC', 'hash': '6F9E2EC84918841C0C1760EC97E1CFEF5EA3BBED4D2C14C2204E846AD4202B61', 'height': 14593755, 'time': '2023-11-28 13:41:28', 'order_id': 229, 'status': 'Close', 'direction': 'SELL', 'bidder_addr': 'orai15vc7z4zyyam999zp6rwealm06lvuy9ykumwlpl', 'offer_amount': 3912.55525, 'ask_amount': 1076.088494, 'leverage': 3, 'margin_amount': 1300.911132, 'entry_price': 3.626777, 'take_profit': 3.566318, 'stop_loss': 4.714794, 'pnl': -9.821854, 'fee': 1.562968, 'funding_payment': 30.403804, '': '', '__1': ''}, {'user_type': 'BOT', 'pair': 'ORAI_USDC', 'hash': '175AD64DFE88D003FAF563B0A21204EA543674A2F7D0C2F7C101B42CC9A1F749', 'height': 14593925, 'time': '2023-11-28 13:58:10', 'order_id': 230, 'status': 'Close', 'direction': 'SELL', 'bidder_addr': 'orai15vc7z4zyyam999zp6rwealm06lvuy9ykumwlpl', 'offer_amount': 3993.749047, 'ask_amount': 1092.372178, 'leverage': 3, 'margin_amount': 1320.651579, 'entry_price': 3.626927, 'take_profit': 3.566466, 'stop_loss': 4.714989, 'pnl': -31.79431, 'fee': 1.586684, 'funding_payment': 30.863883, '': '', '__1': ''}, {'user_type': 'BOT', 'pair': 'ORAI_USDC', 'hash': '175AD64DFE88D003FAF563B0A21204EA543674A2F7D0C2F7C101B42CC9A1F749', 'height': 14593925, 'time': '2023-11-28 13:58:10', 'order_id': 231, 'status': 'Close', 'direction': 'SELL', 'bidder_addr': 'orai15vc7z4zyyam999zp6rwealm06lvuy9ykumwlpl', 'offer_amount': 6513.092574, 'ask_amount': 1768.489075, 'leverage': 3, 'margin_amount': 2152.945454, 'entry_price': 3.652177, 'take_profit': 3.591287, 'stop_loss': 4.747804, 'pnl': -54.256212, 'fee': 2.586638, 'funding_payment': 49.96689, '': '', '__1': ''}, {'user_type': 'BOT', 'pair': 'ORAI_USDC', 'hash': '580AE39E0FDC69BC37D5BC2E00A4305601D74463BFE85BACEABB7104CA2C2395', 'height': 14594351, 'time': '2023-11-28 14:39:59', 'order_id': 232, 'status': 'Close', 'direction': 'SELL', 'bidder_addr': 'orai15vc7z4zyyam999zp6rwealm06lvuy9ykumwlpl', 'offer_amount': 4675.246795, 'ask_amount': 1282.237193, 'leverage': 3, 'margin_amount': 1548.918315, 'entry_price': 3.623943, 'take_profit': 3.56353, 'stop_loss': 4.711107, 'pnl': -28.49185, 'fee': 1.860934, 'funding_payment': 35.750055, '': '', '__1': ''}, {'user_type': 'BOT', 'pair': 'ORAI_USDC', 'hash': '5F1517E6FDBA9D3CC7344B7EF3E164E72D373D3CCB72FDE293CD045410DAEAD1', 'height': 14594499, 'time': '2023-11-28 14:54:26', 'order_id': 236, 'status': 'Close', 'direction': 'SELL', 'bidder_addr': 'orai15vc7z4zyyam999zp6rwealm06lvuy9ykumwlpl', 'offer_amount': 3607.908893, 'ask_amount': 996.06147, 'leverage': 3, 'margin_amount': 1215.131815, 'entry_price': 3.659809, 'take_profit': 3.598801, 'stop_loss': 4.757737, 'pnl': 37.486552, 'fee': 1.45991, 'funding_payment': 9.120934, '': '', '__1': ''}, {'user_type': 'BOT', 'pair': 'ORAI_USDC', 'hash': '5F1517E6FDBA9D3CC7344B7EF3E164E72D373D3CCB72FDE293CD045410DAEAD1', 'height': 14594499, 'time': '2023-11-28 14:54:26', 'order_id': 240, 'status': 'Close', 'direction': 'SELL', 'bidder_addr': 'orai15vc7z4zyyam999zp6rwealm06lvuy9ykumwlpl', 'offer_amount': 4360.580077, 'ask_amount': 1197.165195, 'leverage': 3, 'margin_amount': 1463.65552, 'entry_price': 3.667803, 'take_profit': 3.606659, 'stop_loss': 4.768125, 'pnl': 30.386483, 'fee': 1.758496, 'funding_payment': 7.430804, '': '', '__1': ''}, {'user_type': 'USER', 'pair': 'ORAI_USDC', 'hash': '6AA255A83D4EBB8859221EE3587144852E5981FA114DF9BBA2CE61C683283B1A', 'height': 14594790, 'time': '2023-11-28 15:23:03', 'order_id': 253, 'status': 'Close', 'direction': 'SELL', 'bidder_addr': 'orai1x9dvpscythaz0mw8zj5re6f3qdpk347epc272q', 'offer_amount': 845.45979, 'ask_amount': 232.523356, 'leverage': 3, 'margin_amount': 282.312514, 'entry_price': 3.642376, 'take_profit': 3.628367, 'stop_loss': 3.701667, 'pnl': 1.477752, 'fee': 0.339182, 'funding_payment': 0.379013, '': '', '__1': ''}, {'user_type': 'BOT', 'pair': 'ORAI_USDC', 'hash': 'CB72D58E62D9E342053F831A2548C85C7805A1AF6E644FF808B277C6CDF90A62', 'height': 14595559, 'time': '2023-11-28 16:38:32', 'order_id': 250, 'status': 'Close', 'direction': 'SELL', 'bidder_addr': 'orai15vc7z4zyyam999zp6rwealm06lvuy9ykumwlpl', 'offer_amount': 4411.520618, 'ask_amount': 1216.32739, 'leverage': 3, 'margin_amount': 1485.475455, 'entry_price': 3.663837, 'take_profit': 3.60276, 'stop_loss': 4.762971, 'pnl': 44.905747, 'fee': 1.784712, 'funding_payment': 2.79512, '': '', '__1': ''}, {'user_type': 'BOT', 'pair': 'ORAI_USDC', 'hash': 'CB72D58E62D9E342053F831A2548C85C7805A1AF6E644FF808B277C6CDF90A62', 'height': 14595559, 'time': '2023-11-28 16:38:32', 'order_id': 251, 'status': 'Close', 'direction': 'SELL', 'bidder_addr': 'orai15vc7z4zyyam999zp6rwealm06lvuy9ykumwlpl', 'offer_amount': 6126.735206, 'ask_amount': 1676.848809, 'leverage': 3, 'margin_amount': 2046.078249, 'entry_price': 3.660577, 'take_profit': 3.599548, 'stop_loss': 4.758725, 'pnl': 11.499541, 'fee': 2.458242, 'funding_payment': 3.853398, '': '', '__1': ''}, {'user_type': 'BOT', 'pair': 'ORAI_USDC', 'hash': '4561C710D2E3FED0E1C5DD1A0CEECA8E0A911D4182C6BCA113438F9D6EC59CF7', 'height': 14595798, 'time': '2023-11-28 17:01:57', 'order_id': 252, 'status': 'Close', 'direction': 'SELL', 'bidder_addr': 'orai15vc7z4zyyam999zp6rwealm06lvuy9ykumwlpl', 'offer_amount': 4447.684842, 'ask_amount': 1215.149034, 'leverage': 3, 'margin_amount': 1480.796727, 'entry_price': 3.655839, 'take_profit': 3.594895, 'stop_loss': 4.752573, 'pnl': -5.294661, 'fee': 1.77909, 'funding_payment': 3.912779, '': '', '__1': ''}, {'user_type': 'BOT', 'pair': 'ORAI_USDC', 'hash': 'C28BCF78681BE1DCEED0DAC0C587EC2449DB0617D6B344276A4BE944B9DD3327', 'height': 14596669, 'time': '2023-11-28 18:27:25', 'order_id': 254, 'status': 'Close', 'direction': 'SELL', 'bidder_addr': 'orai15vc7z4zyyam999zp6rwealm06lvuy9ykumwlpl', 'offer_amount': 3624.07865, 'ask_amount': 995.988072, 'leverage': 3, 'margin_amount': 1205.484777, 'entry_price': 3.631021, 'take_profit': 3.570493, 'stop_loss': 4.720313, 'pnl': -7.624319, 'fee': 1.448318, 'funding_payment': 3.600496, '': '', '__1': ''}, {'user_type': 'BOT', 'pair': 'ORAI_USDC', 'hash': 'C28BCF78681BE1DCEED0DAC0C587EC2449DB0617D6B344276A4BE944B9DD3327', 'height': 14596669, 'time': '2023-11-28 18:27:25', 'order_id': 255, 'status': 'Close', 'direction': 'SELL', 'bidder_addr': 'orai15vc7z4zyyam999zp6rwealm06lvuy9ykumwlpl', 'offer_amount': 3825.010231, 'ask_amount': 1045.75719, 'leverage': 3, 'margin_amount': 1265.942478, 'entry_price': 3.631653, 'take_profit': 3.571113, 'stop_loss': 4.721133, 'pnl': -27.182797, 'fee': 1.520956, 'funding_payment': 3.780412, '': '', '__1': ''}, {'user_type': 'USER', 'pair': 'INJ_USDC', 'hash': '31DFB5D58D4A0FA95C6DB49CD7D0D23F8A51ACA13CC6D6A9C8E95032E013335E', 'height': 14596413, 'time': '2023-11-28 18:02:21', 'order_id': 187, 'status': 'Close', 'direction': 'SELL', 'bidder_addr': 'orai12zyu8w93h0q2lcnt50g3fn0w3yqnhy4fvawaqz', 'offer_amount': 1.9992, 'ask_amount': 0.127014, 'leverage': 1, 'margin_amount': 1.9992, 'entry_price': 15.739997, 'take_profit': 14.165997, 'stop_loss': 0, 'pnl': 0, 'fee': 0.0008, 'funding_payment': 0.114102, '': '', '__1': ''}, {'user_type': 'BOT', 'pair': 'ORAI_USDC', 'hash': '52C84390A63EEA5455B96C3EA78394A6F189955270F212DB220802C438B5B687', 'height': 14597103, 'time': '2023-11-28 19:10:07', 'order_id': 256, 'status': 'Close', 'direction': 'SELL', 'bidder_addr': 'orai15vc7z4zyyam999zp6rwealm06lvuy9ykumwlpl', 'offer_amount': 4469.096047, 'ask_amount': 1214.816235, 'leverage': 3, 'margin_amount': 1462.18721, 'entry_price': 3.610884, 'take_profit': 3.550689, 'stop_loss': 4.694132, 'pnl': -82.534417, 'fee': 1.756732, 'funding_payment': 2.604566, '': '', '__1': ''}, {'user_type': 'BOT', 'pair': 'ORAI_USDC', 'hash': '52C84390A63EEA5455B96C3EA78394A6F189955270F212DB220802C438B5B687', 'height': 14597103, 'time': '2023-11-28 19:10:07', 'order_id': 257, 'status': 'Close', 'direction': 'SELL', 'bidder_addr': 'orai15vc7z4zyyam999zp6rwealm06lvuy9ykumwlpl', 'offer_amount': 3655.699271, 'ask_amount': 988.124265, 'leverage': 3, 'margin_amount': 1189.177904, 'entry_price': 3.610409, 'take_profit': 3.550225, 'stop_loss': 4.693518, 'pnl': -88.165559, 'fee': 1.428726, 'funding_payment': 2.118538, '': '', '__1': ''}, {'user_type': 'BOT', 'pair': 'ORAI_USDC', 'hash': '686F21FB0A29A9F04C1CA9074B2DF85354D4FF5D023ABA84250309EBE13C9652', 'height': 14597271, 'time': '2023-11-28 19:26:35', 'order_id': 258, 'status': 'Close', 'direction': 'SELL', 'bidder_addr': 'orai15vc7z4zyyam999zp6rwealm06lvuy9ykumwlpl', 'offer_amount': 4355.167741, 'ask_amount': 1179.983354, 'leverage': 3, 'margin_amount': 1420.76602, 'entry_price': 3.612167, 'take_profit': 3.551951, 'stop_loss': 4.6958, 'pnl': -92.869681, 'fee': 1.706966, 'funding_payment': 2.529884, '': '', '__1': ''}, {'user_type': 'BOT', 'pair': 'ORAI_USDC', 'hash': '686F21FB0A29A9F04C1CA9074B2DF85354D4FF5D023ABA84250309EBE13C9652', 'height': 14597271, 'time': '2023-11-28 19:26:35', 'order_id': 259, 'status': 'Close', 'direction': 'SELL', 'bidder_addr': 'orai15vc7z4zyyam999zp6rwealm06lvuy9ykumwlpl', 'offer_amount': 4207.49259, 'ask_amount': 1133.22784, 'leverage': 3, 'margin_amount': 1364.307874, 'entry_price': 3.611739, 'take_profit': 3.55153, 'stop_loss': 4.695243, 'pnl': -114.568968, 'fee': 1.639136, 'funding_payment': 2.42964, '': '', '__1': ''}, {'user_type': 'USER', 'pair': 'ORAI_USDC', 'hash': 'D8CE7909D9C209EE04E86A889280A210C448D26A1C397952DD3C61FCE7AF7998', 'height': 14597993, 'time': '2023-11-28 20:37:42', 'order_id': 243, 'status': 'Close', 'direction': 'SELL', 'bidder_addr': 'orai1uesy4qnqathqlxalakh9r5slvjlvq6appzdhjr', 'offer_amount': 1496.685448, 'ask_amount': 401.437575, 'leverage': 3, 'margin_amount': 499.4, 'entry_price': 3.732087, 'take_profit': 2.493206, 'stop_loss': 0, 'pnl': 1.514552, 'fee': 0.6, 'funding_payment': 0.12846, '': '', '__1': ''}, {'user_type': 'BOT', 'pair': 'ORAI_USDC', 'hash': '5B5FA55A7848B55310E05ED92AF569BCB3267F4AE1C76E442424020CE0BCC069', 'height': 14597786, 'time': '2023-11-28 20:17:19', 'order_id': 260, 'status': 'Close', 'direction': 'SELL', 'bidder_addr': 'orai15vc7z4zyyam999zp6rwealm06lvuy9ykumwlpl', 'offer_amount': 3642.999214, 'ask_amount': 981.053746, 'leverage': 3, 'margin_amount': 1188.718378, 'entry_price': 3.635025, 'take_profit': 3.57443, 'stop_loss': 4.725518, 'pnl': -76.84408, 'fee': 1.428174, 'funding_payment': -1.030106, '': '', '__1': ''}, {'user_type': 'BOT', 'pair': 'ORAI_USDC', 'hash': '5B5FA55A7848B55310E05ED92AF569BCB3267F4AE1C76E442424020CE0BCC069', 'height': 14597786, 'time': '2023-11-28 20:17:19', 'order_id': 261, 'status': 'Close', 'direction': 'SELL', 'bidder_addr': 'orai15vc7z4zyyam999zp6rwealm06lvuy9ykumwlpl', 'offer_amount': 6597.479078, 'ask_amount': 1764.174379, 'leverage': 3, 'margin_amount': 2165.757911, 'entry_price': 3.682897, 'take_profit': 3.621495, 'stop_loss': 4.78774, 'pnl': -100.205345, 'fee': 2.60203, 'funding_payment': -1.852383, '': '', '__1': ''}, {'user_type': 'BOT', 'pair': 'ORAI_USDC', 'hash': '7D0C4E1DDBF68E8CF677FC8A9FC3FC024C080221CF1ACDB829BF8261E6940917', 'height': 14598204, 'time': '2023-11-28 20:58:22', 'order_id': 262, 'status': 'Close', 'direction': 'SELL', 'bidder_addr': 'orai15vc7z4zyyam999zp6rwealm06lvuy9ykumwlpl', 'offer_amount': 6456.450259, 'ask_amount': 1722.271048, 'leverage': 3, 'margin_amount': 2095.578989, 'entry_price': 3.650259, 'take_profit': 3.589402, 'stop_loss': 4.745312, 'pnl': -169.713292, 'fee': 2.517716, 'funding_payment': -1.165977, '': '', '__1': ''}, {'user_type': 'BOT', 'pair': 'ORAI_USDC', 'hash': '0E141DAB1445EF8F2E154C22F069A73714AB004F3E8B1D28CC68613BA861F64C', 'height': 14599451, 'time': '2023-11-28 23:00:49', 'order_id': 263, 'status': 'Close', 'direction': 'SELL', 'bidder_addr': 'orai15vc7z4zyyam999zp6rwealm06lvuy9ykumwlpl', 'offer_amount': 9085.95421, 'ask_amount': 2437.421692, 'leverage': 3, 'margin_amount': 2953.739843, 'entry_price': 3.635488, 'take_profit': 3.574869, 'stop_loss': 4.726099, 'pnl': -224.734681, 'fee': 3.548746, 'funding_payment': -32.939316, '': '', '__1': ''}, {'user_type': 'BOT', 'pair': 'ORAI_USDC', 'hash': '1004222821A194A0990750A4B04E99BFFDC933D5E830EBE31DFB74CB7DF0F5F6', 'height': 14599647, 'time': '2023-11-28 23:20:13', 'order_id': 264, 'status': 'Close', 'direction': 'SELL', 'bidder_addr': 'orai15vc7z4zyyam999zp6rwealm06lvuy9ykumwlpl', 'offer_amount': 3960.740239, 'ask_amount': 1060.128283, 'leverage': 3, 'margin_amount': 1287.592953, 'entry_price': 3.64369, 'take_profit': 3.58295, 'stop_loss': 4.736781, 'pnl': -97.96138, 'fee': 1.546966, 'funding_payment': -14.326573, '': '', '__1': ''}, {'user_type': 'USER', 'pair': 'ORAI_USDC', 'hash': '17BB1A473FD05952EFD692BA3CFA182CF6FCA38991B9D84EADCEE5122F072951', 'height': 14599453, 'time': '2023-11-28 23:01:01', 'order_id': 265, 'status': 'SL', 'direction': 'SELL', 'bidder_addr': 'orai1x9dvpscythaz0mw8zj5re6f3qdpk347epc272q', 'offer_amount': 845.483158, 'ask_amount': 225.261691, 'leverage': 3, 'margin_amount': 273.351802, 'entry_price': 3.636088, 'take_profit': 3.599724, 'stop_loss': 3.672446, 'pnl': -26.411818, 'fee': 0.328022, 'funding_payment': -3.170558, '': '', '__1': ''}, {'user_type': 'BOT', 'pair': 'ORAI_USDC', 'hash': '1004222821A194A0990750A4B04E99BFFDC933D5E830EBE31DFB74CB7DF0F5F6', 'height': 14599647, 'time': '2023-11-28 23:20:13', 'order_id': 266, 'status': 'Close', 'direction': 'SELL', 'bidder_addr': 'orai15vc7z4zyyam999zp6rwealm06lvuy9ykumwlpl', 'offer_amount': 3729.087608, 'ask_amount': 992.850543, 'leverage': 3, 'margin_amount': 1199.647604, 'entry_price': 3.624858, 'take_profit': 3.564432, 'stop_loss': 4.712301, 'pnl': -130.144796, 'fee': 1.441306, 'funding_payment': -14.637595, '': '', '__1': ''}, {'user_type': 'BOT', 'pair': 'ORAI_USDC', 'hash': 'AAB3E0EC3E3EA6C25EDAF8008A1C57952DD98BEA016BC60B5E4FBAF2A03FCBE4', 'height': 14599990, 'time': '2023-11-28 23:53:12', 'order_id': 267, 'status': 'Close', 'direction': 'SELL', 'bidder_addr': 'orai15vc7z4zyyam999zp6rwealm06lvuy9ykumwlpl', 'offer_amount': 4126.481484, 'ask_amount': 1098.231423, 'leverage': 3, 'margin_amount': 1339.514329, 'entry_price': 3.659103, 'take_profit': 3.598106, 'stop_loss': 4.756818, 'pnl': -107.938497, 'fee': 1.609348, 'funding_payment': -16.191225, '': '', '__1': ''}, {'user_type': 'BOT', 'pair': 'ORAI_USDC', 'hash': 'AAB3E0EC3E3EA6C25EDAF8008A1C57952DD98BEA016BC60B5E4FBAF2A03FCBE4', 'height': 14599990, 'time': '2023-11-28 23:53:12', 'order_id': 268, 'status': 'Close', 'direction': 'SELL', 'bidder_addr': 'orai15vc7z4zyyam999zp6rwealm06lvuy9ykumwlpl', 'offer_amount': 3855.824402, 'ask_amount': 1020.586469, 'leverage': 3, 'margin_amount': 1245.79985, 'entry_price': 3.662011, 'take_profit': 3.600966, 'stop_loss': 4.7606, 'pnl': -118.424852, 'fee': 1.496754, 'funding_payment': -15.987487, '': '', '__1': ''}, {'user_type': 'USER', 'pair': 'ORAI_USDC', 'hash': '3633EDD681738ECB2EF4D4808272489E5A5A95758214E44A4185903448B0B307', 'height': 14600053, 'time': '2023-11-28 23:59:13', 'order_id': 274, 'status': 'Close', 'direction': 'SELL', 'bidder_addr': 'orai1uesy4qnqathqlxalakh9r5slvjlvq6appzdhjr', 'offer_amount': 1521.814439, 'ask_amount': 401.322054, 'leverage': 3, 'margin_amount': 499.4, 'entry_price': 3.733161, 'take_profit': 2.488774, 'stop_loss': 0, 'pnl': -23.614439, 'fee': 0.6, 'funding_payment': -1.500141, '': '', '__1': ''}, {'user_type': 'USER', 'pair': 'ORAI_USDC', 'hash': '3C5B21EA690A2E1FADCEC8359ED7102FC85AF53E1213E96D82FD8D74B32DB2D7', 'height': 14600637, 'time': '2023-11-29 00:55:00', 'order_id': 198, 'status': 'TP', 'direction': 'BUY', 'bidder_addr': 'orai18vyspza5ndpg5wss0u7mqs7g50zekjrjvc2dys', 'offer_amount': 1418.50036, 'ask_amount': 366.357934, 'leverage': 3, 'margin_amount': 457.57278, 'entry_price': 3.742435, 'take_profit': 3.867182, 'stop_loss': 0, 'pnl': 47.429278, 'fee': 0.549086, 'funding_payment': -18.964518, '': '', '__1': ''}, {'user_type': 'BOT', 'pair': 'ORAI_USDC', 'hash': '0A777634BAE9879AAC92A3DC6E03A819CB6B1A4F201BA44F0F7F0BABCB394972', 'height': 14600319, 'time': '2023-11-29 00:24:37', 'order_id': 269, 'status': 'Close', 'direction': 'SELL', 'bidder_addr': 'orai15vc7z4zyyam999zp6rwealm06lvuy9ykumwlpl', 'offer_amount': 4721.403655, 'ask_amount': 1242.38224, 'leverage': 3, 'margin_amount': 1507.821902, 'entry_price': 3.640961, 'take_profit': 3.580264, 'stop_loss': 4.733231, 'pnl': -197.937949, 'fee': 1.81156, 'funding_payment': -22.174038, '': '', '__1': ''}, {'user_type': 'BOT', 'pair': 'ORAI_USDC', 'hash': '0A777634BAE9879AAC92A3DC6E03A819CB6B1A4F201BA44F0F7F0BABCB394972', 'height': 14600319, 'time': '2023-11-29 00:24:37', 'order_id': 270, 'status': 'Close', 'direction': 'SELL', 'bidder_addr': 'orai15vc7z4zyyam999zp6rwealm06lvuy9ykumwlpl', 'offer_amount': 5921.128698, 'ask_amount': 1546.798431, 'leverage': 3, 'margin_amount': 1904.804259, 'entry_price': 3.694348, 'take_profit': 3.632758, 'stop_loss': 4.80263, 'pnl': -206.715921, 'fee': 2.28851, 'funding_payment': -27.198903, '': '', '__1': ''}, {'user_type': 'BOT', 'pair': 'ORAI_USDC', 'hash': '5BF742ACCC8E6E6085D9CBA4DE0AFEEDBB15FBA57489FC381626775BD07F8F1E', 'height': 14600636, 'time': '2023-11-29 00:54:54', 'order_id': 271, 'status': 'Close', 'direction': 'SELL', 'bidder_addr': 'orai15vc7z4zyyam999zp6rwealm06lvuy9ykumwlpl', 'offer_amount': 3946.742744, 'ask_amount': 1030.082883, 'leverage': 3, 'margin_amount': 1275.181414, 'entry_price': 3.713821, 'take_profit': 3.651912, 'stop_loss': 4.827951, 'pnl': -121.198502, 'fee': 1.532056, 'funding_payment': -18.112977, '': '', '__1': ''}, {'user_type': 'BOT', 'pair': 'ORAI_USDC', 'hash': '5BF742ACCC8E6E6085D9CBA4DE0AFEEDBB15FBA57489FC381626775BD07F8F1E', 'height': 14600636, 'time': '2023-11-29 00:54:54', 'order_id': 272, 'status': 'Close', 'direction': 'SELL', 'bidder_addr': 'orai15vc7z4zyyam999zp6rwealm06lvuy9ykumwlpl', 'offer_amount': 6457.406253, 'ask_amount': 1673.479373, 'leverage': 3, 'margin_amount': 2086.58923, 'entry_price': 3.74057, 'take_profit': 3.678208, 'stop_loss': 4.862716, 'pnl': -197.638563, 'fee': 2.506914, 'funding_payment': -25.13566, '': '', '__1': ''}, {'user_type': 'USER', 'pair': 'ORAI_USDC', 'hash': '1EE9683B2FD798FCB62AC95FE587B16823DBF09BAB8ABC3072873BCD045D7485', 'height': 14600263, 'time': '2023-11-29 00:19:17', 'order_id': 277, 'status': 'Close', 'direction': 'SELL', 'bidder_addr': 'orai1x9dvpscythaz0mw8zj5re6f3qdpk347epc272q', 'offer_amount': 788.691137, 'ask_amount': 208.318684, 'leverage': 3, 'margin_amount': 258.863759, 'entry_price': 3.7279, 'take_profit': 3.715978, 'stop_loss': 3.791048, 'pnl': -12.09986, 'fee': 0.311008, 'funding_payment': -0.454759, '': '', '__1': ''}, {'user_type': 'BOT', 'pair': 'ORAI_USDC', 'hash': 'A1CF7ED276B1BC696CD7601BAEA371B35DE7A0D8516E8F5E18F13AE7C76FA902', 'height': 14600972, 'time': '2023-11-29 01:26:58', 'order_id': 273, 'status': 'Close', 'direction': 'SELL', 'bidder_addr': 'orai15vc7z4zyyam999zp6rwealm06lvuy9ykumwlpl', 'offer_amount': 5674.947167, 'ask_amount': 1470.083885, 'leverage': 3, 'margin_amount': 1838.211071, 'entry_price': 3.751237, 'take_profit': 3.688698, 'stop_loss': 4.876584, 'pnl': -160.313954, 'fee': 2.208502, 'funding_payment': -20.68261, '': '', '__1': ''}, {'user_type': 'BOT', 'pair': 'ORAI_USDC', 'hash': '3162D7064AAE971A45EC340DDB71F3B61AFBE34C0D8D1AD9D67C1D4062E78E2A', 'height': 14601166, 'time': '2023-11-29 01:45:29', 'order_id': 275, 'status': 'Close', 'direction': 'SELL', 'bidder_addr': 'orai15vc7z4zyyam999zp6rwealm06lvuy9ykumwlpl', 'offer_amount': 5047.424842, 'ask_amount': 1304.641384, 'leverage': 3, 'margin_amount': 1616.371524, 'entry_price': 3.716817, 'take_profit': 3.654855, 'stop_loss': 4.831842, 'pnl': -198.31027, 'fee': 1.941976, 'funding_payment': -11.538248, '': '', '__1': ''}, {'user_type': 'BOT', 'pair': 'ORAI_USDC', 'hash': 'C1F4DCED07E52347144A499C4BAE42B65CDEC37411046AFEA26D7EA2AEB832CF', 'height': 14601308, 'time': '2023-11-29 01:59:03', 'order_id': 276, 'status': 'Close', 'direction': 'SELL', 'bidder_addr': 'orai15vc7z4zyyam999zp6rwealm06lvuy9ykumwlpl', 'offer_amount': 5143.700578, 'ask_amount': 1326.997329, 'leverage': 3, 'margin_amount': 1655.512844, 'entry_price': 3.742689, 'take_profit': 3.680295, 'stop_loss': 4.865474, 'pnl': -177.162046, 'fee': 1.989002, 'funding_payment': -6.775648, '': '', '__1': ''}, {'user_type': 'BOT', 'pair': 'ORAI_USDC', 'hash': 'C1F4DCED07E52347144A499C4BAE42B65CDEC37411046AFEA26D7EA2AEB832CF', 'height': 14601308, 'time': '2023-11-29 01:59:03', 'order_id': 278, 'status': 'Close', 'direction': 'SELL', 'bidder_addr': 'orai15vc7z4zyyam999zp6rwealm06lvuy9ykumwlpl', 'offer_amount': 3786.856694, 'ask_amount': 971.068731, 'leverage': 3, 'margin_amount': 1215.82715, 'entry_price': 3.756151, 'take_profit': 3.693537, 'stop_loss': 4.882982, 'pnl': -139.375244, 'fee': 1.460744, 'funding_payment': -4.958276, '': '', '__1': ''}, {'user_type': 'BOT', 'pair': 'ORAI_USDC', 'hash': '787A204E9E7BCDF04554C7ED21E2CA533703615C0AEE55E78DDD55E4C08C25C2', 'height': 14601509, 'time': '2023-11-29 02:18:14', 'order_id': 279, 'status': 'Close', 'direction': 'SELL', 'bidder_addr': 'orai15vc7z4zyyam999zp6rwealm06lvuy9ykumwlpl', 'offer_amount': 3853.190531, 'ask_amount': 991.308077, 'leverage': 3, 'margin_amount': 1251.098914, 'entry_price': 3.786206, 'take_profit': 3.72309, 'stop_loss': 4.922052, 'pnl': -99.893789, 'fee': 1.503122, 'funding_payment': -7.840255, '': '', '__1': ''}, {'user_type': 'BOT', 'pair': 'ORAI_USDC', 'hash': '787A204E9E7BCDF04554C7ED21E2CA533703615C0AEE55E78DDD55E4C08C25C2', 'height': 14601509, 'time': '2023-11-29 02:18:14', 'order_id': 281, 'status': 'Close', 'direction': 'SELL', 'bidder_addr': 'orai15vc7z4zyyam999zp6rwealm06lvuy9ykumwlpl', 'offer_amount': 4351.559821, 'ask_amount': 1113.337524, 'leverage': 3, 'margin_amount': 1422.219876, 'entry_price': 3.832314, 'take_profit': 3.768429, 'stop_loss': 4.981991, 'pnl': -84.900193, 'fee': 1.708714, 'funding_payment': -8.805386, '': '', '__1': ''}, {'user_type': 'BOT', 'pair': 'ORAI_USDC', 'hash': 'C1BBB62D56A514E6A0F66BBDD342D5AB29DC66E918DDE67F9AB0D39B7597AB00', 'height': 14601541, 'time': '2023-11-29 02:21:18', 'order_id': 282, 'status': 'Close', 'direction': 'SELL', 'bidder_addr': 'orai15vc7z4zyyam999zp6rwealm06lvuy9ykumwlpl', 'offer_amount': 4395.115217, 'ask_amount': 1125.23892, 'leverage': 3, 'margin_amount': 1446.60607, 'entry_price': 3.856797, 'take_profit': 3.792503, 'stop_loss': 5.013817, 'pnl': -55.297007, 'fee': 1.738012, 'funding_payment': -8.899514, '': '', '__1': ''}, {'user_type': 'BOT', 'pair': 'ORAI_USDC', 'hash': 'AF7396B242A53E8F93A102AE5911BC065F486E78EA4413572E89FA27F3E239E6', 'height': 14601671, 'time': '2023-11-29 02:33:43', 'order_id': 283, 'status': 'Close', 'direction': 'SELL', 'bidder_addr': 'orai15vc7z4zyyam999zp6rwealm06lvuy9ykumwlpl', 'offer_amount': 3793.951784, 'ask_amount': 965.984138, 'leverage': 3, 'margin_amount': 1244.632799, 'entry_price': 3.865382, 'take_profit': 3.800947, 'stop_loss': 5.024981, 'pnl': -60.053387, 'fee': 1.495352, 'funding_payment': -4.816396, '': '', '__1': ''}, {'user_type': 'BOT', 'pair': 'ORAI_USDC', 'hash': 'AF7396B242A53E8F93A102AE5911BC065F486E78EA4413572E89FA27F3E239E6', 'height': 14601671, 'time': '2023-11-29 02:33:43', 'order_id': 284, 'status': 'Close', 'direction': 'SELL', 'bidder_addr': 'orai15vc7z4zyyam999zp6rwealm06lvuy9ykumwlpl', 'offer_amount': 3762.005885, 'ask_amount': 952.999531, 'leverage': 3, 'margin_amount': 1230.127568, 'entry_price': 3.872386, 'take_profit': 3.807835, 'stop_loss': 5.034087, 'pnl': -71.623181, 'fee': 1.477926, 'funding_payment': -4.751655, '': '', '__1': ''}, {'user_type': 'USER', 'pair': 'ORAI_USDC', 'hash': '816662A208F8A76AD2CA16E619D94BE4EA692266590531C207DB3B328EB6A871', 'height': 14602099, 'time': '2023-11-29 03:14:42', 'order_id': 280, 'status': 'TP', 'direction': 'BUY', 'bidder_addr': 'orai1uesy4qnqathqlxalakh9r5slvjlvq6appzdhjr', 'offer_amount': 1507.460197, 'ask_amount': 380.47433, 'leverage': 3, 'margin_amount': 480, 'entry_price': 3.780207, 'take_profit': 3.96, 'stop_loss': 0, 'pnl': 69.188197, 'fee': 0.576, 'funding_payment': 5.748967, '': '', '__1': ''}, {'user_type': 'BOT', 'pair': 'ORAI_USDC', 'hash': 'DA2151260028F58088A996B1B592CC26D8D1C91FC3F7A2F875658B0D62158D76', 'height': 14602097, 'time': '2023-11-29 03:14:31', 'order_id': 285, 'status': 'Close', 'direction': 'SELL', 'bidder_addr': 'orai15vc7z4zyyam999zp6rwealm06lvuy9ykumwlpl', 'offer_amount': 6324.039313, 'ask_amount': 1601.320441, 'leverage': 3, 'margin_amount': 2078.101303, 'entry_price': 3.893226, 'take_profit': 3.82832, 'stop_loss': 5.061169, 'pnl': -89.735404, 'fee': 2.496716, 'funding_payment': -19.515292, '': '', '__1': ''}, {'user_type': 'BOT', 'pair': 'ORAI_USDC', 'hash': 'A6DC042F1FA23256F7D78BA5527CE219C4B3F9589574D6DEFB5304C92DA1E80C', 'height': 14602172, 'time': '2023-11-29 03:21:41', 'order_id': 286, 'status': 'Close', 'direction': 'SELL', 'bidder_addr': 'orai15vc7z4zyyam999zp6rwealm06lvuy9ykumwlpl', 'offer_amount': 4952.512715, 'ask_amount': 1247.109408, 'leverage': 3, 'margin_amount': 1624.233712, 'entry_price': 3.907196, 'take_profit': 3.84206, 'stop_loss': 5.079334, 'pnl': -79.811579, 'fee': 1.951422, 'funding_payment': -8.980434, '': '', '__1': ''}, {'user_type': 'BOT', 'pair': 'ORAI_USDC', 'hash': '76CF19ED1E7CC0B366FFB6A21E2F73151F0B953F03048927500FAF8113BF665E', 'height': 14602985, 'time': '2023-11-29 04:39:23', 'order_id': 287, 'status': 'TP', 'direction': 'SELL', 'bidder_addr': 'orai15vc7z4zyyam999zp6rwealm06lvuy9ykumwlpl', 'offer_amount': 4633.456211, 'ask_amount': 1195.348988, 'leverage': 3, 'margin_amount': 1573.777496, 'entry_price': 3.945012, 'take_profit': 3.879247, 'stop_loss': 5.128496, 'pnl': 82.210681, 'fee': 1.888532, 'funding_payment': -19.027565, '': '', '__1': ''}, {'user_type': 'BOT', 'pair': 'ORAI_USDC', 'hash': '496DF3CB3D1A1364275724BF11C34286F2C2754D919A543D67C6A645FE52A9EB', 'height': 14602574, 'time': '2023-11-29 04:00:04', 'order_id': 288, 'status': 'TP', 'direction': 'SELL', 'bidder_addr': 'orai15vc7z4zyyam999zp6rwealm06lvuy9ykumwlpl', 'offer_amount': 4716.330237, 'ask_amount': 1209.35739, 'leverage': 3, 'margin_amount': 1602.947916, 'entry_price': 3.971591, 'take_profit': 3.905382, 'stop_loss': 5.163047, 'pnl': 86.742903, 'fee': 1.923536, 'funding_payment': 0, '': '', '__1': ''}, {'user_type': 'BOT', 'pair': 'ORAI_USDC', 'hash': '6B1311C6B3391C5919054B763B1308E30F299F7E61BC46C24CD56A52E924BD55', 'height': 14602988, 'time': '2023-11-29 04:39:40', 'order_id': 289, 'status': 'TP', 'direction': 'SELL', 'bidder_addr': 'orai15vc7z4zyyam999zp6rwealm06lvuy9ykumwlpl', 'offer_amount': 5280.535642, 'ask_amount': 1361.688851, 'leverage': 3, 'margin_amount': 1792.590112, 'entry_price': 3.944599, 'take_profit': 3.878838, 'stop_loss': 5.127956, 'pnl': 90.78137, 'fee': 2.151108, 'funding_payment': -11.869841, '': '', '__1': ''}, {'user_type': 'BOT', 'pair': 'ORAI_USDC', 'hash': '66587BDEBE7B20FEF33D1F04BA68A624F96759493E73C55EAF65CD37CA45409A', 'height': 14603167, 'time': '2023-11-29 04:56:45', 'order_id': 290, 'status': 'TP', 'direction': 'SELL', 'bidder_addr': 'orai15vc7z4zyyam999zp6rwealm06lvuy9ykumwlpl', 'offer_amount': 3904.890406, 'ask_amount': 1014.948218, 'leverage': 3, 'margin_amount': 1327.753219, 'entry_price': 3.919884, 'take_profit': 3.854539, 'stop_loss': 5.095832, 'pnl': 73.589345, 'fee': 1.593302, 'funding_payment': -8.847303, '': '', '__1': ''}, {'user_type': 'USER', 'pair': 'ORAI_USDC', 'hash': '6DFB4499B0A0C45E86287F676CE401E98DA3DAC2617762E73C5DDF93A09FEB33', 'height': 14603301, 'time': '2023-11-29 05:09:40', 'order_id': 109, 'status': 'TP', 'direction': 'BUY', 'bidder_addr': 'orai18vyspza5ndpg5wss0u7mqs7g50zekjrjvc2dys', 'offer_amount': 463.788957, 'ask_amount': 115.698227, 'leverage': 3, 'margin_amount': 150, 'entry_price': 3.884761, 'take_profit': 3.987892, 'stop_loss': 0, 'pnl': 14.328957, 'fee': 0.18, 'funding_payment': -12.713615, '': '', '__1': ''}, {'user_type': 'BOT', 'pair': 'ORAI_USDC', 'hash': '0CDE1F69599237F2A0847C9FC0C711D500FD00A57E410E5D54F0F8DC9AB5DB7F', 'height': 14603234, 'time': '2023-11-29 05:03:13', 'order_id': 291, 'status': 'Close', 'direction': 'SELL', 'bidder_addr': 'orai15vc7z4zyyam999zp6rwealm06lvuy9ykumwlpl', 'offer_amount': 4111.143785, 'ask_amount': 1068.408262, 'leverage': 3, 'margin_amount': 1388.366481, 'entry_price': 3.898415, 'take_profit': 3.833428, 'stop_loss': 5.067922, 'pnl': 53.955658, 'fee': 1.66804, 'funding_payment': -15.449183, '': '', '__1': ''}, {'user_type': 'BOT', 'pair': 'ORAI_USDC', 'hash': '0CDE1F69599237F2A0847C9FC0C711D500FD00A57E410E5D54F0F8DC9AB5DB7F', 'height': 14603234, 'time': '2023-11-29 05:03:13', 'order_id': 292, 'status': 'Close', 'direction': 'SELL', 'bidder_addr': 'orai15vc7z4zyyam999zp6rwealm06lvuy9ykumwlpl', 'offer_amount': 4692.562682, 'ask_amount': 1212.243792, 'leverage': 3, 'margin_amount': 1575.850313, 'entry_price': 3.899835, 'take_profit': 3.834823, 'stop_loss': 5.069766, 'pnl': 34.988257, 'fee': 1.893292, 'funding_payment': -6.961916, '': '', '__1': ''}, {'user_type': 'BOT', 'pair': 'ORAI_USDC', 'hash': '63718F9E1472875E70915CFE4C4EC6EC3D233C3AE791453112095876DA0AC34F', 'height': 14603247, 'time': '2023-11-29 05:04:28', 'order_id': 293, 'status': 'Close', 'direction': 'SELL', 'bidder_addr': 'orai15vc7z4zyyam999zp6rwealm06lvuy9ykumwlpl', 'offer_amount': 4463.007266, 'ask_amount': 1145.821372, 'leverage': 3, 'margin_amount': 1480.299045, 'entry_price': 3.875732, 'take_profit': 3.811122, 'stop_loss': 5.038433, 'pnl': -22.110131, 'fee': 1.778492, 'funding_payment': -6.580452, '': '', '__1': ''}, {'user_type': 'BOT', 'pair': 'ORAI_USDC', 'hash': '63718F9E1472875E70915CFE4C4EC6EC3D233C3AE791453112095876DA0AC34F', 'height': 14603247, 'time': '2023-11-29 05:04:28', 'order_id': 294, 'status': 'Close', 'direction': 'SELL', 'bidder_addr': 'orai15vc7z4zyyam999zp6rwealm06lvuy9ykumwlpl', 'offer_amount': 4685.124258, 'ask_amount': 1195.447657, 'leverage': 3, 'margin_amount': 1544.612491, 'entry_price': 3.876236, 'take_profit': 3.811617, 'stop_loss': 5.039087, 'pnl': -51.286785, 'fee': 1.85576, 'funding_payment': -6.865455, '': '', '__1': ''}, {'user_type': 'BOT', 'pair': 'ORAI_USDC', 'hash': 'DEF8CD6E221C49E7259E386BC4C70E7A2714E55AA6C5CE72FE8F6B1641252687', 'height': 14603253, 'time': '2023-11-29 05:05:03', 'order_id': 295, 'status': 'Close', 'direction': 'SELL', 'bidder_addr': 'orai15vc7z4zyyam999zp6rwealm06lvuy9ykumwlpl', 'offer_amount': 5332.206055, 'ask_amount': 1361.68861, 'leverage': 3, 'margin_amount': 1760.178236, 'entry_price': 3.877931, 'take_profit': 3.813282, 'stop_loss': 5.041288, 'pnl': -51.671347, 'fee': 2.11475, 'funding_payment': -7.820177, '': '', '__1': ''}, {'user_type': 'BOT', 'pair': 'ORAI_USDC', 'hash': '3861FD517162744A8EA08B658B9FF71F04568DF7A036F2F8CE64AF7C5E1DB361', 'height': 14603300, 'time': '2023-11-29 05:09:34', 'order_id': 296, 'status': 'Close', 'direction': 'SELL', 'bidder_addr': 'orai15vc7z4zyyam999zp6rwealm06lvuy9ykumwlpl', 'offer_amount': 5267.337159, 'ask_amount': 1335.567416, 'leverage': 3, 'margin_amount': 1714.250652, 'entry_price': 3.850612, 'take_profit': 3.786418, 'stop_loss': 5.005773, 'pnl': -124.585203, 'fee': 2.059572, 'funding_payment': -7.670163, '': '', '__1': ''}, {'user_type': 'BOT', 'pair': 'ORAI_USDC', 'hash': '3861FD517162744A8EA08B658B9FF71F04568DF7A036F2F8CE64AF7C5E1DB361', 'height': 14603300, 'time': '2023-11-29 05:09:34', 'order_id': 297, 'status': 'Close', 'direction': 'SELL', 'bidder_addr': 'orai15vc7z4zyyam999zp6rwealm06lvuy9ykumwlpl', 'offer_amount': 4028.471163, 'ask_amount': 1015.098354, 'leverage': 3, 'margin_amount': 1301.822167, 'entry_price': 3.847377, 'take_profit': 3.783242, 'stop_loss': 5.001574, 'pnl': -123.004662, 'fee': 1.564062, 'funding_payment': -5.829709, '': '', '__1': ''}, {'user_type': 'BOT', 'pair': 'ORAI_USDC', 'hash': '3861FD517162744A8EA08B658B9FF71F04568DF7A036F2F8CE64AF7C5E1DB361', 'height': 14603300, 'time': '2023-11-29 05:09:34', 'order_id': 298, 'status': 'Close', 'direction': 'SELL', 'bidder_addr': 'orai15vc7z4zyyam999zp6rwealm06lvuy9ykumwlpl', 'offer_amount': 5737.676723, 'ask_amount': 1436.384143, 'leverage': 3, 'margin_amount': 1875.271789, 'entry_price': 3.91665, 'take_profit': 3.851355, 'stop_loss': 5.091622, 'pnl': -111.861356, 'fee': 2.253028, 'funding_payment': 0, '': '', '__1': ''}, {'user_type': 'BOT', 'pair': 'ORAI_USDC', 'hash': '4BDB17ECCC12509092FE6777D67476B03BB4ABE9C4C07F6981192702FAE22991', 'height': 14603473, 'time': '2023-11-29 05:26:13', 'order_id': 299, 'status': 'Close', 'direction': 'SELL', 'bidder_addr': 'orai15vc7z4zyyam999zp6rwealm06lvuy9ykumwlpl', 'offer_amount': 3825.62697, 'ask_amount': 966.251734, 'leverage': 3, 'margin_amount': 1285.024559, 'entry_price': 3.989719, 'take_profit': 3.923211, 'stop_loss': 5.186619, 'pnl': 29.446707, 'fee': 1.543882, 'funding_payment': 0, '': '', '__1': ''}, {'user_type': 'BOT', 'pair': 'ORAI_USDC', 'hash': '4BDB17ECCC12509092FE6777D67476B03BB4ABE9C4C07F6981192702FAE22991', 'height': 14603473, 'time': '2023-11-29 05:26:13', 'order_id': 300, 'status': 'Close', 'direction': 'SELL', 'bidder_addr': 'orai15vc7z4zyyam999zp6rwealm06lvuy9ykumwlpl', 'offer_amount': 5747.161298, 'ask_amount': 1442.316474, 'leverage': 3, 'margin_amount': 1905.904862, 'entry_price': 3.964257, 'take_profit': 3.898168, 'stop_loss': 5.15351, 'pnl': -29.446712, 'fee': 2.289832, 'funding_payment': 0, '': '', '__1': ''}, {'user_type': 'BOT', 'pair': 'ORAI_USDC', 'hash': 'FFA3AEE32CDB4FE51B3F15EEB27E8512950C4875DFD0B24316735BA545647D5B', 'height': 14603640, 'time': '2023-11-29 05:43:03', 'order_id': 301, 'status': 'Close', 'direction': 'SELL', 'bidder_addr': 'orai15vc7z4zyyam999zp6rwealm06lvuy9ykumwlpl', 'offer_amount': 3955.835892, 'ask_amount': 991.573975, 'leverage': 3, 'margin_amount': 1318.611963, 'entry_price': 3.989451, 'take_profit': 3.922947, 'stop_loss': 5.186269, 'pnl': -3e-06, 'fee': 1.584234, 'funding_payment': 0, '': '', '__1': ''}, {'user_type': 'BOT', 'pair': 'ORAI_USDC', 'hash': '80EE8D52D4B18D980AA9637782622AED4ACBAA7D99D32FAD76872445C1C2FA00', 'height': 14604600, 'time': '2023-11-29 07:14:55', 'order_id': 302, 'status': 'Close', 'direction': 'SELL', 'bidder_addr': 'orai15vc7z4zyyam999zp6rwealm06lvuy9ykumwlpl', 'offer_amount': 4868.268384, 'ask_amount': 1221.029963, 'leverage': 3, 'margin_amount': 1622.756127, 'entry_price': 3.987017, 'take_profit': 3.920551, 'stop_loss': 5.183102, 'pnl': -3e-06, 'fee': 1.949646, 'funding_payment': -23.617161, '': '', '__1': ''}, {'user_type': 'BOT', 'pair': 'ORAI_USDC', 'hash': '251568BDF123BA990ADC8FD65A43456131D2087C31388D480D282975612B378A', 'height': 14604799, 'time': '2023-11-29 07:33:54', 'order_id': 303, 'status': 'Close', 'direction': 'SELL', 'bidder_addr': 'orai15vc7z4zyyam999zp6rwealm06lvuy9ykumwlpl', 'offer_amount': 5302.489885, 'ask_amount': 1330.325161, 'leverage': 3, 'margin_amount': 1767.496627, 'entry_price': 3.98586, 'take_profit': 3.919412, 'stop_loss': 5.181595, 'pnl': -4e-06, 'fee': 2.123544, 'funding_payment': 0, '': '', '__1': ''}, {'user_type': 'BOT', 'pair': 'ORAI_USDC', 'hash': 'D6762E8DB15F02B7E4EAD744591A38C7A0729662322A392DB4E034683B7DAEDD', 'height': 14605042, 'time': '2023-11-29 07:57:05', 'order_id': 304, 'status': 'Close', 'direction': 'BUY', 'bidder_addr': 'orai15vc7z4zyyam999zp6rwealm06lvuy9ykumwlpl', 'offer_amount': 19903.42187, 'ask_amount': 4910.6957, 'leverage': 3, 'margin_amount': 6634.473958, 'entry_price': 4.053075, 'take_profit': 4.120691, 'stop_loss': 2.837197, 'pnl': -3e-06, 'fee': 7.970932, 'funding_payment': 0, '': '', '__1': ''}, {'user_type': 'BOT', 'pair': 'ORAI_USDC', 'hash': '657F0C694314FB1981B4C7307C200E465FAB83085E228660378838748B496371', 'height': 14605052, 'time': '2023-11-29 07:58:03', 'order_id': 305, 'status': 'Close', 'direction': 'BUY', 'bidder_addr': 'orai15vc7z4zyyam999zp6rwealm06lvuy9ykumwlpl', 'offer_amount': 13973.57986, 'ask_amount': 3461.151841, 'leverage': 3, 'margin_amount': 4657.859953, 'entry_price': 4.037262, 'take_profit': 4.104595, 'stop_loss': 2.826114, 'pnl': -4e-06, 'fee': 5.596146, 'funding_payment': 0, '': '', '__1': ''}, {'user_type': 'BOT', 'pair': 'ORAI_USDC', 'hash': 'C79A19A1666A5E2F3209123633366F4DD3CDAFAC8A76694EE4629C2EE62C0575', 'height': 14605070, 'time': '2023-11-29 07:59:45', 'order_id': 306, 'status': 'Close', 'direction': 'BUY', 'bidder_addr': 'orai15vc7z4zyyam999zp6rwealm06lvuy9ykumwlpl', 'offer_amount': 10837.1485, 'ask_amount': 2689.853561, 'leverage': 3, 'margin_amount': 3612.382833, 'entry_price': 4.028899, 'take_profit': 4.096081, 'stop_loss': 2.820253, 'pnl': -4e-06, 'fee': 4.340066, 'funding_payment': 0, '': '', '__1': ''}, {'user_type': 'BOT', 'pair': 'ORAI_USDC', 'hash': '84028C349BE0DB3E24E4B77E566167BFE8AE181714FE64827BB8A6C90EF93F8A', 'height': 14605084, 'time': '2023-11-29 08:01:08', 'order_id': 307, 'status': 'Close', 'direction': 'BUY', 'bidder_addr': 'orai15vc7z4zyyam999zp6rwealm06lvuy9ykumwlpl', 'offer_amount': 6680.550888, 'ask_amount': 1662.732409, 'leverage': 3, 'margin_amount': 2226.850297, 'entry_price': 4.017814, 'take_profit': 4.084799, 'stop_loss': 2.812485, 'pnl': -3e-06, 'fee': 2.67543, 'funding_payment': 17.490282, '': '', '__1': ''}, {'user_type': 'BOT', 'pair': 'ORAI_USDC', 'hash': '515CCAA812E5A84C55FD386AE953E8DAD25BFE90D525C2556C369C5D1A962633', 'height': 14605653, 'time': '2023-11-29 08:55:26', 'order_id': 308, 'status': 'Close', 'direction': 'SELL', 'bidder_addr': 'orai15vc7z4zyyam999zp6rwealm06lvuy9ykumwlpl', 'offer_amount': 3824.595475, 'ask_amount': 960.677753, 'leverage': 3, 'margin_amount': 1277.630627, 'entry_price': 3.989778, 'take_profit': 3.923269, 'stop_loss': 5.186695, 'pnl': 8.296406, 'fee': 1.534998, 'funding_payment': 0, '': '', '__1': ''}, {'user_type': 'USER', 'pair': 'ORAI_USDC', 'hash': '2496DFD3C0E204481E932AECAEF9DC5369FAA55630D5ADF200FC9B80471A98A0', 'height': 14605792, 'time': '2023-11-29 09:08:41', 'order_id': 309, 'status': 'Close', 'direction': 'SELL', 'bidder_addr': 'orai1uesy4qnqathqlxalakh9r5slvjlvq6appzdhjr', 'offer_amount': 1626.352411, 'ask_amount': 407.029418, 'leverage': 3, 'margin_amount': 539.352, 'entry_price': 3.97528, 'take_profit': 2.650186, 'stop_loss': 0, 'pnl': -8.296411, 'fee': 0.648, 'funding_payment': -4.012903, '': '', '__1': ''}, {'user_type': 'USER', 'pair': 'ORAI_USDC', 'hash': '9E3D3ACCB8F035EF3953A25E0D5A34FCCED87AF7B156A20CB2B1B2E753EAE82D', 'height': 14606485, 'time': '2023-11-29 10:14:55', 'order_id': 310, 'status': 'Close', 'direction': 'SELL', 'bidder_addr': 'orai1uesy4qnqathqlxalakh9r5slvjlvq6appzdhjr', 'offer_amount': 1630.453513, 'ask_amount': 403.449391, 'leverage': 3, 'margin_amount': 537.3544, 'entry_price': 3.995701, 'take_profit': 2.669532, 'stop_loss': 0, 'pnl': -18.390313, 'fee': 0.6456, 'funding_payment': -2.084219, '': '', '__1': ''}, {'user_type': 'USER', 'pair': 'INJ_USDC', 'hash': '9C5DD3AAE4DCEFE24C121AF7A3C7D45108047E1170EF71D7C0CB5C1887EAD944', 'height': 14606756, 'time': '2023-11-29 10:40:44', 'order_id': 313, 'status': 'Close', 'direction': 'BUY', 'bidder_addr': 'orai1zepr4z9v0lyuwkyu8a06xfc9mc6g6zrf4jlfx5', 'offer_amount': 0.299627, 'ask_amount': 0.018114, 'leverage': 3, 'margin_amount': 0.09988, 'entry_price': 16.541901, 'take_profit': 17.093297, 'stop_loss': 0, 'pnl': -1.3e-05, 'fee': 0.00012, 'funding_payment': 0, '': '', '__1': ''}, {'user_type': 'USER', 'pair': 'INJ_USDC', 'hash': '04A6F8F836AEE6ADCE87AB211811B180AAC0674C6B3FECA289DEC75FD777C328', 'height': 14606762, 'time': '2023-11-29 10:41:19', 'order_id': 314, 'status': 'Close', 'direction': 'BUY', 'bidder_addr': 'orai1zepr4z9v0lyuwkyu8a06xfc9mc6g6zrf4jlfx5', 'offer_amount': 2.996394, 'ask_amount': 0.181147, 'leverage': 3, 'margin_amount': 0.9988, 'entry_price': 16.541262, 'take_profit': 17.092637, 'stop_loss': 0, 'pnl': -6e-06, 'fee': 0.0012, 'funding_payment': 0, '': '', '__1': ''}, {'user_type': 'BOT', 'pair': 'ORAI_USDC', 'hash': '756A50BE1583706CEDD9377C312B79D563FE6BD646438EC3C8DD3BFD0B4355A8', 'height': 14607144, 'time': '2023-11-29 11:17:45', 'order_id': 311, 'status': 'TP', 'direction': 'BUY', 'bidder_addr': 'orai15vc7z4zyyam999zp6rwealm06lvuy9ykumwlpl', 'offer_amount': 4470.442073, 'ask_amount': 1094.01985, 'leverage': 3, 'margin_amount': 1461.567622, 'entry_price': 4.003072, 'take_profit': 4.069804, 'stop_loss': 2.80216, 'pnl': 91.000847, 'fee': 1.75388, 'funding_payment': 9.268536, '': '', '__1': ''}, {'user_type': 'BOT', 'pair': 'ORAI_USDC', 'hash': '4BFF8343CEE6969711F4F6FBC0BA4822B17829D37C13D07D8C54FB918030354D', 'height': 14607201, 'time': '2023-11-29 11:23:11', 'order_id': 312, 'status': 'TP', 'direction': 'BUY', 'bidder_addr': 'orai15vc7z4zyyam999zp6rwealm06lvuy9ykumwlpl', 'offer_amount': 4225.801761, 'ask_amount': 1027.979197, 'leverage': 3, 'margin_amount': 1381.146948, 'entry_price': 4.025829, 'take_profit': 4.092939, 'stop_loss': 2.818089, 'pnl': 87.333045, 'fee': 1.657376, 'funding_payment': 8.709039, '': '', '__1': ''}, {'user_type': 'BOT', 'pair': 'ORAI_USDC', 'hash': '77C5622292D9751923767801DE019F5F6674FC82A8466F6B03ABF3E47B389A0D', 'height': 14607355, 'time': '2023-11-29 11:37:54', 'order_id': 315, 'status': 'Close', 'direction': 'BUY', 'bidder_addr': 'orai15vc7z4zyyam999zp6rwealm06lvuy9ykumwlpl', 'offer_amount': 5358.798111, 'ask_amount': 1303.272111, 'leverage': 3, 'margin_amount': 1763.694835, 'entry_price': 4.059846, 'take_profit': 4.127527, 'stop_loss': 2.841904, 'pnl': 67.713606, 'fee': 2.118976, 'funding_payment': 4.308617, '': '', '__1': ''}, {'user_type': 'BOT', 'pair': 'ORAI_USDC', 'hash': '0F22CC6B0AD7A03DFDC2CBD484F359C4E5B8D0CD681D104C0BCE55D6275ACE1C', 'height': 14607487, 'time': '2023-11-29 11:50:33', 'order_id': 318, 'status': 'Close', 'direction': 'BUY', 'bidder_addr': 'orai15vc7z4zyyam999zp6rwealm06lvuy9ykumwlpl', 'offer_amount': 4517.562664, 'ask_amount': 1099.867108, 'leverage': 3, 'margin_amount': 1498.088242, 'entry_price': 4.086188, 'take_profit': 4.154306, 'stop_loss': 2.860342, 'pnl': 23.297938, 'fee': 1.799864, 'funding_payment': 0, '': '', '__1': ''}, {'user_type': 'BOT', 'pair': 'ORAI_USDC', 'hash': '0F22CC6B0AD7A03DFDC2CBD484F359C4E5B8D0CD681D104C0BCE55D6275ACE1C', 'height': 14607487, 'time': '2023-11-29 11:50:33', 'order_id': 319, 'status': 'Close', 'direction': 'BUY', 'bidder_addr': 'orai15vc7z4zyyam999zp6rwealm06lvuy9ykumwlpl', 'offer_amount': 4467.208308, 'ask_amount': 1094.065056, 'leverage': 3, 'margin_amount': 1490.209115, 'entry_price': 4.086253, 'take_profit': 4.154372, 'stop_loss': 2.860387, 'pnl': -3.419037, 'fee': 1.790398, 'funding_payment': 0, '': '', '__1': ''}, {'user_type': 'BOT', 'pair': 'ORAI_USDC', 'hash': '059F3C46E65862831EACFA358AF94AADF740169A0318A0CC486E836DC22E9093', 'height': 14607674, 'time': '2023-11-29 12:08:31', 'order_id': 320, 'status': 'Close', 'direction': 'BUY', 'bidder_addr': 'orai15vc7z4zyyam999zp6rwealm06lvuy9ykumwlpl', 'offer_amount': 4399.255303, 'ask_amount': 1075.717294, 'leverage': 3, 'margin_amount': 1473.824341, 'entry_price': 4.110255, 'take_profit': 4.178773, 'stop_loss': 2.877188, 'pnl': -22.21772, 'fee': 1.770714, 'funding_payment': 4.373866, '': '', '__1': ''}, {'user_type': 'BOT', 'pair': 'ORAI_USDC', 'hash': 'B377EB56AF78054FB5EA6B9DC0DB23FD8B30F41592284452739CDD3E14B526E4', 'height': 14607856, 'time': '2023-11-29 12:25:55', 'order_id': 321, 'status': 'Close', 'direction': 'BUY', 'bidder_addr': 'orai15vc7z4zyyam999zp6rwealm06lvuy9ykumwlpl', 'offer_amount': 4960.276309, 'ask_amount': 1211.187735, 'leverage': 3, 'margin_amount': 1660.467775, 'entry_price': 4.112825, 'take_profit': 4.181388, 'stop_loss': 2.878988, 'pnl': -21.127016, 'fee': 1.994954, 'funding_payment': 4.924689, '': '', '__1': ''}, {'user_type': 'BOT', 'pair': 'ORAI_USDC', 'hash': 'B377EB56AF78054FB5EA6B9DC0DB23FD8B30F41592284452739CDD3E14B526E4', 'height': 14607856, 'time': '2023-11-29 12:25:55', 'order_id': 322, 'status': 'Close', 'direction': 'BUY', 'bidder_addr': 'orai15vc7z4zyyam999zp6rwealm06lvuy9ykumwlpl', 'offer_amount': 4080.219722, 'ask_amount': 1002.257842, 'leverage': 3, 'margin_amount': 1372.57655, 'entry_price': 4.108453, 'take_profit': 4.17694, 'stop_loss': 2.875926, 'pnl': -37.509928, 'fee': 1.64907, 'funding_payment': 4.07518, '': '', '__1': ''}, {'user_type': 'BOT', 'pair': 'ORAI_USDC', 'hash': '24570258C0F6D33428E33FD5084F6E8883259E879F057FA276CBF892B2FAAD9F', 'height': 14607979, 'time': '2023-11-29 12:37:42', 'order_id': 323, 'status': 'Close', 'direction': 'BUY', 'bidder_addr': 'orai15vc7z4zyyam999zp6rwealm06lvuy9ykumwlpl', 'offer_amount': 5621.229542, 'ask_amount': 1378.764347, 'leverage': 3, 'margin_amount': 1878.000013, 'entry_price': 4.086267, 'take_profit': 4.154389, 'stop_loss': 2.860399, 'pnl': -12.770497, 'fee': 2.256306, 'funding_payment': 5.606055, '': '', '__1': ''}, {'user_type': 'BOT', 'pair': 'ORAI_USDC', 'hash': '7FC6B54EA76521CDE9EAF2B2CA729E6A4D9C07B317AB49B03A32AE8A1013A1E2', 'height': 14608143, 'time': '2023-11-29 12:53:19', 'order_id': 324, 'status': 'Close', 'direction': 'BUY', 'bidder_addr': 'orai15vc7z4zyyam999zp6rwealm06lvuy9ykumwlpl', 'offer_amount': 5753.318465, 'ask_amount': 1405.159663, 'leverage': 3, 'margin_amount': 1917.219997, 'entry_price': 4.093243, 'take_profit': 4.161482, 'stop_loss': 2.865282, 'pnl': 1.658474, 'fee': 2.303428, 'funding_payment': 0, '': '', '__1': ''}, {'user_type': 'BOT', 'pair': 'ORAI_USDC', 'hash': '2B76ADE3B75D3B6B17630F16EF66CADF78CFD206FA5ABFE3557004175D0164CA', 'height': 14608497, 'time': '2023-11-29 13:27:12', 'order_id': 325, 'status': 'Close', 'direction': 'BUY', 'bidder_addr': 'orai15vc7z4zyyam999zp6rwealm06lvuy9ykumwlpl', 'offer_amount': 6015.513572, 'ask_amount': 1462.794816, 'leverage': 3, 'margin_amount': 1987.491945, 'entry_price': 4.076084, 'take_profit': 4.144039, 'stop_loss': 2.853272, 'pnl': 53.037737, 'fee': 2.387854, 'funding_payment': 5.112467, '': '', '__1': ''}, {'user_type': 'BOT', 'pair': 'ORAI_USDC', 'hash': '225D137AC73DD365CF606D9592A58DAB089C63230DB8C7952A0BAECBC55D8060', 'height': 14608667, 'time': '2023-11-29 13:43:31', 'order_id': 326, 'status': 'Close', 'direction': 'BUY', 'bidder_addr': 'orai15vc7z4zyyam999zp6rwealm06lvuy9ykumwlpl', 'offer_amount': 3836.865619, 'ask_amount': 933.795708, 'leverage': 3, 'margin_amount': 1267.508783, 'entry_price': 4.072118, 'take_profit': 4.139998, 'stop_loss': 2.850491, 'pnl': 34.33927, 'fee': 1.522836, 'funding_payment': 3.263615, '': '', '__1': ''}, {'user_type': 'USER', 'pair': 'ORAI_USDC', 'hash': '7EBC59DDC0C336CADE92A521C3C91F537C33F937DE2D86F573AD84BDE0108C19', 'height': 14608982, 'time': '2023-11-29 14:13:43', 'order_id': 317, 'status': 'Close', 'direction': 'BUY', 'bidder_addr': 'orai12zyu8w93h0q2lcnt50g3fn0w3yqnhy4fvawaqz', 'offer_amount': 1.468924, 'ask_amount': 0.351449, 'leverage': 1, 'margin_amount': 1.431838, 'entry_price': 4.074098, 'take_profit': 4.481507, 'stop_loss': 3.666688, 'pnl': 0.037086, 'fee': 0.000572, 'funding_payment': 0.004331, '': '', '__1': ''}, {'user_type': 'BOT', 'pair': 'ORAI_USDC', 'hash': 'DAA38FD59101FDD962268B1F6489B27D70617699F2658AC5F77CCDE1B2F816E8', 'height': 14608936, 'time': '2023-11-29 14:09:18', 'order_id': 327, 'status': 'TP', 'direction': 'BUY', 'bidder_addr': 'orai15vc7z4zyyam999zp6rwealm06lvuy9ykumwlpl', 'offer_amount': 5202.479427, 'ask_amount': 1249.053576, 'leverage': 3, 'margin_amount': 1707.483916, 'entry_price': 4.096145, 'take_profit': 4.16443, 'stop_loss': 2.867312, 'pnl': 86.174619, 'fee': 2.04898, 'funding_payment': 10.317182, '': '', '__1': ''}, {'user_type': 'BOT', 'pair': 'ORAI_USDC', 'hash': '1CCB34303B6B4076A70A4523701A3982C872312A7DABF695629A1DE29C44C170', 'height': 14608934, 'time': '2023-11-29 14:09:07', 'order_id': 328, 'status': 'TP', 'direction': 'BUY', 'bidder_addr': 'orai15vc7z4zyyam999zp6rwealm06lvuy9ykumwlpl', 'offer_amount': 4995.463443, 'ask_amount': 1198.092442, 'leverage': 3, 'margin_amount': 1636.214607, 'entry_price': 4.092132, 'take_profit': 4.16035, 'stop_loss': 2.864503, 'pnl': 92.70999, 'fee': 1.963456, 'funding_payment': 9.896243, '': '', '__1': ''}, {'user_type': 'BOT', 'pair': 'ORAI_USDC', 'hash': '9AB09867D494F99063EF041DFBAECB2BD85F188AFB108F1301F0EA6C861463B1', 'height': 14608999, 'time': '2023-11-29 14:15:26', 'order_id': 329, 'status': 'Close', 'direction': 'BUY', 'bidder_addr': 'orai15vc7z4zyyam999zp6rwealm06lvuy9ykumwlpl', 'offer_amount': 4352.212264, 'ask_amount': 1044.2581, 'leverage': 3, 'margin_amount': 1433.067601, 'entry_price': 4.116992, 'take_profit': 4.185622, 'stop_loss': 2.881904, 'pnl': 53.009461, 'fee': 1.721746, 'funding_payment': 4.975889, '': '', '__1': ''}, {'user_type': 'BOT', 'pair': 'ORAI_USDC', 'hash': '9AB09867D494F99063EF041DFBAECB2BD85F188AFB108F1301F0EA6C861463B1', 'height': 14608999, 'time': '2023-11-29 14:15:26', 'order_id': 330, 'status': 'Close', 'direction': 'BUY', 'bidder_addr': 'orai15vc7z4zyyam999zp6rwealm06lvuy9ykumwlpl', 'offer_amount': 4324.248311, 'ask_amount': 1043.453042, 'leverage': 3, 'margin_amount': 1428.72235, 'entry_price': 4.107676, 'take_profit': 4.17615, 'stop_loss': 2.875382, 'pnl': 38.081261, 'fee': 1.716526, 'funding_payment': 4.972053, '': '', '__1': ''}, {'user_type': 'BOT', 'pair': 'ORAI_USDC', 'hash': 'EE3DD7D62FB4427BFAD3BCEF163953F5DCE555C535DF0C7E196AC0DA2A527947', 'height': 14609141, 'time': '2023-11-29 14:30:16', 'order_id': 331, 'status': 'Close', 'direction': 'BUY', 'bidder_addr': 'orai15vc7z4zyyam999zp6rwealm06lvuy9ykumwlpl', 'offer_amount': 6859.795138, 'ask_amount': 1653.208141, 'leverage': 3, 'margin_amount': 2268.701279, 'entry_price': 4.116906, 'take_profit': 4.185543, 'stop_loss': 2.881849, 'pnl': 53.691301, 'fee': 2.725712, 'funding_payment': 7.877536, '': '', '__1': ''}, {'user_type': 'BOT', 'pair': 'ORAI_USDC', 'hash': '1B9BE473026112089FEB8AEFA2F9FBDEA4153440971E93E28F06CD9EF4FAB4BD', 'height': 14609245, 'time': '2023-11-29 14:40:26', 'order_id': 332, 'status': 'Close', 'direction': 'BUY', 'bidder_addr': 'orai15vc7z4zyyam999zp6rwealm06lvuy9ykumwlpl', 'offer_amount': 4835.883088, 'ask_amount': 1174.41663, 'leverage': 3, 'margin_amount': 1624.050397, 'entry_price': 4.148571, 'take_profit': 4.21773, 'stop_loss': 2.90401, 'pnl': -36.268103, 'fee': 1.9512, 'funding_payment': 5.596095, '': '', '__1': ''}, {'user_type': 'BOT', 'pair': 'ORAI_USDC', 'hash': '1B9BE473026112089FEB8AEFA2F9FBDEA4153440971E93E28F06CD9EF4FAB4BD', 'height': 14609245, 'time': '2023-11-29 14:40:26', 'order_id': 333, 'status': 'Close', 'direction': 'BUY', 'bidder_addr': 'orai15vc7z4zyyam999zp6rwealm06lvuy9ykumwlpl', 'offer_amount': 3839.380775, 'ask_amount': 937.748346, 'leverage': 3, 'margin_amount': 1304.241299, 'entry_price': 4.172466, 'take_profit': 4.24202, 'stop_loss': 2.920735, 'pnl': -73.343122, 'fee': 1.566968, 'funding_payment': 0, '': '', '__1': ''}, {'user_type': 'USER', 'pair': 'ORAI_USDC', 'hash': '44FE1F8EE5F196C5A2D3A43AAB38AB09363A0D6CEA3583E3C5FE8C67F7697211', 'height': 14608995, 'time': '2023-11-29 14:14:58', 'order_id': 336, 'status': 'Close', 'direction': 'BUY', 'bidder_addr': 'orai12zyu8w93h0q2lcnt50g3fn0w3yqnhy4fvawaqz', 'offer_amount': 1.999197, 'ask_amount': 0.47832, 'leverage': 1, 'margin_amount': 1.9992, 'entry_price': 4.179628, 'take_profit': 4.59759, 'stop_loss': 0, 'pnl': -3e-06, 'fee': 0.0008, 'funding_payment': 0, '': '', '__1': ''}, {'user_type': 'USER', 'pair': 'ORAI_USDC', 'hash': 'FF2F76B89AC4180039440E9BE67ABE96EACF7E24A558D8AA0A2F79DC6B8CCAAB', 'height': 14609135, 'time': '2023-11-29 14:29:41', 'order_id': 339, 'status': 'Close', 'direction': 'BUY', 'bidder_addr': 'orai12zyu8w93h0q2lcnt50g3fn0w3yqnhy4fvawaqz', 'offer_amount': 2.996396, 'ask_amount': 0.718894, 'leverage': 3, 'margin_amount': 0.9988, 'entry_price': 4.168069, 'take_profit': 4.307004, 'stop_loss': 0, 'pnl': -4e-06, 'fee': 0.0012, 'funding_payment': 0, '': '', '__1': ''}, {'user_type': 'USER', 'pair': 'INJ_USDC', 'hash': '87592C0B392B123D059E09B4BA72B2AA5806BC35989CEEA7F0F0AE1BB69AE221', 'height': 14608966, 'time': '2023-11-29 14:12:10', 'order_id': 316, 'status': 'Close', 'direction': 'BUY', 'bidder_addr': 'orai12zyu8w93h0q2lcnt50g3fn0w3yqnhy4fvawaqz', 'offer_amount': 2.863667, 'ask_amount': 0.173123, 'leverage': 1, 'margin_amount': 2.863676, 'entry_price': 16.541279, 'take_profit': 18.195406, 'stop_loss': 0, 'pnl': -9e-06, 'fee': 0.001144, 'funding_payment': -0.000208, '': '', '__1': ''}, {'user_type': 'USER', 'pair': 'INJ_USDC', 'hash': '819D7B22198B59FECE5635CDB5670147125250B8A8B20C69000899DD4FB83B8C', 'height': 14609126, 'time': '2023-11-29 14:28:49', 'order_id': 338, 'status': 'Close', 'direction': 'BUY', 'bidder_addr': 'orai12zyu8w93h0q2lcnt50g3fn0w3yqnhy4fvawaqz', 'offer_amount': 2.877628, 'ask_amount': 0.173967, 'leverage': 1, 'margin_amount': 2.87763, 'entry_price': 16.54124, 'take_profit': 18.195336, 'stop_loss': 14, 'pnl': -2e-06, 'fee': 0.00115, 'funding_payment': 0, '': '', '__1': ''}, {'user_type': 'BOT', 'pair': 'ORAI_USDC', 'hash': 'FCB17F595A475BC86E93B3927A0CDC95C3367512174E6148817ACA4AA06C1E84', 'height': 14609754, 'time': '2023-11-29 15:29:07', 'order_id': 334, 'status': 'Close', 'direction': 'BUY', 'bidder_addr': 'orai15vc7z4zyyam999zp6rwealm06lvuy9ykumwlpl', 'offer_amount': 4219.935919, 'ask_amount': 1030.588267, 'leverage': 3, 'margin_amount': 1431.696821, 'entry_price': 4.16761, 'take_profit': 4.237084, 'stop_loss': 2.917336, 'pnl': -75.154544, 'fee': 1.7201, 'funding_payment': 4.005896, '': '', '__1': ''}, {'user_type': 'BOT', 'pair': 'ORAI_USDC', 'hash': '90B53FB43FA9829A497D630F5D5201A5841AFD813738C1AB36FEBB231292C511', 'height': 14610034, 'time': '2023-11-29 15:55:51', 'order_id': 335, 'status': 'Close', 'direction': 'BUY', 'bidder_addr': 'orai15vc7z4zyyam999zp6rwealm06lvuy9ykumwlpl', 'offer_amount': 5199.156939, 'ask_amount': 1262.614738, 'leverage': 3, 'margin_amount': 1753.052644, 'entry_price': 4.165291, 'take_profit': 4.234729, 'stop_loss': 2.915715, 'pnl': -60.000993, 'fee': 2.10619, 'funding_payment': 4.907783, '': '', '__1': ''}, {'user_type': 'BOT', 'pair': 'ORAI_USDC', 'hash': '82E97E0EB617A8EF9DC964C92754B29FA8849F77A5B2AD7846F8F88A55F5AFE5', 'height': 14610091, 'time': '2023-11-29 16:01:17', 'order_id': 337, 'status': 'Close', 'direction': 'BUY', 'bidder_addr': 'orai15vc7z4zyyam999zp6rwealm06lvuy9ykumwlpl', 'offer_amount': 6650.126587, 'ask_amount': 1579.245692, 'leverage': 3, 'margin_amount': 2184.736741, 'entry_price': 4.150215, 'take_profit': 4.219407, 'stop_loss': 2.905165, 'pnl': 95.916364, 'fee': 2.624832, 'funding_payment': 5.067799, '': '', '__1': ''}, {'user_type': 'BOT', 'pair': 'ORAI_USDC', 'hash': '4D31CDFBA927EEF98F920705692AA08AE59C1ED7B0621ECF94C5E8861A84B33A', 'height': 14610102, 'time': '2023-11-29 16:02:20', 'order_id': 340, 'status': 'Close', 'direction': 'BUY', 'bidder_addr': 'orai15vc7z4zyyam999zp6rwealm06lvuy9ykumwlpl', 'offer_amount': 4218.006246, 'ask_amount': 1003.643517, 'leverage': 3, 'margin_amount': 1369.967994, 'entry_price': 4.094983, 'take_profit': 4.163246, 'stop_loss': 2.866497, 'pnl': 108.102264, 'fee': 1.645936, 'funding_payment': 3.220692, '': '', '__1': ''}, {'user_type': 'BOT', 'pair': 'ORAI_USDC', 'hash': '4D31CDFBA927EEF98F920705692AA08AE59C1ED7B0621ECF94C5E8861A84B33A', 'height': 14610102, 'time': '2023-11-29 16:02:20', 'order_id': 341, 'status': 'Close', 'direction': 'BUY', 'bidder_addr': 'orai15vc7z4zyyam999zp6rwealm06lvuy9ykumwlpl', 'offer_amount': 5016.849511, 'ask_amount': 1200.925586, 'leverage': 3, 'margin_amount': 1639.892657, 'entry_price': 4.096571, 'take_profit': 4.164863, 'stop_loss': 2.86761, 'pnl': 97.17154, 'fee': 1.970234, 'funding_payment': -0.814227, '': '', '__1': ''}, {'user_type': 'BOT', 'pair': 'ORAI_USDC', 'hash': '4CAE35FF14F8E2FA80F0DEFA53EEBEF628992DAE87F29FAF31D1B73560047A19', 'height': 14610395, 'time': '2023-11-29 16:30:20', 'order_id': 342, 'status': 'Close', 'direction': 'BUY', 'bidder_addr': 'orai15vc7z4zyyam999zp6rwealm06lvuy9ykumwlpl', 'offer_amount': 4115.87013, 'ask_amount': 985.815528, 'leverage': 3, 'margin_amount': 1354.132902, 'entry_price': 4.12085, 'take_profit': 4.189544, 'stop_loss': 2.884604, 'pnl': 53.471424, 'fee': 1.62691, 'funding_payment': -0.668382, '': '', '__1': ''}, {'user_type': 'BOT', 'pair': 'ORAI_USDC', 'hash': '77FE73C6C6B5BD4476339887299F8D7F065D0626AC05434EB7C8B3D39DBBEFF7', 'height': 14610404, 'time': '2023-11-29 16:31:12', 'order_id': 343, 'status': 'Close', 'direction': 'BUY', 'bidder_addr': 'orai15vc7z4zyyam999zp6rwealm06lvuy9ykumwlpl', 'offer_amount': 5622.471151, 'ask_amount': 1355.270827, 'leverage': 3, 'margin_amount': 1860.698394, 'entry_price': 4.118804, 'take_profit': 4.187469, 'stop_loss': 2.883175, 'pnl': 40.375969, 'fee': 2.23552, 'funding_payment': -0.918873, '': '', '__1': ''}, {'user_type': 'USER', 'pair': 'ORAI_USDC', 'hash': '2798C84E0D449B5742A2E31FB5CF6EFE98DAA87F57E402FC1F70B9A4C906E2B4', 'height': 14610324, 'time': '2023-11-29 16:23:33', 'order_id': 346, 'status': 'Close', 'direction': 'BUY', 'bidder_addr': 'orai12zyu8w93h0q2lcnt50g3fn0w3yqnhy4fvawaqz', 'offer_amount': 5.341879, 'ask_amount': 1.282918, 'leverage': 1, 'margin_amount': 5.34188, 'entry_price': 4.163851, 'take_profit': 4.179999, 'stop_loss': 4.14303, 'pnl': -1e-06, 'fee': 0.002136, 'funding_payment': 0, '': '', '__1': ''}, {'user_type': 'BOT', 'pair': 'ORAI_USDC', 'hash': 'FF5E6473D6D19BD5FA8C318E6450255F5C920C81C94EEA152AE9471F7156D0C3', 'height': 14610871, 'time': '2023-11-29 17:15:55', 'order_id': 344, 'status': 'Close', 'direction': 'BUY', 'bidder_addr': 'orai15vc7z4zyyam999zp6rwealm06lvuy9ykumwlpl', 'offer_amount': 17263.61565, 'ask_amount': 4177.522084, 'leverage': 3, 'margin_amount': 5822.477383, 'entry_price': 4.18129, 'take_profit': 4.251036, 'stop_loss': 2.926942, 'pnl': -203.816495, 'fee': 6.995366, 'funding_payment': 8.179588, '': '', '__1': ''}, {'user_type': 'BOT', 'pair': 'ORAI_USDC', 'hash': '04EAB9711C1886EB0AAFF12152CC9C882D33DDC16331F95A5B04224373B262CD', 'height': 14610971, 'time': '2023-11-29 17:25:29', 'order_id': 345, 'status': 'Close', 'direction': 'BUY', 'bidder_addr': 'orai15vc7z4zyyam999zp6rwealm06lvuy9ykumwlpl', 'offer_amount': 3867.330104, 'ask_amount': 933.070806, 'leverage': 3, 'margin_amount': 1307.388775, 'entry_price': 4.203503, 'take_profit': 4.273574, 'stop_loss': 2.942461, 'pnl': -54.836221, 'fee': 1.57075, 'funding_payment': 1.826952, '': '', '__1': ''}, {'user_type': 'BOT', 'pair': 'ORAI_USDC', 'hash': '04EAB9711C1886EB0AAFF12152CC9C882D33DDC16331F95A5B04224373B262CD', 'height': 14610971, 'time': '2023-11-29 17:25:29', 'order_id': 347, 'status': 'Close', 'direction': 'BUY', 'bidder_addr': 'orai15vc7z4zyyam999zp6rwealm06lvuy9ykumwlpl', 'offer_amount': 4075.107898, 'ask_amount': 988.335866, 'leverage': 3, 'margin_amount': 1375.454827, 'entry_price': 4.175062, 'take_profit': 4.24466, 'stop_loss': 2.922553, 'pnl': -51.256583, 'fee': 1.652528, 'funding_payment': 1.935161, '': '', '__1': ''}, {'user_type': 'BOT', 'pair': 'ORAI_USDC', 'hash': 'F457929F975D8DEE0614BCE6705778AD4E385F652A8C9448FCDC7F73E3DFADA1', 'height': 14611344, 'time': '2023-11-29 18:01:11', 'order_id': 348, 'status': 'Close', 'direction': 'BUY', 'bidder_addr': 'orai15vc7z4zyyam999zp6rwealm06lvuy9ykumwlpl', 'offer_amount': 4037.838164, 'ask_amount': 984.534651, 'leverage': 3, 'margin_amount': 1360.106931, 'entry_price': 4.144415, 'take_profit': 4.213501, 'stop_loss': 2.901099, 'pnl': -42.482629, 'fee': 1.634088, 'funding_payment': 2.598186, '': '', '__1': ''}, {'user_type': 'BOT', 'pair': 'ORAI_USDC', 'hash': 'F457929F975D8DEE0614BCE6705778AD4E385F652A8C9448FCDC7F73E3DFADA1', 'height': 14611344, 'time': '2023-11-29 18:01:11', 'order_id': 349, 'status': 'Close', 'direction': 'BUY', 'bidder_addr': 'orai15vc7z4zyyam999zp6rwealm06lvuy9ykumwlpl', 'offer_amount': 4324.04115, 'ask_amount': 1060.147428, 'leverage': 3, 'margin_amount': 1472.726634, 'entry_price': 4.167514, 'take_profit': 4.236987, 'stop_loss': 2.91727, 'pnl': -94.138752, 'fee': 1.769394, 'funding_payment': 2.797729, '': '', '__1': ''}, {'user_type': 'BOT', 'pair': 'ORAI_USDC', 'hash': '355F8D9207C7FA67D33471185CCC1D5E3731067B51BFF0479050113DB73F0D9E', 'height': 14611381, 'time': '2023-11-29 18:04:42', 'order_id': 352, 'status': 'Close', 'direction': 'BUY', 'bidder_addr': 'orai15vc7z4zyyam999zp6rwealm06lvuy9ykumwlpl', 'offer_amount': 12600.58218, 'ask_amount': 3105.745305, 'leverage': 3, 'margin_amount': 4265.703234, 'entry_price': 4.120463, 'take_profit': 4.189179, 'stop_loss': 2.884352, 'pnl': -196.527521, 'fee': 5.124992, 'funding_payment': 2.115012, '': '', '__1': ''}, {'user_type': 'USER', 'pair': 'INJ_USDC', 'hash': 'C0C7697C2F30CAE33F466318E5EB38DD0D9E39071A42271EE87264AC8B637BEC', 'height': 14610669, 'time': '2023-11-29 16:56:33', 'order_id': 350, 'status': 'Close', 'direction': 'SELL', 'bidder_addr': 'orai12zyu8w93h0q2lcnt50g3fn0w3yqnhy4fvawaqz', 'offer_amount': 2.668807, 'ask_amount': 0.161343, 'leverage': 1, 'margin_amount': 2.668806, 'entry_price': 16.541194, 'take_profit': 14.887074, 'stop_loss': 0, 'pnl': -1e-06, 'fee': 0.001066, 'funding_payment': 0, '': '', '__1': ''}, {'user_type': 'BOT', 'pair': 'ORAI_USDC', 'hash': 'A958E4790FE92C759BC06FFC36C1AA4E2ADBC61EF84FDC551747EB36A8143CBA', 'height': 14613928, 'time': '2023-11-29 22:08:13', 'order_id': 362, 'status': 'Close', 'direction': 'BUY', 'bidder_addr': 'orai15vc7z4zyyam999zp6rwealm06lvuy9ykumwlpl', 'offer_amount': 4102.841725, 'ask_amount': 997.539984, 'leverage': 3, 'margin_amount': 1389.442692, 'entry_price': 4.178607, 'take_profit': 4.248264, 'stop_loss': 2.925034, 'pnl': -65.486351, 'fee': 1.669334, 'funding_payment': 6.161804, '': '', '__1': ''}, {'user_type': 'BOT', 'pair': 'ORAI_USDC', 'hash': 'A958E4790FE92C759BC06FFC36C1AA4E2ADBC61EF84FDC551747EB36A8143CBA', 'height': 14613928, 'time': '2023-11-29 22:08:13', 'order_id': 367, 'status': 'Close', 'direction': 'BUY', 'bidder_addr': 'orai15vc7z4zyyam999zp6rwealm06lvuy9ykumwlpl', 'offer_amount': 4727.969622, 'ask_amount': 1156.233593, 'leverage': 3, 'margin_amount': 1618.07929, 'entry_price': 4.198319, 'take_profit': 4.268307, 'stop_loss': 2.938834, 'pnl': -126.268248, 'fee': 1.944026, 'funding_payment': 7.142054, '': '', '__1': ''}, {'user_type': 'BOT', 'pair': 'ORAI_USDC', 'hash': 'EBFB48D3C669899D2783C76DFEDAD6879A94DC975439017E2A2891CE1EB68699', 'height': 14613979, 'time': '2023-11-29 22:13:05', 'order_id': 368, 'status': 'Close', 'direction': 'BUY', 'bidder_addr': 'orai15vc7z4zyyam999zp6rwealm06lvuy9ykumwlpl', 'offer_amount': 4051.146499, 'ask_amount': 990.36774, 'leverage': 3, 'margin_amount': 1395.764346, 'entry_price': 4.228018, 'take_profit': 4.298499, 'stop_loss': 2.959622, 'pnl': -136.146539, 'fee': 1.676928, 'funding_payment': 6.117501, '': '', '__1': ''}, {'user_type': 'BOT', 'pair': 'ORAI_USDC', 'hash': 'EBFB48D3C669899D2783C76DFEDAD6879A94DC975439017E2A2891CE1EB68699', 'height': 14613979, 'time': '2023-11-29 22:13:05', 'order_id': 374, 'status': 'Close', 'direction': 'BUY', 'bidder_addr': 'orai15vc7z4zyyam999zp6rwealm06lvuy9ykumwlpl', 'offer_amount': 5952.018514, 'ask_amount': 1464.71263, 'leverage': 3, 'margin_amount': 2009.691768, 'entry_price': 4.116217, 'take_profit': 4.184839, 'stop_loss': 2.881365, 'pnl': -77.05679, 'fee': 2.414526, 'funding_payment': 4.126095, '': '', '__1': ''}, {'user_type': 'BOT', 'pair': 'ORAI_USDC', 'hash': '261111958E432F2B48F35328B87D1541F03BFA9D08035F579B1D5CFC4AAAA3D1', 'height': 14614113, 'time': '2023-11-29 22:25:53', 'order_id': 375, 'status': 'Close', 'direction': 'BUY', 'bidder_addr': 'orai15vc7z4zyyam999zp6rwealm06lvuy9ykumwlpl', 'offer_amount': 4276.98478, 'ask_amount': 1048.897786, 'leverage': 3, 'margin_amount': 1437.825358, 'entry_price': 4.112389, 'take_profit': 4.180943, 'stop_loss': 2.878682, 'pnl': -36.491294, 'fee': 1.727462, 'funding_payment': 0, '': '', '__1': ''}, {'user_type': 'BOT', 'pair': 'ORAI_USDC', 'hash': 'D4F157105AA4D6CC7E3A8B6615FB8487E5CB3A56D327F719D46F8292B5EF0F2D', 'height': 14614621, 'time': '2023-11-29 23:14:29', 'order_id': 376, 'status': 'Close', 'direction': 'BUY', 'bidder_addr': 'orai15vc7z4zyyam999zp6rwealm06lvuy9ykumwlpl', 'offer_amount': 4696.780111, 'ask_amount': 1138.477121, 'leverage': 3, 'margin_amount': 1551.712731, 'entry_price': 4.088916, 'take_profit': 4.157079, 'stop_loss': 2.862251, 'pnl': 41.641918, 'fee': 1.864292, 'funding_payment': 0.176463, '': '', '__1': ''}, {'user_type': 'BOT', 'pair': 'ORAI_USDC', 'hash': '97B3C48FE95B4C8860A676668C2D064F0E88DE2D29BBA7AB917C80094BDF4414', 'height': 14614824, 'time': '2023-11-29 23:33:52', 'order_id': 378, 'status': 'Close', 'direction': 'BUY', 'bidder_addr': 'orai15vc7z4zyyam999zp6rwealm06lvuy9ykumwlpl', 'offer_amount': 6861.923817, 'ask_amount': 1676.026721, 'leverage': 3, 'margin_amount': 2271.53144, 'entry_price': 4.065922, 'take_profit': 4.133709, 'stop_loss': 2.84616, 'pnl': 47.329497, 'fee': 2.729112, 'funding_payment': 0.259784, '': '', '__1': ''}, {'user_type': 'BOT', 'pair': 'INJ_USDC', 'hash': '4B3B2A2031B5B53741C40D185BEE44C9040B240B6FD82A2F79D0F37934709C94', 'height': 14614149, 'time': '2023-11-29 22:29:18', 'order_id': 377, 'status': 'Close', 'direction': 'SELL', 'bidder_addr': 'orai1nza67tu4pv6uueqmynytqzelejpykr5d3tkqnd', 'offer_amount': 11998.81017, 'ask_amount': 728.301593, 'leverage': 3, 'margin_amount': 3999.60339, 'entry_price': 16.475056, 'take_profit': 16.200394, 'stop_loss': 21.41747, 'pnl': -3e-06, 'fee': 4.80529, 'funding_payment': 0, '': '', '__1': ''}, {'user_type': 'BOT', 'pair': 'INJ_USDC', 'hash': '5F3617D370C86D5916712712A5E6C5AAFFC8AFCF1B278F1A752A8099B2688793', 'height': 14614243, 'time': '2023-11-29 22:38:18', 'order_id': 380, 'status': 'Close', 'direction': 'SELL', 'bidder_addr': 'orai1nza67tu4pv6uueqmynytqzelejpykr5d3tkqnd', 'offer_amount': 8385.261734, 'ask_amount': 508.352311, 'leverage': 3, 'margin_amount': 2795.087244, 'entry_price': 16.494981, 'take_profit': 16.220009, 'stop_loss': 21.443402, 'pnl': -2e-06, 'fee': 3.358134, 'funding_payment': 0, '': '', '__1': ''}, {'user_type': 'BOT', 'pair': 'INJ_USDC', 'hash': 'A3AF149E3989E0B78D09797BAE7C57672C3E994C09CE65C601B2C0BD17D3F1CF', 'height': 14614863, 'time': '2023-11-29 23:37:37', 'order_id': 385, 'status': 'Close', 'direction': 'BUY', 'bidder_addr': 'orai1nza67tu4pv6uueqmynytqzelejpykr5d3tkqnd', 'offer_amount': 7601.692752, 'ask_amount': 458.399183, 'leverage': 3, 'margin_amount': 2533.897585, 'entry_price': 16.583128, 'take_profit': 16.859565, 'stop_loss': 11.608225, 'pnl': -3e-06, 'fee': 3.04433, 'funding_payment': 0, '': '', '__1': ''}, {'user_type': 'USER', 'pair': 'INJ_USDC', 'hash': '02CBCB00AEF76B21173E828A985CE2F9E205B271B1D6F8C532B1E86A5D5FAA15', 'height': 14614936, 'time': '2023-11-29 23:44:36', 'order_id': 389, 'status': 'Close', 'direction': 'SELL', 'bidder_addr': 'orai18vyspza5ndpg5wss0u7mqs7g50zekjrjvc2dys', 'offer_amount': 898.920007, 'ask_amount': 54.360543, 'leverage': 3, 'margin_amount': 299.64, 'entry_price': 16.536258, 'take_profit': 15.985049, 'stop_loss': 0, 'pnl': -7e-06, 'fee': 0.36, 'funding_payment': 0, '': '', '__1': ''}, {'user_type': 'BOT', 'pair': 'ORAI_USDC', 'hash': 'FFED59E0492B989273B255E38074EBEEE774BB562633F6DCD9D93BA1CC08ACF2', 'height': 14611462, 'time': '2023-11-29 18:12:26', 'order_id': 353, 'status': 'Close', 'direction': 'BUY', 'bidder_addr': 'orai15vc7z4zyyam999zp6rwealm06lvuy9ykumwlpl', 'offer_amount': 4440.583933, 'ask_amount': 1095.945172, 'leverage': 3, 'margin_amount': 1490.160521, 'entry_price': 4.07911, 'take_profit': 4.14711, 'stop_loss': 2.855387, 'pnl': -29.89763, 'fee': 1.79034, 'funding_payment': 0, '': '', '__1': ''}, {'user_type': 'BOT', 'pair': 'ORAI_USDC', 'hash': '75780AAA4C7BD0584918C23AA97DE689B78DC8F0BAB995104A13C94FDBFEDD9C', 'height': 14613233, 'time': '2023-11-29 21:01:47', 'order_id': 354, 'status': 'Close', 'direction': 'BUY', 'bidder_addr': 'orai15vc7z4zyyam999zp6rwealm06lvuy9ykumwlpl', 'offer_amount': 7826.864304, 'ask_amount': 1857.742615, 'leverage': 3, 'margin_amount': 2503.973936, 'entry_price': 4.043575, 'take_profit': 4.110992, 'stop_loss': 2.830519, 'pnl': 314.942496, 'fee': 3.008378, 'funding_payment': 8.309682, '': '', '__1': ''}, {'user_type': 'BOT', 'pair': 'ORAI_USDC', 'hash': 'E16FCF0675C6F8E01913077A9C256B07F799C2193C2A24675A61BC3F6528C6A7', 'height': 14613482, 'time': '2023-11-29 21:25:33', 'order_id': 355, 'status': 'Close', 'direction': 'BUY', 'bidder_addr': 'orai15vc7z4zyyam999zp6rwealm06lvuy9ykumwlpl', 'offer_amount': 4408.820678, 'ask_amount': 1052.359873, 'leverage': 3, 'margin_amount': 1421.16141, 'entry_price': 4.051355, 'take_profit': 4.118891, 'stop_loss': 2.835958, 'pnl': 145.336448, 'fee': 1.707442, 'funding_payment': 4.707205, '': '', '__1': ''}, {'user_type': 'BOT', 'pair': 'ORAI_USDC', 'hash': '8CCDCDFB284132906FE010D711DAD8B0A37935A4F7E259EF8542F212A33806FF', 'height': 14613601, 'time': '2023-11-29 21:36:56', 'order_id': 356, 'status': 'Close', 'direction': 'BUY', 'bidder_addr': 'orai15vc7z4zyyam999zp6rwealm06lvuy9ykumwlpl', 'offer_amount': 4771.651995, 'ask_amount': 1145.80807, 'leverage': 3, 'margin_amount': 1556.528161, 'entry_price': 4.075363, 'take_profit': 4.1433, 'stop_loss': 2.852764, 'pnl': 102.067512, 'fee': 1.870076, 'funding_payment': 5.125199, '': '', '__1': ''}, {'user_type': 'BOT', 'pair': 'ORAI_USDC', 'hash': '77C2920EBB41828D85FBCB062A3E08B0702E61300C15B0267F7BBFB5F0EC874C', 'height': 14613694, 'time': '2023-11-29 21:45:49', 'order_id': 358, 'status': 'Close', 'direction': 'BUY', 'bidder_addr': 'orai15vc7z4zyyam999zp6rwealm06lvuy9ykumwlpl', 'offer_amount': 3862.959555, 'ask_amount': 933.814671, 'leverage': 3, 'margin_amount': 1275.674557, 'entry_price': 4.098268, 'take_profit': 4.166585, 'stop_loss': 2.868796, 'pnl': 35.935884, 'fee': 1.532648, 'funding_payment': 4.408539, '': '', '__1': ''}, {'user_type': 'BOT', 'pair': 'ORAI_USDC', 'hash': '77C2920EBB41828D85FBCB062A3E08B0702E61300C15B0267F7BBFB5F0EC874C', 'height': 14613694, 'time': '2023-11-29 21:45:49', 'order_id': 359, 'status': 'Close', 'direction': 'BUY', 'bidder_addr': 'orai15vc7z4zyyam999zp6rwealm06lvuy9ykumwlpl', 'offer_amount': 4872.076444, 'ask_amount': 1184.528478, 'leverage': 3, 'margin_amount': 1627.466034, 'entry_price': 4.121807, 'take_profit': 4.19052, 'stop_loss': 2.885276, 'pnl': -10.321658, 'fee': 1.955304, 'funding_payment': 5.592158, '': '', '__1': ''}, {'user_type': 'BOT', 'pair': 'ORAI_USDC', 'hash': 'F7D03BFEAEE04D2457828831925FDBF40950138BBB35B7B64E44D55DBE158717', 'height': 14613844, 'time': '2023-11-29 22:00:11', 'order_id': 360, 'status': 'Close', 'direction': 'BUY', 'bidder_addr': 'orai15vc7z4zyyam999zp6rwealm06lvuy9ykumwlpl', 'offer_amount': 5880.41464, 'ask_amount': 1428.456951, 'leverage': 3, 'margin_amount': 1976.566456, 'entry_price': 4.151122, 'take_profit': 4.220326, 'stop_loss': 2.905798, 'pnl': -49.284728, 'fee': 2.374728, 'funding_payment': 10.767708, '': '', '__1': ''}, {'user_type': 'USER', 'pair': 'ORAI_USDC', 'hash': '90204F4EB399CB3DE44B0CE87B41BE8ED30BDA57A5D8BA7A70162C5A1E72DD9C', 'height': 14613169, 'time': '2023-11-29 20:55:41', 'order_id': 363, 'status': 'Close', 'direction': 'SELL', 'bidder_addr': 'orai18vyspza5ndpg5wss0u7mqs7g50zekjrjvc2dys', 'offer_amount': 904.618672, 'ask_amount': 214.665896, 'leverage': 3, 'margin_amount': 299.64, 'entry_price': 4.18753, 'take_profit': 4.047945, 'stop_loss': 0, 'pnl': -5.698672, 'fee': 0.36, 'funding_payment': 0, '': '', '__1': ''}, {'user_type': 'USER', 'pair': 'ORAI_USDC', 'hash': '0061BB7881B9139C4E45818E6FE7EF288687601F6C5692B4C0EDD3171C66CC3B', 'height': 14613373, 'time': '2023-11-29 21:15:09', 'order_id': 369, 'status': 'Close', 'direction': 'SELL', 'bidder_addr': 'orai18vyspza5ndpg5wss0u7mqs7g50zekjrjvc2dys', 'offer_amount': 889.823064, 'ask_amount': 212.157238, 'leverage': 3, 'margin_amount': 299.64, 'entry_price': 4.237046, 'take_profit': 4.095811, 'stop_loss': 0, 'pnl': 9.096936, 'fee': 0.36, 'funding_payment': 0, '': '', '__1': ''}, {'user_type': 'BOT', 'pair': 'ORAI_USDC', 'hash': 'F54EDFB7C78FB7A8C1712222B63C71BCDA49DD3C8AD2A1D37BB893A53CC332C2', 'height': 14615013, 'time': '2023-11-29 23:51:56', 'order_id': 381, 'status': 'Close', 'direction': 'BUY', 'bidder_addr': 'orai15vc7z4zyyam999zp6rwealm06lvuy9ykumwlpl', 'offer_amount': 7757.184748, 'ask_amount': 1891.585512, 'leverage': 3, 'margin_amount': 2576.89741, 'entry_price': 4.086884, 'take_profit': 4.155024, 'stop_loss': 2.860836, 'pnl': 26.492518, 'fee': 3.095992, 'funding_payment': 0.293195, '': '', '__1': ''}, {'user_type': 'BOT', 'pair': 'INJ_USDC', 'hash': '784146CF1DBCEFAEB26E134DCBEA40B15DEDE98E22245B2C991EDBB27E6158C2', 'height': 14612602, 'time': '2023-11-29 20:01:25', 'order_id': 357, 'status': 'Close', 'direction': 'BUY', 'bidder_addr': 'orai1nza67tu4pv6uueqmynytqzelejpykr5d3tkqnd', 'offer_amount': 36673.1564, 'ask_amount': 2190.302423, 'leverage': 3, 'margin_amount': 12224.38547, 'entry_price': 16.743421, 'take_profit': 17.022725, 'stop_loss': 11.720564, 'pnl': -1e-05, 'fee': 14.686886, 'funding_payment': -35.029506, '': '', '__1': ''}, {'user_type': 'BOT', 'pair': 'INJ_USDC', 'hash': '1DA0974C455AF076A4BBCDD178D09AC90AF219D06B6A9BBA5C1AC018765F126C', 'height': 14612878, 'time': '2023-11-29 20:27:45', 'order_id': 361, 'status': 'Close', 'direction': 'BUY', 'bidder_addr': 'orai1nza67tu4pv6uueqmynytqzelejpykr5d3tkqnd', 'offer_amount': 30297.9724, 'ask_amount': 1813.351825, 'leverage': 3, 'margin_amount': 10099.32414, 'entry_price': 16.70827, 'take_profit': 16.986944, 'stop_loss': 11.695929, 'pnl': -6e-06, 'fee': 12.133748, 'funding_payment': 0, '': '', '__1': ''}, {'user_type': 'BOT', 'pair': 'INJ_USDC', 'hash': 'FBAD08129E332F8ED18CC07A8F2B1883ED8B685845290B50A46463569CA4CF53', 'height': 14613016, 'time': '2023-11-29 20:41:01', 'order_id': 364, 'status': 'Close', 'direction': 'BUY', 'bidder_addr': 'orai1nza67tu4pv6uueqmynytqzelejpykr5d3tkqnd', 'offer_amount': 21144.89721, 'ask_amount': 1262.974736, 'leverage': 3, 'margin_amount': 7012.545648, 'entry_price': 16.657211, 'take_profit': 16.934972, 'stop_loss': 11.660145, 'pnl': 107.260261, 'fee': 8.425164, 'funding_payment': 0, '': '', '__1': ''}, {'user_type': 'BOT', 'pair': 'INJ_USDC', 'hash': '282EFE465AA48E2A43C9B2B0D01FB5D77284A3F81F58D97DD46524B36F5C81F4', 'height': 14613400, 'time': '2023-11-29 21:17:44', 'order_id': 365, 'status': 'Close', 'direction': 'BUY', 'bidder_addr': 'orai1nza67tu4pv6uueqmynytqzelejpykr5d3tkqnd', 'offer_amount': 7679.186683, 'ask_amount': 458.974846, 'leverage': 3, 'margin_amount': 2572.841182, 'entry_price': 16.816877, 'take_profit': 17.09721, 'stop_loss': 11.771849, 'pnl': -39.336863, 'fee': 3.091118, 'funding_payment': -2.419256, '': '', '__1': ''}, {'user_type': 'BOT', 'pair': 'INJ_USDC', 'hash': '282EFE465AA48E2A43C9B2B0D01FB5D77284A3F81F58D97DD46524B36F5C81F4', 'height': 14613400, 'time': '2023-11-29 21:17:44', 'order_id': 366, 'status': 'Close', 'direction': 'BUY', 'bidder_addr': 'orai1nza67tu4pv6uueqmynytqzelejpykr5d3tkqnd', 'offer_amount': 13339.37034, 'ask_amount': 802.862415, 'leverage': 3, 'margin_amount': 4469.097921, 'entry_price': 16.699366, 'take_profit': 16.977779, 'stop_loss': 11.689618, 'pnl': -67.923426, 'fee': 5.36936, 'funding_payment': -4.231887, '': '', '__1': ''}, {'user_type': 'BOT', 'pair': 'INJ_USDC', 'hash': '8C7E67A162B5766D67516AB616DD76AE2F80C7ED4C667706E5DF4D4B83D15442', 'height': 14613457, 'time': '2023-11-29 21:23:10', 'order_id': 370, 'status': 'Close', 'direction': 'BUY', 'bidder_addr': 'orai1nza67tu4pv6uueqmynytqzelejpykr5d3tkqnd', 'offer_amount': 11912.95122, 'ask_amount': 717.349485, 'leverage': 3, 'margin_amount': 3970.983744, 'entry_price': 16.6069, 'take_profit': 16.88376, 'stop_loss': 11.624884, 'pnl': -1.3e-05, 'fee': 4.770904, 'funding_payment': 0, '': '', '__1': ''}, {'user_type': 'BOT', 'pair': 'INJ_USDC', 'hash': 'CFA36F7316DD6C708122335B8BA1510243304FB7A79FBAA657FA6B9B11C1427F', 'height': 14613712, 'time': '2023-11-29 21:47:34', 'order_id': 372, 'status': 'Close', 'direction': 'BUY', 'bidder_addr': 'orai1nza67tu4pv6uueqmynytqzelejpykr5d3tkqnd', 'offer_amount': 7668.356056, 'ask_amount': 462.408881, 'leverage': 3, 'margin_amount': 2556.11869, 'entry_price': 16.583496, 'take_profit': 16.859939, 'stop_loss': 11.608482, 'pnl': -1.4e-05, 'fee': 3.071026, 'funding_payment': 0, '': '', '__1': ''}, {'user_type': 'BOT', 'pair': 'INJ_USDC', 'hash': '6E078A6D721E8188B272C3B77361A957D4A78AED0C1EDB9063C5B6534C5A20EB', 'height': 14615046, 'time': '2023-11-29 23:55:08', 'order_id': 391, 'status': 'Close', 'direction': 'BUY', 'bidder_addr': 'orai1nza67tu4pv6uueqmynytqzelejpykr5d3tkqnd', 'offer_amount': 8397.395138, 'ask_amount': 506.247893, 'leverage': 3, 'margin_amount': 2799.131717, 'entry_price': 16.587516, 'take_profit': 16.86403, 'stop_loss': 11.611299, 'pnl': -1.3e-05, 'fee': 3.362992, 'funding_payment': 0, '': '', '__1': ''}, {'user_type': 'USER', 'pair': 'ORAI_USDC', 'hash': 'F2B8D97B2A367C0BF5EEDEE847937BE13649E3EBB7ED010ADE816DA7F685FEFD', 'height': 14615108, 'time': '2023-11-30 00:01:05', 'order_id': 382, 'status': 'Close', 'direction': 'BUY', 'bidder_addr': 'orai17a7yeypmflmfmndelpue2cdq4yh2lf4ujg4s6v', 'offer_amount': 29.937812, 'ask_amount': 7.294314, 'leverage': 3, 'margin_amount': 9.988, 'entry_price': 4.107857, 'take_profit': 4.2, 'stop_loss': 4.03, 'pnl': -0.026188, 'fee': 0.012, 'funding_payment': 0.012998, '': '', '__1': ''}, {'user_type': 'BOT', 'pair': 'INJ_USDC', 'hash': 'CBB236796BE45271B2CEDF4237FCAEB07110FBD52201336F212ED3CC4559A1E1', 'height': 14615508, 'time': '2023-11-30 00:39:20', 'order_id': 393, 'status': 'Close', 'direction': 'SELL', 'bidder_addr': 'orai1nza67tu4pv6uueqmynytqzelejpykr5d3tkqnd', 'offer_amount': 8423.760472, 'ask_amount': 510.718531, 'leverage': 3, 'margin_amount': 2808.060959, 'entry_price': 16.494766, 'take_profit': 16.219798, 'stop_loss': 21.443123, 'pnl': 0.422405, 'fee': 3.37372, 'funding_payment': 0, '': '', '__1': ''}, {'user_type': 'BOT', 'pair': 'ORAI_USDC', 'hash': 'FEC25D98D74E9F0B67911E93D578A02F1B7CDA0FCC8D463BC684BB781EBE8794', 'height': 14616042, 'time': '2023-11-30 01:30:32', 'order_id': 384, 'status': 'Close', 'direction': 'BUY', 'bidder_addr': 'orai15vc7z4zyyam999zp6rwealm06lvuy9ykumwlpl', 'offer_amount': 5597.211831, 'ask_amount': 1358.488058, 'leverage': 3, 'margin_amount': 1867.033893, 'entry_price': 4.12304, 'take_profit': 4.191775, 'stop_loss': 2.88614, 'pnl': -3.889848, 'fee': 2.243132, 'funding_payment': 4.123011, '': '', '__1': ''}, {'user_type': 'USER', 'pair': 'ORAI_USDC', 'hash': 'B8921BF1BA8DD1F0946B08DC4DC133BADC1FF5689618185289D2E4AC9E735AB0', 'height': 14615963, 'time': '2023-11-30 01:22:56', 'order_id': 386, 'status': 'Close', 'direction': 'SELL', 'bidder_addr': 'orai1wvu8zmxp2spyqg55l7n5jgxt7fjjtenm596ugl', 'offer_amount': 15.046432, 'ask_amount': 3.642816, 'leverage': 3, 'margin_amount': 4.994, 'entry_price': 4.112752, 'take_profit': 4.00025, 'stop_loss': 4.48304, 'pnl': -0.064432, 'fee': 0.006, 'funding_payment': -0.011055, '': '', '__1': ''}, {'user_type': 'USER', 'pair': 'ORAI_USDC', 'hash': 'DA98791D48C3BC7F3FEEBA29EF1DF76CE5D3DDB0494FE8B2A683FF27AFD564A3', 'height': 14616159, 'time': '2023-11-30 01:41:42', 'order_id': 399, 'status': 'Close', 'direction': 'BUY', 'bidder_addr': 'orai1g2ucrt0v7h762c2dtj30ytyr8497ugm5n0nxla', 'offer_amount': 998.098885, 'ask_amount': 243.304738, 'leverage': 2, 'margin_amount': 499.6, 'entry_price': 4.106783, 'take_profit': 4.312122, 'stop_loss': 0, 'pnl': -1.101115, 'fee': 0.4, 'funding_payment': 0, '': '', '__1': ''}, {'user_type': 'BOT', 'pair': 'INJ_USDC', 'hash': '6D9C5D8DCA8510C31492C767957FEADA54092C738B3A19D67F100CBEAE68714B', 'height': 14616103, 'time': '2023-11-30 01:36:21', 'order_id': 395, 'status': 'Close', 'direction': 'BUY', 'bidder_addr': 'orai1nza67tu4pv6uueqmynytqzelejpykr5d3tkqnd', 'offer_amount': 8564.537637, 'ask_amount': 505.685665, 'leverage': 3, 'margin_amount': 2795.873776, 'entry_price': 16.58663, 'take_profit': 16.86313, 'stop_loss': 11.61068, 'pnl': 176.916309, 'fee': 3.359078, 'funding_payment': 2.171919, '': 0.01667005293, '__1': 189.3786595}, {'user_type': 'BOT', 'pair': 'INJ_USDC', 'hash': '3B3C400D0E8EA5DDC5E0F0301DC8CFF62B2585304AF3AAACD5982E0CFDE9DAEE', 'height': 14616265, 'time': '2023-11-30 01:51:50', 'order_id': 396, 'status': 'Close', 'direction': 'BUY', 'bidder_addr': 'orai1nza67tu4pv6uueqmynytqzelejpykr5d3tkqnd', 'offer_amount': 8205.513816, 'ask_amount': 483.865655, 'leverage': 3, 'margin_amount': 2689.909747, 'entry_price': 16.677623, 'take_profit': 16.955638, 'stop_loss': 11.674373, 'pnl': 135.784575, 'fee': 3.231768, 'funding_payment': 2.078202, '': '', '__1': ''}, {'user_type': 'BOT', 'pair': 'INJ_USDC', 'hash': '64EEDADBCA3E4EAB4CECDA0E16C79FA30D8197AC0AEC3D4F11CD9DC360FF2DD0', 'height': 14616334, 'time': '2023-11-30 01:58:26', 'order_id': 398, 'status': 'Close', 'direction': 'BUY', 'bidder_addr': 'orai1nza67tu4pv6uueqmynytqzelejpykr5d3tkqnd', 'offer_amount': 7618.976606, 'ask_amount': 451.628132, 'leverage': 3, 'margin_amount': 2523.748388, 'entry_price': 16.764334, 'take_profit': 17.043791, 'stop_loss': 11.735069, 'pnl': 47.731442, 'fee': 3.032136, 'funding_payment': 1.939742, '': '', '__1': ''}, {'user_type': 'BOT', 'pair': 'INJ_USDC', 'hash': '64EEDADBCA3E4EAB4CECDA0E16C79FA30D8197AC0AEC3D4F11CD9DC360FF2DD0', 'height': 14616334, 'time': '2023-11-30 01:58:26', 'order_id': 401, 'status': 'Close', 'direction': 'BUY', 'bidder_addr': 'orai1nza67tu4pv6uueqmynytqzelejpykr5d3tkqnd', 'offer_amount': 8188.908033, 'ask_amount': 487.954609, 'leverage': 3, 'margin_amount': 2741.022517, 'entry_price': 16.852115, 'take_profit': 17.133039, 'stop_loss': 11.796519, 'pnl': -34.159518, 'fee': 3.293178, 'funding_payment': 0, '': '', '__1': ''}, {'user_type': 'BOT', 'pair': 'ORAI_USDC', 'hash': '5915D4C381DA7FE66E63BB81673A32A9873691FEA2C445636717ED297D27F945', 'height': 14616535, 'time': '2023-11-30 02:17:36', 'order_id': 388, 'status': 'Close', 'direction': 'BUY', 'bidder_addr': 'orai15vc7z4zyyam999zp6rwealm06lvuy9ykumwlpl', 'offer_amount': 4832.307588, 'ask_amount': 1160.645594, 'leverage': 3, 'margin_amount': 1581.75248, 'entry_price': 4.088463, 'take_profit': 4.15662, 'stop_loss': 2.861935, 'pnl': 87.050148, 'fee': 1.900382, 'funding_payment': 4.789984, '': '', '__1': ''}, {'user_type': 'BOT', 'pair': 'ORAI_USDC', 'hash': 'FE3555A7FD49DF33EC3673A8021ACA5E6265DCB0AAA1E63AB16824968588B999', 'height': 14616819, 'time': '2023-11-30 02:44:46', 'order_id': 390, 'status': 'Close', 'direction': 'BUY', 'bidder_addr': 'orai15vc7z4zyyam999zp6rwealm06lvuy9ykumwlpl', 'offer_amount': 3891.265548, 'ask_amount': 927.127943, 'leverage': 3, 'margin_amount': 1270.650495, 'entry_price': 4.11157, 'take_profit': 4.180108, 'stop_loss': 2.878107, 'pnl': 79.314063, 'fee': 1.526612, 'funding_payment': 3.826257, '': '', '__1': ''}, {'user_type': 'BOT', 'pair': 'ORAI_USDC', 'hash': 'FE3555A7FD49DF33EC3673A8021ACA5E6265DCB0AAA1E63AB16824968588B999', 'height': 14616819, 'time': '2023-11-30 02:44:46', 'order_id': 392, 'status': 'Close', 'direction': 'BUY', 'bidder_addr': 'orai15vc7z4zyyam999zp6rwealm06lvuy9ykumwlpl', 'offer_amount': 4603.999312, 'ask_amount': 1103.033841, 'leverage': 3, 'margin_amount': 1504.595228, 'entry_price': 4.092155, 'take_profit': 4.160371, 'stop_loss': 2.864518, 'pnl': 90.213628, 'fee': 1.807682, 'funding_payment': 4.55222, '': '', '__1': ''}, {'user_type': 'BOT', 'pair': 'ORAI_USDC', 'hash': '297A3EC674FF9729EF526ABFCAA9D596350A400E01E8C52351C8D191425321D5', 'height': 14616873, 'time': '2023-11-30 02:49:54', 'order_id': 400, 'status': 'Close', 'direction': 'BUY', 'bidder_addr': 'orai15vc7z4zyyam999zp6rwealm06lvuy9ykumwlpl', 'offer_amount': 3933.648243, 'ask_amount': 937.861363, 'leverage': 3, 'margin_amount': 1287.973944, 'entry_price': 4.119928, 'take_profit': 4.188606, 'stop_loss': 2.883958, 'pnl': 69.726411, 'fee': 1.547424, 'funding_payment': 1.024144, '': '', '__1': ''}, {'user_type': 'USER', 'pair': 'ORAI_USDC', 'hash': 'DF43253B213D48470AFA63EA42F6B70F8DC5EF5CA1456B36DEDB17C6BE54F261', 'height': 14616686, 'time': '2023-11-30 02:32:01', 'order_id': 404, 'status': 'Close', 'direction': 'SELL', 'bidder_addr': 'orai1wvu8zmxp2spyqg55l7n5jgxt7fjjtenm596ugl', 'offer_amount': 19.149088, 'ask_amount': 4.607184, 'leverage': 3, 'margin_amount': 6.304171, 'entry_price': 4.105004, 'take_profit': 3.96817, 'stop_loss': 4.447087, 'pnl': -0.236575, 'fee': 0.007574, 'funding_payment': -0.005031, '': '', '__1': ''}, {'user_type': 'USER', 'pair': 'ORAI_USDC', 'hash': 'DDDA791497948F3D438A08E111CC64A75A881B1C3275443E69C6E89DA5869D32', 'height': 14616575, 'time': '2023-11-30 02:21:25', 'order_id': 405, 'status': 'Close', 'direction': 'BUY', 'bidder_addr': 'orai1g2ucrt0v7h762c2dtj30ytyr8497ugm5n0nxla', 'offer_amount': 3003.492796, 'ask_amount': 725.09941, 'leverage': 3, 'margin_amount': 992.8072, 'entry_price': 4.107604, 'take_profit': 4.244524, 'stop_loss': 0, 'pnl': 25.071196, 'fee': 1.1928, 'funding_payment': 0.791808, '': '', '__1': ''}, {'user_type': 'BOT', 'pair': 'ORAI_USDC', 'hash': '297A3EC674FF9729EF526ABFCAA9D596350A400E01E8C52351C8D191425321D5', 'height': 14616873, 'time': '2023-11-30 02:49:54', 'order_id': 411, 'status': 'Close', 'direction': 'BUY', 'bidder_addr': 'orai15vc7z4zyyam999zp6rwealm06lvuy9ykumwlpl', 'offer_amount': 4324.13751, 'ask_amount': 1036.527336, 'leverage': 3, 'margin_amount': 1428.280356, 'entry_price': 4.133842, 'take_profit': 4.202753, 'stop_loss': 2.893699, 'pnl': 39.296442, 'fee': 1.715994, 'funding_payment': 0, '': '', '__1': ''}, {'user_type': 'BOT', 'pair': 'INJ_USDC', 'hash': '8A0ED2DC48537DA2D393AD7C3C59BA9F5B2ACD3FE67973C146F661C5D51E8DDC', 'height': 14616678, 'time': '2023-11-30 02:31:15', 'order_id': 403, 'status': 'Close', 'direction': 'BUY', 'bidder_addr': 'orai1nza67tu4pv6uueqmynytqzelejpykr5d3tkqnd', 'offer_amount': 7720.164992, 'ask_amount': 456.960892, 'leverage': 3, 'margin_amount': 2580.470925, 'entry_price': 16.941083, 'take_profit': 17.223487, 'stop_loss': 11.858794, 'pnl': -21.247783, 'fee': 3.100284, 'funding_payment': 3.328046, '': '', '__1': ''}, {'user_type': 'BOT', 'pair': 'INJ_USDC', 'hash': '8A0ED2DC48537DA2D393AD7C3C59BA9F5B2ACD3FE67973C146F661C5D51E8DDC', 'height': 14616678, 'time': '2023-11-30 02:31:15', 'order_id': 406, 'status': 'Close', 'direction': 'BUY', 'bidder_addr': 'orai1nza67tu4pv6uueqmynytqzelejpykr5d3tkqnd', 'offer_amount': 10241.99744, 'ask_amount': 609.837919, 'leverage': 3, 'margin_amount': 3444.841495, 'entry_price': 16.946346, 'take_profit': 17.228855, 'stop_loss': 11.86249, 'pnl': -92.527043, 'fee': 4.138776, 'funding_payment': 4.441449, '': '', '__1': ''}, {'user_type': 'BOT', 'pair': 'ORAI_USDC', 'hash': 'D8DF0CD691061A8C4ECC8912153CC51D2D2D7D95ABF3F80C704548B13FA4EF5B', 'height': 14616968, 'time': '2023-11-30 02:58:59', 'order_id': 412, 'status': 'Close', 'direction': 'BUY', 'bidder_addr': 'orai15vc7z4zyyam999zp6rwealm06lvuy9ykumwlpl', 'offer_amount': 3914.396223, 'ask_amount': 937.511073, 'leverage': 3, 'margin_amount': 1298.781738, 'entry_price': 4.156052, 'take_profit': 4.225332, 'stop_loss': 2.909245, 'pnl': 18.051009, 'fee': 1.56041, 'funding_payment': 0, '': '', '__1': ''}, {'user_type': 'BOT', 'pair': 'ORAI_USDC', 'hash': 'D8DF0CD691061A8C4ECC8912153CC51D2D2D7D95ABF3F80C704548B13FA4EF5B', 'height': 14616968, 'time': '2023-11-30 02:58:59', 'order_id': 414, 'status': 'Close', 'direction': 'BUY', 'bidder_addr': 'orai15vc7z4zyyam999zp6rwealm06lvuy9ykumwlpl', 'offer_amount': 4108.92005, 'ask_amount': 989.272796, 'leverage': 3, 'margin_amount': 1366.896424, 'entry_price': 4.145155, 'take_profit': 4.214254, 'stop_loss': 2.901617, 'pnl': 8.230778, 'fee': 1.642246, 'funding_payment': 0, '': '', '__1': ''}, {'user_type': 'BOT', 'pair': 'ORAI_USDC', 'hash': '52696AC6114EB41B27CA7A5DAD71ABB4A03FF7F5752B5F3F1958D686E8DE105C', 'height': 14617071, 'time': '2023-11-30 03:08:55', 'order_id': 416, 'status': 'Close', 'direction': 'BUY', 'bidder_addr': 'orai15vc7z4zyyam999zp6rwealm06lvuy9ykumwlpl', 'offer_amount': 4987.576308, 'ask_amount': 1207.999477, 'leverage': 3, 'margin_amount': 1679.159323, 'entry_price': 4.170099, 'take_profit': 4.239616, 'stop_loss': 2.91908, 'pnl': -49.901661, 'fee': 2.017412, 'funding_payment': 2.522302, '': '', '__1': ''}, {'user_type': 'BOT', 'pair': 'ORAI_USDC', 'hash': '0B6611F0405D5169B27D69E423C8EF173BA260D948F52CA7A711DDE24E3ABB66', 'height': 14617101, 'time': '2023-11-30 03:11:49', 'order_id': 417, 'status': 'Close', 'direction': 'BUY', 'bidder_addr': 'orai15vc7z4zyyam999zp6rwealm06lvuy9ykumwlpl', 'offer_amount': 4283.552912, 'ask_amount': 1043.823624, 'leverage': 3, 'margin_amount': 1459.885602, 'entry_price': 4.195782, 'take_profit': 4.265725, 'stop_loss': 2.937057, 'pnl': -96.103894, 'fee': 1.753966, 'funding_payment': 2.179503, '': '', '__1': ''}, {'user_type': 'BOT', 'pair': 'ORAI_USDC', 'hash': '87DB47B573191C6AA0861E95B7D313DB6626F23F0B789F1BF3B5A603429C977F', 'height': 14617175, 'time': '2023-11-30 03:18:53', 'order_id': 418, 'status': 'Close', 'direction': 'BUY', 'bidder_addr': 'orai15vc7z4zyyam999zp6rwealm06lvuy9ykumwlpl', 'offer_amount': 3911.516421, 'ask_amount': 950.401127, 'leverage': 3, 'margin_amount': 1321.756024, 'entry_price': 4.172204, 'take_profit': 4.241753, 'stop_loss': 2.920551, 'pnl': -53.751651, 'fee': 1.588012, 'funding_payment': 1.984437, '': '', '__1': ''}, {'user_type': 'BOT', 'pair': 'ORAI_USDC', 'hash': '87DB47B573191C6AA0861E95B7D313DB6626F23F0B789F1BF3B5A603429C977F', 'height': 14617175, 'time': '2023-11-30 03:18:53', 'order_id': 419, 'status': 'Close', 'direction': 'BUY', 'bidder_addr': 'orai15vc7z4zyyam999zp6rwealm06lvuy9ykumwlpl', 'offer_amount': 3934.974599, 'ask_amount': 961.050629, 'leverage': 3, 'margin_amount': 1343.551832, 'entry_price': 4.194009, 'take_profit': 4.263922, 'stop_loss': 2.935815, 'pnl': -95.680897, 'fee': 1.614198, 'funding_payment': 2.006673, '': '', '__1': ''}, {'user_type': 'BOT', 'pair': 'ORAI_USDC', 'hash': '3F44AF0EBEB991E83CA89195E364F26AAF7ABD6EFC918041F3C5BDE9F0686BDF', 'height': 14617323, 'time': '2023-11-30 03:33:02', 'order_id': 420, 'status': 'Close', 'direction': 'BUY', 'bidder_addr': 'orai15vc7z4zyyam999zp6rwealm06lvuy9ykumwlpl', 'offer_amount': 4679.356794, 'ask_amount': 1143.319805, 'leverage': 3, 'margin_amount': 1590.346329, 'entry_price': 4.172969, 'take_profit': 4.242534, 'stop_loss': 2.921089, 'pnl': -91.682193, 'fee': 1.910708, 'funding_payment': 2.387251, '': '', '__1': ''}, {'user_type': 'BOT', 'pair': 'ORAI_USDC', 'hash': '3F44AF0EBEB991E83CA89195E364F26AAF7ABD6EFC918041F3C5BDE9F0686BDF', 'height': 14617323, 'time': '2023-11-30 03:33:02', 'order_id': 423, 'status': 'Close', 'direction': 'BUY', 'bidder_addr': 'orai15vc7z4zyyam999zp6rwealm06lvuy9ykumwlpl', 'offer_amount': 6234.714222, 'ask_amount': 1534.364295, 'leverage': 3, 'margin_amount': 2101.652264, 'entry_price': 4.109165, 'take_profit': 4.177671, 'stop_loss': 2.876429, 'pnl': -70.24257, 'fee': 2.525012, 'funding_payment': 0, '': '', '__1': ''}, {'user_type': 'BOT', 'pair': 'INJ_USDC', 'hash': '276187037768CF70D9AC35973F2F3C6CDC5B4E45CD27FB731EB515960C287532', 'height': 14617068, 'time': '2023-11-30 03:08:38', 'order_id': 408, 'status': 'Close', 'direction': 'BUY', 'bidder_addr': 'orai1nza67tu4pv6uueqmynytqzelejpykr5d3tkqnd', 'offer_amount': 8367.778256, 'ask_amount': 492.206774, 'leverage': 3, 'margin_amount': 2753.487892, 'entry_price': 16.782507, 'take_profit': 17.062271, 'stop_loss': 11.747793, 'pnl': 107.31458, 'fee': 3.308154, 'funding_payment': 1.87137, '': '', '__1': ''}, {'user_type': 'BOT', 'pair': 'INJ_USDC', 'hash': '1DE1F649748E2BF0E93BA70381C85EBACB3C676DC8B98330D772D354C3A46BA5', 'height': 14617230, 'time': '2023-11-30 03:24:09', 'order_id': 409, 'status': 'Close', 'direction': 'BUY', 'bidder_addr': 'orai1nza67tu4pv6uueqmynytqzelejpykr5d3tkqnd', 'offer_amount': 9812.292343, 'ask_amount': 580.64159, 'leverage': 3, 'margin_amount': 3267.650558, 'entry_price': 16.882965, 'take_profit': 17.164413, 'stop_loss': 11.818121, 'pnl': 9.340669, 'fee': 3.92589, 'funding_payment': 2.207599, '': '', '__1': ''}, {'user_type': 'BOT', 'pair': 'INJ_USDC', 'hash': 'AD3C3F80CEE395BDD30F2610EDD7613F3470678EB39E6B5B2B2B0F8AD5FA4652', 'height': 14617387, 'time': '2023-11-30 03:39:07', 'order_id': 415, 'status': 'Close', 'direction': 'BUY', 'bidder_addr': 'orai1nza67tu4pv6uueqmynytqzelejpykr5d3tkqnd', 'offer_amount': 8805.78514, 'ask_amount': 524.295563, 'leverage': 3, 'margin_amount': 2933.718663, 'entry_price': 16.78663, 'take_profit': 17.066467, 'stop_loss': 11.750682, 'pnl': 4.629151, 'fee': 3.524692, 'funding_payment': -1.825072, '': '', '__1': ''}, {'user_type': 'BOT', 'pair': 'ORAI_USDC', 'hash': 'B19F938B755234F1107F6791C831D796B27B1D9DFEA601697BA69FD8C72591D3', 'height': 14618077, 'time': '2023-11-30 04:45:08', 'order_id': 424, 'status': 'Close', 'direction': 'BUY', 'bidder_addr': 'orai15vc7z4zyyam999zp6rwealm06lvuy9ykumwlpl', 'offer_amount': 3965.087296, 'ask_amount': 976.41884, 'leverage': 3, 'margin_amount': 1332.688325, 'entry_price': 4.09462, 'take_profit': 4.162876, 'stop_loss': 2.866243, 'pnl': -32.977679, 'fee': 1.601146, 'funding_payment': -0.530195, '': '', '__1': ''}, {'user_type': 'BOT', 'pair': 'ORAI_USDC', 'hash': 'B19F938B755234F1107F6791C831D796B27B1D9DFEA601697BA69FD8C72591D3', 'height': 14618077, 'time': '2023-11-30 04:45:08', 'order_id': 425, 'status': 'Close', 'direction': 'BUY', 'bidder_addr': 'orai15vc7z4zyyam999zp6rwealm06lvuy9ykumwlpl', 'offer_amount': 4581.454209, 'ask_amount': 1134.609325, 'leverage': 3, 'margin_amount': 1535.132382, 'entry_price': 4.059015, 'take_profit': 4.12668, 'stop_loss': 2.841321, 'pnl': -23.942937, 'fee': 1.844372, 'funding_payment': -0.616092, '': '', '__1': ''}, {'user_type': 'BOT', 'pair': 'INJ_USDC', 'hash': 'A1A12894CA7D729259CCB941AC4443661418273206B009FFC82FA8B474018CBC', 'height': 14617884, 'time': '2023-11-30 04:26:39', 'order_id': 421, 'status': 'Close', 'direction': 'BUY', 'bidder_addr': 'orai1nza67tu4pv6uueqmynytqzelejpykr5d3tkqnd', 'offer_amount': 9790.012389, 'ask_amount': 583.392995, 'leverage': 3, 'margin_amount': 3284.580375, 'entry_price': 16.8904, 'take_profit': 17.171972, 'stop_loss': 11.823325, 'pnl': -63.728736, 'fee': 3.94623, 'funding_payment': -4.913919, '': '', '__1': ''}, {'user_type': 'BOT', 'pair': 'ORAI_USDC', 'hash': 'DC812369B060842E3FF37382F1AD0F25E5BD03C7ACAC35C44A1C2434660C7194', 'height': 14619425, 'time': '2023-11-30 06:54:14', 'order_id': 428, 'status': 'Close', 'direction': 'BUY', 'bidder_addr': 'orai15vc7z4zyyam999zp6rwealm06lvuy9ykumwlpl', 'offer_amount': 5072.11534, 'ask_amount': 1242.396449, 'leverage': 3, 'margin_amount': 1672.713561, 'entry_price': 4.039081, 'take_profit': 4.106415, 'stop_loss': 2.827367, 'pnl': 53.974657, 'fee': 2.009666, 'funding_payment': -4.895042, '': '', '__1': ''}, {'user_type': 'BOT', 'pair': 'INJ_USDC', 'hash': '8362835A5B3E94D83C355AF2CF9D0E832AE29470DA6D55022121616EFE32BF92', 'height': 14618903, 'time': '2023-11-30 06:04:19', 'order_id': 422, 'status': 'Close', 'direction': 'BUY', 'bidder_addr': 'orai1nza67tu4pv6uueqmynytqzelejpykr5d3tkqnd', 'offer_amount': 8998.045069, 'ask_amount': 536.783119, 'leverage': 3, 'margin_amount': 3041.109938, 'entry_price': 16.996305, 'take_profit': 17.279638, 'stop_loss': 11.897456, 'pnl': -125.284745, 'fee': 3.653716, 'funding_payment': -13.268741, '': '', '__1': ''}, {'user_type': 'BOT', 'pair': 'INJ_USDC', 'hash': '65FD4FB5CFABA2D7E711908A9A36A0BE382E6A7C12A632EE3B5688AEB89B18AB', 'height': 14619399, 'time': '2023-11-30 06:51:45', 'order_id': 426, 'status': 'Close', 'direction': 'BUY', 'bidder_addr': 'orai1nza67tu4pv6uueqmynytqzelejpykr5d3tkqnd', 'offer_amount': 7993.372424, 'ask_amount': 477.138729, 'leverage': 3, 'margin_amount': 2670.554104, 'entry_price': 16.791054, 'take_profit': 17.070958, 'stop_loss': 11.753774, 'pnl': -18.289888, 'fee': 3.208514, 'funding_payment': -7.775452, '': '', '__1': ''}, {'user_type': 'BOT', 'pair': 'ORAI_USDC', 'hash': '3ABB8EC52E543A81F2C28C54C60E6282787BD490CCBE16D324E1D07F462B4A83', 'height': 14619550, 'time': '2023-11-30 07:06:12', 'order_id': 430, 'status': 'Close', 'direction': 'BUY', 'bidder_addr': 'orai15vc7z4zyyam999zp6rwealm06lvuy9ykumwlpl', 'offer_amount': 3957.768551, 'ask_amount': 970.768142, 'leverage': 3, 'margin_amount': 1314.788353, 'entry_price': 4.063138, 'take_profit': 4.130869, 'stop_loss': 2.844205, 'pnl': 13.403492, 'fee': 1.57964, 'funding_payment': -2.754069, '': '', '__1': ''}, {'user_type': 'BOT', 'pair': 'ORAI_USDC', 'hash': '3ABB8EC52E543A81F2C28C54C60E6282787BD490CCBE16D324E1D07F462B4A83', 'height': 14619550, 'time': '2023-11-30 07:06:12', 'order_id': 432, 'status': 'Close', 'direction': 'BUY', 'bidder_addr': 'orai15vc7z4zyyam999zp6rwealm06lvuy9ykumwlpl', 'offer_amount': 4121.959779, 'ask_amount': 1016.457381, 'leverage': 3, 'margin_amount': 1384.078832, 'entry_price': 4.085007, 'take_profit': 4.153104, 'stop_loss': 2.859514, 'pnl': -30.276717, 'fee': 1.66289, 'funding_payment': -0.66273, '': '', '__1': ''}, {'user_type': 'BOT', 'pair': 'ORAI_USDC', 'hash': 'B1FD05448262B064D90B046B807FF12D8383D9DA3DAC2AA84DE23A427CDB874A', 'height': 14619921, 'time': '2023-11-30 07:41:49', 'order_id': 435, 'status': 'Close', 'direction': 'BUY', 'bidder_addr': 'orai15vc7z4zyyam999zp6rwealm06lvuy9ykumwlpl', 'offer_amount': 3832.675053, 'ask_amount': 938.636068, 'leverage': 3, 'margin_amount': 1268.526953, 'entry_price': 4.054373, 'take_profit': 4.121958, 'stop_loss': 2.838069, 'pnl': 27.094194, 'fee': 1.52406, 'funding_payment': 0, '': '', '__1': ''}, {'user_type': 'BOT', 'pair': 'ORAI_USDC', 'hash': 'B1FD05448262B064D90B046B807FF12D8383D9DA3DAC2AA84DE23A427CDB874A', 'height': 14619921, 'time': '2023-11-30 07:41:49', 'order_id': 437, 'status': 'Close', 'direction': 'BUY', 'bidder_addr': 'orai15vc7z4zyyam999zp6rwealm06lvuy9ykumwlpl', 'offer_amount': 5352.797626, 'ask_amount': 1318.903271, 'leverage': 3, 'margin_amount': 1793.297276, 'entry_price': 4.079064, 'take_profit': 4.147066, 'stop_loss': 2.855357, 'pnl': -27.094202, 'fee': 2.154542, 'funding_payment': 0, '': '', '__1': ''}, {'user_type': 'BOT', 'pair': 'INJ_USDC', 'hash': '1509F5F649B464E8FE5A5FBC78FD3F652DF546762F83050ECA4DB1BDC0B0AE88', 'height': 14620109, 'time': '2023-11-30 07:59:48', 'order_id': 429, 'status': 'Close', 'direction': 'BUY', 'bidder_addr': 'orai1nza67tu4pv6uueqmynytqzelejpykr5d3tkqnd', 'offer_amount': 7740.018975, 'ask_amount': 462.100663, 'leverage': 3, 'margin_amount': 2583.11921, 'entry_price': 16.769847, 'take_profit': 17.049397, 'stop_loss': 11.738929, 'pnl': -9.338655, 'fee': 3.103466, 'funding_payment': -8.368643, '': '', '__1': ''}, {'user_type': 'BOT', 'pair': 'INJ_USDC', 'hash': '1509F5F649B464E8FE5A5FBC78FD3F652DF546762F83050ECA4DB1BDC0B0AE88', 'height': 14620109, 'time': '2023-11-30 07:59:48', 'order_id': 433, 'status': 'Close', 'direction': 'BUY', 'bidder_addr': 'orai1nza67tu4pv6uueqmynytqzelejpykr5d3tkqnd', 'offer_amount': 7536.727434, 'ask_amount': 452.249253, 'leverage': 3, 'margin_amount': 2525.817028, 'entry_price': 16.755032, 'take_profit': 17.034334, 'stop_loss': 11.728558, 'pnl': -40.72365, 'fee': 3.03462, 'funding_payment': -4.841328, '': '', '__1': ''}, {'user_type': 'BOT', 'pair': 'ORAI_USDC', 'hash': '17C02C38DC98D9F916044D489122B452830BE238FDAA242996E59044087D3ADE', 'height': 14620329, 'time': '2023-11-30 08:20:49', 'order_id': 438, 'status': 'Close', 'direction': 'BUY', 'bidder_addr': 'orai15vc7z4zyyam999zp6rwealm06lvuy9ykumwlpl', 'offer_amount': 5082.329207, 'ask_amount': 1252.484977, 'leverage': 3, 'margin_amount': 1694.109736, 'entry_price': 4.057796, 'take_profit': 4.125442, 'stop_loss': 2.840468, 'pnl': -1e-06, 'fee': 2.035374, 'funding_payment': -1.778528, '': '', '__1': ''}, {'user_type': 'BOT', 'pair': 'INJ_USDC', 'hash': 'E8DD145902A66D995BD902C38A61BD0E769492288E0FD07B3CD7E469A9DF6359', 'height': 14620184, 'time': '2023-11-30 08:06:58', 'order_id': 436, 'status': 'Close', 'direction': 'BUY', 'bidder_addr': 'orai1nza67tu4pv6uueqmynytqzelejpykr5d3tkqnd', 'offer_amount': 7552.459223, 'ask_amount': 453.041624, 'leverage': 3, 'margin_amount': 2529.554765, 'entry_price': 16.750479, 'take_profit': 17.029704, 'stop_loss': 11.72537, 'pnl': -36.205072, 'fee': 3.039112, 'funding_payment': -4.286679, '': '', '__1': ''}, {'user_type': 'BOT', 'pair': 'INJ_USDC', 'hash': 'E8DD145902A66D995BD902C38A61BD0E769492288E0FD07B3CD7E469A9DF6359', 'height': 14620184, 'time': '2023-11-30 08:06:58', 'order_id': 439, 'status': 'Close', 'direction': 'BUY', 'bidder_addr': 'orai1nza67tu4pv6uueqmynytqzelejpykr5d3tkqnd', 'offer_amount': 8008.268679, 'ask_amount': 482.875568, 'leverage': 3, 'margin_amount': 2682.826813, 'entry_price': 16.667814, 'take_profit': 16.945665, 'stop_loss': 11.667507, 'pnl': -40.21176, 'fee': 3.22326, 'funding_payment': -4.568968, '': '', '__1': ''}, {'user_type': 'BOT', 'pair': 'INJ_USDC', 'hash': '5F2D5DF54DD1F4E5FAA46362DA589C5073E58B1785B23801AB7344A4188F79F0', 'height': 14620689, 'time': '2023-11-30 08:55:20', 'order_id': 440, 'status': 'Close', 'direction': 'BUY', 'bidder_addr': 'orai1nza67tu4pv6uueqmynytqzelejpykr5d3tkqnd', 'offer_amount': 8367.175004, 'ask_amount': 499.204536, 'leverage': 3, 'margin_amount': 2759.941511, 'entry_price': 16.586036, 'take_profit': 16.862525, 'stop_loss': 11.610263, 'pnl': 87.350471, 'fee': 3.315908, 'funding_payment': 0, '': '', '__1': ''}, {'user_type': 'BOT', 'pair': 'INJ_USDC', 'hash': 'D44E41C2804629A8755322816323CDF1A860ABD50EA95A534D073B6EF5F2CF63', 'height': 14621377, 'time': '2023-11-30 10:01:13', 'order_id': 441, 'status': 'Close', 'direction': 'BUY', 'bidder_addr': 'orai1nza67tu4pv6uueqmynytqzelejpykr5d3tkqnd', 'offer_amount': 8535.521563, 'ask_amount': 495.373186, 'leverage': 3, 'margin_amount': 2753.860559, 'entry_price': 16.67749, 'take_profit': 16.955504, 'stop_loss': 11.674281, 'pnl': 273.939886, 'fee': 3.308602, 'funding_payment': -5.644777, '': '', '__1': ''}, {'user_type': 'BOT', 'pair': 'INJ_USDC', 'hash': 'D44E41C2804629A8755322816323CDF1A860ABD50EA95A534D073B6EF5F2CF63', 'height': 14621377, 'time': '2023-11-30 10:01:13', 'order_id': 442, 'status': 'Close', 'direction': 'BUY', 'bidder_addr': 'orai1nza67tu4pv6uueqmynytqzelejpykr5d3tkqnd', 'offer_amount': 7755.743034, 'ask_amount': 452.52182, 'leverage': 3, 'margin_amount': 2528.896091, 'entry_price': 16.765353, 'take_profit': 17.044827, 'stop_loss': 11.735782, 'pnl': 169.054761, 'fee': 3.03832, 'funding_payment': -5.156486, '': '', '__1': ''}, {'user_type': 'BOT', 'pair': 'INJ_USDC', 'hash': 'F93C86DE6E47092A1C2DD4BB12373C01D768146BE16F1BE95094911A249E8D4C', 'height': 14621569, 'time': '2023-11-30 10:19:30', 'order_id': 443, 'status': 'Close', 'direction': 'BUY', 'bidder_addr': 'orai1nza67tu4pv6uueqmynytqzelejpykr5d3tkqnd', 'offer_amount': 7848.810388, 'ask_amount': 457.585548, 'leverage': 3, 'margin_amount': 2555.941606, 'entry_price': 16.757139, 'take_profit': 17.036476, 'stop_loss': 11.730033, 'pnl': 180.98557, 'fee': 3.070814, 'funding_payment': 0.004118, '': '', '__1': ''}, {'user_type': 'BOT', 'pair': 'INJ_USDC', 'hash': 'F93C86DE6E47092A1C2DD4BB12373C01D768146BE16F1BE95094911A249E8D4C', 'height': 14621569, 'time': '2023-11-30 10:19:30', 'order_id': 444, 'status': 'Close', 'direction': 'BUY', 'bidder_addr': 'orai1nza67tu4pv6uueqmynytqzelejpykr5d3tkqnd', 'offer_amount': 8579.115977, 'ask_amount': 502.863023, 'leverage': 3, 'margin_amount': 2823.881102, 'entry_price': 16.84682, 'take_profit': 17.127658, 'stop_loss': 11.792813, 'pnl': 107.472671, 'fee': 3.392728, 'funding_payment': 0.004525, '': '', '__1': ''}, {'user_type': 'BOT', 'pair': 'ORAI_USDC', 'hash': '879841815AE68EABAD56240AD8E42DBEA8C0DF4A556557FDC1B1E3C8BAD1B64E', 'height': 14622387, 'time': '2023-11-30 11:37:38', 'order_id': 457, 'status': 'Close', 'direction': 'BUY', 'bidder_addr': 'orai15vc7z4zyyam999zp6rwealm06lvuy9ykumwlpl', 'offer_amount': 3843.687992, 'ask_amount': 947.105737, 'leverage': 3, 'margin_amount': 1281.229331, 'entry_price': 4.058351, 'take_profit': 4.126002, 'stop_loss': 2.840854, 'pnl': -1e-06, 'fee': 1.539322, 'funding_payment': -0.061561, '': '', '__1': ''}, {'user_type': 'BOT', 'pair': 'INJ_USDC', 'hash': '8D2D3EC85B5346D11251B59F578B7F6409730C997580E3CE928328F5B0A00FFA', 'height': 14623287, 'time': '2023-11-30 13:03:37', 'order_id': 445, 'status': 'Close', 'direction': 'BUY', 'bidder_addr': 'orai1nza67tu4pv6uueqmynytqzelejpykr5d3tkqnd', 'offer_amount': 8221.366191, 'ask_amount': 469.625881, 'leverage': 3, 'margin_amount': 2651.562864, 'entry_price': 16.938352, 'take_profit': 17.220711, 'stop_loss': 11.856883, 'pnl': 266.677599, 'fee': 3.185698, 'funding_payment': -2.952537, '': '', '__1': ''}, {'user_type': 'USER', 'pair': 'INJ_USDC', 'hash': '1C433C84A00F249C7DEB98CBA0D1E21110D06DEFFC76DA0008ECDBB80A6E7463', 'height': 14623695, 'time': '2023-11-30 13:42:42', 'order_id': 459, 'status': 'Close', 'direction': 'SELL', 'bidder_addr': 'orai17a7yeypmflmfmndelpue2cdq4yh2lf4ujg4s6v', 'offer_amount': 10.000448, 'ask_amount': 0.569477, 'leverage': 1, 'margin_amount': 9.996, 'entry_price': 17.552947, 'take_profit': 15.797652, 'stop_loss': 0, 'pnl': -0.004448, 'fee': 0.004, 'funding_payment': 0.004488, '': '', '__1': ''}, {'user_type': 'USER', 'pair': 'ORAI_USDC', 'hash': '5651C85AD083BDB44F92119138DA0C00B5B3110A11CFF5DDDC4AB1BCC40EF566', 'height': 14624394, 'time': '2023-11-30 14:49:28', 'order_id': 410, 'status': 'Close', 'direction': 'BUY', 'bidder_addr': 'orai16kn05tue27qkvxtzlv4d796mdhen63fyxf7mee', 'offer_amount': 583.462168, 'ask_amount': 145.776903, 'leverage': 3, 'margin_amount': 200.230269, 'entry_price': 4.120617, 'take_profit': 4.807386, 'stop_loss': 3.433847, 'pnl': -17.228639, 'fee': 0.240564, 'funding_payment': -1.705298, '': '', '__1': ''}, {'user_type': 'USER', 'pair': 'ORAI_USDC', 'hash': '3D6C3552BA64F44D466C142FD31E607A25E380FA49626E7F717CCF6D258CBCA3', 'height': 14623959, 'time': '2023-11-30 14:07:53', 'order_id': 431, 'status': 'Close', 'direction': 'BUY', 'bidder_addr': 'orai1wvu8zmxp2spyqg55l7n5jgxt7fjjtenm596ugl', 'offer_amount': 14.637603, 'ask_amount': 3.677653, 'leverage': 3, 'margin_amount': 4.994, 'entry_price': 4.073793, 'take_profit': 4.209586, 'stop_loss': 3.73431, 'pnl': -0.344397, 'fee': 0.006, 'funding_payment': -0.042248, '': '', '__1': ''}, {'user_type': 'BOT', 'pair': 'ORAI_USDC', 'hash': '9CB5260CB60F5989F8F193694A442B3C00BD3B3EC7A535F398EA1AC90901C154', 'height': 14624013, 'time': '2023-11-30 14:13:03', 'order_id': 460, 'status': 'Close', 'direction': 'SELL', 'bidder_addr': 'orai15vc7z4zyyam999zp6rwealm06lvuy9ykumwlpl', 'offer_amount': 4481.905241, 'ask_amount': 1122.712992, 'leverage': 3, 'margin_amount': 1510.380143, 'entry_price': 4.035884, 'take_profit': 3.968605, 'stop_loss': 5.246631, 'pnl': 49.235188, 'fee': 1.814632, 'funding_payment': 4.472888, '': '', '__1': ''}, {'user_type': 'USER', 'pair': 'INJ_USDC', 'hash': 'FDCD21EEFFB04C4557A5580020B8E7A65BA9DB6E617B5A83D92483FBB87FA5D8', 'height': 14624199, 'time': '2023-11-30 14:30:50', 'order_id': 458, 'status': 'Close', 'direction': 'BUY', 'bidder_addr': 'orai1zepr4z9v0lyuwkyu8a06xfc9mc6g6zrf4jlfx5', 'offer_amount': 600.185379, 'ask_amount': 34.184176, 'leverage': 3, 'margin_amount': 199.972936, 'entry_price': 17.549605, 'take_profit': 20.474539, 'stop_loss': 16.087136, 'pnl': 0.266571, 'fee': 0.240254, 'funding_payment': -0.798063, '': '', '__1': ''}, {'user_type': 'USER', 'pair': 'INJ_USDC', 'hash': 'F0E2BC393761640D25509C5EB41F5024BA39AE8359E0051657F60DE3DB30E16E', 'height': 14624170, 'time': '2023-11-30 14:28:04', 'order_id': 464, 'status': 'Close', 'direction': 'SELL', 'bidder_addr': 'orai17a7yeypmflmfmndelpue2cdq4yh2lf4ujg4s6v', 'offer_amount': 9.996005, 'ask_amount': 0.569224, 'leverage': 1, 'margin_amount': 9.996, 'entry_price': 17.560749, 'take_profit': 15.804674, 'stop_loss': 0, 'pnl': -5e-06, 'fee': 0.004, 'funding_payment': 0, '': '', '__1': ''}, {'user_type': 'BOT', 'pair': 'ORAI_USDC', 'hash': 'E907AF015FE9445EA16B0E6984E49BE5724538CBBDBD9F8D40CD2CCF46097EF0', 'height': 14625244, 'time': '2023-11-30 16:11:00', 'order_id': 461, 'status': 'Close', 'direction': 'SELL', 'bidder_addr': 'orai15vc7z4zyyam999zp6rwealm06lvuy9ykumwlpl', 'offer_amount': 3808.493392, 'ask_amount': 965.970517, 'leverage': 3, 'margin_amount': 1292.274447, 'entry_price': 4.013397, 'take_profit': 3.946494, 'stop_loss': 5.217399, 'pnl': 68.329949, 'fee': 1.552592, 'funding_payment': 10.208376, '': '', '__1': ''}, {'user_type': 'BOT', 'pair': 'ORAI_USDC', 'hash': 'E907AF015FE9445EA16B0E6984E49BE5724538CBBDBD9F8D40CD2CCF46097EF0', 'height': 14625244, 'time': '2023-11-30 16:11:00', 'order_id': 463, 'status': 'Close', 'direction': 'SELL', 'bidder_addr': 'orai15vc7z4zyyam999zp6rwealm06lvuy9ykumwlpl', 'offer_amount': 4262.627695, 'ask_amount': 1075.31986, 'leverage': 3, 'margin_amount': 1430.750586, 'entry_price': 3.991604, 'take_profit': 3.925063, 'stop_loss': 5.189067, 'pnl': 29.624063, 'fee': 1.718962, 'funding_payment': 10.32307, '': '', '__1': ''}, {'user_type': 'USER', 'pair': 'ORAI_USDC', 'hash': '5723271BB1C662C3689578BE3A2DD3104B2956007D13A00DA6D91692624EA4DA', 'height': 14625957, 'time': '2023-11-30 17:19:12', 'order_id': 351, 'status': 'Close', 'direction': 'BUY', 'bidder_addr': 'orai12zyu8w93h0q2lcnt50g3fn0w3yqnhy4fvawaqz', 'offer_amount': 0.282358, 'ask_amount': 0.071691, 'leverage': 3, 'margin_amount': 0.09988, 'entry_price': 4.179604, 'take_profit': 4.318924, 'stop_loss': 0, 'pnl': -0.017282, 'fee': 0.00012, 'funding_payment': -0.000646, '': '', '__1': ''}, {'user_type': 'USER', 'pair': 'ORAI_USDC', 'hash': '93B406E492924D33A547DE493DD2B1BBDFE3CA8A21A7CE6EC54715758D1155E4', 'height': 14625929, 'time': '2023-11-30 17:16:23', 'order_id': 373, 'status': 'Close', 'direction': 'SELL', 'bidder_addr': 'orai1uesy4qnqathqlxalakh9r5slvjlvq6appzdhjr', 'offer_amount': 740.29174, 'ask_amount': 188.053904, 'leverage': 3, 'margin_amount': 260.101097, 'entry_price': 4.149359, 'take_profit': 2.766239, 'stop_loss': 0, 'pnl': 40.011551, 'fee': 0.312496, 'funding_payment': 3.032181, '': '', '__1': ''}, {'user_type': 'BOT', 'pair': 'ORAI_USDC', 'hash': '62867ED9B6980E6BCA00736018E70F49A1ECD0BBC111F665C2ECB51284DB91D3', 'height': 14626447, 'time': '2023-11-30 18:06:08', 'order_id': 465, 'status': 'Close', 'direction': 'SELL', 'bidder_addr': 'orai15vc7z4zyyam999zp6rwealm06lvuy9ykumwlpl', 'offer_amount': 4414.623965, 'ask_amount': 1131.610814, 'leverage': 3, 'margin_amount': 1504.604058, 'entry_price': 3.988837, 'take_profit': 3.922342, 'stop_loss': 5.185469, 'pnl': 99.188209, 'fee': 1.807694, 'funding_payment': 16.575835, '': '', '__1': ''}, {'user_type': 'BOT', 'pair': 'ORAI_USDC', 'hash': '62867ED9B6980E6BCA00736018E70F49A1ECD0BBC111F665C2ECB51284DB91D3', 'height': 14626447, 'time': '2023-11-30 18:06:08', 'order_id': 466, 'status': 'Close', 'direction': 'SELL', 'bidder_addr': 'orai15vc7z4zyyam999zp6rwealm06lvuy9ykumwlpl', 'offer_amount': 3895.385404, 'ask_amount': 992.934786, 'leverage': 3, 'margin_amount': 1312.780344, 'entry_price': 3.966364, 'take_profit': 3.900245, 'stop_loss': 5.156256, 'pnl': 42.955628, 'fee': 1.577228, 'funding_payment': 14.544508, '': '', '__1': ''}, {'user_type': 'BOT', 'pair': 'ORAI_USDC', 'hash': 'C56C8B412C3B29B45F50DB7828A94FE387CF3320C104F9FC3B697C9068363FB9', 'height': 14626608, 'time': '2023-11-30 18:21:29', 'order_id': 467, 'status': 'Close', 'direction': 'SELL', 'bidder_addr': 'orai15vc7z4zyyam999zp6rwealm06lvuy9ykumwlpl', 'offer_amount': 4350.402119, 'ask_amount': 1116.865392, 'leverage': 3, 'margin_amount': 1468.394225, 'entry_price': 3.944237, 'take_profit': 3.878485, 'stop_loss': 5.127489, 'pnl': 54.780556, 'fee': 1.76419, 'funding_payment': 16.359844, '': '', '__1': ''}, {'user_type': 'BOT', 'pair': 'ORAI_USDC', 'hash': 'C56C8B412C3B29B45F50DB7828A94FE387CF3320C104F9FC3B697C9068363FB9', 'height': 14626608, 'time': '2023-11-30 18:21:29', 'order_id': 468, 'status': 'Close', 'direction': 'SELL', 'bidder_addr': 'orai15vc7z4zyyam999zp6rwealm06lvuy9ykumwlpl', 'offer_amount': 4059.499796, 'ask_amount': 1036.286578, 'leverage': 3, 'margin_amount': 1369.440897, 'entry_price': 3.964465, 'take_profit': 3.898377, 'stop_loss': 5.153787, 'pnl': 48.822895, 'fee': 1.645302, 'funding_payment': 11.06754, '': '', '__1': ''}, {'user_type': 'BOT', 'pair': 'ORAI_USDC', 'hash': 'A0F3BD4A1E0E475EA095C650C9EE01D915A96FC9373F2AF36B3266150AF2595D', 'height': 14626966, 'time': '2023-11-30 18:55:37', 'order_id': 471, 'status': 'Close', 'direction': 'SELL', 'bidder_addr': 'orai15vc7z4zyyam999zp6rwealm06lvuy9ykumwlpl', 'offer_amount': 4571.242313, 'ask_amount': 1167.387073, 'leverage': 3, 'margin_amount': 1533.835784, 'entry_price': 3.941715, 'take_profit': 3.876005, 'stop_loss': 5.12421, 'pnl': 30.265039, 'fee': 1.842814, 'funding_payment': 12.467693, '': '', '__1': ''}, {'user_type': 'BOT', 'pair': 'ORAI_USDC', 'hash': '71A848C9D28AAF9412A6BBF1F544F84913EEC1638E3A8011293E2EA903EE2E43', 'height': 14627000, 'time': '2023-11-30 18:58:51', 'order_id': 474, 'status': 'Close', 'direction': 'SELL', 'bidder_addr': 'orai15vc7z4zyyam999zp6rwealm06lvuy9ykumwlpl', 'offer_amount': 4945.087695, 'ask_amount': 1254.800062, 'leverage': 3, 'margin_amount': 1641.915061, 'entry_price': 3.925521, 'take_profit': 3.86008, 'stop_loss': 5.103157, 'pnl': -19.342512, 'fee': 1.972664, 'funding_payment': 7.201297, '': '', '__1': ''}, {'user_type': 'BOT', 'pair': 'ORAI_USDC', 'hash': '91BB81BF6E47D5DA2CF71CD57FE34764168E53BD0E59FE16BB9F940519195224', 'height': 14627575, 'time': '2023-11-30 19:53:54', 'order_id': 476, 'status': 'Close', 'direction': 'SELL', 'bidder_addr': 'orai15vc7z4zyyam999zp6rwealm06lvuy9ykumwlpl', 'offer_amount': 4430.573797, 'ask_amount': 1117.16965, 'leverage': 3, 'margin_amount': 1452.70677, 'entry_price': 3.901037, 'take_profit': 3.836005, 'stop_loss': 5.071329, 'pnl': -72.453487, 'fee': 1.745342, 'funding_payment': 1.860087, '': '', '__1': ''}, {'user_type': 'BOT', 'pair': 'ORAI_USDC', 'hash': '91BB81BF6E47D5DA2CF71CD57FE34764168E53BD0E59FE16BB9F940519195224', 'height': 14627575, 'time': '2023-11-30 19:53:54', 'order_id': 477, 'status': 'Close', 'direction': 'SELL', 'bidder_addr': 'orai15vc7z4zyyam999zp6rwealm06lvuy9ykumwlpl', 'offer_amount': 5299.422085, 'ask_amount': 1327.588428, 'leverage': 3, 'margin_amount': 1734.557723, 'entry_price': 3.919643, 'take_profit': 3.854298, 'stop_loss': 5.095513, 'pnl': -95.748916, 'fee': 2.08397, 'funding_payment': 2.210434, '': '', '__1': ''}, {'user_type': 'USER', 'pair': 'ORAI_USDC', 'hash': '6EDAD8E3A178315DEEAB623FB23482DDA80B0B6467E2FA2C6A095EF79383D398', 'height': 14627039, 'time': '2023-11-30 19:02:35', 'order_id': 478, 'status': 'Close', 'direction': 'SELL', 'bidder_addr': 'orai1wvu8zmxp2spyqg55l7n5jgxt7fjjtenm596ugl', 'offer_amount': 18.295347, 'ask_amount': 4.626935, 'leverage': 3, 'margin_amount': 6.024089, 'entry_price': 3.905883, 'take_profit': 3.775686, 'stop_loss': 4.231373, 'pnl': -0.22308, 'fee': 0.007236, 'funding_payment': 0.007703, '': '', '__1': ''}, {'user_type': 'BOT', 'pair': 'ORAI_USDC', 'hash': 'F2A94360D0E017004ED04293675DA066D6EEEB3511CA6BFB19056CF52869BBA6', 'height': 14628552, 'time': '2023-11-30 21:27:16', 'order_id': 479, 'status': 'Close', 'direction': 'SELL', 'bidder_addr': 'orai15vc7z4zyyam999zp6rwealm06lvuy9ykumwlpl', 'offer_amount': 4274.074857, 'ask_amount': 1077.113057, 'leverage': 3, 'margin_amount': 1398.373252, 'entry_price': 3.894781, 'take_profit': 3.829854, 'stop_loss': 5.063197, 'pnl': -78.955101, 'fee': 1.680062, 'funding_payment': -2.091753, '': '', '__1': ''}, {'user_type': 'BOT', 'pair': 'ORAI_USDC', 'hash': 'F2A94360D0E017004ED04293675DA066D6EEEB3511CA6BFB19056CF52869BBA6', 'height': 14628552, 'time': '2023-11-30 21:27:16', 'order_id': 480, 'status': 'Close', 'direction': 'SELL', 'bidder_addr': 'orai15vc7z4zyyam999zp6rwealm06lvuy9ykumwlpl', 'offer_amount': 4701.319683, 'ask_amount': 1177.69809, 'leverage': 3, 'margin_amount': 1537.246622, 'entry_price': 3.915893, 'take_profit': 3.850613, 'stop_loss': 5.090641, 'pnl': -89.579817, 'fee': 1.846912, 'funding_payment': -2.287089, '': '', '__1': ''}, {'user_type': 'BOT', 'pair': 'ORAI_USDC', 'hash': '631C7D331D7219AD2ED83E334F483B410D6CE128D26CDB2265D2BD8D04CC9A00', 'height': 14629236, 'time': '2023-11-30 22:32:46', 'order_id': 482, 'status': 'Close', 'direction': 'SELL', 'bidder_addr': 'orai15vc7z4zyyam999zp6rwealm06lvuy9ykumwlpl', 'offer_amount': 5356.952678, 'ask_amount': 1353.517026, 'leverage': 3, 'margin_amount': 1800.850157, 'entry_price': 3.99149, 'take_profit': 3.924948, 'stop_loss': 5.188914, 'pnl': 45.597793, 'fee': 2.163616, 'funding_payment': -5.202919, '': '', '__1': ''}, {'user_type': 'USER', 'pair': 'ORAI_USDC', 'hash': 'FD608DD24F3782B7453C60D125985606EA669A83F60A7C57CB8EC8CE0B62B450', 'height': 14629665, 'time': '2023-11-30 23:13:40', 'order_id': 472, 'status': 'Close', 'direction': 'BUY', 'bidder_addr': 'orai18vyspza5ndpg5wss0u7mqs7g50zekjrjvc2dys', 'offer_amount': 970.268489, 'ask_amount': 244.433428, 'leverage': 3, 'margin_amount': 320.378356, 'entry_price': 3.932093, 'take_profit': 4.063162, 'stop_loss': 0, 'pnl': 9.133421, 'fee': 0.384914, 'funding_payment': -0.973822, '': '', '__1': ''}, {'user_type': 'BOT', 'pair': 'ORAI_USDC', 'hash': '4B10D7CF4A243FACCACCABF44A3DA4F39880F0F51B179B0ED61255BE7485A6B8', 'height': 14630420, 'time': '2023-12-01 00:25:42', 'order_id': 484, 'status': 'Close', 'direction': 'SELL', 'bidder_addr': 'orai15vc7z4zyyam999zp6rwealm06lvuy9ykumwlpl', 'offer_amount': 13363.99588, 'ask_amount': 3370.78989, 'leverage': 3, 'margin_amount': 4518.333723, 'entry_price': 4.021312, 'take_profit': 3.954247, 'stop_loss': 5.227649, 'pnl': 191.005294, 'fee': 5.428514, 'funding_payment': -7.162928, '': '', '__1': ''}, {'user_type': 'USER', 'pair': 'ORAI_USDC', 'hash': '7FE1BECF4E9536DC5BD33E6E066903A86429A95D2FCCF22249A722E60599F8F6', 'height': 14630465, 'time': '2023-12-01 00:29:59', 'order_id': 489, 'status': 'Close', 'direction': 'SELL', 'bidder_addr': 'orai18vyspza5ndpg5wss0u7mqs7g50zekjrjvc2dys', 'offer_amount': 889.924869, 'ask_amount': 226.74261, 'leverage': 3, 'margin_amount': 299.64, 'entry_price': 3.964495, 'take_profit': 3.832345, 'stop_loss': 0, 'pnl': 8.995131, 'fee': 0.36, 'funding_payment': -0.011337, '': '', '__1': ''}, {'user_type': 'BOT', 'pair': 'ORAI_USDC', 'hash': '97C7BEF6D0A2570FB2568EAB820D2646C526A17832A52B6DA706B85DF1E93096', 'height': 14630941, 'time': '2023-12-01 01:15:38', 'order_id': 486, 'status': 'Close', 'direction': 'SELL', 'bidder_addr': 'orai15vc7z4zyyam999zp6rwealm06lvuy9ykumwlpl', 'offer_amount': 5322.052598, 'ask_amount': 1349.90641, 'leverage': 3, 'margin_amount': 1786.810383, 'entry_price': 3.970965, 'take_profit': 3.904764, 'stop_loss': 5.162231, 'pnl': 38.378551, 'fee': 2.146748, 'funding_payment': 1.672534, '': '', '__1': ''}, {'user_type': 'BOT', 'pair': 'ORAI_USDC', 'hash': '97C7BEF6D0A2570FB2568EAB820D2646C526A17832A52B6DA706B85DF1E93096', 'height': 14630941, 'time': '2023-12-01 01:15:38', 'order_id': 487, 'status': 'Close', 'direction': 'SELL', 'bidder_addr': 'orai15vc7z4zyyam999zp6rwealm06lvuy9ykumwlpl', 'offer_amount': 6328.911716, 'ask_amount': 1592.806183, 'leverage': 3, 'margin_amount': 2117.133516, 'entry_price': 3.987553, 'take_profit': 3.921074, 'stop_loss': 5.183792, 'pnl': 22.488832, 'fee': 2.543612, 'funding_payment': 1.973486, '': '', '__1': ''}, {'user_type': 'BOT', 'pair': 'ORAI_USDC', 'hash': 'AEB37FBF1FBA8F9A0F7D8694724C6A399AA8BA190CB049B07F7BD25A6438E78E', 'height': 14631190, 'time': '2023-12-01 01:39:28', 'order_id': 488, 'status': 'Close', 'direction': 'SELL', 'bidder_addr': 'orai15vc7z4zyyam999zp6rwealm06lvuy9ykumwlpl', 'offer_amount': 5062.618574, 'ask_amount': 1289.154321, 'leverage': 3, 'margin_amount': 1700.448441, 'entry_price': 3.957125, 'take_profit': 3.891157, 'stop_loss': 5.144241, 'pnl': 38.726749, 'fee': 2.042988, 'funding_payment': 1.597262, '': '', '__1': ''}, {'user_type': 'BOT', 'pair': 'ORAI_USDC', 'hash': 'AEB37FBF1FBA8F9A0F7D8694724C6A399AA8BA190CB049B07F7BD25A6438E78E', 'height': 14631190, 'time': '2023-12-01 01:39:28', 'order_id': 490, 'status': 'Close', 'direction': 'SELL', 'bidder_addr': 'orai15vc7z4zyyam999zp6rwealm06lvuy9ykumwlpl', 'offer_amount': 6206.47144, 'ask_amount': 1568.514094, 'leverage': 3, 'margin_amount': 2062.953776, 'entry_price': 3.945684, 'take_profit': 3.879902, 'stop_loss': 5.129363, 'pnl': -17.610112, 'fee': 2.478518, 'funding_payment': 1.728502, '': '', '__1': ''}, {'user_type': 'BOT', 'pair': 'ORAI_USDC', 'hash': '17CD29D67F044D604825A339B8802AB2A1E6DC6568EC5397D7B334834630064A', 'height': 14631372, 'time': '2023-12-01 01:56:50', 'order_id': 491, 'status': 'Close', 'direction': 'SELL', 'bidder_addr': 'orai15vc7z4zyyam999zp6rwealm06lvuy9ykumwlpl', 'offer_amount': 14756.65356, 'ask_amount': 3701.158807, 'leverage': 3, 'margin_amount': 4886.996967, 'entry_price': 3.961189, 'take_profit': 3.895122, 'stop_loss': 5.149484, 'pnl': -95.662661, 'fee': 5.871442, 'funding_payment': 4.078677, '': '', '__1': ''}, {'user_type': 'USER', 'pair': 'ORAI_USDC', 'hash': '83C65CAFBDAAE1A0A22272357A795BEB7700B3D670BA2BE6100F37FE542070A9', 'height': 14631329, 'time': '2023-12-01 01:52:45', 'order_id': 493, 'status': 'Close', 'direction': 'BUY', 'bidder_addr': 'orai18vyspza5ndpg5wss0u7mqs7g50zekjrjvc2dys', 'offer_amount': 1024.49292, 'ask_amount': 259.322228, 'leverage': 3, 'margin_amount': 337.981089, 'entry_price': 3.909974, 'take_profit': 4.040306, 'stop_loss': 0, 'pnl': 10.549653, 'fee': 0.406064, 'funding_payment': -0.285773, '': '', '__1': ''}, {'user_type': 'USER', 'pair': 'ORAI_USDC', 'hash': '012E3D71DF0EA29C63C531F826DFC76D5531B1767C31BF01CE8E494B61DD910C', 'height': 14631388, 'time': '2023-12-01 01:58:22', 'order_id': 494, 'status': 'Close', 'direction': 'BUY', 'bidder_addr': 'orai1g2ucrt0v7h762c2dtj30ytyr8497ugm5n0nxla', 'offer_amount': 3028.972656, 'ask_amount': 764.280288, 'leverage': 3, 'margin_amount': 998.8, 'entry_price': 3.920551, 'take_profit': 4.051236, 'stop_loss': 0, 'pnl': 32.572656, 'fee': 1.2, 'funding_payment': -0.842236, '': '', '__1': ''}, {'user_type': 'USER', 'pair': 'ORAI_USDC', 'hash': '905A27FC673672F1043523C018A5D18150BE601E78E268259EE9345E2F379BB9', 'height': 14631290, 'time': '2023-12-01 01:49:00', 'order_id': 499, 'status': 'Close', 'direction': 'BUY', 'bidder_addr': 'orai12h2qh0mujjytzhsth3sjeth6sg766kdr9868g7', 'offer_amount': 299.639999, 'ask_amount': 75.778298, 'leverage': 3, 'margin_amount': 99.88, 'entry_price': 3.954166, 'take_profit': 4.17, 'stop_loss': 3.8, 'pnl': -1e-06, 'fee': 0.12, 'funding_payment': 0, '': '', '__1': ''}, {'user_type': 'BOT', 'pair': 'ORAI_USDC', 'hash': '02CB04FC2917280AB84ECEC33C10AFC7873A1F73BDD56E977EE3D5E6EE32E4C8', 'height': 14632208, 'time': '2023-12-01 03:16:36', 'order_id': 492, 'status': 'Close', 'direction': 'SELL', 'bidder_addr': 'orai15vc7z4zyyam999zp6rwealm06lvuy9ykumwlpl', 'offer_amount': 3785.364976, 'ask_amount': 961.253892, 'leverage': 3, 'margin_amount': 1255.149641, 'entry_price': 3.917226, 'take_profit': 3.851927, 'stop_loss': 5.092378, 'pnl': -19.916053, 'fee': 1.507988, 'funding_payment': 3.129842, '': '', '__1': ''}, {'user_type': 'BOT', 'pair': 'ORAI_USDC', 'hash': '02CB04FC2917280AB84ECEC33C10AFC7873A1F73BDD56E977EE3D5E6EE32E4C8', 'height': 14632208, 'time': '2023-12-01 03:16:36', 'order_id': 495, 'status': 'Close', 'direction': 'SELL', 'bidder_addr': 'orai15vc7z4zyyam999zp6rwealm06lvuy9ykumwlpl', 'offer_amount': 3942.161856, 'ask_amount': 995.893447, 'leverage': 3, 'margin_amount': 1321.130774, 'entry_price': 3.979735, 'take_profit': 3.913393, 'stop_loss': 5.173638, 'pnl': 21.230466, 'fee': 1.58726, 'funding_payment': 2.145154, '': '', '__1': ''}, {'user_type': 'BOT', 'pair': 'ORAI_USDC', 'hash': '91DA2CFA0F0F87DAC4024BCC3210AE5CFF2DEA6E1AC659D7A87FDFC4EC315A8B', 'height': 14632646, 'time': '2023-12-01 03:58:33', 'order_id': 496, 'status': 'Close', 'direction': 'SELL', 'bidder_addr': 'orai15vc7z4zyyam999zp6rwealm06lvuy9ykumwlpl', 'offer_amount': 4899.751457, 'ask_amount': 1262.902337, 'leverage': 3, 'margin_amount': 1665.320209, 'entry_price': 3.955935, 'take_profit': 3.889987, 'stop_loss': 5.142694, 'pnl': 96.20917, 'fee': 2.000784, 'funding_payment': 2.720291, '': '', '__1': ''}, {'user_type': 'BOT', 'pair': 'ORAI_USDC', 'hash': '372E588347A6C5AF82C0586CE71B9C45FFFB39EE7E65726F588B8B59BF524623', 'height': 14632800, 'time': '2023-12-01 04:13:17', 'order_id': 497, 'status': 'Close', 'direction': 'SELL', 'bidder_addr': 'orai15vc7z4zyyam999zp6rwealm06lvuy9ykumwlpl', 'offer_amount': 5453.205628, 'ask_amount': 1395.756327, 'leverage': 3, 'margin_amount': 1827.600225, 'entry_price': 3.928193, 'take_profit': 3.862705, 'stop_loss': 5.106627, 'pnl': 29.595047, 'fee': 2.195754, 'funding_payment': 6.522369, '': '', '__1': ''}, {'user_type': 'BOT', 'pair': 'ORAI_USDC', 'hash': '12F4582EDADD0186E7256D261E713EF7F7D77FBC4E939850E7E512833814EB27', 'height': 14633005, 'time': '2023-12-01 04:32:54', 'order_id': 498, 'status': 'Close', 'direction': 'SELL', 'bidder_addr': 'orai15vc7z4zyyam999zp6rwealm06lvuy9ykumwlpl', 'offer_amount': 3724.193773, 'ask_amount': 952.184208, 'leverage': 3, 'margin_amount': 1257.954945, 'entry_price': 3.963376, 'take_profit': 3.897307, 'stop_loss': 5.152373, 'pnl': 49.671062, 'fee': 1.511358, 'funding_payment': 4.449556, '': '', '__1': ''}, {'user_type': 'BOT', 'pair': 'ORAI_USDC', 'hash': '12F4582EDADD0186E7256D261E713EF7F7D77FBC4E939850E7E512833814EB27', 'height': 14633005, 'time': '2023-12-01 04:32:54', 'order_id': 500, 'status': 'Close', 'direction': 'SELL', 'bidder_addr': 'orai15vc7z4zyyam999zp6rwealm06lvuy9ykumwlpl', 'offer_amount': 10238.67022, 'ask_amount': 2593.331307, 'leverage': 3, 'margin_amount': 3456.71364, 'entry_price': 3.998772, 'take_profit': 3.932092, 'stop_loss': 5.198359, 'pnl': 131.470701, 'fee': 4.15304, 'funding_payment': 12.118637, '': '', '__1': ''}, {'user_type': 'BOT', 'pair': 'ORAI_USDC', 'hash': 'E9A17FC4F7BF3C8EAA01401C0731D8B975473D48D8214FDA6BC018987BA85713', 'height': 14633407, 'time': '2023-12-01 05:11:23', 'order_id': 502, 'status': 'Close', 'direction': 'SELL', 'bidder_addr': 'orai15vc7z4zyyam999zp6rwealm06lvuy9ykumwlpl', 'offer_amount': 6169.539717, 'ask_amount': 1567.060913, 'leverage': 3, 'margin_amount': 2060.306584, 'entry_price': 3.944275, 'take_profit': 3.878517, 'stop_loss': 5.127531, 'pnl': 11.380035, 'fee': 2.475338, 'funding_payment': 9.145367, '': '', '__1': ''}, {'user_type': 'BOT', 'pair': 'ORAI_USDC', 'hash': '43C45E81B34A76C7AFB6378AD3FDF23F891128F163DF7944ED72984FB5060912', 'height': 14633604, 'time': '2023-12-01 05:30:20', 'order_id': 503, 'status': 'Close', 'direction': 'SELL', 'bidder_addr': 'orai15vc7z4zyyam999zp6rwealm06lvuy9ykumwlpl', 'offer_amount': 4660.459125, 'ask_amount': 1180.862476, 'leverage': 3, 'margin_amount': 1557.352333, 'entry_price': 3.956478, 'take_profit': 3.890521, 'stop_loss': 5.143401, 'pnl': 11.597874, 'fee': 1.871068, 'funding_payment': 5.721278, '': '', '__1': ''}, {'user_type': 'BOT', 'pair': 'ORAI_USDC', 'hash': 'BB1AEA1CD3E9592AB4998FFDDB28DE7C9A221AC753FC440C1B405F699A621724', 'height': 14633919, 'time': '2023-12-01 06:00:27', 'order_id': 504, 'status': 'Close', 'direction': 'SELL', 'bidder_addr': 'orai15vc7z4zyyam999zp6rwealm06lvuy9ykumwlpl', 'offer_amount': 8226.058213, 'ask_amount': 2066.410313, 'leverage': 3, 'margin_amount': 2701.930082, 'entry_price': 3.922643, 'take_profit': 3.85724, 'stop_loss': 5.099402, 'pnl': -120.267967, 'fee': 3.24621, 'funding_payment': 11.592561, '': '', '__1': ''}, {'user_type': 'BOT', 'pair': 'ORAI_USDC', 'hash': '0607CA335CAD88AA9B5E068A906B9B3CE9DBCCFEB29AA613208CF253091A865B', 'height': 14634465, 'time': '2023-12-01 06:52:36', 'order_id': 506, 'status': 'Close', 'direction': 'SELL', 'bidder_addr': 'orai15vc7z4zyyam999zp6rwealm06lvuy9ykumwlpl', 'offer_amount': 6736.539555, 'ask_amount': 1684.642329, 'leverage': 3, 'margin_amount': 2181.086206, 'entry_price': 3.884063, 'take_profit': 3.819308, 'stop_loss': 5.049255, 'pnl': -193.280937, 'fee': 2.620446, 'funding_payment': 9.450843, '': '', '__1': ''}, {'user_type': 'BOT', 'pair': 'ORAI_USDC', 'hash': 'BB411257F9BD5015D86E9DD7FF7D26C309B297B4B7BC0BD7571784AE71C01E9D', 'height': 14635650, 'time': '2023-12-01 08:45:47', 'order_id': 507, 'status': 'Close', 'direction': 'SELL', 'bidder_addr': 'orai15vc7z4zyyam999zp6rwealm06lvuy9ykumwlpl', 'offer_amount': 4688.802884, 'ask_amount': 1181.208554, 'leverage': 3, 'margin_amount': 1539.191943, 'entry_price': 3.909196, 'take_profit': 3.844027, 'stop_loss': 5.081935, 'pnl': -71.227055, 'fee': 1.849248, 'funding_payment': 2.108457, '': '', '__1': ''}, {'user_type': 'BOT', 'pair': 'ORAI_USDC', 'hash': '962C1114DFF2CD775B33E12F6628F6D23F1AD3F936F6171A2007AEBB63C71C0B', 'height': 14635865, 'time': '2023-12-01 09:06:17', 'order_id': 509, 'status': 'Close', 'direction': 'SELL', 'bidder_addr': 'orai15vc7z4zyyam999zp6rwealm06lvuy9ykumwlpl', 'offer_amount': 10460.54038, 'ask_amount': 2608.741512, 'leverage': 3, 'margin_amount': 3433.030617, 'entry_price': 3.947915, 'take_profit': 3.882083, 'stop_loss': 5.132246, 'pnl': -161.448527, 'fee': 4.124586, 'funding_payment': 4.755735, '': '', '__1': ''}, {'user_type': 'BOT', 'pair': 'ORAI_USDC', 'hash': 'F69B3BB252323D35786905F1A6543D6290BAA429E0D656C9DDCDF2815545E424', 'height': 14636361, 'time': '2023-12-01 09:53:37', 'order_id': 510, 'status': 'Close', 'direction': 'SELL', 'bidder_addr': 'orai15vc7z4zyyam999zp6rwealm06lvuy9ykumwlpl', 'offer_amount': 4261.945083, 'ask_amount': 1061.610911, 'leverage': 3, 'margin_amount': 1395.053725, 'entry_price': 3.942274, 'take_profit': 3.876555, 'stop_loss': 5.124938, 'pnl': -76.783908, 'fee': 1.676074, 'funding_payment': -0.53399, '': '', '__1': ''}, {'user_type': 'BOT', 'pair': 'ORAI_USDC', 'hash': 'F69B3BB252323D35786905F1A6543D6290BAA429E0D656C9DDCDF2815545E424', 'height': 14636361, 'time': '2023-12-01 09:53:37', 'order_id': 512, 'status': 'Close', 'direction': 'SELL', 'bidder_addr': 'orai15vc7z4zyyam999zp6rwealm06lvuy9ykumwlpl', 'offer_amount': 4159.832673, 'ask_amount': 1030.392835, 'leverage': 3, 'margin_amount': 1371.046252, 'entry_price': 3.991816, 'take_profit': 3.925271, 'stop_loss': 5.189342, 'pnl': -46.693917, 'fee': 1.647232, 'funding_payment': -1.306538, '': '', '__1': ''}, {'user_type': 'BOT', 'pair': 'ORAI_USDC', 'hash': '1BD6FADC4637CE1DDD6BF615C0A90FD7D0D11FC2FD90998652B2606A6C95F214', 'height': 14636542, 'time': '2023-12-01 10:10:55', 'order_id': 513, 'status': 'Close', 'direction': 'SELL', 'bidder_addr': 'orai15vc7z4zyyam999zp6rwealm06lvuy9ykumwlpl', 'offer_amount': 6872.108498, 'ask_amount': 1699.892157, 'leverage': 3, 'margin_amount': 2265.748244, 'entry_price': 3.998632, 'take_profit': 3.931967, 'stop_loss': 5.198194, 'pnl': -74.863766, 'fee': 2.722164, 'funding_payment': -2.395148, '': '', '__1': ''}, {'user_type': 'USER', 'pair': 'ORAI_USDC', 'hash': '3587D32385678CD5A34AD61A051F6809259BB3AD818A1503E582AB211ECF30AE', 'height': 14637415, 'time': '2023-12-01 11:34:17', 'order_id': 501, 'status': 'Close', 'direction': 'BUY', 'bidder_addr': 'orai18vyspza5ndpg5wss0u7mqs7g50zekjrjvc2dys', 'offer_amount': 1067.883799, 'ask_amount': 263.770028, 'leverage': 3, 'margin_amount': 347.992359, 'entry_price': 3.957906, 'take_profit': 4.089836, 'stop_loss': 0, 'pnl': 23.906722, 'fee': 0.418092, 'funding_payment': -1.374241, '': '', '__1': ''}, {'user_type': 'BOT', 'pair': 'ORAI_USDC', 'hash': '07741F12EDE4C761A8CCD46CD2E633FBEE2AD2840C1ACE7422F032FFFEBC949F', 'height': 14637131, 'time': '2023-12-01 11:07:11', 'order_id': 514, 'status': 'Close', 'direction': 'SELL', 'bidder_addr': 'orai15vc7z4zyyam999zp6rwealm06lvuy9ykumwlpl', 'offer_amount': 4490.001821, 'ask_amount': 1114.15537, 'leverage': 3, 'margin_amount': 1473.948881, 'entry_price': 3.968788, 'take_profit': 3.902627, 'stop_loss': 5.159406, 'pnl': -68.155178, 'fee': 1.770862, 'funding_payment': -0.545936, '': '', '__1': ''}, {'user_type': 'BOT', 'pair': 'ORAI_USDC', 'hash': '4E05484DC077A6ED186B57C098D460AAFA0A2ADF7212172ACD43B1668A6B5E43', 'height': 14637203, 'time': '2023-12-01 11:14:02', 'order_id': 515, 'status': 'Close', 'direction': 'SELL', 'bidder_addr': 'orai15vc7z4zyyam999zp6rwealm06lvuy9ykumwlpl', 'offer_amount': 5569.895567, 'ask_amount': 1372.934605, 'leverage': 3, 'margin_amount': 1841.119605, 'entry_price': 4.023031, 'take_profit': 3.955962, 'stop_loss': 5.229916, 'pnl': -46.536752, 'fee': 2.211996, 'funding_payment': -0.16887, '': '', '__1': ''}, {'user_type': 'BOT', 'pair': 'ORAI_USDC', 'hash': '7EDC5446498C3930926DCB74AF60DCE0235A20F8FC5245E46327EDAB03C4A0F3', 'height': 14637639, 'time': '2023-12-01 11:55:38', 'order_id': 517, 'status': 'Close', 'direction': 'SELL', 'bidder_addr': 'orai15vc7z4zyyam999zp6rwealm06lvuy9ykumwlpl', 'offer_amount': 3946.581328, 'ask_amount': 972.960321, 'leverage': 3, 'margin_amount': 1301.707363, 'entry_price': 4.013649, 'take_profit': 3.946743, 'stop_loss': 5.217728, 'pnl': -41.459239, 'fee': 1.563924, 'funding_payment': -0.119674, '': '', '__1': ''}, {'user_type': 'BOT', 'pair': 'ORAI_USDC', 'hash': '7EDC5446498C3930926DCB74AF60DCE0235A20F8FC5245E46327EDAB03C4A0F3', 'height': 14637639, 'time': '2023-12-01 11:55:38', 'order_id': 518, 'status': 'Close', 'direction': 'SELL', 'bidder_addr': 'orai15vc7z4zyyam999zp6rwealm06lvuy9ykumwlpl', 'offer_amount': 4527.270873, 'ask_amount': 1109.884628, 'leverage': 3, 'margin_amount': 1493.266297, 'entry_price': 4.036274, 'take_profit': 3.968988, 'stop_loss': 5.247136, 'pnl': -47.471982, 'fee': 1.794072, 'funding_payment': 1.019983, '': '', '__1': ''}, {'user_type': 'USER', 'pair': 'INJ_USDC', 'hash': '032635E584C14D101C80CE4C4014FDF0EA5A283D4D145A08F094FF305DDCF2C1', 'height': 14637364, 'time': '2023-12-01 11:29:26', 'order_id': 505, 'status': 'Close', 'direction': 'BUY', 'bidder_addr': 'orai1g2ucrt0v7h762c2dtj30ytyr8497ugm5n0nxla', 'offer_amount': 2996.399984, 'ask_amount': 170.270777, 'leverage': 3, 'margin_amount': 998.8, 'entry_price': 17.597852, 'take_profit': 18.284447, 'stop_loss': 0, 'pnl': -1.6e-05, 'fee': 1.2, 'funding_payment': -18.871961, '': '', '__1': ''}, {'user_type': 'BOT', 'pair': 'ORAI_USDC', 'hash': '23EA1B5207F991614BD37F871E14A620B6EF6C93431D2B1E8C69C38E3A9146C1', 'height': 14638205, 'time': '2023-12-01 12:49:39', 'order_id': 519, 'status': 'Close', 'direction': 'SELL', 'bidder_addr': 'orai15vc7z4zyyam999zp6rwealm06lvuy9ykumwlpl', 'offer_amount': 3938.703493, 'ask_amount': 965.946935, 'leverage': 3, 'margin_amount': 1304.229628, 'entry_price': 4.050625, 'take_profit': 3.983101, 'stop_loss': 5.265795, 'pnl': -26.014609, 'fee': 1.566954, 'funding_payment': 0.312, '': '', '__1': ''}, {'user_type': 'BOT', 'pair': 'ORAI_USDC', 'hash': '23EA1B5207F991614BD37F871E14A620B6EF6C93431D2B1E8C69C38E3A9146C1', 'height': 14638205, 'time': '2023-12-01 12:49:39', 'order_id': 520, 'status': 'Close', 'direction': 'SELL', 'bidder_addr': 'orai15vc7z4zyyam999zp6rwealm06lvuy9ykumwlpl', 'offer_amount': 4216.058203, 'ask_amount': 1028.42196, 'leverage': 3, 'margin_amount': 1381.18244, 'entry_price': 4.029034, 'take_profit': 3.961869, 'stop_loss': 5.237726, 'pnl': -72.510883, 'fee': 1.65941, 'funding_payment': 0.33218, '': '', '__1': ''}, {'user_type': 'BOT', 'pair': 'ORAI_USDC', 'hash': '23EA1B5207F991614BD37F871E14A620B6EF6C93431D2B1E8C69C38E3A9146C1', 'height': 14638205, 'time': '2023-12-01 12:49:39', 'order_id': 521, 'status': 'Close', 'direction': 'SELL', 'bidder_addr': 'orai15vc7z4zyyam999zp6rwealm06lvuy9ykumwlpl', 'offer_amount': 3871.723575, 'ask_amount': 939.418221, 'leverage': 3, 'margin_amount': 1271.861763, 'entry_price': 4.061647, 'take_profit': 3.99394, 'stop_loss': 5.280124, 'pnl': -56.138286, 'fee': 1.528066, 'funding_payment': -0.559893, '': '', '__1': ''}, {'user_type': 'USER', 'pair': 'ORAI_USDC', 'hash': '944A5680A8A18BA8FEB0C2803EF134A45363D4BCE8856C1526EA1E151D4BD033', 'height': 14638556, 'time': '2023-12-01 13:23:12', 'order_id': 371, 'status': 'Close', 'direction': 'BUY', 'bidder_addr': 'orai18vyspza5ndpg5wss0u7mqs7g50zekjrjvc2dys', 'offer_amount': 890.736907, 'ask_amount': 214.076808, 'leverage': 3, 'margin_amount': 299.64, 'entry_price': 4.199053, 'take_profit': 4.339021, 'stop_loss': 0, 'pnl': -8.183093, 'fee': 0.36, 'funding_payment': -5.628293, '': '', '__1': ''}, {'user_type': 'USER', 'pair': 'ORAI_USDC', 'hash': 'E97CB1239F6004A6191860412896083264B91AD24215CAF867DFC6049402F13A', 'height': 14638552, 'time': '2023-12-01 13:22:50', 'order_id': 379, 'status': 'Close', 'direction': 'BUY', 'bidder_addr': 'orai18vyspza5ndpg5wss0u7mqs7g50zekjrjvc2dys', 'offer_amount': 916.305248, 'ask_amount': 219.961929, 'leverage': 3, 'margin_amount': 299.64, 'entry_price': 4.086707, 'take_profit': 4.22293, 'stop_loss': 0, 'pnl': 17.385248, 'fee': 0.36, 'funding_payment': -6.402651, '': '', '__1': ''}, {'user_type': 'USER', 'pair': 'ORAI_USDC', 'hash': '8CF5CAD8ECDFCC346302EE2403504B843A79E32C4F24E62F68D2F1ED4B5F5804', 'height': 14638537, 'time': '2023-12-01 13:21:24', 'order_id': 402, 'status': 'Close', 'direction': 'BUY', 'bidder_addr': 'orai18vyspza5ndpg5wss0u7mqs7g50zekjrjvc2dys', 'offer_amount': 907.139864, 'ask_amount': 217.502583, 'leverage': 3, 'margin_amount': 299.64, 'entry_price': 4.132916, 'take_profit': 4.22, 'stop_loss': 0, 'pnl': 8.219864, 'fee': 0.36, 'funding_payment': -7.024898, '': '', '__1': ''}, {'user_type': 'BOT', 'pair': 'ORAI_USDC', 'hash': 'AD86B1E244AF71BC32DB4E06CE24B694BA92C1F9534F5DDBFE1C4965BBD66AAB', 'height': 14638358, 'time': '2023-12-01 13:04:16', 'order_id': 522, 'status': 'Close', 'direction': 'SELL', 'bidder_addr': 'orai15vc7z4zyyam999zp6rwealm06lvuy9ykumwlpl', 'offer_amount': 4576.941963, 'ask_amount': 1105.637996, 'leverage': 3, 'margin_amount': 1503.333386, 'entry_price': 4.079092, 'take_profit': 4.011093, 'stop_loss': 5.302801, 'pnl': -66.941805, 'fee': 1.806166, 'funding_payment': -1.373202, '': '', '__1': ''}, {'user_type': 'USER', 'pair': 'ORAI_USDC', 'hash': 'C82172AC94A95D8A81311C6A599CB620BAB6717067C146D5D9C9E2C1BC779805', 'height': 14638786, 'time': '2023-12-01 13:45:10', 'order_id': 523, 'status': 'Close', 'direction': 'BUY', 'bidder_addr': 'orai1g2ucrt0v7h762c2dtj30ytyr8497ugm5n0nxla', 'offer_amount': 2999.660832, 'ask_amount': 723.764588, 'leverage': 3, 'margin_amount': 998.8, 'entry_price': 4.14002, 'take_profit': 4.28802, 'stop_loss': 0, 'pnl': 3.260832, 'fee': 1.2, 'funding_payment': 0, '': '', '__1': ''}, {'user_type': 'BOT', 'pair': 'ORAI_USDC', 'hash': 'AD86B1E244AF71BC32DB4E06CE24B694BA92C1F9534F5DDBFE1C4965BBD66AAB', 'height': 14638358, 'time': '2023-12-01 13:04:16', 'order_id': 524, 'status': 'Close', 'direction': 'SELL', 'bidder_addr': 'orai15vc7z4zyyam999zp6rwealm06lvuy9ykumwlpl', 'offer_amount': 3879.207888, 'ask_amount': 931.916491, 'leverage': 3, 'margin_amount': 1285.325908, 'entry_price': 4.137685, 'take_profit': 4.068711, 'stop_loss': 5.378974, 'pnl': -23.230164, 'fee': 1.544244, 'funding_payment': 0, '': '', '__1': ''}, {'user_type': 'BOT', 'pair': 'ORAI_USDC', 'hash': 'FE58ECFA74C647E1BAB3D2BBCCD69B195B4CF97AFA0D60FB64BE7D604E9F6A47', 'height': 14638400, 'time': '2023-12-01 13:08:17', 'order_id': 525, 'status': 'Close', 'direction': 'SELL', 'bidder_addr': 'orai15vc7z4zyyam999zp6rwealm06lvuy9ykumwlpl', 'offer_amount': 5503.952568, 'ask_amount': 1323.642148, 'leverage': 3, 'margin_amount': 1834.650855, 'entry_price': 4.158187, 'take_profit': 4.088866, 'stop_loss': 5.405619, 'pnl': -3e-06, 'fee': 2.204226, 'funding_payment': 0, '': '', '__1': ''}, {'user_type': 'BOT', 'pair': 'ORAI_USDC', 'hash': 'B5E243791C3A8DFD1601F7563209D2C1D402749618AB6E70DE9FDD89D2484706', 'height': 14638535, 'time': '2023-12-01 13:21:12', 'order_id': 526, 'status': 'Close', 'direction': 'BUY', 'bidder_addr': 'orai15vc7z4zyyam999zp6rwealm06lvuy9ykumwlpl', 'offer_amount': 5577.601337, 'ask_amount': 1331.687354, 'leverage': 3, 'margin_amount': 1859.200446, 'entry_price': 4.188371, 'take_profit': 4.258195, 'stop_loss': 2.931872, 'pnl': -1e-06, 'fee': 2.23372, 'funding_payment': 0, '': '', '__1': ''}, {'user_type': 'BOT', 'pair': 'ORAI_USDC', 'hash': '7215F98D19A540F05BD49BEAA9F1F1A198FEE63E11FAAA1F08EB609F7A38D52F', 'height': 14638692, 'time': '2023-12-01 13:36:11', 'order_id': 527, 'status': 'Close', 'direction': 'SELL', 'bidder_addr': 'orai15vc7z4zyyam999zp6rwealm06lvuy9ykumwlpl', 'offer_amount': 3985.748536, 'ask_amount': 962.312039, 'leverage': 3, 'margin_amount': 1330.413947, 'entry_price': 4.147554, 'take_profit': 4.078415, 'stop_loss': 5.391803, 'pnl': 5.493305, 'fee': 1.598414, 'funding_payment': 0, '': '', '__1': ''}, {'user_type': 'BOT', 'pair': 'ORAI_USDC', 'hash': '0468F8197C6CADA07C3899D63A5C3ED67BBB7BAD894279F902694BAAF0DB5715', 'height': 14638866, 'time': '2023-12-01 13:52:47', 'order_id': 529, 'status': 'Close', 'direction': 'BUY', 'bidder_addr': 'orai15vc7z4zyyam999zp6rwealm06lvuy9ykumwlpl', 'offer_amount': 4023.246307, 'ask_amount': 958.982074, 'leverage': 3, 'margin_amount': 1325.68916, 'entry_price': 4.147176, 'take_profit': 4.216307, 'stop_loss': 2.903031, 'pnl': 46.178827, 'fee': 1.592738, 'funding_payment': 0, '': '', '__1': ''}, {'user_type': 'BOT', 'pair': 'ORAI_USDC', 'hash': '0468F8197C6CADA07C3899D63A5C3ED67BBB7BAD894279F902694BAAF0DB5715', 'height': 14638866, 'time': '2023-12-01 13:52:47', 'order_id': 530, 'status': 'Close', 'direction': 'BUY', 'bidder_addr': 'orai15vc7z4zyyam999zp6rwealm06lvuy9ykumwlpl', 'offer_amount': 8818.560843, 'ask_amount': 2119.690969, 'leverage': 3, 'margin_amount': 2954.913224, 'entry_price': 4.18209, 'take_profit': 4.25182, 'stop_loss': 2.927483, 'pnl': -46.178829, 'fee': 3.550156, 'funding_payment': 0, '': '', '__1': ''}, {'user_type': 'USER', 'pair': 'ORAI_USDC', 'hash': '74BE106EBA54D32B6EB7CF54C3D04E2AE9A3BD39B09AF270D0479988B269B37E', 'height': 14639438, 'time': '2023-12-01 14:47:33', 'order_id': 434, 'status': 'Close', 'direction': 'BUY', 'bidder_addr': 'orai14c9p94ylg58wvetcj69ul9h2ew8ujga97wlmsl', 'offer_amount': 3592.558644, 'ask_amount': 852.835138, 'leverage': 3, 'margin_amount': 1159.354998, 'entry_price': 4.078238, 'take_profit': 5.43765, 'stop_loss': 3.738384, 'pnl': 114.49365, 'fee': 1.392896, 'funding_payment': -25.098938, '': '', '__1': ''}, {'user_type': 'BOT', 'pair': 'ORAI_USDC', 'hash': '79BEC7021E533D1519751DEB17195414DC4D7A51B95432B3FEA72002E612A808', 'height': 14639042, 'time': '2023-12-01 14:09:31', 'order_id': 531, 'status': 'Close', 'direction': 'BUY', 'bidder_addr': 'orai15vc7z4zyyam999zp6rwealm06lvuy9ykumwlpl', 'offer_amount': 7624.506579, 'ask_amount': 1829.490107, 'leverage': 3, 'margin_amount': 2535.072407, 'entry_price': 4.157014, 'take_profit': 4.226322, 'stop_loss': 2.909927, 'pnl': 19.289358, 'fee': 3.04574, 'funding_payment': 1.670324, '': '', '__1': ''}, {'user_type': 'BOT', 'pair': 'ORAI_USDC', 'hash': '2922F08FBFA5C29A4F6CAE9B1EFE3F6B06810EC02CC5386E9ADCA02006E144CA', 'height': 14639430, 'time': '2023-12-01 14:46:47', 'order_id': 534, 'status': 'Close', 'direction': 'BUY', 'bidder_addr': 'orai15vc7z4zyyam999zp6rwealm06lvuy9ykumwlpl', 'offer_amount': 5766.167959, 'ask_amount': 1360.545385, 'leverage': 3, 'margin_amount': 1887.635248, 'entry_price': 4.162232, 'take_profit': 4.23162, 'stop_loss': 2.913575, 'pnl': 103.262215, 'fee': 2.267882, 'funding_payment': 0, '': '', '__1': ''}, {'user_type': 'BOT', 'pair': 'ORAI_USDC', 'hash': '586F3BD90B1855DA814C22B3C820D6F062A020BA2CD23FAFDDCDC8548CE8A47B', 'height': 14639479, 'time': '2023-12-01 14:51:28', 'order_id': 535, 'status': 'Close', 'direction': 'BUY', 'bidder_addr': 'orai15vc7z4zyyam999zp6rwealm06lvuy9ykumwlpl', 'offer_amount': 4627.11825, 'ask_amount': 1094.976234, 'leverage': 3, 'margin_amount': 1529.378399, 'entry_price': 4.190168, 'take_profit': 4.260019, 'stop_loss': 2.933128, 'pnl': 38.983053, 'fee': 1.837458, 'funding_payment': 0, '': '', '__1': ''}, {'user_type': 'BOT', 'pair': 'ORAI_USDC', 'hash': '3064BBFCDCAE98AF7EA58BC91BBF115891053BF07EDB5C67B4F4411CECF63F42', 'height': 14639547, 'time': '2023-12-01 14:57:58', 'order_id': 536, 'status': 'Close', 'direction': 'BUY', 'bidder_addr': 'orai15vc7z4zyyam999zp6rwealm06lvuy9ykumwlpl', 'offer_amount': 9325.65849, 'ask_amount': 2211.604073, 'leverage': 3, 'margin_amount': 3117.086912, 'entry_price': 4.22827, 'take_profit': 4.298772, 'stop_loss': 2.95981, 'pnl': -25.602246, 'fee': 3.744998, 'funding_payment': 0, '': '', '__1': ''}, {'user_type': 'BOT', 'pair': 'ORAI_USDC', 'hash': 'B8E88514F051758655683677FDC363EBB86EF42CCD8F8ACD7193BC3BAA1BE6CF', 'height': 14639562, 'time': '2023-12-01 14:59:24', 'order_id': 537, 'status': 'Close', 'direction': 'BUY', 'bidder_addr': 'orai15vc7z4zyyam999zp6rwealm06lvuy9ykumwlpl', 'offer_amount': 4617.451442, 'ask_amount': 1098.266628, 'leverage': 3, 'margin_amount': 1543.183045, 'entry_price': 4.215323, 'take_profit': 4.285593, 'stop_loss': 2.950736, 'pnl': -12.097693, 'fee': 1.854044, 'funding_payment': 0, '': '', '__1': ''}, {'user_type': 'BOT', 'pair': 'ORAI_USDC', 'hash': 'B8E88514F051758655683677FDC363EBB86EF42CCD8F8ACD7193BC3BAA1BE6CF', 'height': 14639562, 'time': '2023-12-01 14:59:24', 'order_id': 539, 'status': 'Close', 'direction': 'BUY', 'bidder_addr': 'orai15vc7z4zyyam999zp6rwealm06lvuy9ykumwlpl', 'offer_amount': 5729.905809, 'ask_amount': 1372.083568, 'leverage': 3, 'margin_amount': 1931.238799, 'entry_price': 4.222568, 'take_profit': 4.292963, 'stop_loss': 2.95581, 'pnl': -63.810588, 'fee': 2.32027, 'funding_payment': 0, '': '', '__1': ''}, {'user_type': 'BOT', 'pair': 'ORAI_USDC', 'hash': 'B8E88514F051758655683677FDC363EBB86EF42CCD8F8ACD7193BC3BAA1BE6CF', 'height': 14639562, 'time': '2023-12-01 14:59:24', 'order_id': 540, 'status': 'Close', 'direction': 'BUY', 'bidder_addr': 'orai15vc7z4zyyam999zp6rwealm06lvuy9ykumwlpl', 'offer_amount': 5222.600179, 'ask_amount': 1259.588462, 'leverage': 3, 'margin_amount': 1775.045991, 'entry_price': 4.22768, 'take_profit': 4.298159, 'stop_loss': 2.959388, 'pnl': -102.537794, 'fee': 2.132614, 'funding_payment': 0, '': '', '__1': ''}, {'user_type': 'USER', 'pair': 'ORAI_USDC', 'hash': '76E3A2F74858101E5A10ADE2DBEA60B67AD5E163259DF80291A36FDA9F1F4C3C', 'height': 14640049, 'time': '2023-12-01 15:46:02', 'order_id': 427, 'status': 'Close', 'direction': 'BUY', 'bidder_addr': 'orai1nguf2nsgpzpmvsvf05h505c96p3h3w87zfn8zy', 'offer_amount': 21.946123, 'ask_amount': 4.951615, 'leverage': 3, 'margin_amount': 6.720102, 'entry_price': 4.07146, 'take_profit': 6.2, 'stop_loss': 3.55, 'pnl': 1.785817, 'fee': 0.008072, 'funding_payment': -0.164972, '': '', '__1': ''}, {'user_type': 'USER', 'pair': 'ORAI_USDC', 'hash': '867DFABED66D4FE5639DAA6423AF9510A105FA88B7DE260E4D8F95C1C33952A1', 'height': 14639570, 'time': '2023-12-01 15:00:10', 'order_id': 538, 'status': 'Close', 'direction': 'SELL', 'bidder_addr': 'orai14c9p94ylg58wvetcj69ul9h2ew8ujga97wlmsl', 'offer_amount': 3900.913205, 'ask_amount': 921.902812, 'leverage': 3, 'margin_amount': 1295.997626, 'entry_price': 4.217356, 'take_profit': 1e-06, 'stop_loss': 0, 'pnl': -12.920327, 'fee': 1.557064, 'funding_payment': 0, '': '', '__1': ''}, {'user_type': 'BOT', 'pair': 'ORAI_USDC', 'hash': 'E92C6E732B87E31E4D200CA74259E2EB71894B4813EA1C8C80E79899A65FA1B0', 'height': 14639576, 'time': '2023-12-01 15:00:47', 'order_id': 541, 'status': 'Close', 'direction': 'BUY', 'bidder_addr': 'orai15vc7z4zyyam999zp6rwealm06lvuy9ykumwlpl', 'offer_amount': 4730.609349, 'ask_amount': 1118.587233, 'leverage': 3, 'margin_amount': 1567.541557, 'entry_price': 4.204075, 'take_profit': 4.274158, 'stop_loss': 2.942863, 'pnl': 27.984678, 'fee': 1.883308, 'funding_payment': 0.788603, '': '', '__1': ''}, {'user_type': 'BOT', 'pair': 'ORAI_USDC', 'hash': 'E92C6E732B87E31E4D200CA74259E2EB71894B4813EA1C8C80E79899A65FA1B0', 'height': 14639576, 'time': '2023-12-01 15:00:47', 'order_id': 542, 'status': 'Close', 'direction': 'BUY', 'bidder_addr': 'orai15vc7z4zyyam999zp6rwealm06lvuy9ykumwlpl', 'offer_amount': 16234.44432, 'ask_amount': 3891.569813, 'leverage': 3, 'margin_amount': 5417.283287, 'entry_price': 4.176168, 'take_profit': 4.245824, 'stop_loss': 2.923354, 'pnl': -17.405546, 'fee': 6.50855, 'funding_payment': 2.743556, '': '', '__1': ''}, {'user_type': 'BOT', 'pair': 'ORAI_USDC', 'hash': '928363D8516C421453B87035973ED86ECEDA42306360307D036F172C908366A3', 'height': 14639649, 'time': '2023-12-01 15:07:45', 'order_id': 543, 'status': 'Close', 'direction': 'BUY', 'bidder_addr': 'orai15vc7z4zyyam999zp6rwealm06lvuy9ykumwlpl', 'offer_amount': 17324.34403, 'ask_amount': 4133.525155, 'leverage': 3, 'margin_amount': 5751.746166, 'entry_price': 4.17446, 'take_profit': 4.244091, 'stop_loss': 2.922161, 'pnl': 69.105536, 'fee': 6.910386, 'funding_payment': 0, '': '', '__1': ''}, {'user_type': 'USER', 'pair': 'ORAI_USDC', 'hash': 'A777E99707BB2ED7F0DF5E1B80B8529A19D2BFE17194DFA8D733B2D9B9269B40', 'height': 14639994, 'time': '2023-12-01 15:40:48', 'order_id': 544, 'status': 'Close', 'direction': 'BUY', 'bidder_addr': 'orai14c9p94ylg58wvetcj69ul9h2ew8ujga97wlmsl', 'offer_amount': 3911.846215, 'ask_amount': 907.305753, 'leverage': 3, 'margin_amount': 1279.982411, 'entry_price': 4.232252, 'take_profit': 8.464504, 'stop_loss': 0, 'pnl': 71.898982, 'fee': 1.537824, 'funding_payment': 0, '': '', '__1': ''}, {'user_type': 'USER', 'pair': 'ORAI_USDC', 'hash': 'C388337A3CC6CDCAC74D7D904EDD3010709B92DD4872FFA448928C0F899819E3', 'height': 14639921, 'time': '2023-12-01 15:33:46', 'order_id': 545, 'status': 'Close', 'direction': 'SELL', 'bidder_addr': 'orai1x9dvpscythaz0mw8zj5re6f3qdpk347epc272q', 'offer_amount': 750.117578, 'ask_amount': 174.457618, 'leverage': 3, 'margin_amount': 246.611362, 'entry_price': 4.240766, 'take_profit': 4.198356, 'stop_loss': 4.283172, 'pnl': -10.283492, 'fee': 0.296288, 'funding_payment': 0, '': '', '__1': ''}, {'user_type': 'BOT', 'pair': 'ORAI_USDC', 'hash': '76DF306D2AA308EC6F2482947A2BCDB35F7F9D85D19A0058EF191F925BBE5089', 'height': 14640110, 'time': '2023-12-01 15:51:56', 'order_id': 546, 'status': 'Close', 'direction': 'BUY', 'bidder_addr': 'orai15vc7z4zyyam999zp6rwealm06lvuy9ykumwlpl', 'offer_amount': 13734.74056, 'ask_amount': 3061.708339, 'leverage': 3, 'margin_amount': 4264.841115, 'entry_price': 4.178883, 'take_profit': 4.248573, 'stop_loss': 2.925247, 'pnl': 940.217218, 'fee': 5.123958, 'funding_payment': 0, '': '', '__1': ''}, {'user_type': 'BOT', 'pair': 'ORAI_USDC', 'hash': '7A50AC2A56F462EF9438A5F0B22C1B66E9C0440BE2D549FE83029C0F830E5544', 'height': 14640170, 'time': '2023-12-01 15:57:43', 'order_id': 547, 'status': 'Close', 'direction': 'BUY', 'bidder_addr': 'orai15vc7z4zyyam999zp6rwealm06lvuy9ykumwlpl', 'offer_amount': 6417.286567, 'ask_amount': 1431.852282, 'leverage': 3, 'margin_amount': 2019.141917, 'entry_price': 4.230482, 'take_profit': 4.30101, 'stop_loss': 2.961351, 'pnl': 359.860816, 'fee': 2.42588, 'funding_payment': 0, '': '', '__1': ''}, {'user_type': 'USER', 'pair': 'ORAI_USDC', 'hash': '9D71AF8FD41A821B820191796D065637D15E3F482659BCD3AE4CF658A7AF535E', 'height': 14640024, 'time': '2023-12-01 15:43:40', 'order_id': 550, 'status': 'Close', 'direction': 'SELL', 'bidder_addr': 'orai1x9dvpscythaz0mw8zj5re6f3qdpk347epc272q', 'offer_amount': 717.962127, 'ask_amount': 164.482058, 'leverage': 3, 'margin_amount': 235.748346, 'entry_price': 4.29983, 'take_profit': 4.25683, 'stop_loss': 4.342826, 'pnl': -10.717089, 'fee': 0.283236, 'funding_payment': 0, '': '', '__1': ''}, {'user_type': 'USER', 'pair': 'ORAI_USDC', 'hash': '04265BCB5B10B62B19896575B3AA8197F282947314051B95BA09F3D54CC128AB', 'height': 14640064, 'time': '2023-12-01 15:47:31', 'order_id': 554, 'status': 'Close', 'direction': 'BUY', 'bidder_addr': 'orai1x9dvpscythaz0mw8zj5re6f3qdpk347epc272q', 'offer_amount': 694.903227, 'ask_amount': 154.14417, 'leverage': 3, 'margin_amount': 224.478325, 'entry_price': 4.368864, 'take_profit': 4.412555, 'stop_loss': 4.325177, 'pnl': 21.468252, 'fee': 0.269696, 'funding_payment': 0, '': '', '__1': ''}, {'user_type': 'USER', 'pair': 'ORAI_USDC', 'hash': '03D4FDEB13C44AC7B66E872F998C80D871642DF5D4F1C8C6112775BAD640A0B0', 'height': 14640149, 'time': '2023-12-01 15:55:42', 'order_id': 560, 'status': 'Close', 'direction': 'SELL', 'bidder_addr': 'orai1x9dvpscythaz0mw8zj5re6f3qdpk347epc272q', 'offer_amount': 730.720093, 'ask_amount': 162.6118, 'leverage': 3, 'margin_amount': 245.382069, 'entry_price': 4.527015, 'take_profit': 4.481743, 'stop_loss': 4.572283, 'pnl': 5.426114, 'fee': 0.294812, 'funding_payment': 0, '': '', '__1': ''}, {'user_type': 'BOT', 'pair': 'ORAI_USDC', 'hash': '304D6367449458720E9A04B4F343C6F103A6ABDC0E7B7313C2C203D4A7F3A328', 'height': 14640197, 'time': '2023-12-01 16:00:18', 'order_id': 548, 'status': 'Close', 'direction': 'BUY', 'bidder_addr': 'orai15vc7z4zyyam999zp6rwealm06lvuy9ykumwlpl', 'offer_amount': 5423.508654, 'ask_amount': 1206.455098, 'leverage': 3, 'margin_amount': 1713.670322, 'entry_price': 4.261253, 'take_profit': 4.332291, 'stop_loss': 2.982889, 'pnl': 282.497688, 'fee': 2.058874, 'funding_payment': 5.096066, '': '', '__1': ''}, {'user_type': 'BOT', 'pair': 'ORAI_USDC', 'hash': 'EA6B863F26DD7EEF0D92F7E92AE0D19B1242D180524111DDBEB620720ED631A9', 'height': 14640281, 'time': '2023-12-01 16:08:20', 'order_id': 549, 'status': 'Close', 'direction': 'BUY', 'bidder_addr': 'orai15vc7z4zyyam999zp6rwealm06lvuy9ykumwlpl', 'offer_amount': 4206.803653, 'ask_amount': 938.559208, 'leverage': 3, 'margin_amount': 1341.050494, 'entry_price': 4.286518, 'take_profit': 4.357973, 'stop_loss': 3.000571, 'pnl': 183.652171, 'fee': 1.611194, 'funding_payment': 3.964474, '': '', '__1': ''}, {'user_type': 'BOT', 'pair': 'ORAI_USDC', 'hash': 'EA6B863F26DD7EEF0D92F7E92AE0D19B1242D180524111DDBEB620720ED631A9', 'height': 14640281, 'time': '2023-12-01 16:08:20', 'order_id': 551, 'status': 'Close', 'direction': 'BUY', 'bidder_addr': 'orai15vc7z4zyyam999zp6rwealm06lvuy9ykumwlpl', 'offer_amount': 4570.172629, 'ask_amount': 1025.288573, 'leverage': 3, 'margin_amount': 1473.029057, 'entry_price': 4.310091, 'take_profit': 4.38194, 'stop_loss': 3.017073, 'pnl': 151.085458, 'fee': 1.769758, 'funding_payment': 4.330818, '': '', '__1': ''}, {'user_type': 'BOT', 'pair': 'ORAI_USDC', 'hash': 'C0F30E7E0DEB986687EC051A37951CFC779E56F00988E6962ECE1355801AFC4A', 'height': 14640336, 'time': '2023-12-01 16:13:37', 'order_id': 552, 'status': 'Close', 'direction': 'BUY', 'bidder_addr': 'orai15vc7z4zyyam999zp6rwealm06lvuy9ykumwlpl', 'offer_amount': 4551.791541, 'ask_amount': 1016.172855, 'leverage': 3, 'margin_amount': 1460.849667, 'entry_price': 4.312798, 'take_profit': 4.384693, 'stop_loss': 3.018969, 'pnl': 169.24254, 'fee': 1.755124, 'funding_payment': 4.292314, '': '', '__1': ''}, {'user_type': 'USER', 'pair': 'ORAI_USDC', 'hash': '1DA8D38F17465E74BA13897161E0E3CC2A30D85C6E1DCA03D54C92D96F40781E', 'height': 14640368, 'time': '2023-12-01 16:16:39', 'order_id': 559, 'status': 'Close', 'direction': 'BUY', 'bidder_addr': 'orai14c9p94ylg58wvetcj69ul9h2ew8ujga97wlmsl', 'offer_amount': 4010.785822, 'ask_amount': 895.641132, 'leverage': 3, 'margin_amount': 1348.723157, 'entry_price': 4.517623, 'take_profit': 8.942358, 'stop_loss': 0, 'pnl': -35.383649, 'fee': 1.620412, 'funding_payment': 3.783188, '': '', '__1': ''}, {'user_type': 'USER', 'pair': 'ORAI_USDC', 'hash': '1384101DA3AD57558BFEF8724B30794FFFE4821255559E7ECACF433E5AD3E184', 'height': 14640284, 'time': '2023-12-01 16:08:37', 'order_id': 563, 'status': 'Close', 'direction': 'BUY', 'bidder_addr': 'orai1x9dvpscythaz0mw8zj5re6f3qdpk347epc272q', 'offer_amount': 741.406659, 'ask_amount': 166.888783, 'leverage': 3, 'margin_amount': 250.212755, 'entry_price': 4.497835, 'take_profit': 4.542815, 'stop_loss': 4.452859, 'pnl': -9.231606, 'fee': 0.300616, 'funding_payment': 0.704938, '': '', '__1': ''}, {'user_type': 'USER', 'pair': 'ORAI_USDC', 'hash': '07623FE9B37B23C46E646D583560C28BBE0B12BFE79D54EBF41FBDE868A4514B', 'height': 14640623, 'time': '2023-12-01 16:40:55', 'order_id': 511, 'status': 'Close', 'direction': 'BUY', 'bidder_addr': 'orai1rc9880afc0k35d9ptpwddfdy0wzufauafw5cak', 'offer_amount': 673.533848, 'ask_amount': 150.087625, 'leverage': 3, 'margin_amount': 196.753393, 'entry_price': 3.93277, 'take_profit': 4.588231, 'stop_loss': 3.277308, 'pnl': 83.273669, 'fee': 0.236386, 'funding_payment': 1.157175, '': '', '__1': ''}, {'user_type': 'BOT', 'pair': 'ORAI_USDC', 'hash': '15A370A72D08441002CE12485723B9D613C4248057A43B210A5028FB3B645A03', 'height': 14640648, 'time': '2023-12-01 16:43:18', 'order_id': 553, 'status': 'Close', 'direction': 'BUY', 'bidder_addr': 'orai15vc7z4zyyam999zp6rwealm06lvuy9ykumwlpl', 'offer_amount': 7084.511261, 'ask_amount': 1575.478046, 'leverage': 3, 'margin_amount': 2281.254306, 'entry_price': 4.343927, 'take_profit': 4.416349, 'stop_loss': 3.040765, 'pnl': 240.748343, 'fee': 2.740794, 'funding_payment': 6.654819, '': '', '__1': ''}, {'user_type': 'BOT', 'pair': 'ORAI_USDC', 'hash': 'D69F182D9C5627D65E768D6E9E64CE4181108FBB66AC8642DD49CB9075DFCF51', 'height': 14640657, 'time': '2023-12-01 16:44:09', 'order_id': 555, 'status': 'Close', 'direction': 'BUY', 'bidder_addr': 'orai15vc7z4zyyam999zp6rwealm06lvuy9ykumwlpl', 'offer_amount': 7185.084263, 'ask_amount': 1597.945096, 'leverage': 3, 'margin_amount': 2338.484633, 'entry_price': 4.390297, 'take_profit': 4.459667, 'stop_loss': 3.07059, 'pnl': 169.630364, 'fee': 2.809552, 'funding_payment': 6.74972, '': '', '__1': ''}, {'user_type': 'BOT', 'pair': 'ORAI_USDC', 'hash': '0A4778B4167D41DC13EC4F56C6441EED79D72A8C06736EA297D22EBB3A0BE250', 'height': 14640694, 'time': '2023-12-01 16:47:40', 'order_id': 556, 'status': 'Close', 'direction': 'BUY', 'bidder_addr': 'orai15vc7z4zyyam999zp6rwealm06lvuy9ykumwlpl', 'offer_amount': 4054.211999, 'ask_amount': 897.00093, 'leverage': 3, 'margin_amount': 1321.89358, 'entry_price': 4.421044, 'take_profit': 4.494741, 'stop_loss': 3.094739, 'pnl': 88.531259, 'fee': 1.588178, 'funding_payment': 3.788931, '': '', '__1': ''}, {'user_type': 'BOT', 'pair': 'ORAI_USDC', 'hash': '4D7B414C2D69C790B201A368FDA0DDA243D1608F332211A18CE50F7688BA400C', 'height': 14640712, 'time': '2023-12-01 16:49:24', 'order_id': 557, 'status': 'Close', 'direction': 'BUY', 'bidder_addr': 'orai15vc7z4zyyam999zp6rwealm06lvuy9ykumwlpl', 'offer_amount': 4960.32161, 'ask_amount': 1109.408504, 'leverage': 3, 'margin_amount': 1644.105587, 'entry_price': 4.445897, 'take_profit': 4.520012, 'stop_loss': 3.112139, 'pnl': 28.004849, 'fee': 1.975296, 'funding_payment': 4.686141, '': '', '__1': ''}, {'user_type': 'BOT', 'pair': 'ORAI_USDC', 'hash': '4689F98B0E172DA6AA0AF224DDA920646E5B834C9B9A2597681F97291B1F56A5', 'height': 14640717, 'time': '2023-12-01 16:49:52', 'order_id': 558, 'status': 'Close', 'direction': 'BUY', 'bidder_addr': 'orai15vc7z4zyyam999zp6rwealm06lvuy9ykumwlpl', 'offer_amount': 8806.072049, 'ask_amount': 1986.755122, 'leverage': 3, 'margin_amount': 2970.116373, 'entry_price': 4.484875, 'take_profit': 4.559653, 'stop_loss': 3.139433, 'pnl': -104.27707, 'fee': 3.56842, 'funding_payment': 8.392053, '': '', '__1': ''}, {'user_type': 'BOT', 'pair': 'ORAI_USDC', 'hash': 'F923CBB9BA3C73A080EB0653C8F772C7A9B27B1CFB4EB5594884B70EAB0DDBC7', 'height': 14640708, 'time': '2023-12-01 16:49:01', 'order_id': 569, 'status': 'Close', 'direction': 'BUY', 'bidder_addr': 'orai15vc7z4zyyam999zp6rwealm06lvuy9ykumwlpl', 'offer_amount': 4087.877806, 'ask_amount': 909.085834, 'leverage': 3, 'margin_amount': 1349.024948, 'entry_price': 4.451807, 'take_profit': 4.530259, 'stop_loss': 3.119195, 'pnl': 40.802962, 'fee': 1.620774, 'funding_payment': 0, '': '', '__1': ''}, {'user_type': 'USER', 'pair': 'ORAI_USDC', 'hash': 'C8BD45BC5DBDA2885AE795406F1DB0B04DE962CF17C416014AA88C6FD468B819', 'height': 14640719, 'time': '2023-12-01 16:50:03', 'order_id': 570, 'status': 'Close', 'direction': 'BUY', 'bidder_addr': 'orai1x9dvpscythaz0mw8zj5re6f3qdpk347epc272q', 'offer_amount': 709.484437, 'ask_amount': 161.035926, 'leverage': 3, 'margin_amount': 239.687625, 'entry_price': 4.465232, 'take_profit': 4.509887, 'stop_loss': 4.420583, 'pnl': -9.578438, 'fee': 0.28797, 'funding_payment': 0, '': '', '__1': ''}, {'user_type': 'USER', 'pair': 'ORAI_USDC', 'hash': '2DED7B6E768F5A89BA04A7FD9EDDC0AFE4109D6578842FCB701C1036F433284E', 'height': 14641038, 'time': '2023-12-01 17:20:27', 'order_id': 473, 'status': 'Close', 'direction': 'BUY', 'bidder_addr': 'orai12zyu8w93h0q2lcnt50g3fn0w3yqnhy4fvawaqz', 'offer_amount': 1.114271, 'ask_amount': 0.253798, 'leverage': 1, 'margin_amount': 0.9996, 'entry_price': 3.938565, 'take_profit': 4.332421, 'stop_loss': 2.953923, 'pnl': 0.114671, 'fee': 0.0004, 'funding_payment': -0.000798, '': '', '__1': ''}, {'user_type': 'USER', 'pair': 'ORAI_USDC', 'hash': '21863C6AEF9CDCE9A4F678237C6B2BF7A401C183727F80E3807D92BA8926C47F', 'height': 14640865, 'time': '2023-12-01 17:03:59', 'order_id': 562, 'status': 'Close', 'direction': 'SELL', 'bidder_addr': 'orai1uesy4qnqathqlxalakh9r5slvjlvq6appzdhjr', 'offer_amount': 1631.655261, 'ask_amount': 371.193039, 'leverage': 3, 'margin_amount': 556.3316, 'entry_price': 4.496298, 'take_profit': 4.04, 'stop_loss': 0, 'pnl': 37.339539, 'fee': 0.6684, 'funding_payment': -2.005555, '': '', '__1': ''}, {'user_type': 'USER', 'pair': 'ORAI_USDC', 'hash': '7F8E20CE829F2D7D750B8D7C6B814B2F1157DF852298385EEFE38A2044C24072', 'height': 14640902, 'time': '2023-12-01 17:07:30', 'order_id': 583, 'status': 'Close', 'direction': 'BUY', 'bidder_addr': 'orai1uesy4qnqathqlxalakh9r5slvjlvq6appzdhjr', 'offer_amount': 1783.543509, 'ask_amount': 404.711597, 'leverage': 3, 'margin_amount': 594.286, 'entry_price': 4.405255, 'take_profit': 5.873673, 'stop_loss': 0, 'pnl': 0.685509, 'fee': 0.714, 'funding_payment': 0, '': '', '__1': ''}, {'user_type': 'USER', 'pair': 'ORAI_USDC', 'hash': '226E3D272721852904859B4EFB25EDE501A53E46128A2335AA61E8C589398711', 'height': 14640977, 'time': '2023-12-01 17:14:38', 'order_id': 584, 'status': 'Close', 'direction': 'BUY', 'bidder_addr': 'orai1xsx9ezzynw4thhgh7ghpffvc28e0d4wswedjuc', 'offer_amount': 301.577495, 'ask_amount': 68.678246, 'leverage': 3, 'margin_amount': 100.982112, 'entry_price': 4.411095, 'take_profit': 5.88146, 'stop_loss': 0, 'pnl': -1.368841, 'fee': 0.121324, 'funding_payment': 0, '': '', '__1': ''}, {'user_type': 'USER', 'pair': 'ORAI_USDC', 'hash': '53A5666AADE73F11996F2E287D4685F9C0813EF3FA03FC822214291FE3949B17', 'height': 14643151, 'time': '2023-12-01 20:42:17', 'order_id': 407, 'status': 'Close', 'direction': 'BUY', 'bidder_addr': 'orai13wm0jtlyzf33l4d4j2crsyashlqwcldf3fzwvx', 'offer_amount': 656.091835, 'ask_amount': 149.499965, 'leverage': 3, 'margin_amount': 205.18003, 'entry_price': 4.117325, 'take_profit': 4.254569, 'stop_loss': 0, 'pnl': 40.551745, 'fee': 0.24651, 'funding_payment': -4.578137, '': '', '__1': ''}, {'user_type': 'USER', 'pair': 'ORAI_USDC', 'hash': '19B2A081F2A4E1BC223C79D0D06F1ED0F8DD08D6518DF0BE5883592D3A9AC8ED', 'height': 14643371, 'time': '2023-12-01 21:03:14', 'order_id': 413, 'status': 'Close', 'direction': 'BUY', 'bidder_addr': 'orai13wm0jtlyzf33l4d4j2crsyashlqwcldf3fzwvx', 'offer_amount': 1923.673305, 'ask_amount': 439.057397, 'leverage': 3, 'margin_amount': 610.530082, 'entry_price': 4.171641, 'take_profit': 4.310695, 'stop_loss': 0, 'pnl': 92.083059, 'fee': 0.733516, 'funding_payment': -14.352347, '': '', '__1': ''}, {'user_type': 'USER', 'pair': 'ORAI_USDC', 'hash': '86DB3D5D0E39D6AF3D737C12D39127EC7395EB29AFB74A400620A75080983AF7', 'height': 14643379, 'time': '2023-12-01 21:04:00', 'order_id': 516, 'status': 'Close', 'direction': 'BUY', 'bidder_addr': 'orai1gm7ptpux85zu2e9p4vpnwchpueh4mv8qyerxtu', 'offer_amount': 3216.396796, 'ask_amount': 736.517413, 'leverage': 3, 'margin_amount': 985.996283, 'entry_price': 4.016183, 'take_profit': 4.685546, 'stop_loss': 0, 'pnl': 258.407947, 'fee': 1.184616, 'funding_payment': 1.521644, '': '', '__1': ''}, {'user_type': 'USER', 'pair': 'ORAI_USDC', 'hash': '4643B75F8F08B32D4504C75DF7D3E80721A5F910ABC10D1063387B6736909856', 'height': 14643383, 'time': '2023-12-01 21:04:23', 'order_id': 579, 'status': 'Close', 'direction': 'BUY', 'bidder_addr': 'orai1x9dvpscythaz0mw8zj5re6f3qdpk347epc272q', 'offer_amount': 680.897914, 'ask_amount': 156.305968, 'leverage': 3, 'margin_amount': 229.545433, 'entry_price': 4.405694, 'take_profit': 4.449753, 'stop_loss': 4.361639, 'pnl': -7.738385, 'fee': 0.275784, 'funding_payment': -0.803568, '': '', '__1': ''}, {'user_type': 'USER', 'pair': 'ORAI_USDC', 'hash': 'D5ECF7A1A4F086DC94383C39A51440514D49F365FBE9D59973DC308B61F03BF6', 'height': 14643571, 'time': '2023-12-01 21:22:16', 'order_id': 592, 'status': 'Close', 'direction': 'SELL', 'bidder_addr': 'orai1gm7ptpux85zu2e9p4vpnwchpueh4mv8qyerxtu', 'offer_amount': 2998.028119, 'ask_amount': 689.31553, 'leverage': 3, 'margin_amount': 999.342706, 'entry_price': 4.349282, 'take_profit': 3.95, 'stop_loss': 0, 'pnl': -1e-06, 'fee': 1.200652, 'funding_payment': 0, '': '', '__1': ''}, {'user_type': 'USER', 'pair': 'ORAI_USDC', 'hash': 'DE5ECFC18878D79E1A42802EF36F980FD44E2FE583CC0FA185409C7B4C6D21F7', 'height': 14644254, 'time': '2023-12-01 22:27:35', 'order_id': 585, 'status': 'Close', 'direction': 'SELL', 'bidder_addr': 'orai1uesy4qnqathqlxalakh9r5slvjlvq6appzdhjr', 'offer_amount': 890.882134, 'ask_amount': 204.325759, 'leverage': 3, 'margin_amount': 299.64, 'entry_price': 4.399445, 'take_profit': 4.04, 'stop_loss': 0, 'pnl': 8.037866, 'fee': 0.36, 'funding_payment': 1.772525, '': '', '__1': ''}, {'user_type': 'USER', 'pair': 'ORAI_USDC', 'hash': '0BAAD0AB29179369B2BDC3F3708108BE3B4105E63B6651AA884EC3979361D784', 'height': 14644256, 'time': '2023-12-01 22:27:47', 'order_id': 586, 'status': 'Close', 'direction': 'SELL', 'bidder_addr': 'orai1uesy4qnqathqlxalakh9r5slvjlvq6appzdhjr', 'offer_amount': 875.039015, 'ask_amount': 200.465992, 'leverage': 3, 'margin_amount': 293.6472, 'entry_price': 4.394469, 'take_profit': 4.099999, 'stop_loss': 0, 'pnl': 5.902585, 'fee': 0.3528, 'funding_payment': 1.739042, '': '', '__1': ''}, {'user_type': 'USER', 'pair': 'INJ_USDC', 'hash': '7CA3DEEE9634F0820E0D1C9EEA14E8B3BF79D5E169385488B94EF60E1AA97789', 'height': 14644421, 'time': '2023-12-01 22:43:34', 'order_id': 470, 'status': 'Close', 'direction': 'BUY', 'bidder_addr': 'orai1ammx459meute6x7lsp6wds7e69gggzysghfhus', 'offer_amount': 210.227978, 'ask_amount': 11.97499, 'leverage': 3, 'margin_amount': 70.074408, 'entry_price': 17.555189, 'take_profit': 50, 'stop_loss': 0, 'pnl': 0.004754, 'fee': 0.08419, 'funding_payment': -7.394664, '': '', '__1': ''}, {'user_type': 'USER', 'pair': 'INJ_USDC', 'hash': '4661E729AF93EDB00C235266B1FC9BDB7DB8A866D2F2A9B3F78E3B0BAACE7A62', 'height': 14644391, 'time': '2023-12-01 22:40:43', 'order_id': 475, 'status': 'Close', 'direction': 'BUY', 'bidder_addr': 'orai1ammx459meute6x7lsp6wds7e69gggzysghfhus', 'offer_amount': 597.191982, 'ask_amount': 34.008319, 'leverage': 3, 'margin_amount': 199.059481, 'entry_price': 17.559775, 'take_profit': 50, 'stop_loss': 0, 'pnl': 0.013539, 'fee': 0.239158, 'funding_payment': -20.735654, '': '', '__1': ''}, {'user_type': 'USER', 'pair': 'INJ_USDC', 'hash': '3FEB836B690EC7D38DB6955C9D20D3F8B432C1FCBF0585CC64BC80F83FA586E1', 'height': 14644376, 'time': '2023-12-01 22:39:15', 'order_id': 485, 'status': 'Close', 'direction': 'BUY', 'bidder_addr': 'orai1ammx459meute6x7lsp6wds7e69gggzysghfhus', 'offer_amount': 1553.074979, 'ask_amount': 88.381543, 'leverage': 3, 'margin_amount': 517.679911, 'entry_price': 17.571991, 'take_profit': 50, 'stop_loss': 0, 'pnl': 0.035246, 'fee': 0.621962, 'funding_payment': -50.304741, '': '', '__1': ''}, {'user_type': 'USER', 'pair': 'ORAI_USDC', 'hash': '49CCC8DFD3092653365B3802574593CAEB260C20632031D8EE6BA5527BAC3BA0', 'height': 14644739, 'time': '2023-12-01 23:13:55', 'order_id': 387, 'status': 'Close', 'direction': 'BUY', 'bidder_addr': 'orai188zs3yc8rvrjmzxnlh2wcnsp9aw5j6mquy3m5p', 'offer_amount': 0.656345, 'ask_amount': 0.149935, 'leverage': 3, 'margin_amount': 0.205547, 'entry_price': 4.112722, 'take_profit': 4.249812, 'stop_loss': 0, 'pnl': 0.039704, 'fee': 0.000246, 'funding_payment': -0.004927, '': '', '__1': ''}, {'user_type': 'BOT', 'pair': 'ORAI_USDC', 'hash': '908A729E6A751E0995A164A66D1AB84308A3975EE052DBC9760BBCAE19120AE9', 'height': 14645112, 'time': '2023-12-01 23:49:36', 'order_id': 561, 'status': 'Close', 'direction': 'BUY', 'bidder_addr': 'orai15vc7z4zyyam999zp6rwealm06lvuy9ykumwlpl', 'offer_amount': 10277.5339, 'ask_amount': 2126.55181, 'leverage': 3, 'margin_amount': 3171.472763, 'entry_price': 4.474106, 'take_profit': 4.548706, 'stop_loss': 3.131896, 'pnl': 763.115609, 'fee': 3.810338, 'funding_payment': -11.092094, '': '', '__1': ''}, {'user_type': 'BOT', 'pair': 'ORAI_USDC', 'hash': '6516B5DDA9A1F40912F160C1F760FB039A582BD23DD122A4D8AA1A13A94C3714', 'height': 14645165, 'time': '2023-12-01 23:54:41', 'order_id': 564, 'status': 'Close', 'direction': 'BUY', 'bidder_addr': 'orai15vc7z4zyyam999zp6rwealm06lvuy9ykumwlpl', 'offer_amount': 4447.022109, 'ask_amount': 920.542304, 'leverage': 3, 'margin_amount': 1373.24521, 'entry_price': 4.475335, 'take_profit': 4.549938, 'stop_loss': 3.132744, 'pnl': 327.286479, 'fee': 1.649874, 'funding_payment': -4.801548, '': '', '__1': ''}, {'user_type': 'BOT', 'pair': 'ORAI_USDC', 'hash': '6EA4098F50095019CC94FC22EF7F3EF06BFEA6B8AE63F7EAD16E55E6C65C8FEE', 'height': 14645203, 'time': '2023-12-01 23:58:20', 'order_id': 565, 'status': 'Close', 'direction': 'BUY', 'bidder_addr': 'orai15vc7z4zyyam999zp6rwealm06lvuy9ykumwlpl', 'offer_amount': 4493.130844, 'ask_amount': 935.15176, 'leverage': 3, 'margin_amount': 1402.370174, 'entry_price': 4.498853, 'take_profit': 4.573848, 'stop_loss': 3.149206, 'pnl': 286.020322, 'fee': 1.684866, 'funding_payment': -4.877751, '': '', '__1': ''}, {'user_type': 'BOT', 'pair': 'ORAI_USDC', 'hash': '6EA4098F50095019CC94FC22EF7F3EF06BFEA6B8AE63F7EAD16E55E6C65C8FEE', 'height': 14645203, 'time': '2023-12-01 23:58:20', 'order_id': 567, 'status': 'Close', 'direction': 'BUY', 'bidder_addr': 'orai15vc7z4zyyam999zp6rwealm06lvuy9ykumwlpl', 'offer_amount': 4574.794142, 'ask_amount': 957.422071, 'leverage': 3, 'margin_amount': 1431.489807, 'entry_price': 4.48545, 'take_profit': 4.560222, 'stop_loss': 3.139825, 'pnl': 280.324721, 'fee': 1.71985, 'funding_payment': -9.038064, '': '', '__1': ''}, {'user_type': 'USER', 'pair': 'ORAI_USDC', 'hash': '52DCC265722073CE012F8272ED4788CB573CED9D74BC2526AFAA51936E9C6B80', 'height': 14644945, 'time': '2023-12-01 23:33:38', 'order_id': 591, 'status': 'Close', 'direction': 'BUY', 'bidder_addr': 'orai1x9dvpscythaz0mw8zj5re6f3qdpk347epc272q', 'offer_amount': 611.960496, 'ask_amount': 137.577045, 'leverage': 3, 'margin_amount': 199.76, 'entry_price': 4.355959, 'take_profit': 4.399521, 'stop_loss': 4.312401, 'pnl': 12.680496, 'fee': 0.24, 'funding_payment': -0.591443, '': '', '__1': ''}, {'user_type': 'USER', 'pair': 'ORAI_USDC', 'hash': '74CF0708E4C82426C7A9CDF6E27AF9BE49E7CE890677A23C2CCA96B78EB57291', 'height': 14645089, 'time': '2023-12-01 23:47:23', 'order_id': 593, 'status': 'Close', 'direction': 'BUY', 'bidder_addr': 'orai1uesy4qnqathqlxalakh9r5slvjlvq6appzdhjr', 'offer_amount': 1996.764229, 'ask_amount': 413.22588, 'leverage': 3, 'margin_amount': 602.2764, 'entry_price': 4.372497, 'take_profit': 5.829995, 'stop_loss': 0, 'pnl': 189.935029, 'fee': 0.7236, 'funding_payment': -0.803311, '': '', '__1': ''}, {'user_type': 'USER', 'pair': 'ORAI_USDC', 'hash': 'B904F6F2B7C6B65CC09016A455E5FA051478D694F7ECE02B7E4B59E2831FF848', 'height': 14645044, 'time': '2023-12-01 23:43:03', 'order_id': 594, 'status': 'Close', 'direction': 'BUY', 'bidder_addr': 'orai14c9p94ylg58wvetcj69ul9h2ew8ujga97wlmsl', 'offer_amount': 4211.720037, 'ask_amount': 893.045049, 'leverage': 3, 'margin_amount': 1306.366386, 'entry_price': 4.388467, 'take_profit': 8.776934, 'stop_loss': 0, 'pnl': 292.620879, 'fee': 1.569522, 'funding_payment': 0, '': '', '__1': ''}, {'user_type': 'USER', 'pair': 'ORAI_USDC', 'hash': 'D0D0B6A2DBA05BCF2EBB7060E79B3A8032510B29B06F20BCA59175B6356BF01C', 'height': 14645026, 'time': '2023-12-01 23:41:21', 'order_id': 596, 'status': 'Close', 'direction': 'BUY', 'bidder_addr': 'orai1x9dvpscythaz0mw8zj5re6f3qdpk347epc272q', 'offer_amount': 632.468122, 'ask_amount': 134.727376, 'leverage': 3, 'margin_amount': 199.76, 'entry_price': 4.448093, 'take_profit': 4.492576, 'stop_loss': 4.403614, 'pnl': 33.188122, 'fee': 0.24, 'funding_payment': 0, '': '', '__1': ''}, {'user_type': 'USER', 'pair': 'ORAI_USDC', 'hash': 'BA7438E7F6C626D67B31CA27CE99B223F4D9035DF7B417A317F601EB6CC4C278', 'height': 14645074, 'time': '2023-12-01 23:45:57', 'order_id': 598, 'status': 'Close', 'direction': 'BUY', 'bidder_addr': 'orai1x9dvpscythaz0mw8zj5re6f3qdpk347epc272q', 'offer_amount': 613.104054, 'ask_amount': 127.6603, 'leverage': 3, 'margin_amount': 199.76, 'entry_price': 4.694333, 'take_profit': 4.741278, 'stop_loss': 4.647392, 'pnl': 13.824054, 'fee': 0.24, 'funding_payment': 0, '': '', '__1': ''}, {'user_type': 'USER', 'pair': 'ORAI_USDC', 'hash': '2611237C0421D263BFC7706FB84D07324A2A3415799A34D4542867701116627A', 'height': 14645204, 'time': '2023-12-01 23:58:26', 'order_id': 604, 'status': 'Close', 'direction': 'BUY', 'bidder_addr': 'orai1x9dvpscythaz0mw8zj5re6f3qdpk347epc272q', 'offer_amount': 590.230909, 'ask_amount': 123.914552, 'leverage': 3, 'margin_amount': 199.76, 'entry_price': 4.836235, 'take_profit': 4.884599, 'stop_loss': 4.787875, 'pnl': -9.049091, 'fee': 0.24, 'funding_payment': 0, '': '', '__1': ''}, {'user_type': 'USER', 'pair': 'ORAI_USDC', 'hash': '3996AB6341AB188C455B154CC2EB261682C1A377D8CD49BDFDCDEEC7E05141D9', 'height': 14645117, 'time': '2023-12-01 23:50:04', 'order_id': 605, 'status': 'Close', 'direction': 'BUY', 'bidder_addr': 'orai1uesy4qnqathqlxalakh9r5slvjlvq6appzdhjr', 'offer_amount': 1488.24431, 'ask_amount': 310.142862, 'leverage': 3, 'margin_amount': 499.4, 'entry_price': 4.830677, 'take_profit': 6.440902, 'stop_loss': 0, 'pnl': -9.95569, 'fee': 0.6, 'funding_payment': 0, '': '', '__1': ''}, {'user_type': 'USER', 'pair': 'ORAI_USDC', 'hash': '988420BD7BC7B7C79ED7995E86C75CAB84C4A414065E5C4695CF94776E0BDE90', 'height': 14645400, 'time': '2023-12-02 00:17:17', 'order_id': 508, 'status': 'Close', 'direction': 'BUY', 'bidder_addr': 'orai1wtzpkfhu9h4t7nde3l4wltvm7lxyp6hfp9f5vy', 'offer_amount': 1035.620502, 'ask_amount': 212.41687, 'leverage': 3, 'margin_amount': 276.086853, 'entry_price': 3.899222, 'take_profit': 7.798444, 'stop_loss': 0, 'pnl': 207.359943, 'fee': 0.331702, 'funding_payment': 0.122139, '': '', '__1': ''}, {'user_type': 'USER', 'pair': 'ORAI_USDC', 'hash': 'C94108996BBD59B9638C8E04436610F35ABA7EE7DAE5E9CF39416662E7427AFC', 'height': 14645228, 'time': '2023-12-02 00:00:44', 'order_id': 533, 'status': 'Close', 'direction': 'BUY', 'bidder_addr': 'orai1g2ucrt0v7h762c2dtj30ytyr8497ugm5n0nxla', 'offer_amount': 3419.001537, 'ask_amount': 716.810018, 'leverage': 3, 'margin_amount': 998.8, 'entry_price': 4.180187, 'take_profit': 5.279526, 'stop_loss': 0, 'pnl': 422.601537, 'fee': 1.2, 'funding_payment': 0.086017, '': '', '__1': ''}, {'user_type': 'BOT', 'pair': 'ORAI_USDC', 'hash': '11CE4E2B74E30FC74C74FD6D9A721EA19371F03EDB6F55832E9BD9A561D3DBE6', 'height': 14645222, 'time': '2023-12-02 00:00:09', 'order_id': 571, 'status': 'Close', 'direction': 'BUY', 'bidder_addr': 'orai15vc7z4zyyam999zp6rwealm06lvuy9ykumwlpl', 'offer_amount': 4730.573504, 'ask_amount': 986.868023, 'leverage': 3, 'margin_amount': 1473.630026, 'entry_price': 4.479717, 'take_profit': 4.554394, 'stop_loss': 3.135812, 'pnl': 309.683426, 'fee': 1.77048, 'funding_payment': -9.316034, '': '', '__1': ''}, {'user_type': 'BOT', 'pair': 'ORAI_USDC', 'hash': '5AACD02379CB8FBF16DAD7AB7B88665EFC296FDB662D5E306E3B81DE6B1157E9', 'height': 14645317, 'time': '2023-12-02 00:09:17', 'order_id': 573, 'status': 'Close', 'direction': 'BUY', 'bidder_addr': 'orai15vc7z4zyyam999zp6rwealm06lvuy9ykumwlpl', 'offer_amount': 5856.659076, 'ask_amount': 1233.888659, 'leverage': 3, 'margin_amount': 1840.078698, 'entry_price': 4.473852, 'take_profit': 4.548435, 'stop_loss': 3.131709, 'pnl': 336.422982, 'fee': 2.210746, 'funding_payment': -5.93377, '': '', '__1': ''}, {'user_type': 'USER', 'pair': 'ORAI_USDC', 'hash': '1A4F362902D7B3C33826CC32DDA0A5BC4388E7073D8FC842E86A8BA7D41B1F08', 'height': 14660870, 'time': '2023-12-03 00:55:26', 'order_id': 758, 'status': 'Close', 'direction': 'SELL', 'bidder_addr': 'orai18vyspza5ndpg5wss0u7mqs7g50zekjrjvc2dys', 'offer_amount': 2881.18872, 'ask_amount': 572.379274, 'leverage': 3, 'margin_amount': 958.854144, 'entry_price': 5.025622, 'take_profit': 4.858101, 'stop_loss': 0, 'pnl': -4.626288, 'fee': 1.152006, 'funding_payment': 0, '': '', '__1': ''}, {'user_type': 'USER', 'pair': 'ORAI_USDC', 'hash': '7B10349C6E8C857AB4138F9A6E5B8E9EFF42A12BEF419708F3509BFDEA61AACE', 'height': 14645223, 'time': '2023-12-02 00:00:15', 'order_id': 611, 'status': 'Close', 'direction': 'SELL', 'bidder_addr': 'orai1x9dvpscythaz0mw8zj5re6f3qdpk347epc272q', 'offer_amount': 595.8364, 'ask_amount': 124.613667, 'leverage': 3, 'margin_amount': 199.76, 'entry_price': 4.809103, 'take_profit': 4.76101, 'stop_loss': 4.857192, 'pnl': 3.4436, 'fee': 0.24, 'funding_payment': -0.577085, '': '', '__1': ''}, {'user_type': 'USER', 'pair': 'ORAI_USDC', 'hash': 'BF6035621000CC3A70D0D8BAF75B496F27065A5B6AD9BFCE2E0702565A6F9B09', 'height': 14645229, 'time': '2023-12-02 00:00:50', 'order_id': 612, 'status': 'Close', 'direction': 'SELL', 'bidder_addr': 'orai1x9dvpscythaz0mw8zj5re6f3qdpk347epc272q', 'offer_amount': 596.782978, 'ask_amount': 125.334128, 'leverage': 3, 'margin_amount': 199.76, 'entry_price': 4.781459, 'take_profit': 4.733641, 'stop_loss': 4.829271, 'pnl': 2.497022, 'fee': 0.24, 'funding_payment': 0, '': '', '__1': ''}, {'user_type': 'USER', 'pair': 'ORAI_USDC', 'hash': 'E646A480FD17D4A11345CF24C6DF2995F297EE2636CAEBD4A6F3C814AC3833F9', 'height': 14645287, 'time': '2023-12-02 00:06:24', 'order_id': 613, 'status': 'Close', 'direction': 'SELL', 'bidder_addr': 'orai1x9dvpscythaz0mw8zj5re6f3qdpk347epc272q', 'offer_amount': 599.280003, 'ask_amount': 125.858736, 'leverage': 3, 'margin_amount': 199.76, 'entry_price': 4.761528, 'take_profit': 4.713911, 'stop_loss': 4.809141, 'pnl': -3e-06, 'fee': 0.24, 'funding_payment': 0, '': '', '__1': ''}, {'user_type': 'USER', 'pair': 'ORAI_USDC', 'hash': '4D1C4D8DD5C623CF4F7612ACBAC9A76E8FB8E40AEA5B0D94A19922AB321397C8', 'height': 14645293, 'time': '2023-12-02 00:06:59', 'order_id': 614, 'status': 'Close', 'direction': 'SELL', 'bidder_addr': 'orai1x9dvpscythaz0mw8zj5re6f3qdpk347epc272q', 'offer_amount': 599.280003, 'ask_amount': 125.858736, 'leverage': 3, 'margin_amount': 199.76, 'entry_price': 4.761528, 'take_profit': 4.713911, 'stop_loss': 4.809141, 'pnl': -3e-06, 'fee': 0.24, 'funding_payment': 0, '': '', '__1': ''}, {'user_type': 'USER', 'pair': 'ORAI_USDC', 'hash': 'D2C173A6132E2DEED43B0962C3EA87EED8C86EF51A1E38DE9A3E152B46E79C77', 'height': 14645303, 'time': '2023-12-02 00:07:56', 'order_id': 615, 'status': 'Close', 'direction': 'SELL', 'bidder_addr': 'orai1x9dvpscythaz0mw8zj5re6f3qdpk347epc272q', 'offer_amount': 599.280003, 'ask_amount': 125.858736, 'leverage': 3, 'margin_amount': 199.76, 'entry_price': 4.761528, 'take_profit': 4.713911, 'stop_loss': 4.809141, 'pnl': -3e-06, 'fee': 0.24, 'funding_payment': 0, '': '', '__1': ''}, {'user_type': 'USER', 'pair': 'ORAI_USDC', 'hash': 'EFE31EB5A183DC28253F597E10622D003A2741D737540CD518445E71F6514735', 'height': 14645315, 'time': '2023-12-02 00:09:05', 'order_id': 616, 'status': 'Close', 'direction': 'SELL', 'bidder_addr': 'orai1x9dvpscythaz0mw8zj5re6f3qdpk347epc272q', 'offer_amount': 599.314705, 'ask_amount': 125.858736, 'leverage': 3, 'margin_amount': 199.76, 'entry_price': 4.761528, 'take_profit': 4.713911, 'stop_loss': 4.809141, 'pnl': -0.034705, 'fee': 0.24, 'funding_payment': 0, '': '', '__1': ''}, {'user_type': 'USER', 'pair': 'ORAI_USDC', 'hash': '0B4293ED8443865D4A9AC70F940100B9B67764F15A2DA0E4F61C5250EF2BA478', 'height': 14645370, 'time': '2023-12-02 00:14:25', 'order_id': 618, 'status': 'Close', 'direction': 'BUY', 'bidder_addr': 'orai1x9dvpscythaz0mw8zj5re6f3qdpk347epc272q', 'offer_amount': 621.315227, 'ask_amount': 126.663914, 'leverage': 3, 'margin_amount': 199.76, 'entry_price': 4.73126, 'take_profit': 4.778575, 'stop_loss': 4.683949, 'pnl': 22.035227, 'fee': 0.24, 'funding_payment': 0, '': '', '__1': ''}, {'user_type': 'USER', 'pair': 'ORAI_USDC', 'hash': '4DF31C4055952B5258BCCA643B687A0A1F40BDB4F77FE5CE92B5D7A69799C2B6', 'height': 14645376, 'time': '2023-12-02 00:14:59', 'order_id': 622, 'status': 'Close', 'direction': 'SELL', 'bidder_addr': 'orai1x9dvpscythaz0mw8zj5re6f3qdpk347epc272q', 'offer_amount': 595.802799, 'ask_amount': 122.261545, 'leverage': 3, 'margin_amount': 199.76, 'entry_price': 4.901622, 'take_profit': 4.852604, 'stop_loss': 4.950636, 'pnl': 3.477201, 'fee': 0.24, 'funding_payment': 0, '': '', '__1': ''}, {'user_type': 'USER', 'pair': 'ORAI_USDC', 'hash': '7CC3F3664BED3067B7D328810321A1E1CE9876233AEB06C1EA41848C2EA55CDA', 'height': 14645617, 'time': '2023-12-02 00:38:06', 'order_id': 587, 'status': 'Close', 'direction': 'BUY', 'bidder_addr': 'orai1cweq5cl6mx5ju8sseulp6knf5f8g7d822uvyjq', 'offer_amount': 13.349156, 'ask_amount': 2.740431, 'leverage': 3, 'margin_amount': 4.01049, 'entry_price': 4.390356, 'take_profit': 4.536701, 'stop_loss': 4.024492, 'pnl': 1.317686, 'fee': 0.004818, 'funding_payment': -0.016409, '': '', '__1': ''}, {'user_type': 'USER', 'pair': 'ORAI_USDC', 'hash': '3A28B6A1498BC6F085424F42292FADB790D6FC1CBD936E14F0A662DEAEA4B58C', 'height': 14645633, 'time': '2023-12-02 00:39:38', 'order_id': 590, 'status': 'Close', 'direction': 'BUY', 'bidder_addr': 'orai1zpjc5aesp4p9d7k4gyt4xava2mrnna5ff8nvwp', 'offer_amount': 5.651621, 'ask_amount': 1.160233, 'leverage': 3, 'margin_amount': 1.69796, 'entry_price': 4.390393, 'take_profit': 4.536742, 'stop_loss': 4.024529, 'pnl': 0.557741, 'fee': 0.00204, 'funding_payment': -0.003567, '': '', '__1': ''}, {'user_type': 'USER', 'pair': 'ORAI_USDC', 'hash': '630A3A8E1C6250B6E65F36F4BF9388BCD97152FC16B47CD05F0224F779D28025', 'height': 14646418, 'time': '2023-12-02 01:54:49', 'order_id': 483, 'status': 'Close', 'direction': 'BUY', 'bidder_addr': 'orai16kn05tue27qkvxtzlv4d796mdhen63fyxf7mee', 'offer_amount': 17901.30917, 'ask_amount': 3753.553877, 'leverage': 3, 'margin_amount': 5026.284119, 'entry_price': 4.01722, 'take_profit': 8.03444, 'stop_loss': 3.682451, 'pnl': -1472.510486, 'fee': 6.038786, 'funding_payment': 55.897924, '': '', '__1': ''}, {'user_type': 'BOT', 'pair': 'ORAI_USDC', 'hash': 'F7DDEA1EC06FCA78AD6E27ABA2BD87D69CDF9F54085EE8CE339EAEEF881C70AE', 'height': 14649644, 'time': '2023-12-02 07:03:07', 'order_id': 575, 'status': 'Close', 'direction': 'BUY', 'bidder_addr': 'orai15vc7z4zyyam999zp6rwealm06lvuy9ykumwlpl', 'offer_amount': 4265.401423, 'ask_amount': 897.967504, 'leverage': 3, 'margin_amount': 1340.410006, 'entry_price': 4.478146, 'take_profit': 4.552796, 'stop_loss': 3.134712, 'pnl': 244.171405, 'fee': 1.610424, 'funding_payment': 22.980784, '': '', '__1': ''}, {'user_type': 'BOT', 'pair': 'ORAI_USDC', 'hash': 'F7DDEA1EC06FCA78AD6E27ABA2BD87D69CDF9F54085EE8CE339EAEEF881C70AE', 'height': 14649644, 'time': '2023-12-02 07:03:07', 'order_id': 576, 'status': 'Close', 'direction': 'BUY', 'bidder_addr': 'orai15vc7z4zyyam999zp6rwealm06lvuy9ykumwlpl', 'offer_amount': 5767.321412, 'ask_amount': 1221.645406, 'leverage': 3, 'margin_amount': 1832.969256, 'entry_price': 4.50123, 'take_profit': 4.576269, 'stop_loss': 3.150874, 'pnl': 268.413644, 'fee': 2.202204, 'funding_payment': 31.264349, '': '', '__1': ''}, {'user_type': 'BOT', 'pair': 'ORAI_USDC', 'hash': '2741E27DAF8702E0B5D6A8CD9503901BCB4AE8BC6132D5C7386D54C97A874FF0', 'height': 14649736, 'time': '2023-12-02 07:11:57', 'order_id': 577, 'status': 'Close', 'direction': 'BUY', 'bidder_addr': 'orai15vc7z4zyyam999zp6rwealm06lvuy9ykumwlpl', 'offer_amount': 7377.852402, 'ask_amount': 1575.477539, 'leverage': 3, 'margin_amount': 2361.502992, 'entry_price': 4.496737, 'take_profit': 4.571707, 'stop_loss': 3.147732, 'pnl': 293.343426, 'fee': 2.837208, 'funding_payment': 40.319621, '': '', '__1': ''}, {'user_type': 'BOT', 'pair': 'ORAI_USDC', 'hash': 'FB96A0D4A9FA2EF0D83664890DD74F2F383735AA3130A12B9D9AE65842905873', 'height': 14649821, 'time': '2023-12-02 07:20:06', 'order_id': 578, 'status': 'Close', 'direction': 'BUY', 'bidder_addr': 'orai15vc7z4zyyam999zp6rwealm06lvuy9ykumwlpl', 'offer_amount': 10147.87025, 'ask_amount': 2160.493397, 'leverage': 3, 'margin_amount': 3243.355553, 'entry_price': 4.503631, 'take_profit': 4.578725, 'stop_loss': 3.152564, 'pnl': 417.803591, 'fee': 3.896702, 'funding_payment': 55.291347, '': '', '__1': ''}, {'user_type': 'BOT', 'pair': 'ORAI_USDC', 'hash': 'ADBE3885FB277D9EC205CF815AD572B7177B9732B4F8D6813D5A3E407644DF18', 'height': 14649919, 'time': '2023-12-02 07:29:31', 'order_id': 597, 'status': 'Close', 'direction': 'BUY', 'bidder_addr': 'orai15vc7z4zyyam999zp6rwealm06lvuy9ykumwlpl', 'offer_amount': 43217.04638, 'ask_amount': 9455.862854, 'leverage': 3, 'margin_amount': 14408.70849, 'entry_price': 4.571357, 'take_profit': 4.647694, 'stop_loss': 3.200052, 'pnl': -9.079095, 'fee': 17.311222, 'funding_payment': 331.257787, '': '', '__1': ''}, {'user_type': 'BOT', 'pair': 'ORAI_USDC', 'hash': '79231AB09A837F8C9B44A2138578CA39ED3970D6971D08B601268A307BAFDA19', 'height': 14650147, 'time': '2023-12-02 07:51:17', 'order_id': 599, 'status': 'Close', 'direction': 'BUY', 'bidder_addr': 'orai15vc7z4zyyam999zp6rwealm06lvuy9ykumwlpl', 'offer_amount': 5881.591802, 'ask_amount': 1183.404177, 'leverage': 3, 'margin_amount': 1858.803418, 'entry_price': 4.712177, 'take_profit': 4.790732, 'stop_loss': 3.298537, 'pnl': 305.181548, 'fee': 2.233242, 'funding_payment': 41.457015, '': '', '__1': ''}, {'user_type': 'BOT', 'pair': 'ORAI_USDC', 'hash': '98CA8BBAC8FB22FBD197BB73B6E816801F2A0A8C567CD73A1FCD7BF1CDA3BCB1', 'height': 14650222, 'time': '2023-12-02 07:58:30', 'order_id': 600, 'status': 'Close', 'direction': 'BUY', 'bidder_addr': 'orai15vc7z4zyyam999zp6rwealm06lvuy9ykumwlpl', 'offer_amount': 6943.449855, 'ask_amount': 1412.588744, 'leverage': 3, 'margin_amount': 2224.002604, 'entry_price': 4.723248, 'take_profit': 4.801992, 'stop_loss': 3.306289, 'pnl': 271.442043, 'fee': 2.672008, 'funding_payment': 49.485808, '': '', '__1': ''}, {'user_type': 'BOT', 'pair': 'ORAI_USDC', 'hash': '94F15896172528CCB049D6A241E01E50572C56448FCFC415130DA68F5E1A49C5', 'height': 14650402, 'time': '2023-12-02 08:15:45', 'order_id': 601, 'status': 'Close', 'direction': 'BUY', 'bidder_addr': 'orai15vc7z4zyyam999zp6rwealm06lvuy9ykumwlpl', 'offer_amount': 4502.553557, 'ask_amount': 912.739396, 'leverage': 3, 'margin_amount': 1446.76031, 'entry_price': 4.755224, 'take_profit': 4.834492, 'stop_loss': 3.328667, 'pnl': 162.272627, 'fee': 1.738198, 'funding_payment': 33.483844, '': '', '__1': ''}, {'user_type': 'BOT', 'pair': 'ORAI_USDC', 'hash': '94F15896172528CCB049D6A241E01E50572C56448FCFC415130DA68F5E1A49C5', 'height': 14650402, 'time': '2023-12-02 08:15:45', 'order_id': 602, 'status': 'Close', 'direction': 'BUY', 'bidder_addr': 'orai15vc7z4zyyam999zp6rwealm06lvuy9ykumwlpl', 'offer_amount': 6415.47159, 'ask_amount': 1309.086951, 'leverage': 3, 'margin_amount': 2088.474586, 'entry_price': 4.786102, 'take_profit': 4.865891, 'stop_loss': 3.350286, 'pnl': 150.047832, 'fee': 2.50918, 'funding_payment': 48.023854, '': '', '__1': ''}, {'user_type': 'BOT', 'pair': 'ORAI_USDC', 'hash': '6938716C6769D095FC065D98D6D5B1F2F758B14CC290C17CCAAC3E6D0A189B11', 'height': 14650415, 'time': '2023-12-02 08:16:59', 'order_id': 603, 'status': 'Close', 'direction': 'BUY', 'bidder_addr': 'orai15vc7z4zyyam999zp6rwealm06lvuy9ykumwlpl', 'offer_amount': 5891.681675, 'ask_amount': 1193.308735, 'leverage': 3, 'margin_amount': 1916.304702, 'entry_price': 4.817625, 'take_profit': 4.897939, 'stop_loss': 3.372351, 'pnl': 142.767569, 'fee': 2.302328, 'funding_payment': 43.77653, '': '', '__1': ''}, {'user_type': 'USER', 'pair': 'ORAI_USDC', 'hash': 'FC62D8022C014AE631DA484099850959453BA1075AFA932ADF834310E5F9904B', 'height': 14645376, 'time': '2023-12-02 00:14:59', 'order_id': 606, 'status': 'Close', 'direction': 'BUY', 'bidder_addr': 'orai14c9p94ylg58wvetcj69ul9h2ew8ujga97wlmsl', 'offer_amount': 4822.549297, 'ask_amount': 987.090349, 'leverage': 3, 'margin_amount': 1595.500843, 'entry_price': 4.849102, 'take_profit': 9.698204, 'stop_loss': 0, 'pnl': 36.046768, 'fee': 1.9169, 'funding_payment': 4.571215, '': '', '__1': ''}, {'user_type': 'BOT', 'pair': 'ORAI_USDC', 'hash': '6938716C6769D095FC065D98D6D5B1F2F758B14CC290C17CCAAC3E6D0A189B11', 'height': 14650415, 'time': '2023-12-02 08:16:59', 'order_id': 607, 'status': 'Close', 'direction': 'BUY', 'bidder_addr': 'orai15vc7z4zyyam999zp6rwealm06lvuy9ykumwlpl', 'offer_amount': 5740.246123, 'ask_amount': 1170.794342, 'leverage': 3, 'margin_amount': 1877.43703, 'entry_price': 4.810675, 'take_profit': 4.899726, 'stop_loss': 3.373582, 'pnl': 107.935033, 'fee': 2.25563, 'funding_payment': 42.95059, '': '', '__1': ''}, {'user_type': 'BOT', 'pair': 'ORAI_USDC', 'hash': '7D9FDCAF840383D0899790D544D522F204A0DB5160DAFF1AD9C9895506E7BD18', 'height': 14650681, 'time': '2023-12-02 08:42:23', 'order_id': 609, 'status': 'Close', 'direction': 'BUY', 'bidder_addr': 'orai15vc7z4zyyam999zp6rwealm06lvuy9ykumwlpl', 'offer_amount': 5306.256704, 'ask_amount': 1076.107808, 'leverage': 3, 'margin_amount': 1732.057815, 'entry_price': 4.828673, 'take_profit': 4.909169, 'stop_loss': 3.380083, 'pnl': 110.083259, 'fee': 2.080966, 'funding_payment': 39.477014, '': '', '__1': ''}, {'user_type': 'BOT', 'pair': 'ORAI_USDC', 'hash': '6D972A26305741FA253933A537C67FB9F15B3261E1F537E559B3B38E54468A4C', 'height': 14650988, 'time': '2023-12-02 09:11:41', 'order_id': 610, 'status': 'Close', 'direction': 'BUY', 'bidder_addr': 'orai15vc7z4zyyam999zp6rwealm06lvuy9ykumwlpl', 'offer_amount': 8640.093013, 'ask_amount': 1767.940446, 'leverage': 3, 'margin_amount': 2820.519268, 'entry_price': 4.78611, 'take_profit': 4.865907, 'stop_loss': 3.350297, 'pnl': 178.535209, 'fee': 3.388688, 'funding_payment': 73.576377, '': '', '__1': ''}, {'user_type': 'USER', 'pair': 'ORAI_USDC', 'hash': '0C11E64C44D56C7463B6A703D26A36E02C937355B504B3FD5F55E578AFFD3E39', 'height': 14655156, 'time': '2023-12-02 15:49:28', 'order_id': 617, 'status': 'Close', 'direction': 'BUY', 'bidder_addr': 'orai1c347zr3z9ck7kwf9csxnn5vj5d06xcngpwel27', 'offer_amount': 50.888575, 'ask_amount': 9.950991, 'leverage': 1, 'margin_amount': 47.365958, 'entry_price': 4.759923, 'take_profit': 5.235915, 'stop_loss': 3.569942, 'pnl': 3.522617, 'fee': 0.018952, 'funding_payment': 0.400925, '': '', '__1': ''}, {'user_type': 'BOT', 'pair': 'ORAI_USDC', 'hash': '7E2284D8C1457282D9870712B29BA5506513B2E5BB711CA3E5354D6D7C248665', 'height': 14651400, 'time': '2023-12-02 09:51:04', 'order_id': 620, 'status': 'Close', 'direction': 'BUY', 'bidder_addr': 'orai15vc7z4zyyam999zp6rwealm06lvuy9ykumwlpl', 'offer_amount': 20736.86396, 'ask_amount': 4296.929485, 'leverage': 3, 'margin_amount': 6862.15992, 'entry_price': 4.790974, 'take_profit': 4.870896, 'stop_loss': 3.353732, 'pnl': 150.384195, 'fee': 8.244484, 'funding_payment': 158.926233, '': '', '__1': ''}, {'user_type': 'BOT', 'pair': 'ORAI_USDC', 'hash': 'B85D1F13B370EFBF4B168585922453344E61D12E481C549E6A9D5778D88ABA1C', 'height': 14652577, 'time': '2023-12-02 11:43:15', 'order_id': 621, 'status': 'Close', 'direction': 'BUY', 'bidder_addr': 'orai15vc7z4zyyam999zp6rwealm06lvuy9ykumwlpl', 'offer_amount': 9450.595157, 'ask_amount': 1935.587543, 'leverage': 3, 'margin_amount': 3148.018994, 'entry_price': 4.879168, 'take_profit': 4.960521, 'stop_loss': 3.41544, 'pnl': 6.538175, 'fee': 3.78216, 'funding_payment': 66.690668, '': '', '__1': ''}, {'user_type': 'USER', 'pair': 'ORAI_USDC', 'hash': '5FE903757FFD6E669EF7011C8126464A85CA31CF7E070239E822BB77DEE24209', 'height': 14646168, 'time': '2023-12-02 01:30:50', 'order_id': 623, 'status': 'Close', 'direction': 'BUY', 'bidder_addr': 'orai1x9dvpscythaz0mw8zj5re6f3qdpk347epc272q', 'offer_amount': 592.287475, 'ask_amount': 122.886365, 'leverage': 3, 'margin_amount': 199.76, 'entry_price': 4.8767, 'take_profit': 4.925469, 'stop_loss': 4.827935, 'pnl': -6.992525, 'fee': 0.24, 'funding_payment': 2.207899, '': '', '__1': ''}, {'user_type': 'USER', 'pair': 'ORAI_USDC', 'hash': '455CF1BF86C6074766E8B00FDB152AB765CD879D27A765DC5B5CCC0F2F080356', 'height': 14655128, 'time': '2023-12-02 15:46:49', 'order_id': 625, 'status': 'Close', 'direction': 'BUY', 'bidder_addr': 'orai1c347zr3z9ck7kwf9csxnn5vj5d06xcngpwel27', 'offer_amount': 41.61494, 'ask_amount': 8.137137, 'leverage': 2, 'margin_amount': 19.818452, 'entry_price': 4.871111, 'take_profit': 5.114666, 'stop_loss': 4.262222, 'pnl': 1.978036, 'fee': 0.015866, 'funding_payment': 0.327845, '': '', '__1': ''}, {'user_type': 'USER', 'pair': 'ORAI_USDC', 'hash': 'EAC75987F0166EF3C76F113CC7B0CC13A2351F49F06442A2879C0A80CE35BF41', 'height': 14646434, 'time': '2023-12-02 01:56:20', 'order_id': 628, 'status': 'Close', 'direction': 'SELL', 'bidder_addr': 'orai14c9p94ylg58wvetcj69ul9h2ew8ujga97wlmsl', 'offer_amount': 4743.383896, 'ask_amount': 1002.589303, 'leverage': 3, 'margin_amount': 1623.109426, 'entry_price': 4.856752, 'take_profit': 1e-06, 'stop_loss': 0, 'pnl': 125.944382, 'fee': 1.95007, 'funding_payment': 0, '': '', '__1': ''}, {'user_type': 'USER', 'pair': 'ORAI_USDC', 'hash': '9D0A751EBD1AB5084111B866DD304F02681AE034AFFB13A0A2324823EEA17474', 'height': 14646174, 'time': '2023-12-02 01:31:24', 'order_id': 631, 'status': 'Close', 'direction': 'SELL', 'bidder_addr': 'orai1x9dvpscythaz0mw8zj5re6f3qdpk347epc272q', 'offer_amount': 599.280003, 'ask_amount': 124.427186, 'leverage': 3, 'margin_amount': 199.76, 'entry_price': 4.81631, 'take_profit': 4.768145, 'stop_loss': 4.864471, 'pnl': -3e-06, 'fee': 0.24, 'funding_payment': 0, '': '', '__1': ''}, {'user_type': 'USER', 'pair': 'ORAI_USDC', 'hash': '05D1AC5C3D051B74CD4216A5FDA63C1A8A2685A78E98EC86D746DE8DA802C773', 'height': 14646180, 'time': '2023-12-02 01:31:58', 'order_id': 632, 'status': 'Close', 'direction': 'SELL', 'bidder_addr': 'orai1x9dvpscythaz0mw8zj5re6f3qdpk347epc272q', 'offer_amount': 599.280003, 'ask_amount': 124.427186, 'leverage': 3, 'margin_amount': 199.76, 'entry_price': 4.81631, 'take_profit': 4.768145, 'stop_loss': 4.864471, 'pnl': -3e-06, 'fee': 0.24, 'funding_payment': 0, '': '', '__1': ''}, {'user_type': 'USER', 'pair': 'ORAI_USDC', 'hash': 'B03E0168BC7FA909FAAA2C2CD62245BA959300FBAF79B47E7F42C258E7205F90', 'height': 14646186, 'time': '2023-12-02 01:32:33', 'order_id': 633, 'status': 'Close', 'direction': 'SELL', 'bidder_addr': 'orai1x9dvpscythaz0mw8zj5re6f3qdpk347epc272q', 'offer_amount': 599.280003, 'ask_amount': 124.427186, 'leverage': 3, 'margin_amount': 199.76, 'entry_price': 4.81631, 'take_profit': 4.768145, 'stop_loss': 4.864471, 'pnl': -3e-06, 'fee': 0.24, 'funding_payment': 0, '': '', '__1': ''}, {'user_type': 'USER', 'pair': 'ORAI_USDC', 'hash': 'FA981DEE82D7CD077637FD7724180F9480D135A9C730CF17FDB4293C2668EE21', 'height': 14646193, 'time': '2023-12-02 01:33:13', 'order_id': 634, 'status': 'Close', 'direction': 'SELL', 'bidder_addr': 'orai1x9dvpscythaz0mw8zj5re6f3qdpk347epc272q', 'offer_amount': 599.280003, 'ask_amount': 124.427186, 'leverage': 3, 'margin_amount': 199.76, 'entry_price': 4.81631, 'take_profit': 4.768145, 'stop_loss': 4.864471, 'pnl': -3e-06, 'fee': 0.24, 'funding_payment': 0, '': '', '__1': ''}, {'user_type': 'USER', 'pair': 'ORAI_USDC', 'hash': 'B48FFDDD3C357E4EF1522D07A579601F5C23BB4F4D57D5BA49267CE283CDF1F1', 'height': 14646199, 'time': '2023-12-02 01:33:47', 'order_id': 635, 'status': 'Close', 'direction': 'SELL', 'bidder_addr': 'orai1x9dvpscythaz0mw8zj5re6f3qdpk347epc272q', 'offer_amount': 599.280003, 'ask_amount': 124.427186, 'leverage': 3, 'margin_amount': 199.76, 'entry_price': 4.81631, 'take_profit': 4.768145, 'stop_loss': 4.864471, 'pnl': -3e-06, 'fee': 0.24, 'funding_payment': 0, '': '', '__1': ''}, {'user_type': 'USER', 'pair': 'ORAI_USDC', 'hash': 'C755C018EE4E9004AFDC16C3DE8E28CDDF6A7C01A052B967D8EA22E315D39B2E', 'height': 14646419, 'time': '2023-12-02 01:54:55', 'order_id': 636, 'status': 'Close', 'direction': 'BUY', 'bidder_addr': 'orai1x9dvpscythaz0mw8zj5re6f3qdpk347epc272q', 'offer_amount': 586.324792, 'ask_amount': 124.336629, 'leverage': 3, 'margin_amount': 199.76, 'entry_price': 4.819818, 'take_profit': 4.868018, 'stop_loss': 4.771622, 'pnl': -12.955208, 'fee': 0.24, 'funding_payment': 0, '': '', '__1': ''}, {'user_type': 'USER', 'pair': 'ORAI_USDC', 'hash': 'DF66265D5B5C5CD7C5EDA146780ED1D3CDCB0EE06429C89B856585D6616D025A', 'height': 14649739, 'time': '2023-12-02 07:12:14', 'order_id': 637, 'status': 'Close', 'direction': 'BUY', 'bidder_addr': 'orai1x9dvpscythaz0mw8zj5re6f3qdpk347epc272q', 'offer_amount': 592.204682, 'ask_amount': 127.082912, 'leverage': 3, 'margin_amount': 199.76, 'entry_price': 4.715661, 'take_profit': 4.76282, 'stop_loss': 4.668506, 'pnl': -7.075318, 'fee': 0.24, 'funding_payment': 1.580148, '': '', '__1': ''}, {'user_type': 'USER', 'pair': 'ORAI_USDC', 'hash': 'EA797658CDB338760A1DB17F4C4D14E1A18C46AA534B09387550511A84642919', 'height': 14647251, 'time': '2023-12-02 03:14:17', 'order_id': 638, 'status': 'Close', 'direction': 'BUY', 'bidder_addr': 'orai1g2ucrt0v7h762c2dtj30ytyr8497ugm5n0nxla', 'offer_amount': 4344.779995, 'ask_amount': 913.242988, 'leverage': 3, 'margin_amount': 1448.26, 'entry_price': 4.757529, 'take_profit': 4.916113, 'stop_loss': 0, 'pnl': -5e-06, 'fee': 1.74, 'funding_payment': 0.453881, '': '', '__1': ''}, {'user_type': 'USER', 'pair': 'ORAI_USDC', 'hash': 'BE52F695261A9156B70B4CF9C3FB2246521BFF295F0B2B568DA27423C0663FE7', 'height': 14647607, 'time': '2023-12-02 03:48:26', 'order_id': 639, 'status': 'Close', 'direction': 'BUY', 'bidder_addr': 'orai1g2ucrt0v7h762c2dtj30ytyr8497ugm5n0nxla', 'offer_amount': 4344.779995, 'ask_amount': 913.242988, 'leverage': 3, 'margin_amount': 1448.26, 'entry_price': 4.757529, 'take_profit': 4.916113, 'stop_loss': 0, 'pnl': -5e-06, 'fee': 1.74, 'funding_payment': 0, '': '', '__1': ''}, {'user_type': 'USER', 'pair': 'ORAI_USDC', 'hash': 'FFE97C9603EC99866E66D2227A86414A441DB85E57F9BCB9079C290EA3A933C4', 'height': 14647830, 'time': '2023-12-02 04:09:50', 'order_id': 640, 'status': 'Close', 'direction': 'SELL', 'bidder_addr': 'orai17ru9tf6gc67kfn8sjx229kpklefq24qmjkvtjn', 'offer_amount': 34.152049, 'ask_amount': 7.197768, 'leverage': 3, 'margin_amount': 11.384016, 'entry_price': 4.74481, 'take_profit': 4.586649, 'stop_loss': 0, 'pnl': -1e-06, 'fee': 0.013676, 'funding_payment': -0.003274, '': '', '__1': ''}, {'user_type': 'USER', 'pair': 'ORAI_USDC', 'hash': 'B9AFF39E231D26F16BB185F5EF27CED6B6C7B3EEBB9C19C4700735417636AE0A', 'height': 14655698, 'time': '2023-12-02 16:41:05', 'order_id': 642, 'status': 'Close', 'direction': 'SELL', 'bidder_addr': 'orai1wtzpkfhu9h4t7nde3l4wltvm7lxyp6hfp9f5vy', 'offer_amount': 1476.929153, 'ask_amount': 296.727291, 'leverage': 3, 'margin_amount': 468.774211, 'entry_price': 4.739444, 'take_profit': 4.581462, 'stop_loss': 0, 'pnl': -70.60652, 'fee': 0.563204, 'funding_payment': -3.855971, '': '', '__1': ''}, {'user_type': 'USER', 'pair': 'ORAI_USDC', 'hash': '931FD2A47CFD1E287449D95CD6CC56926B83B4C611DA8D2C2F5890F2F046A332', 'height': 14650240, 'time': '2023-12-02 08:00:14', 'order_id': 643, 'status': 'Close', 'direction': 'BUY', 'bidder_addr': 'orai13wm0jtlyzf33l4d4j2crsyashlqwcldf3fzwvx', 'offer_amount': 1991.360599, 'ask_amount': 407.310268, 'leverage': 2, 'margin_amount': 965.522338, 'entry_price': 4.740967, 'take_profit': 4.978015, 'stop_loss': 0, 'pnl': 60.315923, 'fee': 0.773036, 'funding_payment': 0.806067, '': '', '__1': ''}, {'user_type': 'USER', 'pair': 'ORAI_USDC', 'hash': '8F5A5FB35F677E12E81DCCEE2AD607F91B6656D71A41EB3B707C42F48F1D3908', 'height': 14649450, 'time': '2023-12-02 06:44:34', 'order_id': 644, 'status': 'Close', 'direction': 'BUY', 'bidder_addr': 'orai13wm0jtlyzf33l4d4j2crsyashlqwcldf3fzwvx', 'offer_amount': 961.614249, 'ask_amount': 202.462947, 'leverage': 1, 'margin_amount': 961.571457, 'entry_price': 4.74937, 'take_profit': 5.224307, 'stop_loss': 0, 'pnl': 0.042792, 'fee': 0.384782, 'funding_payment': -0.031179, '': '', '__1': ''}, {'user_type': 'USER', 'pair': 'ORAI_USDC', 'hash': '9E4D3B0997BAD5C77D718FF6C07A8FD9DC008909CA9E6F1567CF00F6EC60C39E', 'height': 14650212, 'time': '2023-12-02 07:57:33', 'order_id': 646, 'status': 'Close', 'direction': 'BUY', 'bidder_addr': 'orai13wm0jtlyzf33l4d4j2crsyashlqwcldf3fzwvx', 'offer_amount': 2805.145768, 'ask_amount': 567.351044, 'leverage': 3, 'margin_amount': 899.180334, 'entry_price': 4.754624, 'take_profit': 4.913111, 'stop_loss': 0, 'pnl': 107.604766, 'fee': 1.080312, 'funding_payment': 0.272328, '': '', '__1': ''}, {'user_type': 'USER', 'pair': 'ORAI_USDC', 'hash': '22764B7C851C935D1CB3F85722C39EE02447788ECB773063019274E0E92624A2', 'height': 14649921, 'time': '2023-12-02 07:29:42', 'order_id': 647, 'status': 'Close', 'direction': 'BUY', 'bidder_addr': 'orai1x9dvpscythaz0mw8zj5re6f3qdpk347epc272q', 'offer_amount': 571.919143, 'ask_amount': 128.600662, 'leverage': 3, 'margin_amount': 199.76, 'entry_price': 4.660007, 'take_profit': 4.706609, 'stop_loss': 4.613409, 'pnl': -27.360857, 'fee': 0.24, 'funding_payment': 0, '': '', '__1': ''}, {'user_type': 'BOT', 'pair': 'ORAI_USDC', 'hash': '62EB15D9712BD56ED7729E6571CBE7E8E7F41D4EBCF3DBD3A48E3EF1544A9AC1', 'height': 14652662, 'time': '2023-12-02 11:51:21', 'order_id': 648, 'status': 'Close', 'direction': 'BUY', 'bidder_addr': 'orai15vc7z4zyyam999zp6rwealm06lvuy9ykumwlpl', 'offer_amount': 4301.637106, 'ask_amount': 877.190644, 'leverage': 3, 'margin_amount': 1366.526823, 'entry_price': 4.673534, 'take_profit': 4.75144, 'stop_loss': 3.271483, 'pnl': 202.056637, 'fee': 1.641802, 'funding_payment': 3.55613, '': '', '__1': ''}, {'user_type': 'BOT', 'pair': 'ORAI_USDC', 'hash': '62EB15D9712BD56ED7729E6571CBE7E8E7F41D4EBCF3DBD3A48E3EF1544A9AC1', 'height': 14652662, 'time': '2023-12-02 11:51:21', 'order_id': 649, 'status': 'Close', 'direction': 'BUY', 'bidder_addr': 'orai15vc7z4zyyam999zp6rwealm06lvuy9ykumwlpl', 'offer_amount': 7345.672232, 'ask_amount': 1508.49602, 'leverage': 3, 'margin_amount': 2366.253839, 'entry_price': 4.705853, 'take_profit': 4.784309, 'stop_loss': 3.294114, 'pnl': 246.910715, 'fee': 2.842916, 'funding_payment': 6.115442, '': '', '__1': ''}, {'user_type': 'BOT', 'pair': 'ORAI_USDC', 'hash': '843721B12FFA67F83A53F4566380CBD6263C9480E5E7CE20798761B811E5BA5F', 'height': 14652697, 'time': '2023-12-02 11:54:41', 'order_id': 650, 'status': 'Close', 'direction': 'BUY', 'bidder_addr': 'orai15vc7z4zyyam999zp6rwealm06lvuy9ykumwlpl', 'offer_amount': 4967.822231, 'ask_amount': 1017.145441, 'leverage': 3, 'margin_amount': 1587.255311, 'entry_price': 4.681499, 'take_profit': 4.759541, 'stop_loss': 3.277061, 'pnl': 206.056298, 'fee': 1.906994, 'funding_payment': 4.123507, '': '', '__1': ''}, {'user_type': 'BOT', 'pair': 'ORAI_USDC', 'hash': '5631DCA0A056145F7DFBC6ACA930B7F56629B2492565AD246CDB32D46A129056', 'height': 14652774, 'time': '2023-12-02 12:02:02', 'order_id': 651, 'status': 'Close', 'direction': 'BUY', 'bidder_addr': 'orai15vc7z4zyyam999zp6rwealm06lvuy9ykumwlpl', 'offer_amount': 41445.3794, 'ask_amount': 8729.894901, 'leverage': 3, 'margin_amount': 13262.14281, 'entry_price': 4.557492, 'take_profit': 4.633586, 'stop_loss': 3.190338, 'pnl': 1658.950974, 'fee': 15.93369, 'funding_payment': 32.824404, '': '', '__1': ''}, {'user_type': 'USER', 'pair': 'ORAI_USDC', 'hash': '95A2757D8B1FD18DCC9026326EF4782AAA9F7BE0845F2A6C15A039FE65B574FF', 'height': 14649959, 'time': '2023-12-02 07:33:19', 'order_id': 652, 'status': 'Close', 'direction': 'SELL', 'bidder_addr': 'orai1x9dvpscythaz0mw8zj5re6f3qdpk347epc272q', 'offer_amount': 595.413693, 'ask_amount': 128.313653, 'leverage': 3, 'margin_amount': 199.76, 'entry_price': 4.67043, 'take_profit': 4.623724, 'stop_loss': 4.717132, 'pnl': 3.866307, 'fee': 0.24, 'funding_payment': 0, '': '', '__1': ''}, {'user_type': 'USER', 'pair': 'ORAI_USDC', 'hash': '367D29FE6F4C2B1EB7F022520F460C3FA836EAD6808572D911C87033F0E96669', 'height': 14650007, 'time': '2023-12-02 07:37:53', 'order_id': 653, 'status': 'Close', 'direction': 'SELL', 'bidder_addr': 'orai14c9p94ylg58wvetcj69ul9h2ew8ujga97wlmsl', 'offer_amount': 5435.17657, 'ask_amount': 1124.93483, 'leverage': 3, 'margin_amount': 1745.007214, 'entry_price': 4.653622, 'take_profit': 1e-06, 'stop_loss': 0, 'pnl': -200.154928, 'fee': 2.096524, 'funding_payment': 0, '': '', '__1': ''}, {'user_type': 'USER', 'pair': 'ORAI_USDC', 'hash': '94029540D0F7018B89FADBD248298E386BB2266B83C28A3A5D64DDF0A2B29695', 'height': 14649988, 'time': '2023-12-02 07:36:05', 'order_id': 654, 'status': 'Close', 'direction': 'BUY', 'bidder_addr': 'orai1x9dvpscythaz0mw8zj5re6f3qdpk347epc272q', 'offer_amount': 614.721494, 'ask_amount': 129.051407, 'leverage': 3, 'margin_amount': 199.76, 'entry_price': 4.64373, 'take_profit': 4.690169, 'stop_loss': 4.597295, 'pnl': 15.441494, 'fee': 0.24, 'funding_payment': 0, '': '', '__1': ''}, {'user_type': 'BOT', 'pair': 'ORAI_USDC', 'hash': '40BB508A43B8A581A48D6B90E34640E504A0FB2461400DF08CA9A00BDE6CE26C', 'height': 14652851, 'time': '2023-12-02 12:09:22', 'order_id': 655, 'status': 'Close', 'direction': 'BUY', 'bidder_addr': 'orai15vc7z4zyyam999zp6rwealm06lvuy9ykumwlpl', 'offer_amount': 5315.902006, 'ask_amount': 1095.032696, 'leverage': 3, 'margin_amount': 1700.993803, 'entry_price': 4.660117, 'take_profit': 4.737803, 'stop_loss': 3.262094, 'pnl': 212.920597, 'fee': 2.043644, 'funding_payment': 4.117322, '': '', '__1': ''}, {'user_type': 'BOT', 'pair': 'ORAI_USDC', 'hash': '40BB508A43B8A581A48D6B90E34640E504A0FB2461400DF08CA9A00BDE6CE26C', 'height': 14652851, 'time': '2023-12-02 12:09:22', 'order_id': 656, 'status': 'Close', 'direction': 'BUY', 'bidder_addr': 'orai15vc7z4zyyam999zp6rwealm06lvuy9ykumwlpl', 'offer_amount': 15834.74244, 'ask_amount': 3304.050184, 'leverage': 3, 'margin_amount': 5198.135773, 'entry_price': 4.719785, 'take_profit': 4.798502, 'stop_loss': 3.303887, 'pnl': 240.335117, 'fee': 6.245256, 'funding_payment': 12.423228, '': '', '__1': ''}, {'user_type': 'USER', 'pair': 'ORAI_USDC', 'hash': '4D36F803CD9D98175928D05E6BC82EB2B2432DFFD870DB7DBAEF1DC70E32907A', 'height': 14650019, 'time': '2023-12-02 07:39:02', 'order_id': 657, 'status': 'Close', 'direction': 'BUY', 'bidder_addr': 'orai1x9dvpscythaz0mw8zj5re6f3qdpk347epc272q', 'offer_amount': 615.884262, 'ask_amount': 125.810887, 'leverage': 3, 'margin_amount': 199.76, 'entry_price': 4.763339, 'take_profit': 4.810974, 'stop_loss': 4.715708, 'pnl': 16.604262, 'fee': 0.24, 'funding_payment': 0, '': '', '__1': ''}, {'user_type': 'BOT', 'pair': 'ORAI_USDC', 'hash': '0CA26F151CC8EF8E729E4947AF0BF22DEF852CA1330525FCC2088E30176C2541', 'height': 14652883, 'time': '2023-12-02 12:12:25', 'order_id': 658, 'status': 'Close', 'direction': 'BUY', 'bidder_addr': 'orai15vc7z4zyyam999zp6rwealm06lvuy9ykumwlpl', 'offer_amount': 8882.460074, 'ask_amount': 1808.427783, 'leverage': 3, 'margin_amount': 2887.635846, 'entry_price': 4.790297, 'take_profit': 4.870166, 'stop_loss': 3.353229, 'pnl': 219.552536, 'fee': 3.469326, 'funding_payment': 6.799688, '': '', '__1': ''}, {'user_type': 'BOT', 'pair': 'ORAI_USDC', 'hash': '670DF77624488C6E948DA563ECCE020DF53B19B6C24BC768B9BDE963B20F702D', 'height': 14652930, 'time': '2023-12-02 12:16:53', 'order_id': 659, 'status': 'Close', 'direction': 'BUY', 'bidder_addr': 'orai15vc7z4zyyam999zp6rwealm06lvuy9ykumwlpl', 'offer_amount': 8501.163432, 'ask_amount': 1730.579709, 'leverage': 3, 'margin_amount': 2810.609131, 'entry_price': 4.872256, 'take_profit': 4.953489, 'stop_loss': 3.410599, 'pnl': 69.336039, 'fee': 3.376782, 'funding_payment': 6.506979, '': '', '__1': ''}, {'user_type': 'USER', 'pair': 'ORAI_USDC', 'hash': 'FB56A0935810F7669886C81573C3B772A7625C111D147A23C75CB2DCDA5B4C2A', 'height': 14651402, 'time': '2023-12-02 09:51:15', 'order_id': 660, 'status': 'Close', 'direction': 'BUY', 'bidder_addr': 'orai1x9dvpscythaz0mw8zj5re6f3qdpk347epc272q', 'offer_amount': 583.199786, 'ask_amount': 122.420245, 'leverage': 3, 'margin_amount': 199.76, 'entry_price': 4.895268, 'take_profit': 4.944223, 'stop_loss': 4.846317, 'pnl': -16.080214, 'fee': 0.24, 'funding_payment': 0.806137, '': '', '__1': ''}, {'user_type': 'USER', 'pair': 'ORAI_USDC', 'hash': '17EB1EDB6269EC42F8DB2FFB15D5F492B051F4A2E660D0633F44BEB9BA709218', 'height': 14654003, 'time': '2023-12-02 13:59:17', 'order_id': 661, 'status': 'Close', 'direction': 'BUY', 'bidder_addr': 'orai14c9p94ylg58wvetcj69ul9h2ew8ujga97wlmsl', 'offer_amount': 4729.455159, 'ask_amount': 941.35977, 'leverage': 3, 'margin_amount': 1540.904456, 'entry_price': 4.910676, 'take_profit': 9.81427, 'stop_loss': 0, 'pnl': 106.741791, 'fee': 1.851306, 'funding_payment': 3.424666, '': '', '__1': ''}, {'user_type': 'BOT', 'pair': 'ORAI_USDC', 'hash': 'B423EA8FDFCDA89C1402C95F24CBF5AB22D3293A968F4543E34CF8B213E32DEF', 'height': 14654035, 'time': '2023-12-02 14:02:20', 'order_id': 662, 'status': 'Close', 'direction': 'BUY', 'bidder_addr': 'orai15vc7z4zyyam999zp6rwealm06lvuy9ykumwlpl', 'offer_amount': 6436.680928, 'ask_amount': 1275.498596, 'leverage': 3, 'margin_amount': 2101.600233, 'entry_price': 4.943008, 'take_profit': 5.025414, 'stop_loss': 3.460121, 'pnl': 131.880229, 'fee': 2.52495, 'funding_payment': 7.313708, '': '', '__1': ''}, {'user_type': 'USER', 'pair': 'ORAI_USDC', 'hash': 'A427239A14EF329FFC1815A16662CA75946F5FE998C6147EF81FEC41BEF1A2D9', 'height': 14653862, 'time': '2023-12-02 13:45:49', 'order_id': 663, 'status': 'Close', 'direction': 'BUY', 'bidder_addr': 'orai1g2ucrt0v7h762c2dtj30ytyr8497ugm5n0nxla', 'offer_amount': 4353.778749, 'ask_amount': 873.386179, 'leverage': 3, 'margin_amount': 1448.26, 'entry_price': 4.974637, 'take_profit': 5.136018, 'stop_loss': 0, 'pnl': 8.998749, 'fee': 1.74, 'funding_payment': 3.177378, '': '', '__1': ''}, {'user_type': 'BOT', 'pair': 'ORAI_USDC', 'hash': '1A09A2D5D84891469725964B59F9EFA0EECCE98857DAC78C738332A9F034BF43', 'height': 14654063, 'time': '2023-12-02 14:05:00', 'order_id': 664, 'status': 'Close', 'direction': 'BUY', 'bidder_addr': 'orai15vc7z4zyyam999zp6rwealm06lvuy9ykumwlpl', 'offer_amount': 10861.04388, 'ask_amount': 2174.517228, 'leverage': 3, 'margin_amount': 3562.34608, 'entry_price': 4.914671, 'take_profit': 4.99662, 'stop_loss': 3.440296, 'pnl': 174.005642, 'fee': 4.27995, 'funding_payment': 8.874204, '': '', '__1': ''}, {'user_type': 'BOT', 'pair': 'ORAI_USDC', 'hash': 'AF11BE264B2A4017BEBCE005C8367DCF40F80831595109D55FB0B0A80971AABE', 'height': 14654132, 'time': '2023-12-02 14:11:38', 'order_id': 665, 'status': 'Close', 'direction': 'BUY', 'bidder_addr': 'orai15vc7z4zyyam999zp6rwealm06lvuy9ykumwlpl', 'offer_amount': 6196.201401, 'ask_amount': 1244.380198, 'leverage': 3, 'margin_amount': 2032.39833, 'entry_price': 4.899784, 'take_profit': 4.981469, 'stop_loss': 3.429864, 'pnl': 99.006411, 'fee': 2.441808, 'funding_payment': 5.078315, '': '', '__1': ''}, {'user_type': 'BOT', 'pair': 'ORAI_USDC', 'hash': '728791397B593776C8674EFE3D60085DD4C99CAF6EBA1E301AA8FE2DD849F8BB', 'height': 14654288, 'time': '2023-12-02 14:26:31', 'order_id': 667, 'status': 'Close', 'direction': 'BUY', 'bidder_addr': 'orai15vc7z4zyyam999zp6rwealm06lvuy9ykumwlpl', 'offer_amount': 4898.683497, 'ask_amount': 975.919141, 'leverage': 3, 'margin_amount': 1594.014456, 'entry_price': 4.90004, 'take_profit': 4.981724, 'stop_loss': 3.430039, 'pnl': 116.640129, 'fee': 1.915114, 'funding_payment': 3.982726, '': '', '__1': ''}, {'user_type': 'BOT', 'pair': 'ORAI_USDC', 'hash': '728791397B593776C8674EFE3D60085DD4C99CAF6EBA1E301AA8FE2DD849F8BB', 'height': 14654288, 'time': '2023-12-02 14:26:31', 'order_id': 668, 'status': 'Close', 'direction': 'BUY', 'bidder_addr': 'orai15vc7z4zyyam999zp6rwealm06lvuy9ykumwlpl', 'offer_amount': 5558.716425, 'ask_amount': 1114.336251, 'leverage': 3, 'margin_amount': 1831.379732, 'entry_price': 4.930414, 'take_profit': 5.012606, 'stop_loss': 3.451303, 'pnl': 64.577229, 'fee': 2.200296, 'funding_payment': 4.547606, '': '', '__1': ''}, {'user_type': 'BOT', 'pair': 'ORAI_USDC', 'hash': '629A2E22F033EB3F380826C6A7F0CC0868EEF144E1E8AFD4806C5F67704EC81E', 'height': 14657868, 'time': '2023-12-02 20:08:21', 'order_id': 670, 'status': 'Close', 'direction': 'BUY', 'bidder_addr': 'orai15vc7z4zyyam999zp6rwealm06lvuy9ykumwlpl', 'offer_amount': 4444.771377, 'ask_amount': 885.153324, 'leverage': 3, 'margin_amount': 1438.190765, 'entry_price': 4.874378, 'take_profit': 4.955632, 'stop_loss': 3.412075, 'pnl': 130.199082, 'fee': 1.727902, 'funding_payment': 8.856844, '': '', '__1': ''}, {'user_type': 'BOT', 'pair': 'ORAI_USDC', 'hash': '629A2E22F033EB3F380826C6A7F0CC0868EEF144E1E8AFD4806C5F67704EC81E', 'height': 14657868, 'time': '2023-12-02 20:08:21', 'order_id': 671, 'status': 'Close', 'direction': 'BUY', 'bidder_addr': 'orai15vc7z4zyyam999zp6rwealm06lvuy9ykumwlpl', 'offer_amount': 10771.66266, 'ask_amount': 2164.694178, 'leverage': 3, 'margin_amount': 3458.029989, 'entry_price': 4.792404, 'take_profit': 4.872314, 'stop_loss': 3.354708, 'pnl': 397.572691, 'fee': 4.15462, 'funding_payment': 21.659929, '': '', '__1': ''}, {'user_type': 'USER', 'pair': 'ORAI_USDC', 'hash': '66F4740F64634C27E1E0416B37932D55A18AB8BF0DFDB4C687D932815D816EE7', 'height': 14652413, 'time': '2023-12-02 11:27:35', 'order_id': 672, 'status': 'Close', 'direction': 'BUY', 'bidder_addr': 'orai1x9dvpscythaz0mw8zj5re6f3qdpk347epc272q', 'offer_amount': 610.618327, 'ask_amount': 124.215062, 'leverage': 3, 'margin_amount': 199.76, 'entry_price': 4.824535, 'take_profit': 4.872782, 'stop_loss': 4.776292, 'pnl': 11.338327, 'fee': 0.24, 'funding_payment': -0.314388, '': '', '__1': ''}, {'user_type': 'BOT', 'pair': 'ORAI_USDC', 'hash': 'A83D71B8F1DD65A37918EC783C79ACE97BC1AC4FE5DB87F59B206B1FBCAE6A53', 'height': 14657954, 'time': '2023-12-02 20:16:34', 'order_id': 673, 'status': 'Close', 'direction': 'BUY', 'bidder_addr': 'orai15vc7z4zyyam999zp6rwealm06lvuy9ykumwlpl', 'offer_amount': 5280.288804, 'ask_amount': 1044.061628, 'leverage': 3, 'margin_amount': 1684.800963, 'entry_price': 4.841096, 'take_profit': 4.921799, 'stop_loss': 3.388779, 'pnl': 225.885915, 'fee': 2.02419, 'funding_payment': 13.0894, '': '', '__1': ''}, {'user_type': 'BOT', 'pair': 'ORAI_USDC', 'hash': '286316DA61D83CD7CF4C2F8346A080B418F1529292A2CC87AC7506F22F96D588', 'height': 14658211, 'time': '2023-12-02 20:41:09', 'order_id': 674, 'status': 'Close', 'direction': 'BUY', 'bidder_addr': 'orai15vc7z4zyyam999zp6rwealm06lvuy9ykumwlpl', 'offer_amount': 5383.314821, 'ask_amount': 1057.912808, 'leverage': 3, 'margin_amount': 1717.728744, 'entry_price': 4.871087, 'take_profit': 4.952291, 'stop_loss': 3.409774, 'pnl': 230.128589, 'fee': 2.06375, 'funding_payment': 13.263052, '': '', '__1': ''}, {'user_type': 'BOT', 'pair': 'ORAI_USDC', 'hash': '0E3F514646D16D9B47B8A3A01A9EC33A085E452AE3485B9E5C948138E61FDAF9', 'height': 14658317, 'time': '2023-12-02 20:51:17', 'order_id': 675, 'status': 'Close', 'direction': 'BUY', 'bidder_addr': 'orai15vc7z4zyyam999zp6rwealm06lvuy9ykumwlpl', 'offer_amount': 5475.919033, 'ask_amount': 1083.051696, 'leverage': 3, 'margin_amount': 1769.678818, 'entry_price': 4.901923, 'take_profit': 4.983641, 'stop_loss': 3.431359, 'pnl': 166.882579, 'fee': 2.126164, 'funding_payment': 13.578219, '': '', '__1': ''}, {'user_type': 'USER', 'pair': 'ORAI_USDC', 'hash': '1760CFBDD7048AF4CF403A23A818C264E1FD758DC959D00DAB8D444F931A5996', 'height': 14652775, 'time': '2023-12-02 12:02:08', 'order_id': 676, 'status': 'Close', 'direction': 'SELL', 'bidder_addr': 'orai1x9dvpscythaz0mw8zj5re6f3qdpk347epc272q', 'offer_amount': 564.878634, 'ask_amount': 121.997311, 'leverage': 3, 'margin_amount': 199.76, 'entry_price': 4.912239, 'take_profit': 4.863115, 'stop_loss': 4.961359, 'pnl': 34.401366, 'fee': 0.24, 'funding_payment': 0.035867, '': '', '__1': ''}, {'user_type': 'BOT', 'pair': 'ORAI_USDC', 'hash': 'B1A6B84BBB2DF9F90F74F33989810EB54AB808250342D31E7A8C5E9DFEE05F6E', 'height': 14658657, 'time': '2023-12-02 21:23:51', 'order_id': 677, 'status': 'Close', 'direction': 'BUY', 'bidder_addr': 'orai15vc7z4zyyam999zp6rwealm06lvuy9ykumwlpl', 'offer_amount': 6507.855597, 'ask_amount': 1279.834781, 'leverage': 3, 'margin_amount': 2078.922818, 'entry_price': 4.873104, 'take_profit': 4.954344, 'stop_loss': 3.411188, 'pnl': 271.087143, 'fee': 2.497704, 'funding_payment': 18.875003, '': '', '__1': ''}, {'user_type': 'BOT', 'pair': 'ORAI_USDC', 'hash': 'CDFA8043C6F76EAAF15859E3077978908E81489A35A0E0FDC4EE54CA61A5086E', 'height': 14658723, 'time': '2023-12-02 21:30:09', 'order_id': 678, 'status': 'Close', 'direction': 'BUY', 'bidder_addr': 'orai15vc7z4zyyam999zp6rwealm06lvuy9ykumwlpl', 'offer_amount': 4412.974468, 'ask_amount': 866.747297, 'leverage': 3, 'margin_amount': 1416.851698, 'entry_price': 4.90403, 'take_profit': 4.985779, 'stop_loss': 3.432831, 'pnl': 162.419374, 'fee': 1.702264, 'funding_payment': 12.782789, '': '', '__1': ''}, {'user_type': 'BOT', 'pair': 'ORAI_USDC', 'hash': 'CDFA8043C6F76EAAF15859E3077978908E81489A35A0E0FDC4EE54CA61A5086E', 'height': 14658723, 'time': '2023-12-02 21:30:09', 'order_id': 679, 'status': 'Close', 'direction': 'BUY', 'bidder_addr': 'orai15vc7z4zyyam999zp6rwealm06lvuy9ykumwlpl', 'offer_amount': 8940.112482, 'ask_amount': 1769.864128, 'leverage': 3, 'margin_amount': 2875.020197, 'entry_price': 4.873289, 'take_profit': 4.954542, 'stop_loss': 3.411324, 'pnl': 315.051891, 'fee': 3.454168, 'funding_payment': 26.101956, '': '', '__1': ''}, {'user_type': 'BOT', 'pair': 'ORAI_USDC', 'hash': 'CB3FCC65FA2735A2E746C8AC5F60E3A040E543EE3CF79B75BD95DF692045AA30', 'height': 14659042, 'time': '2023-12-02 22:00:38', 'order_id': 680, 'status': 'Close', 'direction': 'BUY', 'bidder_addr': 'orai15vc7z4zyyam999zp6rwealm06lvuy9ykumwlpl', 'offer_amount': 37816.28239, 'ask_amount': 7625.294955, 'leverage': 3, 'margin_amount': 12036.51462, 'entry_price': 4.735494, 'take_profit': 4.814545, 'stop_loss': 3.314933, 'pnl': 1706.73853, 'fee': 14.46117, 'funding_payment': 115.111452, '': '', '__1': ''}, {'user_type': 'USER', 'pair': 'ORAI_USDC', 'hash': '25DBFA76D64D185B473F344ABEFCE2385583F5DFAFCFB307B1E6E4C938D5C4A6', 'height': 14652853, 'time': '2023-12-02 12:09:34', 'order_id': 681, 'status': 'Close', 'direction': 'BUY', 'bidder_addr': 'orai1x9dvpscythaz0mw8zj5re6f3qdpk347epc272q', 'offer_amount': 587.108226, 'ask_amount': 123.736632, 'leverage': 3, 'margin_amount': 199.76, 'entry_price': 4.843189, 'take_profit': 4.891623, 'stop_loss': 4.794759, 'pnl': -12.171774, 'fee': 0.24, 'funding_payment': 0, '': '', '__1': ''}, {'user_type': 'BOT', 'pair': 'ORAI_USDC', 'hash': '526C01ABAEFC809E332F60B16A3A2A9082DEF51AB095EAC5FE9281CA3D8318E4', 'height': 14659520, 'time': '2023-12-02 22:46:14', 'order_id': 682, 'status': 'Close', 'direction': 'BUY', 'bidder_addr': 'orai15vc7z4zyyam999zp6rwealm06lvuy9ykumwlpl', 'offer_amount': 4438.079805, 'ask_amount': 884.550266, 'leverage': 3, 'margin_amount': 1432.251669, 'entry_price': 4.857558, 'take_profit': 4.938533, 'stop_loss': 3.400301, 'pnl': 141.324798, 'fee': 1.720766, 'funding_payment': 13.35317, '': '', '__1': ''}, {'user_type': 'BOT', 'pair': 'ORAI_USDC', 'hash': 'FB7CB63BCBACB954E26FAC1B4BF393A21EA4040A842466EA15882B411E39A501', 'height': 14657804, 'time': '2023-12-02 20:02:11', 'order_id': 683, 'status': 'Close', 'direction': 'BUY', 'bidder_addr': 'orai15vc7z4zyyam999zp6rwealm06lvuy9ykumwlpl', 'offer_amount': 19820.174, 'ask_amount': 3920.853802, 'leverage': 3, 'margin_amount': 6270.413907, 'entry_price': 4.797741, 'take_profit': 4.877769, 'stop_loss': 3.358464, 'pnl': 1008.932275, 'fee': 7.533536, 'funding_payment': 50.308475, '': '', '__1': ''}, {'user_type': 'USER', 'pair': 'ORAI_USDC', 'hash': '54E05F1CD801FCF4408203EEC385046F54770F75921BD1EA0D9232BEDEDAB14E', 'height': 14652881, 'time': '2023-12-02 12:12:13', 'order_id': 684, 'status': 'Close', 'direction': 'SELL', 'bidder_addr': 'orai1x9dvpscythaz0mw8zj5re6f3qdpk347epc272q', 'offer_amount': 609.777626, 'ask_amount': 123.531441, 'leverage': 3, 'margin_amount': 199.76, 'entry_price': 4.851234, 'take_profit': 4.80272, 'stop_loss': 4.899744, 'pnl': -10.497626, 'fee': 0.24, 'funding_payment': 0, '': '', '__1': ''}, {'user_type': 'BOT', 'pair': 'ORAI_USDC', 'hash': 'F3C73A73AA52DB294E5ECC1507C327120A5B1E6865C526951E762C3AC11EC91E', 'height': 14659772, 'time': '2023-12-02 23:10:21', 'order_id': 685, 'status': 'Close', 'direction': 'BUY', 'bidder_addr': 'orai15vc7z4zyyam999zp6rwealm06lvuy9ykumwlpl', 'offer_amount': 7207.187108, 'ask_amount': 1418.118666, 'leverage': 3, 'margin_amount': 2301.962105, 'entry_price': 4.869752, 'take_profit': 4.950938, 'stop_loss': 3.408843, 'pnl': 301.300793, 'fee': 2.765672, 'funding_payment': 17.672594, '': '', '__1': ''}, {'user_type': 'BOT', 'pair': 'ORAI_USDC', 'hash': '025566130100D9764F2E9A2BA2722183265B1A2C656FA1E8C010F8B48C70C4D6', 'height': 14659862, 'time': '2023-12-02 23:18:58', 'order_id': 686, 'status': 'Close', 'direction': 'BUY', 'bidder_addr': 'orai15vc7z4zyyam999zp6rwealm06lvuy9ykumwlpl', 'offer_amount': 7731.223991, 'ask_amount': 1525.666085, 'leverage': 3, 'margin_amount': 2498.13125, 'entry_price': 4.912211, 'take_profit': 4.994107, 'stop_loss': 3.438565, 'pnl': 236.830241, 'fee': 3.001358, 'funding_payment': 19.01285, '': '', '__1': ''}, {'user_type': 'USER', 'pair': 'ORAI_USDC', 'hash': '2CD609C717B6888A692AF154BA441C31DFAB42A640D59FE72D36CC65E2189692', 'height': 14653758, 'time': '2023-12-02 13:35:52', 'order_id': 687, 'status': 'Close', 'direction': 'BUY', 'bidder_addr': 'orai1x9dvpscythaz0mw8zj5re6f3qdpk347epc272q', 'offer_amount': 610.253854, 'ask_amount': 122.620061, 'leverage': 3, 'margin_amount': 199.76, 'entry_price': 4.887291, 'take_profit': 4.936166, 'stop_loss': 4.83842, 'pnl': 10.973854, 'fee': 0.24, 'funding_payment': -0.014959, '': '', '__1': ''}, {'user_type': 'BOT', 'pair': 'ORAI_USDC', 'hash': '59A457070F4A95C63E66ED333BFFA1980425654A8EF2AA984DA72BDD451A69E4', 'height': 14659960, 'time': '2023-12-02 23:28:23', 'order_id': 688, 'status': 'Close', 'direction': 'BUY', 'bidder_addr': 'orai15vc7z4zyyam999zp6rwealm06lvuy9ykumwlpl', 'offer_amount': 4536.147576, 'ask_amount': 893.227836, 'leverage': 3, 'margin_amount': 1459.5245, 'entry_price': 4.901967, 'take_profit': 4.983681, 'stop_loss': 3.431387, 'pnl': 157.574076, 'fee': 1.753532, 'funding_payment': 11.131405, '': '', '__1': ''}, {'user_type': 'BOT', 'pair': 'ORAI_USDC', 'hash': '59A457070F4A95C63E66ED333BFFA1980425654A8EF2AA984DA72BDD451A69E4', 'height': 14659960, 'time': '2023-12-02 23:28:23', 'order_id': 690, 'status': 'Close', 'direction': 'BUY', 'bidder_addr': 'orai15vc7z4zyyam999zp6rwealm06lvuy9ykumwlpl', 'offer_amount': 11090.22699, 'ask_amount': 2204.16478, 'leverage': 3, 'margin_amount': 3604.157256, 'entry_price': 4.905473, 'take_profit': 4.987269, 'stop_loss': 3.433857, 'pnl': 277.755224, 'fee': 4.330184, 'funding_payment': 27.468301, '': '', '__1': ''}, {'user_type': 'BOT', 'pair': 'ORAI_USDC', 'hash': '80056869C8EDDDA0E2D93D26E98523B8D34B98043AAC278ACEAC3F66A9F73BB0', 'height': 14660389, 'time': '2023-12-03 00:09:27', 'order_id': 691, 'status': 'Close', 'direction': 'BUY', 'bidder_addr': 'orai15vc7z4zyyam999zp6rwealm06lvuy9ykumwlpl', 'offer_amount': 4280.076479, 'ask_amount': 852.368071, 'leverage': 3, 'margin_amount': 1392.079859, 'entry_price': 4.899572, 'take_profit': 4.981246, 'stop_loss': 3.42971, 'pnl': 103.836902, 'fee': 1.672502, 'funding_payment': 9.294221, '': '', '__1': ''}, {'user_type': 'BOT', 'pair': 'ORAI_USDC', 'hash': '80056869C8EDDDA0E2D93D26E98523B8D34B98043AAC278ACEAC3F66A9F73BB0', 'height': 14660389, 'time': '2023-12-03 00:09:27', 'order_id': 692, 'status': 'Close', 'direction': 'BUY', 'bidder_addr': 'orai15vc7z4zyyam999zp6rwealm06lvuy9ykumwlpl', 'offer_amount': 5655.689738, 'ask_amount': 1133.008228, 'leverage': 3, 'margin_amount': 1861.311485, 'entry_price': 4.928414, 'take_profit': 5.010574, 'stop_loss': 3.449903, 'pnl': 71.755283, 'fee': 2.236256, 'funding_payment': 12.492548, '': '', '__1': ''}, {'user_type': 'BOT', 'pair': 'ORAI_USDC', 'hash': '494E0663BC1906F15B211DF12B80D9DA0C7226D96E4D3A3BFEEC141B5E77B3A0', 'height': 14660433, 'time': '2023-12-03 00:13:38', 'order_id': 694, 'status': 'Close', 'direction': 'BUY', 'bidder_addr': 'orai15vc7z4zyyam999zp6rwealm06lvuy9ykumwlpl', 'offer_amount': 5716.570653, 'ask_amount': 1135.474362, 'leverage': 3, 'margin_amount': 1878.014213, 'entry_price': 4.96184, 'take_profit': 5.044557, 'stop_loss': 3.473302, 'pnl': 82.528014, 'fee': 2.256324, 'funding_payment': 12.51974, '': '', '__1': ''}, {'user_type': 'USER', 'pair': 'ORAI_USDC', 'hash': 'CE23A0E9F007BEF6967B97C3D3934F82140E94A607DCF02E3BDD9B77039F327B', 'height': 14653992, 'time': '2023-12-02 13:58:14', 'order_id': 695, 'status': 'Close', 'direction': 'SELL', 'bidder_addr': 'orai1x9dvpscythaz0mw8zj5re6f3qdpk347epc272q', 'offer_amount': 606.897701, 'ask_amount': 120.502149, 'leverage': 3, 'margin_amount': 199.76, 'entry_price': 4.973189, 'take_profit': 4.923455, 'stop_loss': 5.022919, 'pnl': -7.617701, 'fee': 0.24, 'funding_payment': 0, '': '', '__1': ''}, {'user_type': 'BOT', 'pair': 'ORAI_USDC', 'hash': '83D1E6ACEC7DF3CE7CF3EFB50692CE91CE984D436B2F829DDFA3475255F7044A', 'height': 14660856, 'time': '2023-12-03 00:54:05', 'order_id': 696, 'status': 'Close', 'direction': 'BUY', 'bidder_addr': 'orai15vc7z4zyyam999zp6rwealm06lvuy9ykumwlpl', 'offer_amount': 4476.836434, 'ask_amount': 893.324521, 'leverage': 3, 'margin_amount': 1484.302085, 'entry_price': 4.984645, 'take_profit': 5.067738, 'stop_loss': 3.489262, 'pnl': 23.930179, 'fee': 1.783302, 'funding_payment': 9.849796, '': '', '__1': ''}, {'user_type': 'USER', 'pair': 'ORAI_USDC', 'hash': '6E81790A8B75D78A3682CC2CD161DDE8D7325ABA82E77168D1CC9A53612AA025', 'height': 14654135, 'time': '2023-12-02 14:11:56', 'order_id': 699, 'status': 'Close', 'direction': 'BUY', 'bidder_addr': 'orai1x9dvpscythaz0mw8zj5re6f3qdpk347epc272q', 'offer_amount': 592.995558, 'ask_amount': 119.575199, 'leverage': 3, 'margin_amount': 199.76, 'entry_price': 5.011741, 'take_profit': 5.06186, 'stop_loss': 4.961626, 'pnl': -6.284442, 'fee': 0.24, 'funding_payment': 0.250629, '': '', '__1': ''}, {'user_type': 'USER', 'pair': 'ORAI_USDC', 'hash': '29E9F0CDBC9444FF62AFA87F96C30DE839F0803B5FC2767E5B5AA3913EC8FBC2', 'height': 14654284, 'time': '2023-12-02 14:26:08', 'order_id': 703, 'status': 'Close', 'direction': 'BUY', 'bidder_addr': 'orai1x9dvpscythaz0mw8zj5re6f3qdpk347epc272q', 'offer_amount': 608.997947, 'ask_amount': 120.841977, 'leverage': 3, 'margin_amount': 199.76, 'entry_price': 4.959203, 'take_profit': 5.008798, 'stop_loss': 4.909614, 'pnl': 9.717947, 'fee': 0.24, 'funding_payment': 0, '': '', '__1': ''}, {'user_type': 'USER', 'pair': 'ORAI_USDC', 'hash': '879FE6ED6F07D36C4ACD5C88ADDB8AD8195CFDA6083DC175C7C5C5F5C6B390F1', 'height': 14654711, 'time': '2023-12-02 15:06:52', 'order_id': 706, 'status': 'Close', 'direction': 'BUY', 'bidder_addr': 'orai1g2ucrt0v7h762c2dtj30ytyr8497ugm5n0nxla', 'offer_amount': 4498.992051, 'ask_amount': 875.99066, 'leverage': 3, 'margin_amount': 1468.236, 'entry_price': 5.028259, 'take_profit': 5.166911, 'stop_loss': 0, 'pnl': 94.284051, 'fee': 1.764, 'funding_payment': 3.639741, '': '', '__1': ''}, {'user_type': 'USER', 'pair': 'ORAI_USDC', 'hash': '5B8E36BEE8C6DB73EBE95520E469BF1A160D28C21A8D5AD15878B20C5CC226FA', 'height': 14654679, 'time': '2023-12-02 15:03:49', 'order_id': 707, 'status': 'Close', 'direction': 'SELL', 'bidder_addr': 'orai1x9dvpscythaz0mw8zj5re6f3qdpk347epc272q', 'offer_amount': 612.996794, 'ask_amount': 118.999052, 'leverage': 3, 'margin_amount': 199.76, 'entry_price': 5.036006, 'take_profit': 4.985644, 'stop_loss': 5.086364, 'pnl': -13.716794, 'fee': 0.24, 'funding_payment': -0.494441, '': '', '__1': ''}, {'user_type': 'USER', 'pair': 'ORAI_USDC', 'hash': '9110581FCA493E9A51D90A8353D616C6AAD5438740F454D6154F8346DD334A48', 'height': 14655688, 'time': '2023-12-02 16:40:08', 'order_id': 712, 'status': 'Close', 'direction': 'SELL', 'bidder_addr': 'orai1x9dvpscythaz0mw8zj5re6f3qdpk347epc272q', 'offer_amount': 577.711453, 'ask_amount': 116.335319, 'leverage': 3, 'margin_amount': 199.76, 'entry_price': 5.151316, 'take_profit': 5.0998, 'stop_loss': 5.202826, 'pnl': 21.568547, 'fee': 0.24, 'funding_payment': -0.323412, '': '', '__1': ''}, {'user_type': 'USER', 'pair': 'ORAI_USDC', 'hash': 'A43F71AC17109D92BD8AF0D6DEFDF8200C284C17E3F111396FE012A17C82E9DC', 'height': 14657833, 'time': '2023-12-02 20:05:01', 'order_id': 713, 'status': 'Close', 'direction': 'SELL', 'bidder_addr': 'orai18vyspza5ndpg5wss0u7mqs7g50zekjrjvc2dys', 'offer_amount': 1295.891034, 'ask_amount': 258.728115, 'leverage': 3, 'margin_amount': 441.417572, 'entry_price': 5.118317, 'take_profit': 4.8, 'stop_loss': 0, 'pnl': 28.361682, 'fee': 0.530336, 'funding_payment': -1.733995, '': '', '__1': ''}, {'user_type': 'USER', 'pair': 'ORAI_USDC', 'hash': '72B752B00E1B86962F873698F316D94F4301D7A7D450B6B034514B1E6419191D', 'height': 14655693, 'time': '2023-12-02 16:40:36', 'order_id': 714, 'status': 'Close', 'direction': 'SELL', 'bidder_addr': 'orai1hvhkk0jrdu6dz2qwum2v2arc8rtucha79jkfdn', 'offer_amount': 304.18302, 'ask_amount': 61.177979, 'leverage': 3, 'margin_amount': 104.264075, 'entry_price': 5.112823, 'take_profit': 4.91, 'stop_loss': 5.3, 'pnl': 8.609205, 'fee': 0.125266, 'funding_payment': 0, '': '', '__1': ''}, {'user_type': 'USER', 'pair': 'ORAI_USDC', 'hash': '31F71A519DAE8B6A19631C85880013E08127F72C729A35E8E021AAAAE4FAF86D', 'height': 14657837, 'time': '2023-12-02 20:05:24', 'order_id': 715, 'status': 'Close', 'direction': 'SELL', 'bidder_addr': 'orai18vyspza5ndpg5wss0u7mqs7g50zekjrjvc2dys', 'offer_amount': 1317.441701, 'ask_amount': 262.62172, 'leverage': 3, 'margin_amount': 447.142979, 'entry_price': 5.107836, 'take_profit': 4.7, 'stop_loss': 0, 'pnl': 23.987236, 'fee': 0.537216, 'funding_payment': -1.030002, '': '', '__1': ''}, {'user_type': 'USER', 'pair': 'ORAI_USDC', 'hash': 'E426B470445EEEA8CBD826F0B062F15D9D922D1DD0B2B881751A090871C91F13', 'height': 14656851, 'time': '2023-12-02 18:31:12', 'order_id': 716, 'status': 'Close', 'direction': 'SELL', 'bidder_addr': 'orai16kn05tue27qkvxtzlv4d796mdhen63fyxf7mee', 'offer_amount': 23546.74755, 'ask_amount': 4635.405584, 'leverage': 3, 'margin_amount': 7777.460055, 'entry_price': 5.033514, 'take_profit': 4.194595, 'stop_loss': 5.3, 'pnl': -214.367386, 'fee': 9.344164, 'funding_payment': -16.35371, '': '', '__1': ''}, {'user_type': 'USER', 'pair': 'ORAI_USDC', 'hash': 'B081EBCFF66C542F44517D3A461A0346B717CBD865D8EB6B8286CD110B97D329', 'height': 14656853, 'time': '2023-12-02 18:31:23', 'order_id': 717, 'status': 'Close', 'direction': 'BUY', 'bidder_addr': 'orai1x9dvpscythaz0mw8zj5re6f3qdpk347epc272q', 'offer_amount': 620.953333, 'ask_amount': 120.593695, 'leverage': 3, 'margin_amount': 199.76, 'entry_price': 4.969414, 'take_profit': 5.01911, 'stop_loss': 4.919722, 'pnl': 21.673333, 'fee': 0.24, 'funding_payment': 0.425454, '': '', '__1': ''}, {'user_type': 'USER', 'pair': 'ORAI_USDC', 'hash': '4AEA6A96DD71FF62E338D40E4038B27D10CFFA8D13DF625862C4883E3C2DADF6', 'height': 14656554, 'time': '2023-12-02 18:02:47', 'order_id': 718, 'status': 'Close', 'direction': 'BUY', 'bidder_addr': 'orai1g2ucrt0v7h762c2dtj30ytyr8497ugm5n0nxla', 'offer_amount': 4644.419998, 'ask_amount': 929.699754, 'leverage': 3, 'margin_amount': 1548.14, 'entry_price': 4.995612, 'take_profit': 5.162132, 'stop_loss': 0, 'pnl': -2e-06, 'fee': 1.86, 'funding_payment': 0.663805, '': '', '__1': ''}, {'user_type': 'USER', 'pair': 'ORAI_USDC', 'hash': 'D83073BC36F63EBC447EC9072AB51D397D35C92602F90FE46ED83A4F4415D9E0', 'height': 14656987, 'time': '2023-12-02 18:44:10', 'order_id': 719, 'status': 'Close', 'direction': 'BUY', 'bidder_addr': 'orai1g2ucrt0v7h762c2dtj30ytyr8497ugm5n0nxla', 'offer_amount': 4767.283697, 'ask_amount': 929.699754, 'leverage': 3, 'margin_amount': 1548.14, 'entry_price': 4.995612, 'take_profit': 5.862132, 'stop_loss': 0, 'pnl': 122.863697, 'fee': 1.86, 'funding_payment': 0, '': '', '__1': ''}, {'user_type': 'USER', 'pair': 'ORAI_USDC', 'hash': '7076E5FFE8278AA56D65AC90B857B7F6A2B4BFCF4BE450A31B99BDEF561DA3DE', 'height': 14657805, 'time': '2023-12-02 20:02:17', 'order_id': 722, 'status': 'Close', 'direction': 'SELL', 'bidder_addr': 'orai1x9dvpscythaz0mw8zj5re6f3qdpk347epc272q', 'offer_amount': 582.076168, 'ask_amount': 116.468067, 'leverage': 3, 'margin_amount': 199.76, 'entry_price': 5.145444, 'take_profit': 5.093988, 'stop_loss': 5.196896, 'pnl': 17.203832, 'fee': 0.24, 'funding_payment': -0.045888, '': '', '__1': ''}, {'user_type': 'USER', 'pair': 'ORAI_USDC', 'hash': '8AC045F94C671EB5315A9D4F617A7E04CF8ECAC2C6BCD64B0897E89EBCB25391', 'height': 14657003, 'time': '2023-12-02 18:45:40', 'order_id': 723, 'status': 'Close', 'direction': 'SELL', 'bidder_addr': 'orai1hvhkk0jrdu6dz2qwum2v2arc8rtucha79jkfdn', 'offer_amount': 53.947061, 'ask_amount': 10.549813, 'leverage': 1, 'margin_amount': 54.262626, 'entry_price': 5.143468, 'take_profit': 4.629121, 'stop_loss': 0, 'pnl': 0.315565, 'fee': 0.021712, 'funding_payment': 0, '': '', '__1': ''}, {'user_type': 'USER', 'pair': 'ORAI_USDC', 'hash': '7EB65AC8B044B624711E103644FB3E310E1B51ED4D772AC4A8BA81276E29E1BF', 'height': 14657018, 'time': '2023-12-02 18:47:06', 'order_id': 724, 'status': 'Close', 'direction': 'SELL', 'bidder_addr': 'orai1hvhkk0jrdu6dz2qwum2v2arc8rtucha79jkfdn', 'offer_amount': 184.748462, 'ask_amount': 36.124071, 'leverage': 3, 'margin_amount': 61.9256, 'entry_price': 5.142742, 'take_profit': 4.971317, 'stop_loss': 0, 'pnl': 1.028338, 'fee': 0.0744, 'funding_payment': 0, '': '', '__1': ''}, {'user_type': 'USER', 'pair': 'ORAI_USDC', 'hash': 'B2B554D5C593E6D7085A1A649890E25EAE832F473B3F2B9B9F8420E3EEF13F7D', 'height': 14657870, 'time': '2023-12-02 20:08:33', 'order_id': 725, 'status': 'Close', 'direction': 'BUY', 'bidder_addr': 'orai1x9dvpscythaz0mw8zj5re6f3qdpk347epc272q', 'offer_amount': 888.723697, 'ask_amount': 179.849084, 'leverage': 3, 'margin_amount': 299.877318, 'entry_price': 5.002149, 'take_profit': 5.052174, 'stop_loss': 4.95213, 'pnl': -10.908257, 'fee': 0.360284, 'funding_payment': 0, '': '', '__1': ''}, {'user_type': 'USER', 'pair': 'ORAI_USDC', 'hash': '6864CABDE4B0EFF6B33F4B86AFDE85F2248CA2F5FA2AF90A68BE684424DA1FA3', 'height': 14657960, 'time': '2023-12-02 20:17:08', 'order_id': 726, 'status': 'Close', 'direction': 'BUY', 'bidder_addr': 'orai18vyspza5ndpg5wss0u7mqs7g50zekjrjvc2dys', 'offer_amount': 2400.389909, 'ask_amount': 476.792421, 'leverage': 3, 'margin_amount': 799.04, 'entry_price': 5.027596, 'take_profit': 5.195182, 'stop_loss': 0, 'pnl': 3.269909, 'fee': 0.96, 'funding_payment': 0, '': '', '__1': ''}, {'user_type': 'USER', 'pair': 'ORAI_USDC', 'hash': '88169D1652BF6EBF9AC01078F9AAF3D92B7E78C2BCC75B1163988A65BB3E8DA2', 'height': 14658096, 'time': '2023-12-02 20:30:08', 'order_id': 728, 'status': 'Close', 'direction': 'BUY', 'bidder_addr': 'orai1x9dvpscythaz0mw8zj5re6f3qdpk347epc272q', 'offer_amount': 607.897281, 'ask_amount': 119.611033, 'leverage': 3, 'margin_amount': 199.76, 'entry_price': 5.01024, 'take_profit': 5.060344, 'stop_loss': 4.96014, 'pnl': 8.617281, 'fee': 0.24, 'funding_payment': 0, '': '', '__1': ''}, {'user_type': 'USER', 'pair': 'ORAI_USDC', 'hash': '234AC7F909F50FFDCDE89D63C3CBB522C53FE48E3D4CCFE950BD53398BA2B5DE', 'height': 14658386, 'time': '2023-12-02 20:57:51', 'order_id': 730, 'status': 'Close', 'direction': 'BUY', 'bidder_addr': 'orai1g2ucrt0v7h762c2dtj30ytyr8497ugm5n0nxla', 'offer_amount': 5015.135117, 'ask_amount': 992.237578, 'leverage': 3, 'margin_amount': 1672.99, 'entry_price': 5.058234, 'take_profit': 5.526841, 'stop_loss': 0, 'pnl': -3.834883, 'fee': 2.01, 'funding_payment': 0, '': '', '__1': ''}, {'user_type': 'USER', 'pair': 'ORAI_USDC', 'hash': 'CC9C2D0BE893A67A86E38B7FEF6AB4A8D9C70F31A1C5A281545697C3F955A06E', 'height': 14658729, 'time': '2023-12-02 21:30:44', 'order_id': 732, 'status': 'Close', 'direction': 'SELL', 'bidder_addr': 'orai18vyspza5ndpg5wss0u7mqs7g50zekjrjvc2dys', 'offer_amount': 2414.332932, 'ask_amount': 475.054052, 'leverage': 3, 'margin_amount': 799.04, 'entry_price': 5.045994, 'take_profit': 4.877794, 'stop_loss': 0, 'pnl': -17.212932, 'fee': 0.96, 'funding_payment': -1.050344, '': '', '__1': ''}, {'user_type': 'USER', 'pair': 'ORAI_USDC', 'hash': '0B9FDC2FD892F905720CAC48103635F8A62694D895140F1A619DF5079C0F3E11', 'height': 14659044, 'time': '2023-12-02 22:00:50', 'order_id': 734, 'status': 'Close', 'direction': 'SELL', 'bidder_addr': 'orai1x9dvpscythaz0mw8zj5re6f3qdpk347epc272q', 'offer_amount': 572.296014, 'ask_amount': 117.999714, 'leverage': 3, 'margin_amount': 199.76, 'entry_price': 5.078656, 'take_profit': 5.027867, 'stop_loss': 5.129441, 'pnl': 26.983986, 'fee': 0.24, 'funding_payment': -0.267269, '': '', '__1': ''}, {'user_type': 'USER', 'pair': 'ORAI_USDC', 'hash': 'C820162FA6254BE306B15F8D9AA1E29ACC5D70728397223477279BED69DC9A78', 'height': 14659218, 'time': '2023-12-02 22:17:25', 'order_id': 741, 'status': 'Close', 'direction': 'SELL', 'bidder_addr': 'orai18vyspza5ndpg5wss0u7mqs7g50zekjrjvc2dys', 'offer_amount': 2739.532707, 'ask_amount': 543.633632, 'leverage': 3, 'margin_amount': 920.766989, 'entry_price': 5.081181, 'take_profit': 4.911808, 'stop_loss': 0, 'pnl': 22.76826, 'fee': 1.106246, 'funding_payment': -0.029356, '': '', '__1': ''}, {'user_type': 'USER', 'pair': 'ORAI_USDC', 'hash': '171D5DF6956102D77C6E145EBD78EA7C363D36269378D1CEE51483FC5B667FF0', 'height': 14659721, 'time': '2023-12-02 23:05:27', 'order_id': 743, 'status': 'Close', 'direction': 'SELL', 'bidder_addr': 'orai1x9dvpscythaz0mw8zj5re6f3qdpk347epc272q', 'offer_amount': 994.151135, 'ask_amount': 195.033939, 'leverage': 3, 'margin_amount': 327.269727, 'entry_price': 5.034042, 'take_profit': 4.983699, 'stop_loss': 5.084379, 'pnl': -12.341954, 'fee': 0.393194, 'funding_payment': 0.513719, '': '', '__1': ''}, {'user_type': 'USER', 'pair': 'ORAI_USDC', 'hash': '47E4A3B3B4E3A48C3DABFA9D755F646730F899A960C2F6375C5BE8C30EEAB5A5', 'height': 14659591, 'time': '2023-12-02 22:52:59', 'order_id': 744, 'status': 'Close', 'direction': 'SELL', 'bidder_addr': 'orai18vyspza5ndpg5wss0u7mqs7g50zekjrjvc2dys', 'offer_amount': 2809.088431, 'ask_amount': 560.419952, 'leverage': 3, 'margin_amount': 941.327409, 'entry_price': 5.039046, 'take_profit': 4.95, 'stop_loss': 0, 'pnl': 14.893796, 'fee': 1.13095, 'funding_payment': 0, '': '', '__1': ''}, {'user_type': 'USER', 'pair': 'ORAI_USDC', 'hash': '7D0A1C47C6F89D149248983D092A022F89CBBCCBB75EEE2E119814E1E97EBAB3', 'height': 14660409, 'time': '2023-12-03 00:11:21', 'order_id': 746, 'status': 'Close', 'direction': 'SELL', 'bidder_addr': 'orai18vyspza5ndpg5wss0u7mqs7g50zekjrjvc2dys', 'offer_amount': 2855.391882, 'ask_amount': 564.302928, 'leverage': 3, 'margin_amount': 948.86, 'entry_price': 5.044418, 'take_profit': 4.87627, 'stop_loss': 0, 'pnl': -8.811882, 'fee': 1.14, 'funding_payment': 0.879183, '': '', '__1': ''}, {'user_type': 'USER', 'pair': 'ORAI_USDC', 'hash': 'D9E4ABFB4949C1E31511E811795F76E967CA97C0CA1E20DA9971B4D2A21E81BA', 'height': 14659866, 'time': '2023-12-02 23:19:21', 'order_id': 749, 'status': 'Close', 'direction': 'BUY', 'bidder_addr': 'orai1x9dvpscythaz0mw8zj5re6f3qdpk347epc272q', 'offer_amount': 592.278888, 'ask_amount': 117.457013, 'leverage': 3, 'margin_amount': 199.76, 'entry_price': 5.102121, 'take_profit': 5.153145, 'stop_loss': 5.051103, 'pnl': -7.001112, 'fee': 0.24, 'funding_payment': 0, '': '', '__1': ''}, {'user_type': 'USER', 'pair': 'ORAI_USDC', 'hash': '1608A228832BCFD972229EC8141509E42B38084D599400ADC81F797BF98F13D2', 'height': 14660391, 'time': '2023-12-03 00:09:39', 'order_id': 751, 'status': 'Close', 'direction': 'BUY', 'bidder_addr': 'orai1x9dvpscythaz0mw8zj5re6f3qdpk347epc272q', 'offer_amount': 591.035948, 'ask_amount': 118.844935, 'leverage': 3, 'margin_amount': 199.76, 'entry_price': 5.042537, 'take_profit': 5.092964, 'stop_loss': 4.992114, 'pnl': -8.244052, 'fee': 0.24, 'funding_payment': -0.18516, '': '', '__1': ''}, {'user_type': 'USER', 'pair': 'ORAI_USDC', 'hash': '3AF9348E3828377E059F043327753ED0F96B616E55A400F94DB4C122734988E5', 'height': 14661077, 'time': '2023-12-03 01:15:09', 'order_id': 755, 'status': 'Close', 'direction': 'BUY', 'bidder_addr': 'orai1x9dvpscythaz0mw8zj5re6f3qdpk347epc272q', 'offer_amount': 607.806985, 'ask_amount': 119.643299, 'leverage': 3, 'margin_amount': 199.76, 'entry_price': 5.008888, 'take_profit': 5.05898, 'stop_loss': 4.958802, 'pnl': 8.526985, 'fee': 0.24, 'funding_payment': -0.069991, '': '', '__1': ''}, {'user_type': 'USER', 'pair': 'ORAI_USDC', 'hash': '44DAC798F263887AF571A962752C160DE48BC948E1A2286BD1331CA493191473', 'height': 14660444, 'time': '2023-12-03 00:14:41', 'order_id': 757, 'status': 'Close', 'direction': 'SELL', 'bidder_addr': 'orai18vyspza5ndpg5wss0u7mqs7g50zekjrjvc2dys', 'offer_amount': 2806.8119, 'ask_amount': 558.477103, 'leverage': 3, 'margin_amount': 941.987448, 'entry_price': 5.060122, 'take_profit': 4.891451, 'stop_loss': 0, 'pnl': 19.150444, 'fee': 1.131742, 'funding_payment': 0, '': '', '__1': ''}, {'user_type': 'USER', 'pair': 'ORAI_USDC', 'hash': 'E5C1D3E1743A2D6EB75C583230584DC9FC095FAE4301FF20A489F74A387231F5', 'height': 14661490, 'time': '2023-12-03 01:54:45', 'order_id': 608, 'status': 'Close', 'direction': 'SELL', 'bidder_addr': 'orai1uesy4qnqathqlxalakh9r5slvjlvq6appzdhjr', 'offer_amount': 2551.140069, 'ask_amount': 485.484125, 'leverage': 3, 'margin_amount': 780.0628, 'entry_price': 4.820319, 'take_profit': 3.213546, 'stop_loss': 0, 'pnl': -210.951669, 'fee': 0.9372, 'funding_payment': -23.84261, '': '', '__1': ''}, {'user_type': 'BOT', 'pair': 'ORAI_USDC', 'hash': '850B87C612E30897E7CDD2E2FA2CF139283014C6DEDA14F8A0DA41415281A8D1', 'height': 14661236, 'time': '2023-12-03 01:30:22', 'order_id': 697, 'status': 'Close', 'direction': 'BUY', 'bidder_addr': 'orai15vc7z4zyyam999zp6rwealm06lvuy9ykumwlpl', 'offer_amount': 5397.047006, 'ask_amount': 1060.30403, 'leverage': 3, 'margin_amount': 1762.833272, 'entry_price': 4.98772, 'take_profit': 5.070867, 'stop_loss': 3.491417, 'pnl': 108.54719, 'fee': 2.11794, 'funding_payment': 11.070634, '': '', '__1': ''}, {'user_type': 'BOT', 'pair': 'ORAI_USDC', 'hash': '1917B100B8997F19C79A3F9CE17EF337400299884FD140170965CAC8BF1BD870', 'height': 14661368, 'time': '2023-12-03 01:42:58', 'order_id': 698, 'status': 'Close', 'direction': 'BUY', 'bidder_addr': 'orai15vc7z4zyyam999zp6rwealm06lvuy9ykumwlpl', 'offer_amount': 5277.016374, 'ask_amount': 1037.101351, 'leverage': 3, 'margin_amount': 1735.076567, 'entry_price': 5.019017, 'take_profit': 5.102686, 'stop_loss': 3.513325, 'pnl': 71.786673, 'fee': 2.084592, 'funding_payment': 10.828375, '': '', '__1': ''}, {'user_type': 'BOT', 'pair': 'ORAI_USDC', 'hash': '1917B100B8997F19C79A3F9CE17EF337400299884FD140170965CAC8BF1BD870', 'height': 14661368, 'time': '2023-12-03 01:42:58', 'order_id': 700, 'status': 'Close', 'direction': 'BUY', 'bidder_addr': 'orai15vc7z4zyyam999zp6rwealm06lvuy9ykumwlpl', 'offer_amount': 3726.723634, 'ask_amount': 736.332262, 'leverage': 3, 'margin_amount': 1233.252514, 'entry_price': 5.024576, 'take_profit': 5.108332, 'stop_loss': 3.517212, 'pnl': 26.966092, 'fee': 1.48168, 'funding_payment': 7.688045, '': '', '__1': ''}, {'user_type': 'USER', 'pair': 'ORAI_USDC', 'hash': 'D87412534A6ACB0ED29767D922C0DEB2A98E364DA38C244E10307E564EA9CA38', 'height': 14661374, 'time': '2023-12-03 01:43:33', 'order_id': 762, 'status': 'Close', 'direction': 'SELL', 'bidder_addr': 'orai18vyspza5ndpg5wss0u7mqs7g50zekjrjvc2dys', 'offer_amount': 2869.894242, 'ask_amount': 567.326263, 'leverage': 3, 'margin_amount': 951.93216, 'entry_price': 5.033781, 'take_profit': 4.865988, 'stop_loss': 0, 'pnl': -14.097762, 'fee': 1.14369, 'funding_payment': 0.331885, '': '', '__1': ''}, {'user_type': 'USER', 'pair': 'ORAI_USDC', 'hash': '91282F35A1EA5AD761E092717F297B8CA0EFE7BA73BEBDCDDABE084B3803B93E', 'height': 14661388, 'time': '2023-12-03 01:44:52', 'order_id': 765, 'status': 'Close', 'direction': 'SELL', 'bidder_addr': 'orai1x9dvpscythaz0mw8zj5re6f3qdpk347epc272q', 'offer_amount': 618.400827, 'ask_amount': 118.049091, 'leverage': 3, 'margin_amount': 199.76, 'entry_price': 5.076532, 'take_profit': 5.025764, 'stop_loss': 5.127294, 'pnl': -19.120827, 'fee': 0.24, 'funding_payment': 0, '': '', '__1': ''}, {'user_type': 'USER', 'pair': 'ORAI_USDC', 'hash': 'A617716E8C92B925DEAADE917357DBBD50DEFD8877658911EFAA9C06B1114D45', 'height': 14661395, 'time': '2023-12-03 01:45:32', 'order_id': 768, 'status': 'Close', 'direction': 'BUY', 'bidder_addr': 'orai18vyspza5ndpg5wss0u7mqs7g50zekjrjvc2dys', 'offer_amount': 2893.90111, 'ask_amount': 552.775868, 'leverage': 3, 'margin_amount': 935.235193, 'entry_price': 5.075665, 'take_profit': 5.244853, 'stop_loss': 0, 'pnl': 88.195531, 'fee': 1.12363, 'funding_payment': 0, '': '', '__1': ''}, {'user_type': 'USER', 'pair': 'ORAI_USDC', 'hash': 'D2A74361107C09E3F23B73AFE11B69B7DE6BE70C8C7F66C266911C0BBDF280C3', 'height': 14661498, 'time': '2023-12-03 01:55:31', 'order_id': 773, 'status': 'Close', 'direction': 'BUY', 'bidder_addr': 'orai1uesy4qnqathqlxalakh9r5slvjlvq6appzdhjr', 'offer_amount': 1773.868797, 'ask_amount': 336.721048, 'leverage': 3, 'margin_amount': 591.2896, 'entry_price': 5.268066, 'take_profit': 7.024088, 'stop_loss': 0, 'pnl': -3e-06, 'fee': 0.7104, 'funding_payment': 0, '': '', '__1': ''}, {'user_type': 'USER', 'pair': 'ORAI_USDC', 'hash': 'BCEB90539295671F9824E14008AE0121E45BAA8778AE5472C38528F5A75BE21B', 'height': 14661510, 'time': '2023-12-03 01:56:41', 'order_id': 774, 'status': 'Close', 'direction': 'SELL', 'bidder_addr': 'orai1uesy4qnqathqlxalakh9r5slvjlvq6appzdhjr', 'offer_amount': 1770.872403, 'ask_amount': 336.845537, 'leverage': 3, 'margin_amount': 590.2908, 'entry_price': 5.257223, 'take_profit': 3.512038, 'stop_loss': 0, 'pnl': -3e-06, 'fee': 0.7092, 'funding_payment': 0, '': '', '__1': ''}, {'user_type': 'USER', 'pair': 'ORAI_USDC', 'hash': '3B09D4664F6DB9A02779E25A2AE7AEE3C36A065069564C48D373D7F01378CBAB', 'height': 14661645, 'time': '2023-12-03 02:09:37', 'order_id': 619, 'status': 'Close', 'direction': 'SELL', 'bidder_addr': 'orai1xsx9ezzynw4thhgh7ghpffvc28e0d4wswedjuc', 'offer_amount': 332.508219, 'ask_amount': 62.998566, 'leverage': 3, 'margin_amount': 99.372557, 'entry_price': 4.732134, 'take_profit': 3.154756, 'stop_loss': 0, 'pnl': -34.390548, 'fee': 0.11939, 'funding_payment': -3.096505, '': '', '__1': ''}, {'user_type': 'USER', 'pair': 'ORAI_USDC', 'hash': '58B5A623758C45050394E266E345079FA5620F68E5F8202AAC896B779614AF09', 'height': 14661604, 'time': '2023-12-03 02:05:41', 'order_id': 641, 'status': 'Close', 'direction': 'SELL', 'bidder_addr': 'orai17ru9tf6gc67kfn8sjx229kpklefq24qmjkvtjn', 'offer_amount': 264.391666, 'ask_amount': 50.129273, 'leverage': 3, 'margin_amount': 79.274756, 'entry_price': 4.744219, 'take_profit': 3.953515, 'stop_loss': 5.25, 'pnl': -26.567398, 'fee': 0.095244, 'funding_payment': -0.957118, '': '', '__1': ''}, {'user_type': 'USER', 'pair': 'ORAI_USDC', 'hash': 'A71C332C49C098361A30105908E1C78036121AF69C7B0543BB6B1F83E4B15ED2', 'height': 14661722, 'time': '2023-12-03 02:17:01', 'order_id': 750, 'status': 'Close', 'direction': 'BUY', 'bidder_addr': 'orai1g2ucrt0v7h762c2dtj30ytyr8497ugm5n0nxla', 'offer_amount': 5331.85803, 'ask_amount': 987.109859, 'leverage': 3, 'margin_amount': 1670.067318, 'entry_price': 5.075627, 'take_profit': 5.921564, 'stop_loss': 0, 'pnl': 321.656076, 'fee': 2.006488, 'funding_payment': 2.4964, '': '', '__1': ''}, {'user_type': 'USER', 'pair': 'ORAI_USDC', 'hash': 'DC259362FEE656F7D587FD61E41F4AC31E3612382EF8942BFBCAD1D8F03D15FC', 'height': 14661675, 'time': '2023-12-03 02:12:30', 'order_id': 770, 'status': 'Close', 'direction': 'BUY', 'bidder_addr': 'orai1x9dvpscythaz0mw8zj5re6f3qdpk347epc272q', 'offer_amount': 619.406747, 'ask_amount': 114.317929, 'leverage': 3, 'margin_amount': 199.76, 'entry_price': 5.242222, 'take_profit': 5.294646, 'stop_loss': 5.189802, 'pnl': 20.126747, 'fee': 0.24, 'funding_payment': 0.534093, '': '', '__1': ''}, {'user_type': 'USER', 'pair': 'ORAI_USDC', 'hash': '4EFFCA75313C324D4FA9A62C1D999C874CB24B4B212DA4527E13F68969ECE181', 'height': 14661554, 'time': '2023-12-03 02:00:52', 'order_id': 775, 'status': 'Close', 'direction': 'BUY', 'bidder_addr': 'orai1uesy4qnqathqlxalakh9r5slvjlvq6appzdhjr', 'offer_amount': 1764.879597, 'ask_amount': 335.01644, 'leverage': 3, 'margin_amount': 588.2932, 'entry_price': 5.268038, 'take_profit': 7.02405, 'stop_loss': 0, 'pnl': -3e-06, 'fee': 0.7068, 'funding_payment': 1.565196, '': '', '__1': ''}, {'user_type': 'USER', 'pair': 'ORAI_USDC', 'hash': '868E683BFBDAAC48BA5C62AE2453A4A121DD6B41C36B20AA50DE5BD15F2A1111', 'height': 14661743, 'time': '2023-12-03 02:19:00', 'order_id': 776, 'status': 'Close', 'direction': 'BUY', 'bidder_addr': 'orai1uesy4qnqathqlxalakh9r5slvjlvq6appzdhjr', 'offer_amount': 1793.030561, 'ask_amount': 333.311814, 'leverage': 3, 'margin_amount': 585.2968, 'entry_price': 5.268011, 'take_profit': 7.024014, 'stop_loss': 0, 'pnl': 37.140161, 'fee': 0.7032, 'funding_payment': 0, '': '', '__1': ''}, {'user_type': 'USER', 'pair': 'ORAI_USDC', 'hash': '25AB7AD57E2504FD4F40D38ED3690C03DBDFC2867B44BA1901AA3C372D8329A3', 'height': 14661715, 'time': '2023-12-03 02:16:21', 'order_id': 777, 'status': 'Close', 'direction': 'BUY', 'bidder_addr': 'orai1hvhkk0jrdu6dz2qwum2v2arc8rtucha79jkfdn', 'offer_amount': 335.908767, 'ask_amount': 61.986376, 'leverage': 3, 'margin_amount': 109.013544, 'entry_price': 5.276008, 'take_profit': 5.451874, 'stop_loss': 0, 'pnl': 8.868135, 'fee': 0.130972, 'funding_payment': 0, '': '', '__1': ''}, {'user_type': 'USER', 'pair': 'ORAI_USDC', 'hash': 'C8B3699E203CC6A81D73102E4CDB118B513B034C817F223D005285F2966622B2', 'height': 14661757, 'time': '2023-12-03 02:20:21', 'order_id': 778, 'status': 'Close', 'direction': 'BUY', 'bidder_addr': 'orai1xsx9ezzynw4thhgh7ghpffvc28e0d4wswedjuc', 'offer_amount': 206.514389, 'ask_amount': 38.569207, 'leverage': 3, 'margin_amount': 67.877574, 'entry_price': 5.27967, 'take_profit': 7.03956, 'stop_loss': 0, 'pnl': 2.881667, 'fee': 0.08155, 'funding_payment': 0, '': '', '__1': ''}, {'user_type': 'USER', 'pair': 'ORAI_USDC', 'hash': 'D3D66E6A70B9ECF0EA0213BECD4BD301213222F8092A712F87D5D3B14C393118', 'height': 14661771, 'time': '2023-12-03 02:21:42', 'order_id': 779, 'status': 'Close', 'direction': 'BUY', 'bidder_addr': 'orai16kn05tue27qkvxtzlv4d796mdhen63fyxf7mee', 'offer_amount': 22406.73018, 'ask_amount': 4239.987871, 'leverage': 3, 'margin_amount': 7561.018093, 'entry_price': 5.349792, 'take_profit': 6.241424, 'stop_loss': 5.1, 'pnl': -276.324098, 'fee': 9.084122, 'funding_payment': 0, '': '', '__1': ''}, {'user_type': 'USER', 'pair': 'ORAI_USDC', 'hash': '76598171D6D1E9BE52601FB1A9852E471B950780A2F6EC0185CFBE83A495F6E0', 'height': 14661751, 'time': '2023-12-03 02:19:46', 'order_id': 780, 'status': 'Close', 'direction': 'BUY', 'bidder_addr': 'orai1x9dvpscythaz0mw8zj5re6f3qdpk347epc272q', 'offer_amount': 592.901631, 'ask_amount': 110.604604, 'leverage': 3, 'margin_amount': 199.76, 'entry_price': 5.418219, 'take_profit': 5.472403, 'stop_loss': 5.364039, 'pnl': -6.378369, 'fee': 0.24, 'funding_payment': 0, '': '', '__1': ''}, {'user_type': 'USER', 'pair': 'ORAI_USDC', 'hash': '9B31B5C3C48790393A75A87D6117FF265DB3AF97EE8361FA3E83098A2C16AC0C', 'height': 14661773, 'time': '2023-12-03 02:21:53', 'order_id': 783, 'status': 'Close', 'direction': 'SELL', 'bidder_addr': 'orai1x9dvpscythaz0mw8zj5re6f3qdpk347epc272q', 'offer_amount': 583.762718, 'ask_amount': 111.871269, 'leverage': 3, 'margin_amount': 199.76, 'entry_price': 5.356871, 'take_profit': 5.3033, 'stop_loss': 5.410438, 'pnl': 15.517282, 'fee': 0.24, 'funding_payment': 0, '': '', '__1': ''}, {'user_type': 'USER', 'pair': 'ORAI_USDC', 'hash': '668A864F8D260CD4583A0654A57F76A0454F6D2C4877236A616501683379FB5B', 'height': 14661915, 'time': '2023-12-03 02:35:27', 'order_id': 782, 'status': 'Close', 'direction': 'SELL', 'bidder_addr': 'orai1uesy4qnqathqlxalakh9r5slvjlvq6appzdhjr', 'offer_amount': 1838.575281, 'ask_amount': 347.18955, 'leverage': 3, 'margin_amount': 621.2536, 'entry_price': 5.368136, 'take_profit': 4.4, 'stop_loss': 0, 'pnl': 25.185519, 'fee': 0.7464, 'funding_payment': 0, '': '', '__1': ''}, {'user_type': 'USER', 'pair': 'ORAI_USDC', 'hash': '3F0E8C97156BF18E3986D08D282986235AB68BA46916A837C90C21B614C7B86D', 'height': 14661917, 'time': '2023-12-03 02:35:39', 'order_id': 784, 'status': 'Close', 'direction': 'BUY', 'bidder_addr': 'orai1x9dvpscythaz0mw8zj5re6f3qdpk347epc272q', 'offer_amount': 608.18623, 'ask_amount': 114.765711, 'leverage': 3, 'margin_amount': 199.76, 'entry_price': 5.221768, 'take_profit': 5.273988, 'stop_loss': 5.169552, 'pnl': 8.90623, 'fee': 0.24, 'funding_payment': 0, '': '', '__1': ''}, {'user_type': 'USER', 'pair': 'ORAI_USDC', 'hash': '63B2E178266435DE1AFE8074473B9723A1B589CB1FB89C448D1359B7269D6B7E', 'height': 14662021, 'time': '2023-12-03 02:45:34', 'order_id': 785, 'status': 'Close', 'direction': 'BUY', 'bidder_addr': 'orai14c9p94ylg58wvetcj69ul9h2ew8ujga97wlmsl', 'offer_amount': 4976.987353, 'ask_amount': 939.41248, 'leverage': 3, 'margin_amount': 1640.399431, 'entry_price': 5.238591, 'take_profit': 10.477182, 'stop_loss': 0, 'pnl': 55.78906, 'fee': 1.970844, 'funding_payment': 0, '': '', '__1': ''}, {'user_type': 'USER', 'pair': 'ORAI_USDC', 'hash': 'E0AE2F5300502D3DD15992F68B17DA853581B17823B458019160A85388C9BCC3', 'height': 14661926, 'time': '2023-12-03 02:36:30', 'order_id': 786, 'status': 'Close', 'direction': 'BUY', 'bidder_addr': 'orai1g2ucrt0v7h762c2dtj30ytyr8497ugm5n0nxla', 'offer_amount': 5945.442764, 'ask_amount': 1125.405726, 'leverage': 3, 'margin_amount': 1977.624, 'entry_price': 5.271762, 'take_profit': 5.447487, 'stop_loss': 0, 'pnl': 12.570764, 'fee': 2.376, 'funding_payment': 0, '': '', '__1': ''}, {'user_type': 'USER', 'pair': 'ORAI_USDC', 'hash': '338390EB77FDDF9D47F6A45E311C26AC4C7D8DD68FFBD05055528097D42708FD', 'height': 14662315, 'time': '2023-12-03 03:13:47', 'order_id': 666, 'status': 'Close', 'direction': 'BUY', 'bidder_addr': 'orai13wm0jtlyzf33l4d4j2crsyashlqwcldf3fzwvx', 'offer_amount': 6748.389291, 'ask_amount': 1263.021026, 'leverage': 3, 'margin_amount': 2078.194789, 'entry_price': 4.936247, 'take_profit': 5.100788, 'stop_loss': 4.113539, 'pnl': 513.804924, 'fee': 2.496828, 'funding_payment': 36.96231, '': '', '__1': ''}, {'user_type': 'USER', 'pair': 'ORAI_USDC', 'hash': '7AD44A4934C68C33CDA16CBF7CE694418045E05760AC367DF50FEA431A19E5B9', 'height': 14662180, 'time': '2023-12-03 03:00:52', 'order_id': 787, 'status': 'Close', 'direction': 'BUY', 'bidder_addr': 'orai1x9dvpscythaz0mw8zj5re6f3qdpk347epc272q', 'offer_amount': 609.975905, 'ask_amount': 113.085674, 'leverage': 3, 'margin_amount': 199.76, 'entry_price': 5.299344, 'take_profit': 5.35234, 'stop_loss': 5.246354, 'pnl': 10.695905, 'fee': 0.24, 'funding_payment': 1.375913, '': '', '__1': ''}, {'user_type': 'USER', 'pair': 'ORAI_USDC', 'hash': 'C009B5B7CAFB743FB5C4429CE52A0AD9979087177B4AB4160A07E13C6D98B432', 'height': 14662192, 'time': '2023-12-03 03:02:01', 'order_id': 791, 'status': 'Close', 'direction': 'BUY', 'bidder_addr': 'orai14c9p94ylg58wvetcj69ul9h2ew8ujga97wlmsl', 'offer_amount': 5150.598959, 'ask_amount': 957.396348, 'leverage': 3, 'margin_amount': 1692.184587, 'entry_price': 5.302457, 'take_profit': 10.604914, 'stop_loss': 0, 'pnl': 74.045198, 'fee': 2.03306, 'funding_payment': 11.648641, '': '', '__1': ''}, {'user_type': 'USER', 'pair': 'ORAI_USDC', 'hash': '79FB070D7DB3A9F6236393678E121BC71E2656042B62238C6AB634DF37547ADE', 'height': 14662418, 'time': '2023-12-03 03:23:35', 'order_id': 792, 'status': 'Close', 'direction': 'BUY', 'bidder_addr': 'orai1g4kpfq9e8ah9jjffneacmk6qayyyhpxnahccst', 'offer_amount': 12426.12543, 'ask_amount': 2351.618923, 'leverage': 3, 'margin_amount': 4199.051369, 'entry_price': 5.3568, 'take_profit': 6.51744, 'stop_loss': 0, 'pnl': -171.028677, 'fee': 5.044914, 'funding_payment': 0, '': '', '__1': ''}, {'user_type': 'USER', 'pair': 'ORAI_USDC', 'hash': '01BFC84C1C7C261DC0F825C7DE1A8198FE3DB116E0B598C510B23EBBC141173F', 'height': 14662741, 'time': '2023-12-03 03:54:30', 'order_id': 788, 'status': 'Close', 'direction': 'BUY', 'bidder_addr': 'orai1uesy4qnqathqlxalakh9r5slvjlvq6appzdhjr', 'offer_amount': 1951.602255, 'ask_amount': 367.254266, 'leverage': 3, 'margin_amount': 645.2248, 'entry_price': 5.270665, 'take_profit': 6.2, 'stop_loss': 0, 'pnl': 15.927855, 'fee': 0.7752, 'funding_payment': 4.468382, '': '', '__1': ''}, {'user_type': 'USER', 'pair': 'ORAI_USDC', 'hash': '57F5E0AC9225D8FF7A7A5D0771D27B41245C71AE18056483FA2B0EADF71E1BF8', 'height': 14662855, 'time': '2023-12-03 04:05:25', 'order_id': 793, 'status': 'Close', 'direction': 'BUY', 'bidder_addr': 'orai1x9dvpscythaz0mw8zj5re6f3qdpk347epc272q', 'offer_amount': 590.74346, 'ask_amount': 111.103402, 'leverage': 3, 'margin_amount': 199.76, 'entry_price': 5.393894, 'take_profit': 5.447835, 'stop_loss': 5.339957, 'pnl': -8.53654, 'fee': 0.24, 'funding_payment': 1.453343, '': '', '__1': ''}, {'user_type': 'USER', 'pair': 'ORAI_USDC', 'hash': '3B3D4880E87B13A88ECB6A01AEB85086BA87124F961A9BD468D7CF206BA7C780', 'height': 14662805, 'time': '2023-12-03 04:00:38', 'order_id': 796, 'status': 'Close', 'direction': 'SELL', 'bidder_addr': 'orai1uesy4qnqathqlxalakh9r5slvjlvq6appzdhjr', 'offer_amount': 1965.638404, 'ask_amount': 370.73511, 'leverage': 3, 'margin_amount': 655.2128, 'entry_price': 5.302002, 'take_profit': 3.534668, 'stop_loss': 0, 'pnl': -4e-06, 'fee': 0.7872, 'funding_payment': -4.849585, '': '', '__1': ''}, {'user_type': 'USER', 'pair': 'ORAI_USDC', 'hash': 'D57BEE27898CB65180058D198C67C921DB00F0D5F62200A8DD0E54312B340A6C', 'height': 14663035, 'time': '2023-12-03 04:22:41', 'order_id': 799, 'status': 'Close', 'direction': 'BUY', 'bidder_addr': 'orai1x9dvpscythaz0mw8zj5re6f3qdpk347epc272q', 'offer_amount': 614.478723, 'ask_amount': 112.708345, 'leverage': 3, 'margin_amount': 199.76, 'entry_price': 5.317086, 'take_profit': 5.370259, 'stop_loss': 5.263917, 'pnl': 15.198723, 'fee': 0.24, 'funding_payment': 0, '': '', '__1': ''}, {'user_type': 'USER', 'pair': 'ORAI_USDC', 'hash': '27B91AA4500F6A7DCC281ABFAB42CF95498AF558919E67316674EE3F5161197A', 'height': 14663176, 'time': '2023-12-03 04:36:08', 'order_id': 383, 'status': 'Liquidate', 'direction': 'SELL', 'bidder_addr': 'orai152ppjq0sr2zyk5ng0wqvm0lv22xfgpa4mw80ua', 'offer_amount': 8.217904, 'ask_amount': 1.508307, 'leverage': 3, 'margin_amount': 2.067815, 'entry_price': 4.10792, 'take_profit': 3.970989, 'stop_loss': 0, 'pnl': -2.021899, 'fee': 0.00248, 'funding_payment': -0.069638, '': '', '__1': ''}, {'user_type': 'USER', 'pair': 'ORAI_USDC', 'hash': 'D9319FCC215CED7150B116D32BAAFFA4CA5ADB90F65D05F9A13F93342793499A', 'height': 14663115, 'time': '2023-12-03 04:30:19', 'order_id': 790, 'status': 'Close', 'direction': 'BUY', 'bidder_addr': 'orai1hvhkk0jrdu6dz2qwum2v2arc8rtucha79jkfdn', 'offer_amount': 701.321997, 'ask_amount': 128.645845, 'leverage': 3, 'margin_amount': 226.62295, 'entry_price': 5.28481, 'take_profit': 5.46097, 'stop_loss': 0, 'pnl': 21.453147, 'fee': 0.272274, 'funding_payment': 3.24805, '': '', '__1': ''}, {'user_type': 'USER', 'pair': 'ORAI_USDC', 'hash': '5170B12EA6BF3FB580276E916B00940BBF500685F8CFE62B82237A764DF6CCFD', 'height': 14663118, 'time': '2023-12-03 04:30:36', 'order_id': 794, 'status': 'Close', 'direction': 'BUY', 'bidder_addr': 'orai1hvhkk0jrdu6dz2qwum2v2arc8rtucha79jkfdn', 'offer_amount': 158.210373, 'ask_amount': 29.035308, 'leverage': 3, 'margin_amount': 50.778782, 'entry_price': 5.246589, 'take_profit': 5.421475, 'stop_loss': 0, 'pnl': 5.874027, 'fee': 0.061006, 'funding_payment': 0.37981, '': '', '__1': ''}, {'user_type': 'USER', 'pair': 'ORAI_USDC', 'hash': '844306BB2A58E89676C764203AFC6CEC95D5C5C5FB6399E2AE3312C714640A5B', 'height': 14663573, 'time': '2023-12-03 05:14:01', 'order_id': 789, 'status': 'Close', 'direction': 'BUY', 'bidder_addr': 'orai1g2ucrt0v7h762c2dtj30ytyr8497ugm5n0nxla', 'offer_amount': 6129.636998, 'ask_amount': 1128.975967, 'leverage': 3, 'margin_amount': 1992.606, 'entry_price': 5.294902, 'take_profit': 6.177385, 'stop_loss': 0, 'pnl': 151.818998, 'fee': 2.394, 'funding_payment': 47.117811, '': '', '__1': ''}, {'user_type': 'USER', 'pair': 'ORAI_USDC', 'hash': '1EDA3FF9DE68738E8257C2E819357982704F2B527E175AD4A06B725940C12292', 'height': 14663677, 'time': '2023-12-03 05:23:57', 'order_id': 795, 'status': 'Close', 'direction': 'BUY', 'bidder_addr': 'orai1g4kpfq9e8ah9jjffneacmk6qayyyhpxnahccst', 'offer_amount': 12108.1541, 'ask_amount': 2253.595608, 'leverage': 3, 'margin_amount': 3968.897473, 'entry_price': 5.28342, 'take_profit': 6.16399, 'stop_loss': 4.40285, 'pnl': 201.46168, 'fee': 4.768398, 'funding_payment': 66.634314, '': '', '__1': ''}, {'user_type': 'USER', 'pair': 'ORAI_USDC', 'hash': 'D7019905DAA585D7D74A554B897723075DE47EE37995A4A83B5CA14E82FA95B2', 'height': 14663680, 'time': '2023-12-03 05:24:14', 'order_id': 801, 'status': 'Close', 'direction': 'BUY', 'bidder_addr': 'orai1x9dvpscythaz0mw8zj5re6f3qdpk347epc272q', 'offer_amount': 586.290566, 'ask_amount': 109.921532, 'leverage': 3, 'margin_amount': 199.76, 'entry_price': 5.451889, 'take_profit': 5.50641, 'stop_loss': 5.397372, 'pnl': -12.989434, 'fee': 0.24, 'funding_payment': 1.812276, '': '', '__1': ''}, {'user_type': 'USER', 'pair': 'ORAI_USDC', 'hash': 'E7B38DC47EADCEDE27F4515A6627BE09704C117B4FBDC6C294B78898831B99DF', 'height': 14663804, 'time': '2023-12-03 05:36:07', 'order_id': 802, 'status': 'Close', 'direction': 'BUY', 'bidder_addr': 'orai1x9dvpscythaz0mw8zj5re6f3qdpk347epc272q', 'offer_amount': 609.636775, 'ask_amount': 112.356032, 'leverage': 3, 'margin_amount': 199.76, 'entry_price': 5.333759, 'take_profit': 5.387099, 'stop_loss': 5.280423, 'pnl': 10.356775, 'fee': 0.24, 'funding_payment': 0, '': '', '__1': ''}, {'user_type': 'USER', 'pair': 'ORAI_USDC', 'hash': 'B409016B8FCE7479EC75090E7070BB6CFA8ACD746670A9E8823A66270A264EB4', 'height': 14663926, 'time': '2023-12-03 05:47:49', 'order_id': 805, 'status': 'Close', 'direction': 'BUY', 'bidder_addr': 'orai14c9p94ylg58wvetcj69ul9h2ew8ujga97wlmsl', 'offer_amount': 1764.444948, 'ask_amount': 325.406122, 'leverage': 1, 'margin_amount': 1751.847066, 'entry_price': 5.383571, 'take_profit': 21.534284, 'stop_loss': 0, 'pnl': 12.597882, 'fee': 0.701018, 'funding_payment': 0, '': '', '__1': ''}, {'user_type': 'USER', 'pair': 'ORAI_USDC', 'hash': '9A753E40D1892740AF8C81F572C801F6128D9A9643A1D0AD4368A51B1719B525', 'height': 14665082, 'time': '2023-12-03 07:38:14', 'order_id': 803, 'status': 'Close', 'direction': 'BUY', 'bidder_addr': 'orai1hvhkk0jrdu6dz2qwum2v2arc8rtucha79jkfdn', 'offer_amount': 913.982176, 'ask_amount': 168.819094, 'leverage': 3, 'margin_amount': 300.406846, 'entry_price': 5.33838, 'take_profit': 5.516326, 'stop_loss': 0, 'pnl': 12.761638, 'fee': 0.36092, 'funding_payment': 5.772937, '': '', '__1': ''}, {'user_type': 'USER', 'pair': 'ORAI_USDC', 'hash': '9058964850E6DA3A64CE5B7AE8DC98051B1FF27D5BE4B89829CCC979DF424710', 'height': 14665850, 'time': '2023-12-03 08:51:40', 'order_id': 797, 'status': 'Close', 'direction': 'BUY', 'bidder_addr': 'orai1uesy4qnqathqlxalakh9r5slvjlvq6appzdhjr', 'offer_amount': 2015.256447, 'ask_amount': 371.58225, 'leverage': 3, 'margin_amount': 658.2092, 'entry_price': 5.314106, 'take_profit': 6.2, 'stop_loss': 0, 'pnl': 40.628847, 'fee': 0.7908, 'funding_payment': 25.179899, '': '', '__1': ''}, {'user_type': 'USER', 'pair': 'ORAI_USDC', 'hash': 'F5199D235D2BAB82A3ABD42D28A494D23B9350ED06995946395EA2C68428F091', 'height': 14665942, 'time': '2023-12-03 09:00:25', 'order_id': 809, 'status': 'Close', 'direction': 'SELL', 'bidder_addr': 'orai1uesy4qnqathqlxalakh9r5slvjlvq6appzdhjr', 'offer_amount': 2016.577201, 'ask_amount': 372.685573, 'leverage': 3, 'margin_amount': 672.1924, 'entry_price': 5.410934, 'take_profit': 3.607289, 'stop_loss': 0, 'pnl': -1e-06, 'fee': 0.8076, 'funding_payment': -1.558571, '': '', '__1': ''}, {'user_type': 'USER', 'pair': 'ORAI_USDC', 'hash': 'EF6E419D583E7EF16BA0BE911917A12711411B6B1C964FFCFDABA0DC443CDDC4', 'height': 14666539, 'time': '2023-12-03 09:57:31', 'order_id': 580, 'status': 'Close', 'direction': 'SELL', 'bidder_addr': 'orai18vyspza5ndpg5wss0u7mqs7g50zekjrjvc2dys', 'offer_amount': 1810.429782, 'ask_amount': 334.556703, 'leverage': 3, 'margin_amount': 491.073251, 'entry_price': 4.403497, 'take_profit': 4.3, 'stop_loss': 0, 'pnl': -337.210029, 'fee': 0.589994, 'funding_payment': -47.352152, '': '', '__1': ''}, {'user_type': 'USER', 'pair': 'ORAI_USDC', 'hash': 'CBEFFE12FA5FF834E2051C0CA7A429EC86BF61275F1856F4DFECA65B1BDCC4F3', 'height': 14666527, 'time': '2023-12-03 09:56:22', 'order_id': 581, 'status': 'Close', 'direction': 'SELL', 'bidder_addr': 'orai18vyspza5ndpg5wss0u7mqs7g50zekjrjvc2dys', 'offer_amount': 1808.140201, 'ask_amount': 335.060679, 'leverage': 3, 'margin_amount': 490.892863, 'entry_price': 4.395259, 'take_profit': 4.3, 'stop_loss': 0, 'pnl': -335.461612, 'fee': 0.589778, 'funding_payment': -47.423483, '': '', '__1': ''}, {'user_type': 'USER', 'pair': 'ORAI_USDC', 'hash': '8DC2E3CEE4EA973C36461711924F04429C24F06A2B690B7E0923B60EE4D06BF9', 'height': 14666292, 'time': '2023-12-03 09:33:56', 'order_id': 806, 'status': 'Close', 'direction': 'BUY', 'bidder_addr': 'orai1g2ucrt0v7h762c2dtj30ytyr8497ugm5n0nxla', 'offer_amount': 6264.64686, 'ask_amount': 1157.921399, 'leverage': 3, 'margin_amount': 2087.492, 'entry_price': 5.408377, 'take_profit': 5.588656, 'stop_loss': 0, 'pnl': 2.17086, 'fee': 2.508, 'funding_payment': 64.217162, '': '', '__1': ''}, {'user_type': 'USER', 'pair': 'ORAI_USDC', 'hash': '412DB9DB9CF34BCC70C4F0E74ED65425BD048010CE10A79BC87704084EE20792', 'height': 14666551, 'time': '2023-12-03 09:58:40', 'order_id': 572, 'status': 'Close', 'direction': 'SELL', 'bidder_addr': 'orai18vyspza5ndpg5wss0u7mqs7g50zekjrjvc2dys', 'offer_amount': 1770.946589, 'ask_amount': 326.589693, 'leverage': 3, 'margin_amount': 485.792865, 'entry_price': 4.462414, 'take_profit': 4.3, 'stop_loss': 5.578017, 'pnl': -313.567994, 'fee': 0.58365, 'funding_payment': -46.224525, '': '', '__1': ''}, {'user_type': 'USER', 'pair': 'ORAI_USDC', 'hash': 'BD1A13BD77EFEBE646733FCE8823DDD49056868EB8BEB53E829047F9FFA702A4', 'height': 14666827, 'time': '2023-12-03 10:25:00', 'order_id': 772, 'status': 'Close', 'direction': 'SELL', 'bidder_addr': 'orai18vyspza5ndpg5wss0u7mqs7g50zekjrjvc2dys', 'offer_amount': 1931.810771, 'ask_amount': 354.992012, 'leverage': 3, 'margin_amount': 621.560326, 'entry_price': 5.25274, 'take_profit': 5.077648, 'stop_loss': 0, 'pnl': -67.129793, 'fee': 0.746768, 'funding_payment': -31.849883, '': '', '__1': ''}, {'user_type': 'USER', 'pair': 'ORAI_USDC', 'hash': 'D2F28C170B405E8C07FD01A76830E814225AABFEFFAC0463BE07148292AB1DE1', 'height': 14666951, 'time': '2023-12-03 10:36:52', 'order_id': 814, 'status': 'Close', 'direction': 'SELL', 'bidder_addr': 'orai14c9p94ylg58wvetcj69ul9h2ew8ujga97wlmsl', 'offer_amount': 5284.882315, 'ask_amount': 971.072097, 'leverage': 3, 'margin_amount': 1761.627438, 'entry_price': 5.442317, 'take_profit': 1e-06, 'stop_loss': 0, 'pnl': -1e-06, 'fee': 2.116492, 'funding_payment': 0, '': '', '__1': ''}, {'user_type': 'USER', 'pair': 'ORAI_USDC', 'hash': '773B19E4CA82FF7278182B51E8ECE052FDE43690D0985D6BB6E67EC5A8BE5515', 'height': 14669744, 'time': '2023-12-03 15:03:49', 'order_id': 759, 'status': 'Close', 'direction': 'BUY', 'bidder_addr': 'orai1wtzpkfhu9h4t7nde3l4wltvm7lxyp6hfp9f5vy', 'offer_amount': 1301.66163, 'ask_amount': 238.660897, 'leverage': 3, 'margin_amount': 399.407813, 'entry_price': 5.02061, 'take_profit': 6.694146, 'stop_loss': 0, 'pnl': 103.438191, 'fee': 0.479864, 'funding_payment': 12.474805, '': '', '__1': ''}, {'user_type': 'USER', 'pair': 'ORAI_USDC', 'hash': 'DB64E17D295E70B54D7AD3930D6EAAFF95BA4333C74AC1411E84745FDF129174', 'height': 14669742, 'time': '2023-12-03 15:03:38', 'order_id': 760, 'status': 'Close', 'direction': 'BUY', 'bidder_addr': 'orai1wtzpkfhu9h4t7nde3l4wltvm7lxyp6hfp9f5vy', 'offer_amount': 113.091631, 'ask_amount': 20.718717, 'leverage': 3, 'margin_amount': 34.700418, 'entry_price': 5.024502, 'take_profit': 6.699336, 'stop_loss': 0, 'pnl': 8.990377, 'fee': 0.04169, 'funding_payment': 1.082967, '': '', '__1': ''}, {'user_type': 'USER', 'pair': 'ORAI_USDC', 'hash': '7AC6F87BCDF1FB950206704A3F70E9021D640A6A755ED5F9C1F47CDFA275CBB9', 'height': 14671608, 'time': '2023-12-03 18:01:50', 'order_id': 807, 'status': 'Close', 'direction': 'BUY', 'bidder_addr': 'orai1x9dvpscythaz0mw8zj5re6f3qdpk347epc272q', 'offer_amount': 592.180353, 'ask_amount': 110.447933, 'leverage': 3, 'margin_amount': 199.76, 'entry_price': 5.425905, 'take_profit': 5.480166, 'stop_loss': 5.371648, 'pnl': -7.099647, 'fee': 0.24, 'funding_payment': -1.580841, '': '', '__1': ''}, {'user_type': 'USER', 'pair': 'ORAI_USDC', 'hash': 'D662E377F52256BF94A23DFF6AB9951B7E8D78F41DF827115917599CBAE248B0', 'height': 14671606, 'time': '2023-12-03 18:01:38', 'order_id': 810, 'status': 'Close', 'direction': 'BUY', 'bidder_addr': 'orai1uesy4qnqathqlxalakh9r5slvjlvq6appzdhjr', 'offer_amount': 1996.560989, 'ask_amount': 371.825495, 'leverage': 3, 'margin_amount': 672.1924, 'entry_price': 5.42345, 'take_profit': 6.2, 'stop_loss': 0, 'pnl': -20.016211, 'fee': 0.8076, 'funding_payment': -25.943008, '': '', '__1': ''}, {'user_type': 'USER', 'pair': 'ORAI_USDC', 'hash': '13D5DE309949C1EC8B0CCD910A46CA524B76625A512D19905BB24EC11E3DA1E9', 'height': 14672631, 'time': '2023-12-03 19:39:28', 'order_id': 781, 'status': 'Close', 'direction': 'BUY', 'bidder_addr': 'orai1c347zr3z9ck7kwf9csxnn5vj5d06xcngpwel27', 'offer_amount': 5.949701, 'ask_amount': 1.109299, 'leverage': 3, 'margin_amount': 2.00417, 'entry_price': 5.420098, 'take_profit': 5.600772, 'stop_loss': 0, 'pnl': -0.062809, 'fee': 0.002406, 'funding_payment': 0.025127, '': '', '__1': ''}, {'user_type': 'USER', 'pair': 'ORAI_USDC', 'hash': 'E8490CD272B0A412464495B762EE9243252D9F031A66C15E5EB65BD464914BC1', 'height': 14672996, 'time': '2023-12-03 20:14:19', 'order_id': 811, 'status': 'Close', 'direction': 'BUY', 'bidder_addr': 'orai18vyspza5ndpg5wss0u7mqs7g50zekjrjvc2dys', 'offer_amount': 599.915336, 'ask_amount': 112.152798, 'leverage': 3, 'margin_amount': 202.02224, 'entry_price': 5.403937, 'take_profit': 5.6, 'stop_loss': 0, 'pnl': -6.151384, 'fee': 0.242716, 'funding_payment': -8.990729, '': '', '__1': ''}, {'user_type': 'USER', 'pair': 'ORAI_USDC', 'hash': '019A43B4C59CF2CB6C84346E0A3BE3896561CE9F119BF98108843743FD25AE5A', 'height': 14673003, 'time': '2023-12-03 20:14:59', 'order_id': 812, 'status': 'Close', 'direction': 'BUY', 'bidder_addr': 'orai18vyspza5ndpg5wss0u7mqs7g50zekjrjvc2dys', 'offer_amount': 1233.535824, 'ask_amount': 230.85066, 'leverage': 3, 'margin_amount': 417.988938, 'entry_price': 5.431939, 'take_profit': 5.713003, 'stop_loss': 0, 'pnl': -20.43099, 'fee': 0.502188, 'funding_payment': -15.702231, '': '', '__1': ''}, {'user_type': 'USER', 'pair': 'ORAI_USDC', 'hash': '4623DAD629214C3042EACB31FBEF1FFE622F5D36693C7D4040C271A7A22AB3E7', 'height': 14673014, 'time': '2023-12-03 20:16:02', 'order_id': 813, 'status': 'Close', 'direction': 'BUY', 'bidder_addr': 'orai18vyspza5ndpg5wss0u7mqs7g50zekjrjvc2dys', 'offer_amount': 1712.557791, 'ask_amount': 321.729629, 'leverage': 3, 'margin_amount': 584.831008, 'entry_price': 5.453315, 'take_profit': 5.65092, 'stop_loss': 0, 'pnl': -41.935233, 'fee': 0.70264, 'funding_payment': -21.883727, '': '', '__1': ''}, {'user_type': 'USER', 'pair': 'ORAI_USDC', 'hash': 'C8832C8E440BF68FFD43123BD8DD65D4F75BAB2364FD9C58780E39099DCF306D', 'height': 14673018, 'time': '2023-12-03 20:16:26', 'order_id': 817, 'status': 'Close', 'direction': 'BUY', 'bidder_addr': 'orai1x9dvpscythaz0mw8zj5re6f3qdpk347epc272q', 'offer_amount': 593.003991, 'ask_amount': 111.771635, 'leverage': 3, 'margin_amount': 199.76, 'entry_price': 5.361646, 'take_profit': 5.415264, 'stop_loss': 5.308032, 'pnl': -6.276009, 'fee': 0.24, 'funding_payment': -1.161642, '': '', '__1': ''}, {'user_type': 'USER', 'pair': 'ORAI_USDC', 'hash': '30E5DB872E15E80F54C9C29E0BAB70DF5DE60EE3482FBC7C70CDB52AB342245B', 'height': 14673261, 'time': '2023-12-03 20:39:39', 'order_id': 819, 'status': 'Close', 'direction': 'SELL', 'bidder_addr': 'orai18vyspza5ndpg5wss0u7mqs7g50zekjrjvc2dys', 'offer_amount': 1842.652629, 'ask_amount': 346.818547, 'leverage': 3, 'margin_amount': 616.636008, 'entry_price': 5.333936, 'take_profit': 5.156138, 'stop_loss': 0, 'pnl': 7.255395, 'fee': 0.740852, 'funding_payment': 0, '': '', '__1': ''}, {'user_type': 'USER', 'pair': 'ORAI_USDC', 'hash': 'F4659AE37131EE7B631F9D65B950F845FF9F6442B366BA677557390B497B98FA', 'height': 14673265, 'time': '2023-12-03 20:40:02', 'order_id': 820, 'status': 'Close', 'direction': 'SELL', 'bidder_addr': 'orai18vyspza5ndpg5wss0u7mqs7g50zekjrjvc2dys', 'offer_amount': 1693.82096, 'ask_amount': 318.154706, 'leverage': 3, 'margin_amount': 563.39997, 'entry_price': 5.312509, 'take_profit': 5.135425, 'stop_loss': 0, 'pnl': -3.62105, 'fee': 0.676892, 'funding_payment': 0, '': '', '__1': ''}, {'user_type': 'BOT', 'pair': 'INJ_USDC', 'hash': '942D9C5C3CAF40C5B782ED5FA005E74A91897132AE8FB6B71546C199D9369BE8', 'height': 14673299, 'time': '2023-12-03 20:43:17', 'order_id': 446, 'status': 'Close', 'direction': 'BUY', 'bidder_addr': 'orai1nza67tu4pv6uueqmynytqzelejpykr5d3tkqnd', 'offer_amount': 7873.043055, 'ask_amount': 449.663205, 'leverage': 3, 'margin_amount': 2551.923453, 'entry_price': 17.025565, 'take_profit': 17.309376, 'stop_loss': 11.917931, 'pnl': 217.272696, 'fee': 3.065986, 'funding_payment': -735.246105, '': '', '__1': ''}, {'user_type': 'BOT', 'pair': 'INJ_USDC', 'hash': '942D9C5C3CAF40C5B782ED5FA005E74A91897132AE8FB6B71546C199D9369BE8', 'height': 14673299, 'time': '2023-12-03 20:43:17', 'order_id': 447, 'status': 'Close', 'direction': 'BUY', 'bidder_addr': 'orai1nza67tu4pv6uueqmynytqzelejpykr5d3tkqnd', 'offer_amount': 7959.232601, 'ask_amount': 456.926694, 'leverage': 3, 'margin_amount': 2606.346223, 'entry_price': 17.112238, 'take_profit': 17.397495, 'stop_loss': 11.978603, 'pnl': 140.193932, 'fee': 3.131372, 'funding_payment': -747.122665, '': '', '__1': ''}, {'user_type': 'USER', 'pair': 'ORAI_USDC', 'hash': '5B0AB8E164927BABA25D4210EBCF773354BB0036EB1974150521C9565A611C85', 'height': 14673766, 'time': '2023-12-03 21:27:56', 'order_id': 800, 'status': 'Close', 'direction': 'BUY', 'bidder_addr': 'orai16kn05tue27qkvxtzlv4d796mdhen63fyxf7mee', 'offer_amount': 21305.04444, 'ask_amount': 4047.673821, 'leverage': 3, 'margin_amount': 7266.879143, 'entry_price': 5.385966, 'take_profit': 6.283627, 'stop_loss': 4.95, 'pnl': -495.592994, 'fee': 8.73073, 'funding_payment': -62.969661, '': '', '__1': ''}, {'user_type': 'USER', 'pair': 'ORAI_USDC', 'hash': '251AA29B2C5A02FDED63F6ABE507E6925D3B06EA7A06B25C4B6CDC3A759DB207', 'height': 14673768, 'time': '2023-12-03 21:28:07', 'order_id': 821, 'status': 'Close', 'direction': 'BUY', 'bidder_addr': 'orai1x9dvpscythaz0mw8zj5re6f3qdpk347epc272q', 'offer_amount': 584.586425, 'ask_amount': 112.95415, 'leverage': 3, 'margin_amount': 199.76, 'entry_price': 5.305515, 'take_profit': 5.358572, 'stop_loss': 5.252462, 'pnl': -14.693575, 'fee': 0.24, 'funding_payment': -0.828857, '': '', '__1': ''}, {'user_type': 'USER', 'pair': 'ORAI_USDC', 'hash': 'FBF31A9C1DAC3684A45C58106D44414E2BD6E778939598F0DC35AE8FFF04AF14', 'height': 14673760, 'time': '2023-12-03 21:27:22', 'order_id': 822, 'status': 'Close', 'direction': 'BUY', 'bidder_addr': 'orai18vyspza5ndpg5wss0u7mqs7g50zekjrjvc2dys', 'offer_amount': 3542.50163, 'ask_amount': 663.388794, 'leverage': 3, 'margin_amount': 1180.833877, 'entry_price': 5.340008, 'take_profit': 5.518008, 'stop_loss': 0, 'pnl': -1e-06, 'fee': 1.418702, 'funding_payment': -4.867946, '': '', '__1': ''}, {'user_type': 'BOT', 'pair': 'INJ_USDC', 'hash': '2CD5F9CBEC5F13FEE72320ED1739247B5DF3867C038F21A87EBFE0D0A40CD01B', 'height': 14673573, 'time': '2023-12-03 21:09:30', 'order_id': 448, 'status': 'Close', 'direction': 'BUY', 'bidder_addr': 'orai1nza67tu4pv6uueqmynytqzelejpykr5d3tkqnd', 'offer_amount': 11008.30004, 'ask_amount': 632.112951, 'leverage': 3, 'margin_amount': 3627.750486, 'entry_price': 17.217257, 'take_profit': 17.504285, 'stop_loss': 12.052131, 'pnl': 125.048577, 'fee': 4.35853, 'funding_payment': -1040.320748, '': '', '__1': ''}, {'user_type': 'USER', 'pair': 'ORAI_USDC', 'hash': '71CDACB4D1712C5184F9913E94F20B4889F85B1FD434234BEF841CA614536081', 'height': 14673840, 'time': '2023-12-03 21:34:59', 'order_id': 825, 'status': 'Close', 'direction': 'SELL', 'bidder_addr': 'orai18vyspza5ndpg5wss0u7mqs7g50zekjrjvc2dys', 'offer_amount': 3548.64712, 'ask_amount': 684.002743, 'leverage': 3, 'margin_amount': 1182.861982, 'entry_price': 5.18797, 'take_profit': 5.140909, 'stop_loss': 0, 'pnl': -0.061174, 'fee': 1.421138, 'funding_payment': 0, '': '', '__1': ''}, {'user_type': 'USER', 'pair': 'ORAI_USDC', 'hash': '130B795E1939A5C47F55EC225AEB876D62868F85ED2752E54F5FF432E0856725', 'height': 14674916, 'time': '2023-12-03 23:17:44', 'order_id': 469, 'status': 'Close', 'direction': 'BUY', 'bidder_addr': 'orai1rvs4kypz8vygvfds0mzzssg36d9nevwv65qe5a', 'offer_amount': 84.348525, 'ask_amount': 16.263339, 'leverage': 3, 'margin_amount': 21.433696, 'entry_price': 3.953744, 'take_profit': 4.085535, 'stop_loss': 0, 'pnl': 20.047437, 'fee': 0.02575, 'funding_payment': 0.62513, '': '', '__1': ''}, {'user_type': 'USER', 'pair': 'ORAI_USDC', 'hash': '75C9650CF53A761E3193FF2D794461D8ABE6C7666046F88C19258227B47362BF', 'height': 14674756, 'time': '2023-12-03 23:02:28', 'order_id': 828, 'status': 'Close', 'direction': 'BUY', 'bidder_addr': 'orai18vyspza5ndpg5wss0u7mqs7g50zekjrjvc2dys', 'offer_amount': 3546.357463, 'ask_amount': 679.491584, 'leverage': 3, 'margin_amount': 1179.962016, 'entry_price': 5.209609, 'take_profit': 5.383262, 'stop_loss': 0, 'pnl': 6.471415, 'fee': 1.417654, 'funding_payment': -4.301181, '': '', '__1': ''}, {'user_type': 'USER', 'pair': 'ORAI_USDC', 'hash': '0B6AA38E445DEADAD4AF2FA976CEB0E3AE27A6A083FE266136A9E668C5518C93', 'height': 14675240, 'time': '2023-12-03 23:48:44', 'order_id': 595, 'status': 'Close', 'direction': 'BUY', 'bidder_addr': 'orai1q8w8vtu3w0zpyxywnvlmptqvnpf4z3adtxxkuu', 'offer_amount': 10407.55145, 'ask_amount': 2031.65626, 'leverage': 3, 'margin_amount': 2996.4, 'entry_price': 4.424567, 'take_profit': 5.161994, 'stop_loss': 0, 'pnl': 1418.35145, 'fee': 3.6, 'funding_payment': 116.096965, '': '', '__1': ''}, {'user_type': 'USER', 'pair': 'ORAI_USDC', 'hash': 'D21D6AC904529B5D764108F1EFFD8D7C65B7A4C988FD8E8AD12A2D396A409F29', 'height': 14675242, 'time': '2023-12-03 23:48:56', 'order_id': 826, 'status': 'Close', 'direction': 'BUY', 'bidder_addr': 'orai1x9dvpscythaz0mw8zj5re6f3qdpk347epc272q', 'offer_amount': 589.337232, 'ask_amount': 115.792254, 'leverage': 3, 'margin_amount': 199.76, 'entry_price': 5.175475, 'take_profit': 5.227232, 'stop_loss': 5.123722, 'pnl': -9.942768, 'fee': 0.24, 'funding_payment': -0.732964, '': '', '__1': ''}, {'user_type': 'USER', 'pair': 'ORAI_USDC', 'hash': 'DB42B0C4BBAD312321CD8458857FA4FF945B949E47B97B9FE75C66EB8233CEA5', 'height': 14675263, 'time': '2023-12-03 23:50:57', 'order_id': 832, 'status': 'Close', 'direction': 'SELL', 'bidder_addr': 'orai14c9p94ylg58wvetcj69ul9h2ew8ujga97wlmsl', 'offer_amount': 5207.907466, 'ask_amount': 1019.736768, 'leverage': 3, 'margin_amount': 1757.399533, 'entry_price': 5.170156, 'take_profit': 1e-06, 'stop_loss': 0, 'pnl': 64.291133, 'fee': 2.111412, 'funding_payment': 0, '': '', '__1': ''}, {'user_type': 'BOT', 'pair': 'INJ_USDC', 'hash': '5EBDD8B4A3722AA544E0B8501AC68966EF41D91C00FD02646DF7C31323ABEA0A', 'height': 14675080, 'time': '2023-12-03 23:33:28', 'order_id': 449, 'status': 'Close', 'direction': 'BUY', 'bidder_addr': 'orai1nza67tu4pv6uueqmynytqzelejpykr5d3tkqnd', 'offer_amount': 9253.080249, 'ask_amount': 526.350236, 'leverage': 3, 'margin_amount': 3008.275966, 'entry_price': 17.14605, 'take_profit': 17.431879, 'stop_loss': 12.002277, 'pnl': 228.252351, 'fee': 3.614268, 'funding_payment': -870.195896, '': '', '__1': ''}, {'user_type': 'USER', 'pair': 'ORAI_USDC', 'hash': '56FEC2332D90506A754BADD70FC15F861229C50C78E7B38F962B8769179383EF', 'height': 14676265, 'time': '2023-12-04 01:26:33', 'order_id': 626, 'status': 'Close', 'direction': 'SELL', 'bidder_addr': 'orai1cweq5cl6mx5ju8sseulp6knf5f8g7d822uvyjq', 'offer_amount': 4.238298, 'ask_amount': 0.823522, 'leverage': 3, 'margin_amount': 1.337163, 'entry_price': 4.871137, 'take_profit': 4.708765, 'stop_loss': 5.277065, 'pnl': -0.226809, 'fee': 0.001606, 'funding_payment': -0.043617, '': '', '__1': ''}, {'user_type': 'USER', 'pair': 'ORAI_USDC', 'hash': '9A3E1316C03705077F6BE4CCAC57B98DB38ADD6BE6D179938F365B3C18104195', 'height': 14676032, 'time': '2023-12-04 01:04:22', 'order_id': 720, 'status': 'Close', 'direction': 'BUY', 'bidder_addr': 'orai1wuf3w7cg30z4h4ywk4j24rjz34y6wjcrw7d5uk', 'offer_amount': 3.028763, 'ask_amount': 0.588504, 'leverage': 3, 'margin_amount': 0.982701, 'entry_price': 5.009486, 'take_profit': 5.176468, 'stop_loss': 4.592028, 'pnl': 0.08066, 'fee': 0.00118, 'funding_payment': 0.003747, '': '', '__1': ''}, {'user_type': 'USER', 'pair': 'ORAI_USDC', 'hash': 'DC2FC4E4DD7FE436D29A503DB210A044D3BC7613716DBA290C743B7374545181', 'height': 14676324, 'time': '2023-12-04 01:32:10', 'order_id': 833, 'status': 'Close', 'direction': 'BUY', 'bidder_addr': 'orai1x9dvpscythaz0mw8zj5re6f3qdpk347epc272q', 'offer_amount': 620.559691, 'ask_amount': 117.745104, 'leverage': 3, 'margin_amount': 199.76, 'entry_price': 5.089638, 'take_profit': 5.140536, 'stop_loss': 5.038744, 'pnl': 21.279691, 'fee': 0.24, 'funding_payment': 0.05322, '': '', '__1': ''}, {'user_type': 'USER', 'pair': 'ORAI_USDC', 'hash': '9F8D84B5E6F190297B345E643FDF0D7E7DF384C62B26BB440E5D6DA22D3C4CC8', 'height': 14676905, 'time': '2023-12-04 02:27:45', 'order_id': 836, 'status': 'Close', 'direction': 'BUY', 'bidder_addr': 'orai16kn05tue27qkvxtzlv4d796mdhen63fyxf7mee', 'offer_amount': 20403.32047, 'ask_amount': 3926.714195, 'leverage': 3, 'margin_amount': 6817.33445, 'entry_price': 5.208426, 'take_profit': 6.944568, 'stop_loss': 4.77439, 'pnl': -48.682884, 'fee': 8.19063, 'funding_payment': 3.361267, '': '', '__1': ''}, {'user_type': 'USER', 'pair': 'ORAI_USDC', 'hash': '9C5672D1531F467A3EA840665EAC2B4DE84A736A70322A1A2CEC9A38DEE6F291', 'height': 14676907, 'time': '2023-12-04 02:27:56', 'order_id': 838, 'status': 'Close', 'direction': 'SELL', 'bidder_addr': 'orai1x9dvpscythaz0mw8zj5re6f3qdpk347epc272q', 'offer_amount': 584.432896, 'ask_amount': 113.788093, 'leverage': 3, 'margin_amount': 199.76, 'entry_price': 5.266631, 'take_profit': 5.213963, 'stop_loss': 5.319295, 'pnl': 14.847104, 'fee': 0.24, 'funding_payment': -0.097402, '': '', '__1': ''}, {'user_type': 'USER', 'pair': 'ORAI_USDC', 'hash': 'FC5C7BD14E36B76F2BC5B9F56B6F8694D08F7A63017EA90F73BFCAADFF8EF650', 'height': 14676807, 'time': '2023-12-04 02:18:24', 'order_id': 839, 'status': 'Close', 'direction': 'BUY', 'bidder_addr': 'orai1g2ucrt0v7h762c2dtj30ytyr8497ugm5n0nxla', 'offer_amount': 5992.799999, 'ask_amount': 1134.327008, 'leverage': 3, 'margin_amount': 1997.6, 'entry_price': 5.283132, 'take_profit': 5.459236, 'stop_loss': 0, 'pnl': -1e-06, 'fee': 2.4, 'funding_payment': 0, '': '', '__1': ''}, {'user_type': 'USER', 'pair': 'ORAI_USDC', 'hash': '6C7FA45E4BA7D996F9BDE7939910ADF709CD7542D033164B3C78DD81459AB684', 'height': 14676944, 'time': '2023-12-04 02:31:28', 'order_id': 840, 'status': 'Close', 'direction': 'SELL', 'bidder_addr': 'orai1hvhkk0jrdu6dz2qwum2v2arc8rtucha79jkfdn', 'offer_amount': 435.42693, 'ask_amount': 84.727561, 'leverage': 1, 'margin_amount': 445.957938, 'entry_price': 5.263434, 'take_profit': 4.770144, 'stop_loss': 0, 'pnl': 10.531008, 'fee': 0.178454, 'funding_payment': 0, '': '', '__1': ''}, {'user_type': 'USER', 'pair': 'ORAI_USDC', 'hash': '09869F9A1F2D56891620493B1BEC46583C70B0D5577D14B1A0B729573F0AD8C0', 'height': 14676939, 'time': '2023-12-04 02:31:00', 'order_id': 841, 'status': 'Close', 'direction': 'SELL', 'bidder_addr': 'orai1hvhkk0jrdu6dz2qwum2v2arc8rtucha79jkfdn', 'offer_amount': 584.007259, 'ask_amount': 113.707237, 'leverage': 3, 'margin_amount': 199.375813, 'entry_price': 5.26024, 'take_profit': 5.084898, 'stop_loss': 0, 'pnl': 14.12018, 'fee': 0.239538, 'funding_payment': 0, '': '', '__1': ''}, {'user_type': 'USER', 'pair': 'ORAI_USDC', 'hash': '0DD65B0079FA176F954F878A03B7C68AC84958A65D0BAF6A4D9F2FA818CFCC2C', 'height': 14677581, 'time': '2023-12-04 03:32:18', 'order_id': 842, 'status': 'Close', 'direction': 'SELL', 'bidder_addr': 'orai1x9dvpscythaz0mw8zj5re6f3qdpk347epc272q', 'offer_amount': 619.367052, 'ask_amount': 116.679819, 'leverage': 3, 'margin_amount': 199.76, 'entry_price': 5.136106, 'take_profit': 5.084743, 'stop_loss': 5.187465, 'pnl': -20.087052, 'fee': 0.24, 'funding_payment': 0.069774, '': '', '__1': ''}, {'user_type': 'USER', 'pair': 'ORAI_USDC', 'hash': '8CDBB1071A940936DCAC16676C3EB8A3093DEFB3F016E8AD57E140CB04AA0AC5', 'height': 14677631, 'time': '2023-12-04 03:37:03', 'order_id': 844, 'status': 'Close', 'direction': 'BUY', 'bidder_addr': 'orai1hvhkk0jrdu6dz2qwum2v2arc8rtucha79jkfdn', 'offer_amount': 1027.09405, 'ask_amount': 193.669705, 'leverage': 3, 'margin_amount': 334.381734, 'entry_price': 5.17967, 'take_profit': 5.352325, 'stop_loss': 0, 'pnl': 23.948848, 'fee': 0.40174, 'funding_payment': -0.115814, '': '', '__1': ''}, {'user_type': 'USER', 'pair': 'ORAI_USDC', 'hash': 'A4274C7BBC54C099E0E3C830D4DFA8CD5419875FBE35C538A641A3FE4FA10402', 'height': 14678341, 'time': '2023-12-04 04:44:56', 'order_id': 843, 'status': 'Close', 'direction': 'BUY', 'bidder_addr': 'orai1g2ucrt0v7h762c2dtj30ytyr8497ugm5n0nxla', 'offer_amount': 6114.09866, 'ask_amount': 1157.664584, 'leverage': 3, 'margin_amount': 1990.6084, 'entry_price': 5.15851, 'take_profit': 5.93046, 'stop_loss': 0, 'pnl': 142.27346, 'fee': 2.3916, 'funding_payment': -2.387104, '': '', '__1': ''}, {'user_type': 'BOT', 'pair': 'INJ_USDC', 'hash': '7D4ABB5F811EF73310E052A8E589C96C562152D55772BBFEED3C7771FC786018', 'height': 14679270, 'time': '2023-12-04 06:13:26', 'order_id': 451, 'status': 'Close', 'direction': 'BUY', 'bidder_addr': 'orai1nza67tu4pv6uueqmynytqzelejpykr5d3tkqnd', 'offer_amount': 10074.27374, 'ask_amount': 573.746615, 'leverage': 3, 'margin_amount': 3264.106927, 'entry_price': 17.067326, 'take_profit': 17.351848, 'stop_loss': 11.947174, 'pnl': 281.952955, 'fee': 3.921634, 'funding_payment': -959.007139, '': '', '__1': ''}, {'user_type': 'BOT', 'pair': 'INJ_USDC', 'hash': '7D4ABB5F811EF73310E052A8E589C96C562152D55772BBFEED3C7771FC786018', 'height': 14679270, 'time': '2023-12-04 06:13:26', 'order_id': 452, 'status': 'Close', 'direction': 'BUY', 'bidder_addr': 'orai1nza67tu4pv6uueqmynytqzelejpykr5d3tkqnd', 'offer_amount': 8212.008808, 'ask_amount': 470.466365, 'leverage': 3, 'margin_amount': 2692.254345, 'entry_price': 17.167567, 'take_profit': 17.453748, 'stop_loss': 12.017334, 'pnl': 135.245773, 'fee': 3.234586, 'funding_payment': -786.37606, '': '', '__1': ''}, {'user_type': 'BOT', 'pair': 'INJ_USDC', 'hash': '39B40247AA5DE7F557DE342E3D7D9B70C816378897A5920C7583D560B5FBEF94', 'height': 14679370, 'time': '2023-12-04 06:22:57', 'order_id': 453, 'status': 'Close', 'direction': 'BUY', 'bidder_addr': 'orai1nza67tu4pv6uueqmynytqzelejpykr5d3tkqnd', 'offer_amount': 10300.72445, 'ask_amount': 590.030074, 'leverage': 3, 'margin_amount': 3396.667515, 'entry_price': 17.27031, 'take_profit': 17.558218, 'stop_loss': 12.089265, 'pnl': 110.721903, 'fee': 4.080898, 'funding_payment': -986.224648, '': '', '__1': ''}, {'user_type': 'BOT', 'pair': 'INJ_USDC', 'hash': '4018BCD8320E22AC0F1533F8EFF0EB23CE6F2F346915B7D19BEF4EB314423646', 'height': 14679968, 'time': '2023-12-04 07:20:02', 'order_id': 455, 'status': 'Close', 'direction': 'BUY', 'bidder_addr': 'orai1nza67tu4pv6uueqmynytqzelejpykr5d3tkqnd', 'offer_amount': 8082.87126, 'ask_amount': 463.130649, 'leverage': 3, 'margin_amount': 2682.023916, 'entry_price': 17.373222, 'take_profit': 17.66283, 'stop_loss': 12.161293, 'pnl': 36.799512, 'fee': 3.222294, 'funding_payment': -774.930116, '': '', '__1': ''}, {'user_type': 'BOT', 'pair': 'INJ_USDC', 'hash': '4018BCD8320E22AC0F1533F8EFF0EB23CE6F2F346915B7D19BEF4EB314423646', 'height': 14679968, 'time': '2023-12-04 07:20:02', 'order_id': 456, 'status': 'Close', 'direction': 'BUY', 'bidder_addr': 'orai1nza67tu4pv6uueqmynytqzelejpykr5d3tkqnd', 'offer_amount': 11153.11369, 'ask_amount': 643.057659, 'leverage': 3, 'margin_amount': 3747.3879, 'entry_price': 17.482357, 'take_profit': 17.773806, 'stop_loss': 12.237703, 'pnl': -89.050015, 'fee': 4.502268, 'funding_payment': -1075.991726, '': '', '__1': ''}, {'user_type': 'USER', 'pair': 'ORAI_USDC', 'hash': 'ACE27955E29F9A1C088002FCDA89B231D744A02D0540A6B61FA593C3589B8BF6', 'height': 14680071, 'time': '2023-12-04 07:29:51', 'order_id': 454, 'status': 'Close', 'direction': 'BUY', 'bidder_addr': 'orai1ccn82upz3zpfem4xxervf9djfuwfy6wg5duwau', 'offer_amount': 939.826202, 'ask_amount': 178.679905, 'leverage': 3, 'margin_amount': 240.985641, 'entry_price': 4.0461, 'take_profit': 5.3948, 'stop_loss': 3.37175, 'pnl': 216.869279, 'fee': 0.28953, 'funding_payment': 3.823571, '': '', '__1': ''}, {'user_type': 'USER', 'pair': 'ORAI_USDC', 'hash': 'F4C46D87134C67CD5C7FE91BB832E7B53DD12600C91E8003F2224CE954B5F5FB', 'height': 14680694, 'time': '2023-12-04 08:29:25', 'order_id': 689, 'status': 'Close', 'direction': 'SELL', 'bidder_addr': 'orai1kvc0hsj27f2ypxglgfdp2vkyewwfsy06tacarc', 'offer_amount': 7545.738385, 'ask_amount': 1429.109995, 'leverage': 2, 'margin_amount': 3497.2, 'entry_price': 4.894234, 'take_profit': 3.670675, 'stop_loss': 0, 'pnl': -551.338385, 'fee': 2.8, 'funding_payment': -13.92096, '': '', '__1': ''}, {'user_type': 'BOT', 'pair': 'INJ_USDC', 'hash': '37534E58901513DE4BA20F91798A2A2C7DA74A77D5524586A87B97104C4CB031', 'height': 14680534, 'time': '2023-12-04 08:14:07', 'order_id': 462, 'status': 'Close', 'direction': 'BUY', 'bidder_addr': 'orai1nza67tu4pv6uueqmynytqzelejpykr5d3tkqnd', 'offer_amount': 8940.167888, 'ask_amount': 508.732709, 'leverage': 3, 'margin_amount': 2969.318974, 'entry_price': 17.510092, 'take_profit': 17.801988, 'stop_loss': 12.257107, 'pnl': 32.210966, 'fee': 3.567462, 'funding_payment': -847.757273, '': '', '__1': ''}, {'user_type': 'BOT', 'pair': 'INJ_USDC', 'hash': '37534E58901513DE4BA20F91798A2A2C7DA74A77D5524586A87B97104C4CB031', 'height': 14680534, 'time': '2023-12-04 08:14:07', 'order_id': 823, 'status': 'Close', 'direction': 'BUY', 'bidder_addr': 'orai1nza67tu4pv6uueqmynytqzelejpykr5d3tkqnd', 'offer_amount': 9158.491637, 'ask_amount': 524.220082, 'leverage': 3, 'margin_amount': 3044.967569, 'entry_price': 17.425701, 'take_profit': 17.716192, 'stop_loss': 12.198034, 'pnl': 23.58893, 'fee': 3.65835, 'funding_payment': -19.707005, '': '', '__1': ''}, {'user_type': 'USER', 'pair': 'ORAI_USDC', 'hash': '73EDA21A808B1B47978D98E359A843911AC19B27DEE7BC496AF04877AA221F9F', 'height': 14681208, 'time': '2023-12-04 09:18:21', 'order_id': 818, 'status': 'Close', 'direction': 'SELL', 'bidder_addr': 'orai1uesy4qnqathqlxalakh9r5slvjlvq6appzdhjr', 'offer_amount': 2010.452266, 'ask_amount': 378.661279, 'leverage': 3, 'margin_amount': 676.1876, 'entry_price': 5.357196, 'take_profit': 3.57564, 'stop_loss': 0, 'pnl': 18.110534, 'fee': 0.8124, 'funding_payment': 9.217372, '': '', '__1': ''}, {'user_type': 'BOT', 'pair': 'INJ_USDC', 'hash': '6103C4518EDD9032209E2CACB5E233334BDB850AF163D9414A588500CA9A4BCA', 'height': 14681054, 'time': '2023-12-04 09:03:44', 'order_id': 824, 'status': 'Close', 'direction': 'BUY', 'bidder_addr': 'orai1nza67tu4pv6uueqmynytqzelejpykr5d3tkqnd', 'offer_amount': 8392.504377, 'ask_amount': 474.561845, 'leverage': 3, 'margin_amount': 2752.387052, 'entry_price': 17.399547, 'take_profit': 17.689596, 'stop_loss': 12.179722, 'pnl': 135.343221, 'fee': 3.306832, 'funding_payment': -12.562601, '': '', '__1': ''}, {'user_type': 'BOT', 'pair': 'INJ_USDC', 'hash': '6103C4518EDD9032209E2CACB5E233334BDB850AF163D9414A588500CA9A4BCA', 'height': 14681054, 'time': '2023-12-04 09:03:44', 'order_id': 827, 'status': 'Close', 'direction': 'BUY', 'bidder_addr': 'orai1nza67tu4pv6uueqmynytqzelejpykr5d3tkqnd', 'offer_amount': 8461.381984, 'ask_amount': 481.066836, 'leverage': 3, 'margin_amount': 2805.254469, 'entry_price': 17.493958, 'take_profit': 17.785582, 'stop_loss': 12.245811, 'pnl': 45.618577, 'fee': 3.370348, 'funding_payment': -12.734801, '': '', '__1': ''}, {'user_type': 'BOT', 'pair': 'INJ_USDC', 'hash': '4F60867185AF9B243CA61C79BBCDFC0FE86A7525BAE3312567C716FC54997244', 'height': 14681221, 'time': '2023-12-04 09:19:34', 'order_id': 830, 'status': 'Close', 'direction': 'BUY', 'bidder_addr': 'orai1nza67tu4pv6uueqmynytqzelejpykr5d3tkqnd', 'offer_amount': 7929.352663, 'ask_amount': 453.216657, 'leverage': 3, 'margin_amount': 2656.907416, 'entry_price': 17.587001, 'take_profit': 17.880173, 'stop_loss': 12.310939, 'pnl': -41.369585, 'fee': 3.192118, 'funding_payment': -11.997551, '': '', '__1': ''}, {'user_type': 'BOT', 'pair': 'INJ_USDC', 'hash': '4F60867185AF9B243CA61C79BBCDFC0FE86A7525BAE3312567C716FC54997244', 'height': 14681221, 'time': '2023-12-04 09:19:34', 'order_id': 834, 'status': 'Close', 'direction': 'BUY', 'bidder_addr': 'orai1nza67tu4pv6uueqmynytqzelejpykr5d3tkqnd', 'offer_amount': 7747.550411, 'ask_amount': 445.084024, 'leverage': 3, 'margin_amount': 2606.942123, 'entry_price': 17.571572, 'take_profit': 17.864486, 'stop_loss': 12.300138, 'pnl': -73.275958, 'fee': 3.132088, 'funding_payment': -8.248742, '': '', '__1': ''}, {'user_type': 'BOT', 'pair': 'INJ_USDC', 'hash': '50006BA3FECC970CEA820518E9FE92CBE61FEEDA9B985EF6EE3FEAB333F4D91A', 'height': 14681260, 'time': '2023-12-04 09:23:17', 'order_id': 847, 'status': 'Close', 'direction': 'BUY', 'bidder_addr': 'orai1nza67tu4pv6uueqmynytqzelejpykr5d3tkqnd', 'offer_amount': 9488.843232, 'ask_amount': 544.954434, 'leverage': 3, 'margin_amount': 3172.073741, 'entry_price': 17.462416, 'take_profit': 17.753522, 'stop_loss': 12.223736, 'pnl': -27.377991, 'fee': 3.81106, 'funding_payment': -0.421249, '': '', '__1': ''}, {'user_type': 'BOT', 'pair': 'INJ_USDC', 'hash': '50006BA3FECC970CEA820518E9FE92CBE61FEEDA9B985EF6EE3FEAB333F4D91A', 'height': 14681260, 'time': '2023-12-04 09:23:17', 'order_id': 848, 'status': 'Close', 'direction': 'BUY', 'bidder_addr': 'orai1nza67tu4pv6uueqmynytqzelejpykr5d3tkqnd', 'offer_amount': 8653.975689, 'ask_amount': 499.949467, 'leverage': 3, 'margin_amount': 2907.880533, 'entry_price': 17.449046, 'take_profit': 17.739923, 'stop_loss': 12.214373, 'pnl': -69.66591, 'fee': 3.493648, 'funding_payment': 0.49395, '': '', '__1': ''}, {'user_type': 'BOT', 'pair': 'INJ_USDC', 'hash': '423850493DAC7FB3D32B8F27F822E22C3EB1BB1893F4824FC740DA3911859A8C', 'height': 14681480, 'time': '2023-12-04 09:44:18', 'order_id': 849, 'status': 'Close', 'direction': 'BUY', 'bidder_addr': 'orai1nza67tu4pv6uueqmynytqzelejpykr5d3tkqnd', 'offer_amount': 11445.7599, 'ask_amount': 658.516857, 'leverage': 3, 'margin_amount': 3807.411633, 'entry_price': 17.345394, 'take_profit': 17.634563, 'stop_loss': 12.14183, 'pnl': 23.524996, 'fee': 4.574382, 'funding_payment': 0.650614, '': '', '__1': ''}, {'user_type': 'BOT', 'pair': 'INJ_USDC', 'hash': '882B0F517991DF4A0E39059F0A69E555C18EEF2B5F48767B3976D6140006B413', 'height': 14682879, 'time': '2023-12-04 11:58:20', 'order_id': 850, 'status': 'Close', 'direction': 'BUY', 'bidder_addr': 'orai1nza67tu4pv6uueqmynytqzelejpykr5d3tkqnd', 'offer_amount': 7986.216059, 'ask_amount': 452.588938, 'leverage': 3, 'margin_amount': 2633.267066, 'entry_price': 17.454693, 'take_profit': 17.745659, 'stop_loss': 12.218322, 'pnl': 86.414861, 'fee': 3.163716, 'funding_payment': -2.23941, '': '', '__1': ''}, {'user_type': 'BOT', 'pair': 'INJ_USDC', 'hash': '882B0F517991DF4A0E39059F0A69E555C18EEF2B5F48767B3976D6140006B413', 'height': 14682879, 'time': '2023-12-04 11:58:20', 'order_id': 851, 'status': 'Close', 'direction': 'BUY', 'bidder_addr': 'orai1nza67tu4pv6uueqmynytqzelejpykr5d3tkqnd', 'offer_amount': 10968.0704, 'ask_amount': 625.395113, 'leverage': 3, 'margin_amount': 3661.017549, 'entry_price': 17.561782, 'take_profit': 17.854553, 'stop_loss': 12.293299, 'pnl': -14.982247, 'fee': 4.398498, 'funding_payment': -3.430292, '': '', '__1': ''}, {'user_type': 'USER', 'pair': 'ORAI_USDC', 'hash': '2F97235D0021F6909C71F2FF477CACD8383A914E2A653FC00B5F89CE5291AF07', 'height': 14683081, 'time': '2023-12-04 12:17:36', 'order_id': 862, 'status': 'Close', 'direction': 'SELL', 'bidder_addr': 'orai14c9p94ylg58wvetcj69ul9h2ew8ujga97wlmsl', 'offer_amount': 5452.187281, 'ask_amount': 1031.397206, 'leverage': 3, 'margin_amount': 1817.39576, 'entry_price': 5.286214, 'take_profit': 5.110006, 'stop_loss': 0, 'pnl': -1e-06, 'fee': 2.183494, 'funding_payment': -1.469741, '': '', '__1': ''}, {'user_type': 'BOT', 'pair': 'INJ_USDC', 'hash': 'A6C437AB1D35C6A836B587F35F332D7C266770A42F56DF60EC0A7BD4067E1DE9', 'height': 14682967, 'time': '2023-12-04 12:06:42', 'order_id': 852, 'status': 'Close', 'direction': 'BUY', 'bidder_addr': 'orai1nza67tu4pv6uueqmynytqzelejpykr5d3tkqnd', 'offer_amount': 9980.528985, 'ask_amount': 569.632063, 'leverage': 3, 'margin_amount': 3318.145369, 'entry_price': 17.475203, 'take_profit': 17.766524, 'stop_loss': 12.232689, 'pnl': 26.092878, 'fee': 3.986558, 'funding_payment': -1.962382, '': '', '__1': ''}, {'user_type': 'USER', 'pair': 'ORAI_USDC', 'hash': '975B9C9695314338499466A172DF00902E4ECBBDCFF945A1086EB3CE1BE1D757', 'height': 14683294, 'time': '2023-12-04 12:37:54', 'order_id': 808, 'status': 'Close', 'direction': 'BUY', 'bidder_addr': 'orai1gm7ptpux85zu2e9p4vpnwchpueh4mv8qyerxtu', 'offer_amount': 2921.072886, 'ask_amount': 551.771882, 'leverage': 3, 'margin_amount': 996.944283, 'entry_price': 5.420415, 'take_profit': 5.7, 'stop_loss': 0, 'pnl': -69.759963, 'fee': 1.19777, 'funding_payment': -56.998587, '': '', '__1': ''}, {'user_type': 'BOT', 'pair': 'INJ_USDC', 'hash': '76BCCDE29E525BF3C0BF38B393C16E4C30BCAEF93F76046B67C24263419BDB1A', 'height': 14683220, 'time': '2023-12-04 12:30:50', 'order_id': 853, 'status': 'Close', 'direction': 'BUY', 'bidder_addr': 'orai1nza67tu4pv6uueqmynytqzelejpykr5d3tkqnd', 'offer_amount': 9259.006662, 'ask_amount': 521.742458, 'leverage': 3, 'margin_amount': 3058.069158, 'entry_price': 17.583785, 'take_profit': 17.876912, 'stop_loss': 12.308693, 'pnl': 84.799188, 'fee': 3.67409, 'funding_payment': -1.797402, '': '', '__1': ''}, {'user_type': 'BOT', 'pair': 'INJ_USDC', 'hash': '49D6DF561AAD5A26D2D37B3A76D762EF7B1E438F139E51859CAA0434488DEFFE', 'height': 14683434, 'time': '2023-12-04 12:51:21', 'order_id': 854, 'status': 'Close', 'direction': 'BUY', 'bidder_addr': 'orai1nza67tu4pv6uueqmynytqzelejpykr5d3tkqnd', 'offer_amount': 8549.994096, 'ask_amount': 479.263584, 'leverage': 3, 'margin_amount': 2825.142185, 'entry_price': 17.684269, 'take_profit': 17.979065, 'stop_loss': 12.379028, 'pnl': 74.567541, 'fee': 3.394242, 'funding_payment': -1.651063, '': '', '__1': ''}, {'user_type': 'BOT', 'pair': 'INJ_USDC', 'hash': '49D6DF561AAD5A26D2D37B3A76D762EF7B1E438F139E51859CAA0434488DEFFE', 'height': 14683434, 'time': '2023-12-04 12:51:21', 'order_id': 855, 'status': 'Close', 'direction': 'BUY', 'bidder_addr': 'orai1nza67tu4pv6uueqmynytqzelejpykr5d3tkqnd', 'offer_amount': 9251.214848, 'ask_amount': 521.545856, 'leverage': 3, 'margin_amount': 3027.483269, 'entry_price': 17.414479, 'take_profit': 17.704783, 'stop_loss': 12.190178, 'pnl': 168.765041, 'fee': 3.637344, 'funding_payment': -2.031942, '': '', '__1': ''}, {'user_type': 'USER', 'pair': 'ORAI_USDC', 'hash': 'BDF281720A1032C0ADD999D2FBEA845AFC4BDABC020C6F8E6A6BA556C63BEDF3', 'height': 14683849, 'time': '2023-12-04 13:30:54', 'order_id': 845, 'status': 'Close', 'direction': 'BUY', 'bidder_addr': 'orai16kn05tue27qkvxtzlv4d796mdhen63fyxf7mee', 'offer_amount': 20097.63501, 'ask_amount': 3860.851524, 'leverage': 3, 'margin_amount': 6748.991151, 'entry_price': 5.244173, 'take_profit': 6.99223, 'stop_loss': 4.807158, 'pnl': -149.338439, 'fee': 8.108518, 'funding_payment': -50.87444, '': '', '__1': ''}, {'user_type': 'USER', 'pair': 'ORAI_USDC', 'hash': '74C5202BB71654941B63B4A70906BE119F2688DE7AB41083890348F5B9A3A0EA', 'height': 14683851, 'time': '2023-12-04 13:31:06', 'order_id': 846, 'status': 'Close', 'direction': 'SELL', 'bidder_addr': 'orai1x9dvpscythaz0mw8zj5re6f3qdpk347epc272q', 'offer_amount': 581.007563, 'ask_amount': 112.894396, 'leverage': 3, 'margin_amount': 199.76, 'entry_price': 5.308323, 'take_profit': 5.255238, 'stop_loss': 5.361404, 'pnl': 18.272437, 'fee': 0.24, 'funding_payment': 1.487609, '': '', '__1': ''}, {'user_type': 'BOT', 'pair': 'INJ_USDC', 'hash': 'E01CE3037D40B87DFE9F199A9EF947FAF8B878B72FF9CE9E510A1116D284E754', 'height': 14684141, 'time': '2023-12-04 13:58:45', 'order_id': 856, 'status': 'Close', 'direction': 'BUY', 'bidder_addr': 'orai1nza67tu4pv6uueqmynytqzelejpykr5d3tkqnd', 'offer_amount': 8798.187933, 'ask_amount': 493.026885, 'leverage': 3, 'margin_amount': 2844.604734, 'entry_price': 17.309024, 'take_profit': 17.597565, 'stop_loss': 12.116356, 'pnl': 264.373731, 'fee': 3.417626, 'funding_payment': 3.09325, '': '', '__1': ''}, {'user_type': 'USER', 'pair': 'ORAI_USDC', 'hash': '880DA10A8414016EC1E8D6B6B07956A2993E1FAF2DA4D513C1F9233A30F57B17', 'height': 14684729, 'time': '2023-12-04 14:54:49', 'order_id': 877, 'status': 'Close', 'direction': 'SELL', 'bidder_addr': 'orai14c9p94ylg58wvetcj69ul9h2ew8ujga97wlmsl', 'offer_amount': 5443.505969, 'ask_amount': 1061.496851, 'leverage': 3, 'margin_amount': 1814.501988, 'entry_price': 5.128141, 'take_profit': 1e-06, 'stop_loss': 0, 'pnl': -5e-06, 'fee': 2.180018, 'funding_payment': 0, '': '', '__1': ''}, {'user_type': 'BOT', 'pair': 'INJ_USDC', 'hash': 'B02BA5AFA8984606017BC54C628E2EF4D104C80A09BF17567FABB8207A586613', 'height': 14684579, 'time': '2023-12-04 14:40:26', 'order_id': 857, 'status': 'Close', 'direction': 'BUY', 'bidder_addr': 'orai1nza67tu4pv6uueqmynytqzelejpykr5d3tkqnd', 'offer_amount': 8042.194129, 'ask_amount': 450.696658, 'leverage': 3, 'margin_amount': 2614.269097, 'entry_price': 17.40152, 'take_profit': 17.6916, 'stop_loss': 12.181101, 'pnl': 199.386838, 'fee': 3.14089, 'funding_payment': 10.573794, '': '', '__1': ''}, {'user_type': 'BOT', 'pair': 'INJ_USDC', 'hash': 'B02BA5AFA8984606017BC54C628E2EF4D104C80A09BF17567FABB8207A586613', 'height': 14684579, 'time': '2023-12-04 14:40:26', 'order_id': 859, 'status': 'Close', 'direction': 'BUY', 'bidder_addr': 'orai1nza67tu4pv6uueqmynytqzelejpykr5d3tkqnd', 'offer_amount': 7912.145631, 'ask_amount': 445.68766, 'leverage': 3, 'margin_amount': 2579.075263, 'entry_price': 17.360197, 'take_profit': 17.649586, 'stop_loss': 12.152174, 'pnl': 174.919842, 'fee': 3.098608, 'funding_payment': 13.140654, '': '', '__1': ''}, {'user_type': 'BOT', 'pair': 'INJ_USDC', 'hash': '10B51AEFE9CB571E509A310AC47944A37368E5D8A35AFFB76A132333AC579B86', 'height': 14684634, 'time': '2023-12-04 14:45:42', 'order_id': 860, 'status': 'Close', 'direction': 'BUY', 'bidder_addr': 'orai1nza67tu4pv6uueqmynytqzelejpykr5d3tkqnd', 'offer_amount': 8204.593782, 'ask_amount': 461.992427, 'leverage': 3, 'margin_amount': 2687.186757, 'entry_price': 17.44955, 'take_profit': 17.740431, 'stop_loss': 12.214723, 'pnl': 143.033511, 'fee': 3.228498, 'funding_payment': 13.581191, '': '', '__1': ''}, {'user_type': 'BOT', 'pair': 'INJ_USDC', 'hash': '10B51AEFE9CB571E509A310AC47944A37368E5D8A35AFFB76A132333AC579B86', 'height': 14684634, 'time': '2023-12-04 14:45:42', 'order_id': 861, 'status': 'Close', 'direction': 'BUY', 'bidder_addr': 'orai1nza67tu4pv6uueqmynytqzelejpykr5d3tkqnd', 'offer_amount': 9178.627857, 'ask_amount': 519.741967, 'leverage': 3, 'margin_amount': 3039.967028, 'entry_price': 17.546978, 'take_profit': 17.83949, 'stop_loss': 12.282928, 'pnl': 58.726773, 'fee': 3.652342, 'funding_payment': 15.278854, '': '', '__1': ''}, {'user_type': 'BOT', 'pair': 'INJ_USDC', 'hash': '34AA1E9BD86BFBDFA5E0F33F79318D0958D43AE7FDB0FDC82E13407EEC4EA545', 'height': 14684729, 'time': '2023-12-04 14:54:49', 'order_id': 863, 'status': 'Close', 'direction': 'BUY', 'bidder_addr': 'orai1nza67tu4pv6uueqmynytqzelejpykr5d3tkqnd', 'offer_amount': 8108.638252, 'ask_amount': 459.385474, 'leverage': 3, 'margin_amount': 2701.943959, 'entry_price': 17.644945, 'take_profit': 17.939084, 'stop_loss': 12.3515, 'pnl': 2.806375, 'fee': 3.246228, 'funding_payment': 13.504554, '': '', '__1': ''}, {'user_type': 'BOT', 'pair': 'INJ_USDC', 'hash': '304DA2B2D9C2D4E281E0CDF2F32ADBB57F0DD340C8795D8165EC57F40CE9CC88', 'height': 14685211, 'time': '2023-12-04 15:40:59', 'order_id': 864, 'status': 'Close', 'direction': 'BUY', 'bidder_addr': 'orai1nza67tu4pv6uueqmynytqzelejpykr5d3tkqnd', 'offer_amount': 9112.842818, 'ask_amount': 513.058064, 'leverage': 3, 'margin_amount': 2997.392531, 'entry_price': 17.526627, 'take_profit': 17.818799, 'stop_loss': 12.268681, 'pnl': 120.665225, 'fee': 3.601192, 'funding_payment': 21.959398, '': '', '__1': ''}, {'user_type': 'USER', 'pair': 'ORAI_USDC', 'hash': '636C5677AACFDEB48C18C13F2367D01EBFC444550023F6745156C4231CFA5425', 'height': 14685433, 'time': '2023-12-04 16:02:21', 'order_id': 881, 'status': 'Close', 'direction': 'SELL', 'bidder_addr': 'orai1hvhkk0jrdu6dz2qwum2v2arc8rtucha79jkfdn', 'offer_amount': 1037.99511, 'ask_amount': 201.887044, 'leverage': 3, 'margin_amount': 345.998368, 'entry_price': 5.141464, 'take_profit': 4.970081, 'stop_loss': 0, 'pnl': -6e-06, 'fee': 0.415696, 'funding_payment': 0.933525, '': '', '__1': ''}, {'user_type': 'BOT', 'pair': 'INJ_USDC', 'hash': '1FDAFFA47545B50D6BFE17CF78817DCE18C5E01A50DF803946A868FE48B5F757', 'height': 14685522, 'time': '2023-12-04 16:10:54', 'order_id': 865, 'status': 'Close', 'direction': 'BUY', 'bidder_addr': 'orai1nza67tu4pv6uueqmynytqzelejpykr5d3tkqnd', 'offer_amount': 10584.65135, 'ask_amount': 599.716444, 'leverage': 3, 'margin_amount': 3503.144932, 'entry_price': 17.524006, 'take_profit': 17.816144, 'stop_loss': 12.266853, 'pnl': 75.216553, 'fee': 4.208824, 'funding_payment': 30.49678, '': '', '__1': ''}, {'user_type': 'USER', 'pair': 'ORAI_USDC', 'hash': 'B441FEB8C971766B499C836482FC1FDA62817CC06911BC088179DAAB31AB06FC', 'height': 14685878, 'time': '2023-12-04 16:44:51', 'order_id': 798, 'status': 'Close', 'direction': 'SELL', 'bidder_addr': 'orai1xsx9ezzynw4thhgh7ghpffvc28e0d4wswedjuc', 'offer_amount': 205.318452, 'ask_amount': 39.811548, 'leverage': 3, 'margin_amount': 70.592879, 'entry_price': 5.319527, 'take_profit': 3.546351, 'stop_loss': 0, 'pnl': 6.460185, 'fee': 0.084812, 'funding_payment': 1.819666, '': '', '__1': ''}, {'user_type': 'USER', 'pair': 'ORAI_USDC', 'hash': 'AA3247D4EBB0976C01EE080BAD83A736D1DF232502069B4A8BC43641E28B87F5', 'height': 14685869, 'time': '2023-12-04 16:43:59', 'order_id': 858, 'status': 'Close', 'direction': 'SELL', 'bidder_addr': 'orai1uesy4qnqathqlxalakh9r5slvjlvq6appzdhjr', 'offer_amount': 1988.300855, 'ask_amount': 386.031594, 'leverage': 3, 'margin_amount': 683.1792, 'entry_price': 5.309248, 'take_profit': 4.8, 'stop_loss': 0, 'pnl': 61.236745, 'fee': 0.8208, 'funding_payment': 5.074771, '': '', '__1': ''}, {'user_type': 'USER', 'pair': 'ORAI_USDC', 'hash': 'E6EBCD21DB6B4585979339D404714715F421FD1D9401CE5D391B86373465EDD3', 'height': 14685913, 'time': '2023-12-04 16:48:10', 'order_id': 869, 'status': 'Close', 'direction': 'SELL', 'bidder_addr': 'orai1gm7ptpux85zu2e9p4vpnwchpueh4mv8qyerxtu', 'offer_amount': 2884.348008, 'ask_amount': 558.266533, 'leverage': 3, 'margin_amount': 981.805555, 'entry_price': 5.276004, 'take_profit': 4.39667, 'stop_loss': 0, 'pnl': 61.068657, 'fee': 1.179582, 'funding_payment': 5.67757, '': '', '__1': ''}, {'user_type': 'BOT', 'pair': 'INJ_USDC', 'hash': '37F1FBAA943E637EF61C62EE9EBA1EFA89146B92E42D740C78278DFE2B1F6208', 'height': 14686005, 'time': '2023-12-04 16:56:58', 'order_id': 866, 'status': 'Close', 'direction': 'BUY', 'bidder_addr': 'orai1nza67tu4pv6uueqmynytqzelejpykr5d3tkqnd', 'offer_amount': 7792.328959, 'ask_amount': 441.823877, 'leverage': 3, 'margin_amount': 2596.161096, 'entry_price': 17.628027, 'take_profit': 17.921881, 'stop_loss': 12.339656, 'pnl': 3.845671, 'fee': 3.119136, 'funding_payment': 22.467627, '': '', '__1': ''}, {'user_type': 'BOT', 'pair': 'INJ_USDC', 'hash': '37F1FBAA943E637EF61C62EE9EBA1EFA89146B92E42D740C78278DFE2B1F6208', 'height': 14686005, 'time': '2023-12-04 16:56:58', 'order_id': 867, 'status': 'Close', 'direction': 'BUY', 'bidder_addr': 'orai1nza67tu4pv6uueqmynytqzelejpykr5d3tkqnd', 'offer_amount': 10980.84589, 'ask_amount': 626.403703, 'leverage': 3, 'margin_amount': 3703.242514, 'entry_price': 17.73573, 'take_profit': 18.031403, 'stop_loss': 12.415064, 'pnl': -128.881648, 'fee': 4.44923, 'funding_payment': 31.853881, '': '', '__1': ''}, {'user_type': 'BOT', 'pair': 'INJ_USDC', 'hash': '8752889D167C0F71BF239F7AE7E3321939C39FCB7ECBB59D7C76990D15AC8B9D', 'height': 14686019, 'time': '2023-12-04 16:58:17', 'order_id': 868, 'status': 'Close', 'direction': 'BUY', 'bidder_addr': 'orai1nza67tu4pv6uueqmynytqzelejpykr5d3tkqnd', 'offer_amount': 8968.113602, 'ask_amount': 511.231308, 'leverage': 3, 'margin_amount': 3023.975692, 'entry_price': 17.745249, 'take_profit': 18.041066, 'stop_loss': 12.421717, 'pnl': -103.813474, 'fee': 3.63313, 'funding_payment': 25.997134, '': '', '__1': ''}, {'user_type': 'USER', 'pair': 'ORAI_USDC', 'hash': '236DC646488D963760676C86F7B0FA8AE84745BDBB56DAB5C3C106762AF43789', 'height': 14686209, 'time': '2023-12-04 17:16:24', 'order_id': 589, 'status': 'Close', 'direction': 'BUY', 'bidder_addr': 'orai1ax88yuwrmapcmrrfm3r7c8xugphjgpgsuptsux', 'offer_amount': 6.330486, 'ask_amount': 1.219415, 'leverage': 3, 'margin_amount': 1.784559, 'entry_price': 4.390365, 'take_profit': 4.53671, 'stop_loss': 0, 'pnl': 0.976809, 'fee': 0.002144, 'funding_payment': 0.026317, '': '', '__1': ''}, {'user_type': 'BOT', 'pair': 'ORAI_USDC', 'hash': 'E48D0D63C0F0AE9561136A9DBAD91B0D47B0A6C0C238C36606F562E63A29577F', 'height': 14686099, 'time': '2023-12-04 17:05:55', 'order_id': 705, 'status': 'TP', 'direction': 'BUY', 'bidder_addr': 'orai15vc7z4zyyam999zp6rwealm06lvuy9ykumwlpl', 'offer_amount': 4846.882216, 'ask_amount': 938.3362, 'leverage': 3, 'margin_amount': 1566.115462, 'entry_price': 5.001094, 'take_profit': 5.084462, 'stop_loss': 3.500777, 'pnl': 154.173844, 'fee': 1.879338, 'funding_payment': -10.770222, '': '', '__1': ''}, {'user_type': 'USER', 'pair': 'ORAI_USDC', 'hash': '31FA84F48639710F5BE0157DBEC7324322FBE54771D874B3456F44ECD16A88ED', 'height': 14686197, 'time': '2023-12-04 17:15:15', 'order_id': 888, 'status': 'Close', 'direction': 'SELL', 'bidder_addr': 'orai1uesy4qnqathqlxalakh9r5slvjlvq6appzdhjr', 'offer_amount': 2213.434041, 'ask_amount': 426.915888, 'leverage': 3, 'margin_amount': 738.1132, 'entry_price': 5.186828, 'take_profit': 4.4, 'stop_loss': 0, 'pnl': 0.905559, 'fee': 0.8868, 'funding_payment': 0, '': '', '__1': ''}, {'user_type': 'USER', 'pair': 'ORAI_USDC', 'hash': '9F50951DF9F28E5CFD5A230F0465E0BD3B9186EDB702C7AFD8DA9427EFEADE76', 'height': 14686599, 'time': '2023-12-04 17:53:38', 'order_id': 481, 'status': 'Close', 'direction': 'BUY', 'bidder_addr': 'orai1ax88yuwrmapcmrrfm3r7c8xugphjgpgsuptsux', 'offer_amount': 0.826386, 'ask_amount': 0.159184, 'leverage': 1, 'margin_amount': 0.621414, 'entry_price': 3.903746, 'take_profit': 4.6, 'stop_loss': 3.6, 'pnl': 0.204972, 'fee': 0.000248, 'funding_payment': 0.003384, '': '', '__1': ''}, {'user_type': 'BOT', 'pair': 'INJ_USDC', 'hash': '328241971841EE574F714125C9ACBC00D531C0A50982EF388E8D9AE5D08E71B0', 'height': 14686531, 'time': '2023-12-04 17:47:10', 'order_id': 870, 'status': 'Close', 'direction': 'BUY', 'bidder_addr': 'orai1nza67tu4pv6uueqmynytqzelejpykr5d3tkqnd', 'offer_amount': 8014.229121, 'ask_amount': 448.961034, 'leverage': 3, 'margin_amount': 2670.263005, 'entry_price': 17.842949, 'take_profit': 18.140387, 'stop_loss': 12.490102, 'pnl': 3.440106, 'fee': 3.208164, 'funding_payment': 25.925703, '': '', '__1': ''}, {'user_type': 'BOT', 'pair': 'INJ_USDC', 'hash': '328241971841EE574F714125C9ACBC00D531C0A50982EF388E8D9AE5D08E71B0', 'height': 14686531, 'time': '2023-12-04 17:47:10', 'order_id': 871, 'status': 'Close', 'direction': 'BUY', 'bidder_addr': 'orai1nza67tu4pv6uueqmynytqzelejpykr5d3tkqnd', 'offer_amount': 8487.72673, 'ask_amount': 478.014467, 'leverage': 3, 'margin_amount': 2825.647368, 'entry_price': 17.733651, 'take_profit': 18.02927, 'stop_loss': 12.413596, 'pnl': 10.784626, 'fee': 3.39485, 'funding_payment': 27.603423, '': '', '__1': ''}, {'user_type': 'BOT', 'pair': 'INJ_USDC', 'hash': '38E540A93F2B4C24291C80FF1B73CC7A815DA93CF99B2832EC5C5B35EDAE5555', 'height': 14686674, 'time': '2023-12-04 18:00:47', 'order_id': 872, 'status': 'Close', 'direction': 'BUY', 'bidder_addr': 'orai1nza67tu4pv6uueqmynytqzelejpykr5d3tkqnd', 'offer_amount': 9921.066601, 'ask_amount': 556.053968, 'leverage': 3, 'margin_amount': 3306.448869, 'entry_price': 17.838819, 'take_profit': 18.136202, 'stop_loss': 12.487221, 'pnl': 1.719994, 'fee': 3.972504, 'funding_payment': 38.725822, '': '', '__1': ''}, {'user_type': 'BOT', 'pair': 'INJ_USDC', 'hash': '38E540A93F2B4C24291C80FF1B73CC7A815DA93CF99B2832EC5C5B35EDAE5555', 'height': 14686674, 'time': '2023-12-04 18:00:47', 'order_id': 874, 'status': 'Close', 'direction': 'BUY', 'bidder_addr': 'orai1nza67tu4pv6uueqmynytqzelejpykr5d3tkqnd', 'offer_amount': 8254.78989, 'ask_amount': 465.373305, 'leverage': 3, 'margin_amount': 2767.79534, 'entry_price': 17.84242, 'take_profit': 18.139851, 'stop_loss': 12.489733, 'pnl': -48.59613, 'fee': 3.325344, 'funding_payment': 19.67924, '': '', '__1': ''}, {'user_type': 'BOT', 'pair': 'INJ_USDC', 'hash': 'CB7A90361CFCA24E8219F9524CEC475CC24E9C15FED9D8064EC9C0D070795DFC', 'height': 14686737, 'time': '2023-12-04 18:06:48', 'order_id': 878, 'status': 'Close', 'direction': 'BUY', 'bidder_addr': 'orai1nza67tu4pv6uueqmynytqzelejpykr5d3tkqnd', 'offer_amount': 8570.260993, 'ask_amount': 485.785802, 'leverage': 3, 'margin_amount': 2875.324312, 'entry_price': 17.756741, 'take_profit': 18.052746, 'stop_loss': 12.42976, 'pnl': -55.711943, 'fee': 3.454534, 'funding_payment': 20.542424, '': '', '__1': ''}, {'user_type': 'BOT', 'pair': 'INJ_USDC', 'hash': 'CB7A90361CFCA24E8219F9524CEC475CC24E9C15FED9D8064EC9C0D070795DFC', 'height': 14686737, 'time': '2023-12-04 18:06:48', 'order_id': 879, 'status': 'Close', 'direction': 'BUY', 'bidder_addr': 'orai1nza67tu4pv6uueqmynytqzelejpykr5d3tkqnd', 'offer_amount': 7814.201018, 'ask_amount': 445.281808, 'leverage': 3, 'margin_amount': 2620.108092, 'entry_price': 17.652471, 'take_profit': 17.946732, 'stop_loss': 12.356766, 'pnl': -46.123258, 'fee': 3.147906, 'funding_payment': 18.829631, '': '', '__1': ''}, {'user_type': 'BOT', 'pair': 'INJ_USDC', 'hash': '80624041392603C3FE12C38E66B4E89042D6700BA1FB965D7DC3811E087A5EC2', 'height': 14686783, 'time': '2023-12-04 18:11:11', 'order_id': 880, 'status': 'Close', 'direction': 'BUY', 'bidder_addr': 'orai1nza67tu4pv6uueqmynytqzelejpykr5d3tkqnd', 'offer_amount': 8932.024541, 'ask_amount': 511.74938, 'leverage': 3, 'margin_amount': 3011.871614, 'entry_price': 17.656327, 'take_profit': 17.950662, 'stop_loss': 12.359472, 'pnl': -103.590301, 'fee': 3.618588, 'funding_payment': 14.780857, '': '', '__1': ''}, {'user_type': 'BOT', 'pair': 'INJ_USDC', 'hash': '80624041392603C3FE12C38E66B4E89042D6700BA1FB965D7DC3811E087A5EC2', 'height': 14686783, 'time': '2023-12-04 18:11:11', 'order_id': 882, 'status': 'Close', 'direction': 'BUY', 'bidder_addr': 'orai1nza67tu4pv6uueqmynytqzelejpykr5d3tkqnd', 'offer_amount': 9070.131493, 'ask_amount': 522.711158, 'leverage': 3, 'margin_amount': 3094.596009, 'entry_price': 17.760837, 'take_profit': 18.056916, 'stop_loss': 12.43263, 'pnl': -213.656534, 'fee': 3.717976, 'funding_payment': 15.097466, '': '', '__1': ''}, {'user_type': 'BOT', 'pair': 'INJ_USDC', 'hash': 'C1184739340D4B9DBD2AB7E3C77E2D39ADBB6E90B6891317DF1838B42F4D577B', 'height': 14686800, 'time': '2023-12-04 18:12:48', 'order_id': 884, 'status': 'Close', 'direction': 'BUY', 'bidder_addr': 'orai1nza67tu4pv6uueqmynytqzelejpykr5d3tkqnd', 'offer_amount': 7898.352949, 'ask_amount': 457.705543, 'leverage': 3, 'margin_amount': 2690.566903, 'entry_price': 17.635138, 'take_profit': 17.929112, 'stop_loss': 12.344635, 'pnl': -173.34776, 'fee': 3.232558, 'funding_payment': 8.601202, '': '', '__1': ''}, {'user_type': 'BOT', 'pair': 'INJ_USDC', 'hash': 'C1184739340D4B9DBD2AB7E3C77E2D39ADBB6E90B6891317DF1838B42F4D577B', 'height': 14686800, 'time': '2023-12-04 18:12:48', 'order_id': 886, 'status': 'Close', 'direction': 'BUY', 'bidder_addr': 'orai1nza67tu4pv6uueqmynytqzelejpykr5d3tkqnd', 'offer_amount': 10808.51998, 'ask_amount': 630.190628, 'leverage': 3, 'margin_amount': 3682.489505, 'entry_price': 17.530359, 'take_profit': 17.822608, 'stop_loss': 12.271304, 'pnl': -238.948535, 'fee': 4.424296, 'funding_payment': 11.842542, '': '', '__1': ''}, {'user_type': 'BOT', 'pair': 'INJ_USDC', 'hash': 'C1184739340D4B9DBD2AB7E3C77E2D39ADBB6E90B6891317DF1838B42F4D577B', 'height': 14686800, 'time': '2023-12-04 18:12:48', 'order_id': 887, 'status': 'Close', 'direction': 'BUY', 'bidder_addr': 'orai1nza67tu4pv6uueqmynytqzelejpykr5d3tkqnd', 'offer_amount': 8316.051703, 'ask_amount': 487.916483, 'leverage': 3, 'margin_amount': 2852.662028, 'entry_price': 17.539858, 'take_profit': 17.832247, 'stop_loss': 12.277941, 'pnl': -241.934381, 'fee': 3.427306, 'funding_payment': 5.80523, '': '', '__1': ''}, {'user_type': 'BOT', 'pair': 'INJ_USDC', 'hash': 'C1184739340D4B9DBD2AB7E3C77E2D39ADBB6E90B6891317DF1838B42F4D577B', 'height': 14686800, 'time': '2023-12-04 18:12:48', 'order_id': 890, 'status': 'Close', 'direction': 'BUY', 'bidder_addr': 'orai1nza67tu4pv6uueqmynytqzelejpykr5d3tkqnd', 'offer_amount': 8826.116891, 'ask_amount': 520.770341, 'leverage': 3, 'margin_amount': 3062.259503, 'entry_price': 17.640748, 'take_profit': 17.934824, 'stop_loss': 12.348567, 'pnl': -360.661618, 'fee': 3.679126, 'funding_payment': 6.196125, '': '', '__1': ''}, {'user_type': 'BOT', 'pair': 'INJ_USDC', 'hash': 'C1184739340D4B9DBD2AB7E3C77E2D39ADBB6E90B6891317DF1838B42F4D577B', 'height': 14686800, 'time': '2023-12-04 18:12:48', 'order_id': 891, 'status': 'Close', 'direction': 'BUY', 'bidder_addr': 'orai1nza67tu4pv6uueqmynytqzelejpykr5d3tkqnd', 'offer_amount': 9021.786313, 'ask_amount': 535.45804, 'leverage': 3, 'margin_amount': 3167.649534, 'entry_price': 17.747326, 'take_profit': 18.04318, 'stop_loss': 12.423173, 'pnl': -481.162289, 'fee': 3.805746, 'funding_payment': 6.370879, '': '', '__1': ''}, {'user_type': 'BOT', 'pair': 'INJ_USDC', 'hash': 'C1184739340D4B9DBD2AB7E3C77E2D39ADBB6E90B6891317DF1838B42F4D577B', 'height': 14686800, 'time': '2023-12-04 18:12:48', 'order_id': 892, 'status': 'Close', 'direction': 'BUY', 'bidder_addr': 'orai1nza67tu4pv6uueqmynytqzelejpykr5d3tkqnd', 'offer_amount': 7776.213022, 'ask_amount': 464.102197, 'leverage': 3, 'margin_amount': 2761.263555, 'entry_price': 17.849065, 'take_profit': 18.146607, 'stop_loss': 12.494385, 'pnl': -507.577643, 'fee': 3.317496, 'funding_payment': 5.521887, '': '', '__1': ''}, {'user_type': 'BOT', 'pair': 'INJ_USDC', 'hash': 'C1184739340D4B9DBD2AB7E3C77E2D39ADBB6E90B6891317DF1838B42F4D577B', 'height': 14686800, 'time': '2023-12-04 18:12:48', 'order_id': 893, 'status': 'Close', 'direction': 'BUY', 'bidder_addr': 'orai1nza67tu4pv6uueqmynytqzelejpykr5d3tkqnd', 'offer_amount': 7637.988055, 'ask_amount': 458.188714, 'leverage': 3, 'margin_amount': 2711.591287, 'entry_price': 17.754199, 'take_profit': 18.050159, 'stop_loss': 12.427978, 'pnl': -496.785806, 'fee': 3.257818, 'funding_payment': 5.451529, '': '', '__1': ''}, {'user_type': 'BOT', 'pair': 'INJ_USDC', 'hash': 'C1184739340D4B9DBD2AB7E3C77E2D39ADBB6E90B6891317DF1838B42F4D577B', 'height': 14686800, 'time': '2023-12-04 18:12:48', 'order_id': 895, 'status': 'Close', 'direction': 'BUY', 'bidder_addr': 'orai1nza67tu4pv6uueqmynytqzelejpykr5d3tkqnd', 'offer_amount': 7955.27115, 'ask_amount': 479.702518, 'leverage': 3, 'margin_amount': 2854.182813, 'entry_price': 17.849705, 'take_profit': 18.147259, 'stop_loss': 12.494834, 'pnl': -607.277289, 'fee': 3.429134, 'funding_payment': 5.7075, '': '', '__1': ''}, {'user_type': 'BOT', 'pair': 'INJ_USDC', 'hash': 'F80FF85FA35D4F0AD189EABCD87CBB932F03105724B80951C66DF5206D376092', 'height': 14686814, 'time': '2023-12-04 18:14:09', 'order_id': 896, 'status': 'Close', 'direction': 'SELL', 'bidder_addr': 'orai1nza67tu4pv6uueqmynytqzelejpykr5d3tkqnd', 'offer_amount': 79193.26576, 'ask_amount': 4955.440589, 'leverage': 3, 'margin_amount': 26594.22202, 'entry_price': 16.100014, 'take_profit': 15.831161, 'stop_loss': 20.929331, 'pnl': 589.400305, 'fee': 31.951408, 'funding_payment': 0, '': '', '__1': ''}, {'user_type': 'BOT', 'pair': 'INJ_USDC', 'hash': 'EA34F1520DEA66AD7C3CA84AD997BBE210979B7490787032FB1BD5AC97700DC1', 'height': 14686828, 'time': '2023-12-04 18:15:31', 'order_id': 898, 'status': 'Close', 'direction': 'SELL', 'bidder_addr': 'orai1nza67tu4pv6uueqmynytqzelejpykr5d3tkqnd', 'offer_amount': 11139.92828, 'ask_amount': 682.765249, 'leverage': 3, 'margin_amount': 3553.705101, 'entry_price': 15.614613, 'take_profit': 15.354301, 'stop_loss': 20.298907, 'pnl': -478.812979, 'fee': 4.269568, 'funding_payment': 0, '': '', '__1': ''}, {'user_type': 'BOT', 'pair': 'INJ_USDC', 'hash': 'EA34F1520DEA66AD7C3CA84AD997BBE210979B7490787032FB1BD5AC97700DC1', 'height': 14686828, 'time': '2023-12-04 18:15:31', 'order_id': 899, 'status': 'Close', 'direction': 'SELL', 'bidder_addr': 'orai1nza67tu4pv6uueqmynytqzelejpykr5d3tkqnd', 'offer_amount': 14807.75512, 'ask_amount': 899.715983, 'leverage': 3, 'margin_amount': 4899.055927, 'entry_price': 16.335341, 'take_profit': 16.062989, 'stop_loss': 21.235817, 'pnl': -110.587334, 'fee': 5.88593, 'funding_payment': 0, '': '', '__1': ''}, {'user_type': 'BOT', 'pair': 'INJ_USDC', 'hash': 'BA5177B956D55875636B84B33821C63A2173CF635E747C00CD7147D53519C71C', 'height': 14686857, 'time': '2023-12-04 18:18:17', 'order_id': 900, 'status': 'Close', 'direction': 'BUY', 'bidder_addr': 'orai1nza67tu4pv6uueqmynytqzelejpykr5d3tkqnd', 'offer_amount': 20896.1209, 'ask_amount': 1247.843771, 'leverage': 3, 'margin_amount': 6927.396741, 'entry_price': 16.65448, 'take_profit': 16.932194, 'stop_loss': 11.658232, 'pnl': 113.930674, 'fee': 8.322862, 'funding_payment': 0, '': '', '__1': ''}, {'user_type': 'BOT', 'pair': 'INJ_USDC', 'hash': '341363E381E737B0B38FC8BCF1B83120676E389D2E54E2931080CABD805E9E66', 'height': 14686865, 'time': '2023-12-04 18:19:02', 'order_id': 901, 'status': 'Close', 'direction': 'BUY', 'bidder_addr': 'orai1nza67tu4pv6uueqmynytqzelejpykr5d3tkqnd', 'offer_amount': 8270.45401, 'ask_amount': 493.409597, 'leverage': 3, 'margin_amount': 2765.712273, 'entry_price': 16.815921, 'take_profit': 17.096242, 'stop_loss': 11.771183, 'pnl': -26.682809, 'fee': 3.322842, 'funding_payment': 0, '': '', '__1': ''}, {'user_type': 'BOT', 'pair': 'INJ_USDC', 'hash': '341363E381E737B0B38FC8BCF1B83120676E389D2E54E2931080CABD805E9E66', 'height': 14686865, 'time': '2023-12-04 18:19:02', 'order_id': 903, 'status': 'Close', 'direction': 'BUY', 'bidder_addr': 'orai1nza67tu4pv6uueqmynytqzelejpykr5d3tkqnd', 'offer_amount': 15927.85444, 'ask_amount': 957.909917, 'leverage': 3, 'margin_amount': 5338.367445, 'entry_price': 16.718797, 'take_profit': 16.997552, 'stop_loss': 11.703232, 'pnl': -87.247894, 'fee': 6.413736, 'funding_payment': 0, '': '', '__1': ''}, {'user_type': 'BOT', 'pair': 'INJ_USDC', 'hash': '7ECCFC8DCFB3696BF151BC39D9DE86B463B5CA7038E52A808A39B2A72FAEEFE3', 'height': 14686882, 'time': '2023-12-04 18:20:40', 'order_id': 904, 'status': 'Close', 'direction': 'BUY', 'bidder_addr': 'orai1nza67tu4pv6uueqmynytqzelejpykr5d3tkqnd', 'offer_amount': 13699.23516, 'ask_amount': 824.488809, 'leverage': 3, 'margin_amount': 4566.411723, 'entry_price': 16.615428, 'take_profit': 16.892444, 'stop_loss': 11.630863, 'pnl': -9e-06, 'fee': 5.486276, 'funding_payment': 0, '': '', '__1': ''}]\n"
     ]
    }
   ],
   "source": [
    "datafield = ['open.json','close.json']\n",
    "\n",
    "#make a function to read json\n",
    "with open(datafield[1], 'r') as f:\n",
    "    close = json.load(f)\n",
    "\n",
    "def get_close_attribute(close):\n",
    "    df = pd.DataFrame(close)\n",
    "    df = df[['direction','margin_amount','stop_loss_give','take_profit_take']]\n",
    "    df.groupby('direction').sum()\n",
    "    return df\n",
    "\n",
    "    "
   ]
  },
  {
   "cell_type": "markdown",
   "metadata": {},
   "source": []
  }
 ],
 "metadata": {
  "kernelspec": {
   "display_name": "Python 3",
   "language": "python",
   "name": "python3"
  },
  "language_info": {
   "codemirror_mode": {
    "name": "ipython",
    "version": 3
   },
   "file_extension": ".py",
   "mimetype": "text/x-python",
   "name": "python",
   "nbconvert_exporter": "python",
   "pygments_lexer": "ipython3",
   "version": "3.11.3"
  }
 },
 "nbformat": 4,
 "nbformat_minor": 2
}
